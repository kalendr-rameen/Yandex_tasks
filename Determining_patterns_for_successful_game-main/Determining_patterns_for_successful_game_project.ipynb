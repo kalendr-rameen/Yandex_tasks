{
 "cells": [
  {
   "cell_type": "markdown",
   "id": "922e499e",
   "metadata": {},
   "source": [
    "# Определение закономерностей для успешности игры"
   ]
  },
  {
   "cell_type": "markdown",
   "id": "d780b1c6",
   "metadata": {},
   "source": [
    "**Описание проекта**\n",
    "\n",
    "Задание предлагает нам возможность почувствовать себя в роли сотрудника интернет-магазина \"Стримчик\". Мне из открытых данных известны исторические данные о продажах игр, оценки пользователей и экспертов, жанры и платформы (например, Xbox или PlayStation). Нам нужно выявить определяющие успешность игры закономерности. Это позволит сделать ставку на потенциально популярный продукт и спланировать рекламные кампании. Перед нами данные за 2016 год, т.о нам нужно найти некие закономерности чтобы определить дальнейшее развитие компании в 2017 году. \n",
    "\n",
    "В наборе данных попадается аббревиатура ESRB (Entertainment Software Rating Board) — это ассоциация, определяющая возрастной рейтинг компьютерных игр. ESRB оценивает игровой контент и присваивает ему подходящую возрастную категорию, например, «Для взрослых», «Для детей младшего возраста» или «Для подростков».\n",
    "\n",
    "1. [Открытие данных](#step1)\n",
    "2. [Подготовка данных](#prep_data)\n",
    "3. [Исследовательский анализ данных](#research_data)\n",
    "4. [Составление портрета пользователя каждого региона](#portrait)\n",
    "5. [Проверка гипотез](#check_hypo)\n",
    "6. [Общий вывод](#common_out)"
   ]
  },
  {
   "cell_type": "markdown",
   "id": "80bbcca3",
   "metadata": {},
   "source": [
    "<a id='step_1'></a>\n",
    "\n",
    "# Шаг 1: Открытие файла  и изучение общей информации"
   ]
  },
  {
   "cell_type": "code",
   "execution_count": 1,
   "id": "e5a1349d",
   "metadata": {},
   "outputs": [],
   "source": [
    "import pandas as pd\n",
    "import numpy as np\n",
    "from matplotlib import pyplot as plt\n",
    "from scipy import stats as st\n",
    "import warnings\n",
    "warnings.filterwarnings('ignore')"
   ]
  },
  {
   "cell_type": "code",
   "execution_count": 2,
   "id": "7697fe17",
   "metadata": {},
   "outputs": [],
   "source": [
    "df = pd.read_csv('./games.csv')"
   ]
  },
  {
   "cell_type": "code",
   "execution_count": 3,
   "id": "393a562a",
   "metadata": {},
   "outputs": [
    {
     "data": {
      "text/html": [
       "<div>\n",
       "<style scoped>\n",
       "    .dataframe tbody tr th:only-of-type {\n",
       "        vertical-align: middle;\n",
       "    }\n",
       "\n",
       "    .dataframe tbody tr th {\n",
       "        vertical-align: top;\n",
       "    }\n",
       "\n",
       "    .dataframe thead th {\n",
       "        text-align: right;\n",
       "    }\n",
       "</style>\n",
       "<table border=\"1\" class=\"dataframe\">\n",
       "  <thead>\n",
       "    <tr style=\"text-align: right;\">\n",
       "      <th></th>\n",
       "      <th>Name</th>\n",
       "      <th>Platform</th>\n",
       "      <th>Year_of_Release</th>\n",
       "      <th>Genre</th>\n",
       "      <th>NA_sales</th>\n",
       "      <th>EU_sales</th>\n",
       "      <th>JP_sales</th>\n",
       "      <th>Other_sales</th>\n",
       "      <th>Critic_Score</th>\n",
       "      <th>User_Score</th>\n",
       "      <th>Rating</th>\n",
       "    </tr>\n",
       "  </thead>\n",
       "  <tbody>\n",
       "    <tr>\n",
       "      <th>0</th>\n",
       "      <td>Wii Sports</td>\n",
       "      <td>Wii</td>\n",
       "      <td>2006.0</td>\n",
       "      <td>Sports</td>\n",
       "      <td>41.36</td>\n",
       "      <td>28.96</td>\n",
       "      <td>3.77</td>\n",
       "      <td>8.45</td>\n",
       "      <td>76.0</td>\n",
       "      <td>8</td>\n",
       "      <td>E</td>\n",
       "    </tr>\n",
       "    <tr>\n",
       "      <th>1</th>\n",
       "      <td>Super Mario Bros.</td>\n",
       "      <td>NES</td>\n",
       "      <td>1985.0</td>\n",
       "      <td>Platform</td>\n",
       "      <td>29.08</td>\n",
       "      <td>3.58</td>\n",
       "      <td>6.81</td>\n",
       "      <td>0.77</td>\n",
       "      <td>NaN</td>\n",
       "      <td>NaN</td>\n",
       "      <td>NaN</td>\n",
       "    </tr>\n",
       "    <tr>\n",
       "      <th>2</th>\n",
       "      <td>Mario Kart Wii</td>\n",
       "      <td>Wii</td>\n",
       "      <td>2008.0</td>\n",
       "      <td>Racing</td>\n",
       "      <td>15.68</td>\n",
       "      <td>12.76</td>\n",
       "      <td>3.79</td>\n",
       "      <td>3.29</td>\n",
       "      <td>82.0</td>\n",
       "      <td>8.3</td>\n",
       "      <td>E</td>\n",
       "    </tr>\n",
       "    <tr>\n",
       "      <th>3</th>\n",
       "      <td>Wii Sports Resort</td>\n",
       "      <td>Wii</td>\n",
       "      <td>2009.0</td>\n",
       "      <td>Sports</td>\n",
       "      <td>15.61</td>\n",
       "      <td>10.93</td>\n",
       "      <td>3.28</td>\n",
       "      <td>2.95</td>\n",
       "      <td>80.0</td>\n",
       "      <td>8</td>\n",
       "      <td>E</td>\n",
       "    </tr>\n",
       "    <tr>\n",
       "      <th>4</th>\n",
       "      <td>Pokemon Red/Pokemon Blue</td>\n",
       "      <td>GB</td>\n",
       "      <td>1996.0</td>\n",
       "      <td>Role-Playing</td>\n",
       "      <td>11.27</td>\n",
       "      <td>8.89</td>\n",
       "      <td>10.22</td>\n",
       "      <td>1.00</td>\n",
       "      <td>NaN</td>\n",
       "      <td>NaN</td>\n",
       "      <td>NaN</td>\n",
       "    </tr>\n",
       "    <tr>\n",
       "      <th>...</th>\n",
       "      <td>...</td>\n",
       "      <td>...</td>\n",
       "      <td>...</td>\n",
       "      <td>...</td>\n",
       "      <td>...</td>\n",
       "      <td>...</td>\n",
       "      <td>...</td>\n",
       "      <td>...</td>\n",
       "      <td>...</td>\n",
       "      <td>...</td>\n",
       "      <td>...</td>\n",
       "    </tr>\n",
       "    <tr>\n",
       "      <th>16710</th>\n",
       "      <td>Samurai Warriors: Sanada Maru</td>\n",
       "      <td>PS3</td>\n",
       "      <td>2016.0</td>\n",
       "      <td>Action</td>\n",
       "      <td>0.00</td>\n",
       "      <td>0.00</td>\n",
       "      <td>0.01</td>\n",
       "      <td>0.00</td>\n",
       "      <td>NaN</td>\n",
       "      <td>NaN</td>\n",
       "      <td>NaN</td>\n",
       "    </tr>\n",
       "    <tr>\n",
       "      <th>16711</th>\n",
       "      <td>LMA Manager 2007</td>\n",
       "      <td>X360</td>\n",
       "      <td>2006.0</td>\n",
       "      <td>Sports</td>\n",
       "      <td>0.00</td>\n",
       "      <td>0.01</td>\n",
       "      <td>0.00</td>\n",
       "      <td>0.00</td>\n",
       "      <td>NaN</td>\n",
       "      <td>NaN</td>\n",
       "      <td>NaN</td>\n",
       "    </tr>\n",
       "    <tr>\n",
       "      <th>16712</th>\n",
       "      <td>Haitaka no Psychedelica</td>\n",
       "      <td>PSV</td>\n",
       "      <td>2016.0</td>\n",
       "      <td>Adventure</td>\n",
       "      <td>0.00</td>\n",
       "      <td>0.00</td>\n",
       "      <td>0.01</td>\n",
       "      <td>0.00</td>\n",
       "      <td>NaN</td>\n",
       "      <td>NaN</td>\n",
       "      <td>NaN</td>\n",
       "    </tr>\n",
       "    <tr>\n",
       "      <th>16713</th>\n",
       "      <td>Spirits &amp; Spells</td>\n",
       "      <td>GBA</td>\n",
       "      <td>2003.0</td>\n",
       "      <td>Platform</td>\n",
       "      <td>0.01</td>\n",
       "      <td>0.00</td>\n",
       "      <td>0.00</td>\n",
       "      <td>0.00</td>\n",
       "      <td>NaN</td>\n",
       "      <td>NaN</td>\n",
       "      <td>NaN</td>\n",
       "    </tr>\n",
       "    <tr>\n",
       "      <th>16714</th>\n",
       "      <td>Winning Post 8 2016</td>\n",
       "      <td>PSV</td>\n",
       "      <td>2016.0</td>\n",
       "      <td>Simulation</td>\n",
       "      <td>0.00</td>\n",
       "      <td>0.00</td>\n",
       "      <td>0.01</td>\n",
       "      <td>0.00</td>\n",
       "      <td>NaN</td>\n",
       "      <td>NaN</td>\n",
       "      <td>NaN</td>\n",
       "    </tr>\n",
       "  </tbody>\n",
       "</table>\n",
       "<p>16715 rows × 11 columns</p>\n",
       "</div>"
      ],
      "text/plain": [
       "                                Name Platform  Year_of_Release         Genre  \\\n",
       "0                         Wii Sports      Wii           2006.0        Sports   \n",
       "1                  Super Mario Bros.      NES           1985.0      Platform   \n",
       "2                     Mario Kart Wii      Wii           2008.0        Racing   \n",
       "3                  Wii Sports Resort      Wii           2009.0        Sports   \n",
       "4           Pokemon Red/Pokemon Blue       GB           1996.0  Role-Playing   \n",
       "...                              ...      ...              ...           ...   \n",
       "16710  Samurai Warriors: Sanada Maru      PS3           2016.0        Action   \n",
       "16711               LMA Manager 2007     X360           2006.0        Sports   \n",
       "16712        Haitaka no Psychedelica      PSV           2016.0     Adventure   \n",
       "16713               Spirits & Spells      GBA           2003.0      Platform   \n",
       "16714            Winning Post 8 2016      PSV           2016.0    Simulation   \n",
       "\n",
       "       NA_sales  EU_sales  JP_sales  Other_sales  Critic_Score User_Score  \\\n",
       "0         41.36     28.96      3.77         8.45          76.0          8   \n",
       "1         29.08      3.58      6.81         0.77           NaN        NaN   \n",
       "2         15.68     12.76      3.79         3.29          82.0        8.3   \n",
       "3         15.61     10.93      3.28         2.95          80.0          8   \n",
       "4         11.27      8.89     10.22         1.00           NaN        NaN   \n",
       "...         ...       ...       ...          ...           ...        ...   \n",
       "16710      0.00      0.00      0.01         0.00           NaN        NaN   \n",
       "16711      0.00      0.01      0.00         0.00           NaN        NaN   \n",
       "16712      0.00      0.00      0.01         0.00           NaN        NaN   \n",
       "16713      0.01      0.00      0.00         0.00           NaN        NaN   \n",
       "16714      0.00      0.00      0.01         0.00           NaN        NaN   \n",
       "\n",
       "      Rating  \n",
       "0          E  \n",
       "1        NaN  \n",
       "2          E  \n",
       "3          E  \n",
       "4        NaN  \n",
       "...      ...  \n",
       "16710    NaN  \n",
       "16711    NaN  \n",
       "16712    NaN  \n",
       "16713    NaN  \n",
       "16714    NaN  \n",
       "\n",
       "[16715 rows x 11 columns]"
      ]
     },
     "execution_count": 3,
     "metadata": {},
     "output_type": "execute_result"
    }
   ],
   "source": [
    "df"
   ]
  },
  {
   "cell_type": "code",
   "execution_count": 4,
   "id": "6c000a64",
   "metadata": {},
   "outputs": [
    {
     "name": "stdout",
     "output_type": "stream",
     "text": [
      "<class 'pandas.core.frame.DataFrame'>\n",
      "RangeIndex: 16715 entries, 0 to 16714\n",
      "Data columns (total 11 columns):\n",
      " #   Column           Non-Null Count  Dtype  \n",
      "---  ------           --------------  -----  \n",
      " 0   Name             16713 non-null  object \n",
      " 1   Platform         16715 non-null  object \n",
      " 2   Year_of_Release  16446 non-null  float64\n",
      " 3   Genre            16713 non-null  object \n",
      " 4   NA_sales         16715 non-null  float64\n",
      " 5   EU_sales         16715 non-null  float64\n",
      " 6   JP_sales         16715 non-null  float64\n",
      " 7   Other_sales      16715 non-null  float64\n",
      " 8   Critic_Score     8137 non-null   float64\n",
      " 9   User_Score       10014 non-null  object \n",
      " 10  Rating           9949 non-null   object \n",
      "dtypes: float64(6), object(5)\n",
      "memory usage: 1.4+ MB\n"
     ]
    }
   ],
   "source": [
    "df.info()"
   ]
  },
  {
   "cell_type": "code",
   "execution_count": 5,
   "id": "163804a7",
   "metadata": {},
   "outputs": [
    {
     "data": {
      "text/plain": [
       "Name                True\n",
       "Platform           False\n",
       "Year_of_Release     True\n",
       "Genre               True\n",
       "NA_sales           False\n",
       "EU_sales           False\n",
       "JP_sales           False\n",
       "Other_sales        False\n",
       "Critic_Score        True\n",
       "User_Score          True\n",
       "Rating              True\n",
       "dtype: bool"
      ]
     },
     "execution_count": 5,
     "metadata": {},
     "output_type": "execute_result"
    }
   ],
   "source": [
    "df.isna().any()"
   ]
  },
  {
   "cell_type": "code",
   "execution_count": 6,
   "id": "abc134e8",
   "metadata": {},
   "outputs": [
    {
     "data": {
      "text/plain": [
       "E       3990\n",
       "T       2961\n",
       "M       1563\n",
       "E10+    1420\n",
       "EC         8\n",
       "K-A        3\n",
       "RP         3\n",
       "AO         1\n",
       "Name: Rating, dtype: int64"
      ]
     },
     "execution_count": 6,
     "metadata": {},
     "output_type": "execute_result"
    }
   ],
   "source": [
    "df['Rating'].value_counts()"
   ]
  },
  {
   "cell_type": "markdown",
   "id": "976f75f7",
   "metadata": {},
   "source": [
    "Ссылка на источник данных с обозначением различных ESRB"
   ]
  },
  {
   "cell_type": "markdown",
   "id": "33b7640b",
   "metadata": {},
   "source": [
    "[Cслыка 1](https://www.esrb.org/ratings-guide/)\n",
    "[Ссылка 2](https://ru.wikipedia.org/wiki/Entertainment_Software_Rating_Board)"
   ]
  },
  {
   "cell_type": "markdown",
   "id": "88163a4e",
   "metadata": {},
   "source": [
    "## Вывод по Шаг_1"
   ]
  },
  {
   "cell_type": "markdown",
   "id": "a2c5876d",
   "metadata": {},
   "source": [
    "Видно, что в данных есть нули причём колонка `Name` содержит всего 2 нулевых позиции, надо обязательно на них посмотреть. Также видно что колонка `User_score` содержит данные в неправильном типе => нужно заменить на float64.\n",
    "Также можно заметить что в ячейке `Rating` устаревшие данные так согласно источникам K-A это старая версия нынешней E. Таким образом понимаем что нужно найти логичные замены для NaN изменить типы данных и заменить значения в колонках нужные, чем собственно и займемся в следующем раздделе (Шаг 2.)"
   ]
  },
  {
   "cell_type": "markdown",
   "id": "68033976",
   "metadata": {},
   "source": [
    "<a id = 'prep_data'></a>\n",
    "# Шаг 2: Подготовка данных"
   ]
  },
  {
   "cell_type": "markdown",
   "id": "3601d9ba",
   "metadata": {},
   "source": [
    "### Перевод строк к нижнему регистру"
   ]
  },
  {
   "cell_type": "markdown",
   "id": "cb27e6bd",
   "metadata": {},
   "source": [
    "Первое с чего начнем это с того что приведем все имена колонок к нижнему регистру. Так будет удобнее к ним обращаться"
   ]
  },
  {
   "cell_type": "code",
   "execution_count": 7,
   "id": "91bfa2a4",
   "metadata": {},
   "outputs": [],
   "source": [
    "df.columns = df.columns.str.lower()"
   ]
  },
  {
   "cell_type": "code",
   "execution_count": 8,
   "id": "87d96620",
   "metadata": {},
   "outputs": [
    {
     "data": {
      "text/html": [
       "<div>\n",
       "<style scoped>\n",
       "    .dataframe tbody tr th:only-of-type {\n",
       "        vertical-align: middle;\n",
       "    }\n",
       "\n",
       "    .dataframe tbody tr th {\n",
       "        vertical-align: top;\n",
       "    }\n",
       "\n",
       "    .dataframe thead th {\n",
       "        text-align: right;\n",
       "    }\n",
       "</style>\n",
       "<table border=\"1\" class=\"dataframe\">\n",
       "  <thead>\n",
       "    <tr style=\"text-align: right;\">\n",
       "      <th></th>\n",
       "      <th>name</th>\n",
       "      <th>platform</th>\n",
       "      <th>year_of_release</th>\n",
       "      <th>genre</th>\n",
       "      <th>na_sales</th>\n",
       "      <th>eu_sales</th>\n",
       "      <th>jp_sales</th>\n",
       "      <th>other_sales</th>\n",
       "      <th>critic_score</th>\n",
       "      <th>user_score</th>\n",
       "      <th>rating</th>\n",
       "    </tr>\n",
       "  </thead>\n",
       "  <tbody>\n",
       "    <tr>\n",
       "      <th>0</th>\n",
       "      <td>Wii Sports</td>\n",
       "      <td>Wii</td>\n",
       "      <td>2006.0</td>\n",
       "      <td>Sports</td>\n",
       "      <td>41.36</td>\n",
       "      <td>28.96</td>\n",
       "      <td>3.77</td>\n",
       "      <td>8.45</td>\n",
       "      <td>76.0</td>\n",
       "      <td>8</td>\n",
       "      <td>E</td>\n",
       "    </tr>\n",
       "    <tr>\n",
       "      <th>1</th>\n",
       "      <td>Super Mario Bros.</td>\n",
       "      <td>NES</td>\n",
       "      <td>1985.0</td>\n",
       "      <td>Platform</td>\n",
       "      <td>29.08</td>\n",
       "      <td>3.58</td>\n",
       "      <td>6.81</td>\n",
       "      <td>0.77</td>\n",
       "      <td>NaN</td>\n",
       "      <td>NaN</td>\n",
       "      <td>NaN</td>\n",
       "    </tr>\n",
       "    <tr>\n",
       "      <th>2</th>\n",
       "      <td>Mario Kart Wii</td>\n",
       "      <td>Wii</td>\n",
       "      <td>2008.0</td>\n",
       "      <td>Racing</td>\n",
       "      <td>15.68</td>\n",
       "      <td>12.76</td>\n",
       "      <td>3.79</td>\n",
       "      <td>3.29</td>\n",
       "      <td>82.0</td>\n",
       "      <td>8.3</td>\n",
       "      <td>E</td>\n",
       "    </tr>\n",
       "    <tr>\n",
       "      <th>3</th>\n",
       "      <td>Wii Sports Resort</td>\n",
       "      <td>Wii</td>\n",
       "      <td>2009.0</td>\n",
       "      <td>Sports</td>\n",
       "      <td>15.61</td>\n",
       "      <td>10.93</td>\n",
       "      <td>3.28</td>\n",
       "      <td>2.95</td>\n",
       "      <td>80.0</td>\n",
       "      <td>8</td>\n",
       "      <td>E</td>\n",
       "    </tr>\n",
       "    <tr>\n",
       "      <th>4</th>\n",
       "      <td>Pokemon Red/Pokemon Blue</td>\n",
       "      <td>GB</td>\n",
       "      <td>1996.0</td>\n",
       "      <td>Role-Playing</td>\n",
       "      <td>11.27</td>\n",
       "      <td>8.89</td>\n",
       "      <td>10.22</td>\n",
       "      <td>1.00</td>\n",
       "      <td>NaN</td>\n",
       "      <td>NaN</td>\n",
       "      <td>NaN</td>\n",
       "    </tr>\n",
       "    <tr>\n",
       "      <th>...</th>\n",
       "      <td>...</td>\n",
       "      <td>...</td>\n",
       "      <td>...</td>\n",
       "      <td>...</td>\n",
       "      <td>...</td>\n",
       "      <td>...</td>\n",
       "      <td>...</td>\n",
       "      <td>...</td>\n",
       "      <td>...</td>\n",
       "      <td>...</td>\n",
       "      <td>...</td>\n",
       "    </tr>\n",
       "    <tr>\n",
       "      <th>16710</th>\n",
       "      <td>Samurai Warriors: Sanada Maru</td>\n",
       "      <td>PS3</td>\n",
       "      <td>2016.0</td>\n",
       "      <td>Action</td>\n",
       "      <td>0.00</td>\n",
       "      <td>0.00</td>\n",
       "      <td>0.01</td>\n",
       "      <td>0.00</td>\n",
       "      <td>NaN</td>\n",
       "      <td>NaN</td>\n",
       "      <td>NaN</td>\n",
       "    </tr>\n",
       "    <tr>\n",
       "      <th>16711</th>\n",
       "      <td>LMA Manager 2007</td>\n",
       "      <td>X360</td>\n",
       "      <td>2006.0</td>\n",
       "      <td>Sports</td>\n",
       "      <td>0.00</td>\n",
       "      <td>0.01</td>\n",
       "      <td>0.00</td>\n",
       "      <td>0.00</td>\n",
       "      <td>NaN</td>\n",
       "      <td>NaN</td>\n",
       "      <td>NaN</td>\n",
       "    </tr>\n",
       "    <tr>\n",
       "      <th>16712</th>\n",
       "      <td>Haitaka no Psychedelica</td>\n",
       "      <td>PSV</td>\n",
       "      <td>2016.0</td>\n",
       "      <td>Adventure</td>\n",
       "      <td>0.00</td>\n",
       "      <td>0.00</td>\n",
       "      <td>0.01</td>\n",
       "      <td>0.00</td>\n",
       "      <td>NaN</td>\n",
       "      <td>NaN</td>\n",
       "      <td>NaN</td>\n",
       "    </tr>\n",
       "    <tr>\n",
       "      <th>16713</th>\n",
       "      <td>Spirits &amp; Spells</td>\n",
       "      <td>GBA</td>\n",
       "      <td>2003.0</td>\n",
       "      <td>Platform</td>\n",
       "      <td>0.01</td>\n",
       "      <td>0.00</td>\n",
       "      <td>0.00</td>\n",
       "      <td>0.00</td>\n",
       "      <td>NaN</td>\n",
       "      <td>NaN</td>\n",
       "      <td>NaN</td>\n",
       "    </tr>\n",
       "    <tr>\n",
       "      <th>16714</th>\n",
       "      <td>Winning Post 8 2016</td>\n",
       "      <td>PSV</td>\n",
       "      <td>2016.0</td>\n",
       "      <td>Simulation</td>\n",
       "      <td>0.00</td>\n",
       "      <td>0.00</td>\n",
       "      <td>0.01</td>\n",
       "      <td>0.00</td>\n",
       "      <td>NaN</td>\n",
       "      <td>NaN</td>\n",
       "      <td>NaN</td>\n",
       "    </tr>\n",
       "  </tbody>\n",
       "</table>\n",
       "<p>16715 rows × 11 columns</p>\n",
       "</div>"
      ],
      "text/plain": [
       "                                name platform  year_of_release         genre  \\\n",
       "0                         Wii Sports      Wii           2006.0        Sports   \n",
       "1                  Super Mario Bros.      NES           1985.0      Platform   \n",
       "2                     Mario Kart Wii      Wii           2008.0        Racing   \n",
       "3                  Wii Sports Resort      Wii           2009.0        Sports   \n",
       "4           Pokemon Red/Pokemon Blue       GB           1996.0  Role-Playing   \n",
       "...                              ...      ...              ...           ...   \n",
       "16710  Samurai Warriors: Sanada Maru      PS3           2016.0        Action   \n",
       "16711               LMA Manager 2007     X360           2006.0        Sports   \n",
       "16712        Haitaka no Psychedelica      PSV           2016.0     Adventure   \n",
       "16713               Spirits & Spells      GBA           2003.0      Platform   \n",
       "16714            Winning Post 8 2016      PSV           2016.0    Simulation   \n",
       "\n",
       "       na_sales  eu_sales  jp_sales  other_sales  critic_score user_score  \\\n",
       "0         41.36     28.96      3.77         8.45          76.0          8   \n",
       "1         29.08      3.58      6.81         0.77           NaN        NaN   \n",
       "2         15.68     12.76      3.79         3.29          82.0        8.3   \n",
       "3         15.61     10.93      3.28         2.95          80.0          8   \n",
       "4         11.27      8.89     10.22         1.00           NaN        NaN   \n",
       "...         ...       ...       ...          ...           ...        ...   \n",
       "16710      0.00      0.00      0.01         0.00           NaN        NaN   \n",
       "16711      0.00      0.01      0.00         0.00           NaN        NaN   \n",
       "16712      0.00      0.00      0.01         0.00           NaN        NaN   \n",
       "16713      0.01      0.00      0.00         0.00           NaN        NaN   \n",
       "16714      0.00      0.00      0.01         0.00           NaN        NaN   \n",
       "\n",
       "      rating  \n",
       "0          E  \n",
       "1        NaN  \n",
       "2          E  \n",
       "3          E  \n",
       "4        NaN  \n",
       "...      ...  \n",
       "16710    NaN  \n",
       "16711    NaN  \n",
       "16712    NaN  \n",
       "16713    NaN  \n",
       "16714    NaN  \n",
       "\n",
       "[16715 rows x 11 columns]"
      ]
     },
     "execution_count": 8,
     "metadata": {},
     "output_type": "execute_result"
    }
   ],
   "source": [
    "df"
   ]
  },
  {
   "cell_type": "markdown",
   "id": "38080f59",
   "metadata": {},
   "source": [
    "### Обработка колонки `year_of_release`"
   ]
  },
  {
   "cell_type": "markdown",
   "id": "216a84e8",
   "metadata": {},
   "source": [
    "Заменяем NaN в колонке `year_of_release`, которую я заполнил годом в зависимости от платформы, ведь в зависимости от того на какую платформу была выпущена игра, тогда и год выпуска будет ограничен самим сроком службы платформы на которую игры была выпущена. Также произведем замену типа колонки на int64, потому что мне не нравится что ноль стоит рядом с годом)) Также и на графиках это выглядит некрасиво"
   ]
  },
  {
   "cell_type": "code",
   "execution_count": 9,
   "id": "38edcd14",
   "metadata": {},
   "outputs": [],
   "source": [
    "df.loc[:, 'year_of_release'] = df.loc[:, 'year_of_release'].fillna(\n",
    "    df.groupby('platform')['year_of_release'].transform('median')\n",
    ")"
   ]
  },
  {
   "cell_type": "code",
   "execution_count": 10,
   "id": "1f03bb68",
   "metadata": {},
   "outputs": [
    {
     "data": {
      "text/html": [
       "<div>\n",
       "<style scoped>\n",
       "    .dataframe tbody tr th:only-of-type {\n",
       "        vertical-align: middle;\n",
       "    }\n",
       "\n",
       "    .dataframe tbody tr th {\n",
       "        vertical-align: top;\n",
       "    }\n",
       "\n",
       "    .dataframe thead th {\n",
       "        text-align: right;\n",
       "    }\n",
       "</style>\n",
       "<table border=\"1\" class=\"dataframe\">\n",
       "  <thead>\n",
       "    <tr style=\"text-align: right;\">\n",
       "      <th></th>\n",
       "      <th>name</th>\n",
       "      <th>platform</th>\n",
       "      <th>year_of_release</th>\n",
       "      <th>genre</th>\n",
       "      <th>na_sales</th>\n",
       "      <th>eu_sales</th>\n",
       "      <th>jp_sales</th>\n",
       "      <th>other_sales</th>\n",
       "      <th>critic_score</th>\n",
       "      <th>user_score</th>\n",
       "      <th>rating</th>\n",
       "    </tr>\n",
       "  </thead>\n",
       "  <tbody>\n",
       "    <tr>\n",
       "      <th>0</th>\n",
       "      <td>Wii Sports</td>\n",
       "      <td>Wii</td>\n",
       "      <td>2006.0</td>\n",
       "      <td>Sports</td>\n",
       "      <td>41.36</td>\n",
       "      <td>28.96</td>\n",
       "      <td>3.77</td>\n",
       "      <td>8.45</td>\n",
       "      <td>76.0</td>\n",
       "      <td>8</td>\n",
       "      <td>E</td>\n",
       "    </tr>\n",
       "    <tr>\n",
       "      <th>1</th>\n",
       "      <td>Super Mario Bros.</td>\n",
       "      <td>NES</td>\n",
       "      <td>1985.0</td>\n",
       "      <td>Platform</td>\n",
       "      <td>29.08</td>\n",
       "      <td>3.58</td>\n",
       "      <td>6.81</td>\n",
       "      <td>0.77</td>\n",
       "      <td>NaN</td>\n",
       "      <td>NaN</td>\n",
       "      <td>NaN</td>\n",
       "    </tr>\n",
       "    <tr>\n",
       "      <th>2</th>\n",
       "      <td>Mario Kart Wii</td>\n",
       "      <td>Wii</td>\n",
       "      <td>2008.0</td>\n",
       "      <td>Racing</td>\n",
       "      <td>15.68</td>\n",
       "      <td>12.76</td>\n",
       "      <td>3.79</td>\n",
       "      <td>3.29</td>\n",
       "      <td>82.0</td>\n",
       "      <td>8.3</td>\n",
       "      <td>E</td>\n",
       "    </tr>\n",
       "    <tr>\n",
       "      <th>3</th>\n",
       "      <td>Wii Sports Resort</td>\n",
       "      <td>Wii</td>\n",
       "      <td>2009.0</td>\n",
       "      <td>Sports</td>\n",
       "      <td>15.61</td>\n",
       "      <td>10.93</td>\n",
       "      <td>3.28</td>\n",
       "      <td>2.95</td>\n",
       "      <td>80.0</td>\n",
       "      <td>8</td>\n",
       "      <td>E</td>\n",
       "    </tr>\n",
       "    <tr>\n",
       "      <th>4</th>\n",
       "      <td>Pokemon Red/Pokemon Blue</td>\n",
       "      <td>GB</td>\n",
       "      <td>1996.0</td>\n",
       "      <td>Role-Playing</td>\n",
       "      <td>11.27</td>\n",
       "      <td>8.89</td>\n",
       "      <td>10.22</td>\n",
       "      <td>1.00</td>\n",
       "      <td>NaN</td>\n",
       "      <td>NaN</td>\n",
       "      <td>NaN</td>\n",
       "    </tr>\n",
       "    <tr>\n",
       "      <th>...</th>\n",
       "      <td>...</td>\n",
       "      <td>...</td>\n",
       "      <td>...</td>\n",
       "      <td>...</td>\n",
       "      <td>...</td>\n",
       "      <td>...</td>\n",
       "      <td>...</td>\n",
       "      <td>...</td>\n",
       "      <td>...</td>\n",
       "      <td>...</td>\n",
       "      <td>...</td>\n",
       "    </tr>\n",
       "    <tr>\n",
       "      <th>16710</th>\n",
       "      <td>Samurai Warriors: Sanada Maru</td>\n",
       "      <td>PS3</td>\n",
       "      <td>2016.0</td>\n",
       "      <td>Action</td>\n",
       "      <td>0.00</td>\n",
       "      <td>0.00</td>\n",
       "      <td>0.01</td>\n",
       "      <td>0.00</td>\n",
       "      <td>NaN</td>\n",
       "      <td>NaN</td>\n",
       "      <td>NaN</td>\n",
       "    </tr>\n",
       "    <tr>\n",
       "      <th>16711</th>\n",
       "      <td>LMA Manager 2007</td>\n",
       "      <td>X360</td>\n",
       "      <td>2006.0</td>\n",
       "      <td>Sports</td>\n",
       "      <td>0.00</td>\n",
       "      <td>0.01</td>\n",
       "      <td>0.00</td>\n",
       "      <td>0.00</td>\n",
       "      <td>NaN</td>\n",
       "      <td>NaN</td>\n",
       "      <td>NaN</td>\n",
       "    </tr>\n",
       "    <tr>\n",
       "      <th>16712</th>\n",
       "      <td>Haitaka no Psychedelica</td>\n",
       "      <td>PSV</td>\n",
       "      <td>2016.0</td>\n",
       "      <td>Adventure</td>\n",
       "      <td>0.00</td>\n",
       "      <td>0.00</td>\n",
       "      <td>0.01</td>\n",
       "      <td>0.00</td>\n",
       "      <td>NaN</td>\n",
       "      <td>NaN</td>\n",
       "      <td>NaN</td>\n",
       "    </tr>\n",
       "    <tr>\n",
       "      <th>16713</th>\n",
       "      <td>Spirits &amp; Spells</td>\n",
       "      <td>GBA</td>\n",
       "      <td>2003.0</td>\n",
       "      <td>Platform</td>\n",
       "      <td>0.01</td>\n",
       "      <td>0.00</td>\n",
       "      <td>0.00</td>\n",
       "      <td>0.00</td>\n",
       "      <td>NaN</td>\n",
       "      <td>NaN</td>\n",
       "      <td>NaN</td>\n",
       "    </tr>\n",
       "    <tr>\n",
       "      <th>16714</th>\n",
       "      <td>Winning Post 8 2016</td>\n",
       "      <td>PSV</td>\n",
       "      <td>2016.0</td>\n",
       "      <td>Simulation</td>\n",
       "      <td>0.00</td>\n",
       "      <td>0.00</td>\n",
       "      <td>0.01</td>\n",
       "      <td>0.00</td>\n",
       "      <td>NaN</td>\n",
       "      <td>NaN</td>\n",
       "      <td>NaN</td>\n",
       "    </tr>\n",
       "  </tbody>\n",
       "</table>\n",
       "<p>16715 rows × 11 columns</p>\n",
       "</div>"
      ],
      "text/plain": [
       "                                name platform  year_of_release         genre  \\\n",
       "0                         Wii Sports      Wii           2006.0        Sports   \n",
       "1                  Super Mario Bros.      NES           1985.0      Platform   \n",
       "2                     Mario Kart Wii      Wii           2008.0        Racing   \n",
       "3                  Wii Sports Resort      Wii           2009.0        Sports   \n",
       "4           Pokemon Red/Pokemon Blue       GB           1996.0  Role-Playing   \n",
       "...                              ...      ...              ...           ...   \n",
       "16710  Samurai Warriors: Sanada Maru      PS3           2016.0        Action   \n",
       "16711               LMA Manager 2007     X360           2006.0        Sports   \n",
       "16712        Haitaka no Psychedelica      PSV           2016.0     Adventure   \n",
       "16713               Spirits & Spells      GBA           2003.0      Platform   \n",
       "16714            Winning Post 8 2016      PSV           2016.0    Simulation   \n",
       "\n",
       "       na_sales  eu_sales  jp_sales  other_sales  critic_score user_score  \\\n",
       "0         41.36     28.96      3.77         8.45          76.0          8   \n",
       "1         29.08      3.58      6.81         0.77           NaN        NaN   \n",
       "2         15.68     12.76      3.79         3.29          82.0        8.3   \n",
       "3         15.61     10.93      3.28         2.95          80.0          8   \n",
       "4         11.27      8.89     10.22         1.00           NaN        NaN   \n",
       "...         ...       ...       ...          ...           ...        ...   \n",
       "16710      0.00      0.00      0.01         0.00           NaN        NaN   \n",
       "16711      0.00      0.01      0.00         0.00           NaN        NaN   \n",
       "16712      0.00      0.00      0.01         0.00           NaN        NaN   \n",
       "16713      0.01      0.00      0.00         0.00           NaN        NaN   \n",
       "16714      0.00      0.00      0.01         0.00           NaN        NaN   \n",
       "\n",
       "      rating  \n",
       "0          E  \n",
       "1        NaN  \n",
       "2          E  \n",
       "3          E  \n",
       "4        NaN  \n",
       "...      ...  \n",
       "16710    NaN  \n",
       "16711    NaN  \n",
       "16712    NaN  \n",
       "16713    NaN  \n",
       "16714    NaN  \n",
       "\n",
       "[16715 rows x 11 columns]"
      ]
     },
     "execution_count": 10,
     "metadata": {},
     "output_type": "execute_result"
    }
   ],
   "source": [
    "df"
   ]
  },
  {
   "cell_type": "code",
   "execution_count": 11,
   "id": "790163a0",
   "metadata": {},
   "outputs": [],
   "source": [
    "df['year_of_release'] = df['year_of_release'].astype('int64')"
   ]
  },
  {
   "cell_type": "markdown",
   "id": "1598bed3",
   "metadata": {},
   "source": [
    "### Обработка колонки `name`"
   ]
  },
  {
   "cell_type": "markdown",
   "id": "c3e42b7f",
   "metadata": {},
   "source": [
    "Посмотрим на данные из `name` соответвующие NaN"
   ]
  },
  {
   "cell_type": "code",
   "execution_count": 12,
   "id": "8a0dc967",
   "metadata": {},
   "outputs": [
    {
     "data": {
      "text/html": [
       "<div>\n",
       "<style scoped>\n",
       "    .dataframe tbody tr th:only-of-type {\n",
       "        vertical-align: middle;\n",
       "    }\n",
       "\n",
       "    .dataframe tbody tr th {\n",
       "        vertical-align: top;\n",
       "    }\n",
       "\n",
       "    .dataframe thead th {\n",
       "        text-align: right;\n",
       "    }\n",
       "</style>\n",
       "<table border=\"1\" class=\"dataframe\">\n",
       "  <thead>\n",
       "    <tr style=\"text-align: right;\">\n",
       "      <th></th>\n",
       "      <th>name</th>\n",
       "      <th>platform</th>\n",
       "      <th>year_of_release</th>\n",
       "      <th>genre</th>\n",
       "      <th>na_sales</th>\n",
       "      <th>eu_sales</th>\n",
       "      <th>jp_sales</th>\n",
       "      <th>other_sales</th>\n",
       "      <th>critic_score</th>\n",
       "      <th>user_score</th>\n",
       "      <th>rating</th>\n",
       "    </tr>\n",
       "  </thead>\n",
       "  <tbody>\n",
       "    <tr>\n",
       "      <th>659</th>\n",
       "      <td>NaN</td>\n",
       "      <td>GEN</td>\n",
       "      <td>1993</td>\n",
       "      <td>NaN</td>\n",
       "      <td>1.78</td>\n",
       "      <td>0.53</td>\n",
       "      <td>0.00</td>\n",
       "      <td>0.08</td>\n",
       "      <td>NaN</td>\n",
       "      <td>NaN</td>\n",
       "      <td>NaN</td>\n",
       "    </tr>\n",
       "    <tr>\n",
       "      <th>14244</th>\n",
       "      <td>NaN</td>\n",
       "      <td>GEN</td>\n",
       "      <td>1993</td>\n",
       "      <td>NaN</td>\n",
       "      <td>0.00</td>\n",
       "      <td>0.00</td>\n",
       "      <td>0.03</td>\n",
       "      <td>0.00</td>\n",
       "      <td>NaN</td>\n",
       "      <td>NaN</td>\n",
       "      <td>NaN</td>\n",
       "    </tr>\n",
       "  </tbody>\n",
       "</table>\n",
       "</div>"
      ],
      "text/plain": [
       "      name platform  year_of_release genre  na_sales  eu_sales  jp_sales  \\\n",
       "659    NaN      GEN             1993   NaN      1.78      0.53      0.00   \n",
       "14244  NaN      GEN             1993   NaN      0.00      0.00      0.03   \n",
       "\n",
       "       other_sales  critic_score user_score rating  \n",
       "659           0.08           NaN        NaN    NaN  \n",
       "14244         0.00           NaN        NaN    NaN  "
      ]
     },
     "execution_count": 12,
     "metadata": {},
     "output_type": "execute_result"
    }
   ],
   "source": [
    "df[df['name'].isna()]"
   ]
  },
  {
   "cell_type": "markdown",
   "id": "d04a7b62",
   "metadata": {},
   "source": [
    "Скинем эти данные ибо в них вообще почти нет данных и вряд ли они как то исказят данные если их убрать"
   ]
  },
  {
   "cell_type": "code",
   "execution_count": 13,
   "id": "c7d22f65",
   "metadata": {},
   "outputs": [],
   "source": [
    "df = df.dropna(subset=['name'])"
   ]
  },
  {
   "cell_type": "markdown",
   "id": "5c66dcf5",
   "metadata": {},
   "source": [
    "### Обработка колонки `critic_score`"
   ]
  },
  {
   "cell_type": "markdown",
   "id": "bcb2a34d",
   "metadata": {},
   "source": [
    "Заменяем `critic_score` на нужный тип и заполняем пропущенные значения. Для этого я создаю колонку `sum_sales` чтобы понять влияет ли кол-во суммарных продаж на оценку критиков"
   ]
  },
  {
   "cell_type": "code",
   "execution_count": 14,
   "id": "f09a0a35",
   "metadata": {},
   "outputs": [],
   "source": [
    "df['sum_sales'] = df[['na_sales','eu_sales','jp_sales','other_sales']].sum(axis=1)"
   ]
  },
  {
   "cell_type": "markdown",
   "id": "aae01d74",
   "metadata": {},
   "source": [
    "Делим данные по 25,50 и 75 квартилям чтобы разделить суммарные продажи на 3 категории"
   ]
  },
  {
   "cell_type": "code",
   "execution_count": 15,
   "id": "676e6d3f",
   "metadata": {},
   "outputs": [
    {
     "name": "stdout",
     "output_type": "stream",
     "text": [
      "0.06 0.16999999999999998 0.47\n"
     ]
    }
   ],
   "source": [
    "print(df['sum_sales'].quantile(q=0.25), df['sum_sales'].quantile(q=0.5), df['sum_sales'].quantile(q=0.75))"
   ]
  },
  {
   "cell_type": "code",
   "execution_count": 16,
   "id": "cce50459",
   "metadata": {},
   "outputs": [],
   "source": [
    "def type(row):\n",
    "    sales = row['sum_sales']\n",
    "    if sales <= 0.17:\n",
    "        return \"Низкий\"\n",
    "    elif sales > 0.17 and sales <= 0.47:\n",
    "        return \"Средний\"\n",
    "    else:\n",
    "        return \"Высокий\""
   ]
  },
  {
   "cell_type": "code",
   "execution_count": 17,
   "id": "b582f820",
   "metadata": {},
   "outputs": [],
   "source": [
    "df['type_by_sum_sales'] = df.apply(type, axis=1)"
   ]
  },
  {
   "cell_type": "code",
   "execution_count": 18,
   "id": "845fdfc6",
   "metadata": {},
   "outputs": [
    {
     "data": {
      "text/html": [
       "<div>\n",
       "<style scoped>\n",
       "    .dataframe tbody tr th:only-of-type {\n",
       "        vertical-align: middle;\n",
       "    }\n",
       "\n",
       "    .dataframe tbody tr th {\n",
       "        vertical-align: top;\n",
       "    }\n",
       "\n",
       "    .dataframe thead th {\n",
       "        text-align: right;\n",
       "    }\n",
       "</style>\n",
       "<table border=\"1\" class=\"dataframe\">\n",
       "  <thead>\n",
       "    <tr style=\"text-align: right;\">\n",
       "      <th></th>\n",
       "      <th>name</th>\n",
       "      <th>platform</th>\n",
       "      <th>year_of_release</th>\n",
       "      <th>genre</th>\n",
       "      <th>na_sales</th>\n",
       "      <th>eu_sales</th>\n",
       "      <th>jp_sales</th>\n",
       "      <th>other_sales</th>\n",
       "      <th>critic_score</th>\n",
       "      <th>user_score</th>\n",
       "      <th>rating</th>\n",
       "      <th>sum_sales</th>\n",
       "      <th>type_by_sum_sales</th>\n",
       "    </tr>\n",
       "  </thead>\n",
       "  <tbody>\n",
       "    <tr>\n",
       "      <th>0</th>\n",
       "      <td>Wii Sports</td>\n",
       "      <td>Wii</td>\n",
       "      <td>2006</td>\n",
       "      <td>Sports</td>\n",
       "      <td>41.36</td>\n",
       "      <td>28.96</td>\n",
       "      <td>3.77</td>\n",
       "      <td>8.45</td>\n",
       "      <td>76.0</td>\n",
       "      <td>8</td>\n",
       "      <td>E</td>\n",
       "      <td>82.54</td>\n",
       "      <td>Высокий</td>\n",
       "    </tr>\n",
       "    <tr>\n",
       "      <th>1</th>\n",
       "      <td>Super Mario Bros.</td>\n",
       "      <td>NES</td>\n",
       "      <td>1985</td>\n",
       "      <td>Platform</td>\n",
       "      <td>29.08</td>\n",
       "      <td>3.58</td>\n",
       "      <td>6.81</td>\n",
       "      <td>0.77</td>\n",
       "      <td>NaN</td>\n",
       "      <td>NaN</td>\n",
       "      <td>NaN</td>\n",
       "      <td>40.24</td>\n",
       "      <td>Высокий</td>\n",
       "    </tr>\n",
       "    <tr>\n",
       "      <th>2</th>\n",
       "      <td>Mario Kart Wii</td>\n",
       "      <td>Wii</td>\n",
       "      <td>2008</td>\n",
       "      <td>Racing</td>\n",
       "      <td>15.68</td>\n",
       "      <td>12.76</td>\n",
       "      <td>3.79</td>\n",
       "      <td>3.29</td>\n",
       "      <td>82.0</td>\n",
       "      <td>8.3</td>\n",
       "      <td>E</td>\n",
       "      <td>35.52</td>\n",
       "      <td>Высокий</td>\n",
       "    </tr>\n",
       "    <tr>\n",
       "      <th>3</th>\n",
       "      <td>Wii Sports Resort</td>\n",
       "      <td>Wii</td>\n",
       "      <td>2009</td>\n",
       "      <td>Sports</td>\n",
       "      <td>15.61</td>\n",
       "      <td>10.93</td>\n",
       "      <td>3.28</td>\n",
       "      <td>2.95</td>\n",
       "      <td>80.0</td>\n",
       "      <td>8</td>\n",
       "      <td>E</td>\n",
       "      <td>32.77</td>\n",
       "      <td>Высокий</td>\n",
       "    </tr>\n",
       "    <tr>\n",
       "      <th>4</th>\n",
       "      <td>Pokemon Red/Pokemon Blue</td>\n",
       "      <td>GB</td>\n",
       "      <td>1996</td>\n",
       "      <td>Role-Playing</td>\n",
       "      <td>11.27</td>\n",
       "      <td>8.89</td>\n",
       "      <td>10.22</td>\n",
       "      <td>1.00</td>\n",
       "      <td>NaN</td>\n",
       "      <td>NaN</td>\n",
       "      <td>NaN</td>\n",
       "      <td>31.38</td>\n",
       "      <td>Высокий</td>\n",
       "    </tr>\n",
       "    <tr>\n",
       "      <th>...</th>\n",
       "      <td>...</td>\n",
       "      <td>...</td>\n",
       "      <td>...</td>\n",
       "      <td>...</td>\n",
       "      <td>...</td>\n",
       "      <td>...</td>\n",
       "      <td>...</td>\n",
       "      <td>...</td>\n",
       "      <td>...</td>\n",
       "      <td>...</td>\n",
       "      <td>...</td>\n",
       "      <td>...</td>\n",
       "      <td>...</td>\n",
       "    </tr>\n",
       "    <tr>\n",
       "      <th>16710</th>\n",
       "      <td>Samurai Warriors: Sanada Maru</td>\n",
       "      <td>PS3</td>\n",
       "      <td>2016</td>\n",
       "      <td>Action</td>\n",
       "      <td>0.00</td>\n",
       "      <td>0.00</td>\n",
       "      <td>0.01</td>\n",
       "      <td>0.00</td>\n",
       "      <td>NaN</td>\n",
       "      <td>NaN</td>\n",
       "      <td>NaN</td>\n",
       "      <td>0.01</td>\n",
       "      <td>Низкий</td>\n",
       "    </tr>\n",
       "    <tr>\n",
       "      <th>16711</th>\n",
       "      <td>LMA Manager 2007</td>\n",
       "      <td>X360</td>\n",
       "      <td>2006</td>\n",
       "      <td>Sports</td>\n",
       "      <td>0.00</td>\n",
       "      <td>0.01</td>\n",
       "      <td>0.00</td>\n",
       "      <td>0.00</td>\n",
       "      <td>NaN</td>\n",
       "      <td>NaN</td>\n",
       "      <td>NaN</td>\n",
       "      <td>0.01</td>\n",
       "      <td>Низкий</td>\n",
       "    </tr>\n",
       "    <tr>\n",
       "      <th>16712</th>\n",
       "      <td>Haitaka no Psychedelica</td>\n",
       "      <td>PSV</td>\n",
       "      <td>2016</td>\n",
       "      <td>Adventure</td>\n",
       "      <td>0.00</td>\n",
       "      <td>0.00</td>\n",
       "      <td>0.01</td>\n",
       "      <td>0.00</td>\n",
       "      <td>NaN</td>\n",
       "      <td>NaN</td>\n",
       "      <td>NaN</td>\n",
       "      <td>0.01</td>\n",
       "      <td>Низкий</td>\n",
       "    </tr>\n",
       "    <tr>\n",
       "      <th>16713</th>\n",
       "      <td>Spirits &amp; Spells</td>\n",
       "      <td>GBA</td>\n",
       "      <td>2003</td>\n",
       "      <td>Platform</td>\n",
       "      <td>0.01</td>\n",
       "      <td>0.00</td>\n",
       "      <td>0.00</td>\n",
       "      <td>0.00</td>\n",
       "      <td>NaN</td>\n",
       "      <td>NaN</td>\n",
       "      <td>NaN</td>\n",
       "      <td>0.01</td>\n",
       "      <td>Низкий</td>\n",
       "    </tr>\n",
       "    <tr>\n",
       "      <th>16714</th>\n",
       "      <td>Winning Post 8 2016</td>\n",
       "      <td>PSV</td>\n",
       "      <td>2016</td>\n",
       "      <td>Simulation</td>\n",
       "      <td>0.00</td>\n",
       "      <td>0.00</td>\n",
       "      <td>0.01</td>\n",
       "      <td>0.00</td>\n",
       "      <td>NaN</td>\n",
       "      <td>NaN</td>\n",
       "      <td>NaN</td>\n",
       "      <td>0.01</td>\n",
       "      <td>Низкий</td>\n",
       "    </tr>\n",
       "  </tbody>\n",
       "</table>\n",
       "<p>16713 rows × 13 columns</p>\n",
       "</div>"
      ],
      "text/plain": [
       "                                name platform  year_of_release         genre  \\\n",
       "0                         Wii Sports      Wii             2006        Sports   \n",
       "1                  Super Mario Bros.      NES             1985      Platform   \n",
       "2                     Mario Kart Wii      Wii             2008        Racing   \n",
       "3                  Wii Sports Resort      Wii             2009        Sports   \n",
       "4           Pokemon Red/Pokemon Blue       GB             1996  Role-Playing   \n",
       "...                              ...      ...              ...           ...   \n",
       "16710  Samurai Warriors: Sanada Maru      PS3             2016        Action   \n",
       "16711               LMA Manager 2007     X360             2006        Sports   \n",
       "16712        Haitaka no Psychedelica      PSV             2016     Adventure   \n",
       "16713               Spirits & Spells      GBA             2003      Platform   \n",
       "16714            Winning Post 8 2016      PSV             2016    Simulation   \n",
       "\n",
       "       na_sales  eu_sales  jp_sales  other_sales  critic_score user_score  \\\n",
       "0         41.36     28.96      3.77         8.45          76.0          8   \n",
       "1         29.08      3.58      6.81         0.77           NaN        NaN   \n",
       "2         15.68     12.76      3.79         3.29          82.0        8.3   \n",
       "3         15.61     10.93      3.28         2.95          80.0          8   \n",
       "4         11.27      8.89     10.22         1.00           NaN        NaN   \n",
       "...         ...       ...       ...          ...           ...        ...   \n",
       "16710      0.00      0.00      0.01         0.00           NaN        NaN   \n",
       "16711      0.00      0.01      0.00         0.00           NaN        NaN   \n",
       "16712      0.00      0.00      0.01         0.00           NaN        NaN   \n",
       "16713      0.01      0.00      0.00         0.00           NaN        NaN   \n",
       "16714      0.00      0.00      0.01         0.00           NaN        NaN   \n",
       "\n",
       "      rating  sum_sales type_by_sum_sales  \n",
       "0          E      82.54           Высокий  \n",
       "1        NaN      40.24           Высокий  \n",
       "2          E      35.52           Высокий  \n",
       "3          E      32.77           Высокий  \n",
       "4        NaN      31.38           Высокий  \n",
       "...      ...        ...               ...  \n",
       "16710    NaN       0.01            Низкий  \n",
       "16711    NaN       0.01            Низкий  \n",
       "16712    NaN       0.01            Низкий  \n",
       "16713    NaN       0.01            Низкий  \n",
       "16714    NaN       0.01            Низкий  \n",
       "\n",
       "[16713 rows x 13 columns]"
      ]
     },
     "execution_count": 18,
     "metadata": {},
     "output_type": "execute_result"
    }
   ],
   "source": [
    "df"
   ]
  },
  {
   "cell_type": "code",
   "execution_count": 19,
   "id": "5f975184",
   "metadata": {},
   "outputs": [
    {
     "data": {
      "text/plain": [
       "type_by_sum_sales\n",
       "Низкий     66.0\n",
       "Средний    69.0\n",
       "Высокий    78.0\n",
       "Name: critic_score, dtype: float64"
      ]
     },
     "execution_count": 19,
     "metadata": {},
     "output_type": "execute_result"
    }
   ],
   "source": [
    "df.groupby('type_by_sum_sales')['critic_score'].median().sort_values()"
   ]
  },
  {
   "cell_type": "markdown",
   "id": "d0d79add",
   "metadata": {},
   "source": [
    "Видно что в среднем есть зависимость от рейтинга выставленного критиками игры и ее сборов"
   ]
  },
  {
   "cell_type": "code",
   "execution_count": 20,
   "id": "08cbdb44",
   "metadata": {},
   "outputs": [],
   "source": [
    "df.loc[:, 'critic_score'] = df.loc[:, 'critic_score'].fillna(\n",
    "    df.groupby('type_by_sum_sales')['critic_score'].transform('median'))"
   ]
  },
  {
   "cell_type": "code",
   "execution_count": 21,
   "id": "aef88647",
   "metadata": {},
   "outputs": [
    {
     "name": "stdout",
     "output_type": "stream",
     "text": [
      "<class 'pandas.core.frame.DataFrame'>\n",
      "Int64Index: 16713 entries, 0 to 16714\n",
      "Data columns (total 13 columns):\n",
      " #   Column             Non-Null Count  Dtype  \n",
      "---  ------             --------------  -----  \n",
      " 0   name               16713 non-null  object \n",
      " 1   platform           16713 non-null  object \n",
      " 2   year_of_release    16713 non-null  int64  \n",
      " 3   genre              16713 non-null  object \n",
      " 4   na_sales           16713 non-null  float64\n",
      " 5   eu_sales           16713 non-null  float64\n",
      " 6   jp_sales           16713 non-null  float64\n",
      " 7   other_sales        16713 non-null  float64\n",
      " 8   critic_score       16713 non-null  float64\n",
      " 9   user_score         10014 non-null  object \n",
      " 10  rating             9949 non-null   object \n",
      " 11  sum_sales          16713 non-null  float64\n",
      " 12  type_by_sum_sales  16713 non-null  object \n",
      "dtypes: float64(6), int64(1), object(6)\n",
      "memory usage: 1.8+ MB\n"
     ]
    }
   ],
   "source": [
    "df.info()"
   ]
  },
  {
   "cell_type": "markdown",
   "id": "fbb27a18",
   "metadata": {},
   "source": [
    "### Обработка колонки `user_score`"
   ]
  },
  {
   "cell_type": "markdown",
   "id": "7f50b949",
   "metadata": {},
   "source": [
    "Сначала посмотрим на значения NaN в колонке `user_score`"
   ]
  },
  {
   "cell_type": "code",
   "execution_count": 22,
   "id": "5f758d1a",
   "metadata": {},
   "outputs": [
    {
     "data": {
      "text/html": [
       "<div>\n",
       "<style scoped>\n",
       "    .dataframe tbody tr th:only-of-type {\n",
       "        vertical-align: middle;\n",
       "    }\n",
       "\n",
       "    .dataframe tbody tr th {\n",
       "        vertical-align: top;\n",
       "    }\n",
       "\n",
       "    .dataframe thead th {\n",
       "        text-align: right;\n",
       "    }\n",
       "</style>\n",
       "<table border=\"1\" class=\"dataframe\">\n",
       "  <thead>\n",
       "    <tr style=\"text-align: right;\">\n",
       "      <th></th>\n",
       "      <th>name</th>\n",
       "      <th>platform</th>\n",
       "      <th>year_of_release</th>\n",
       "      <th>genre</th>\n",
       "      <th>na_sales</th>\n",
       "      <th>eu_sales</th>\n",
       "      <th>jp_sales</th>\n",
       "      <th>other_sales</th>\n",
       "      <th>critic_score</th>\n",
       "      <th>user_score</th>\n",
       "      <th>rating</th>\n",
       "      <th>sum_sales</th>\n",
       "      <th>type_by_sum_sales</th>\n",
       "    </tr>\n",
       "  </thead>\n",
       "  <tbody>\n",
       "    <tr>\n",
       "      <th>1</th>\n",
       "      <td>Super Mario Bros.</td>\n",
       "      <td>NES</td>\n",
       "      <td>1985</td>\n",
       "      <td>Platform</td>\n",
       "      <td>29.08</td>\n",
       "      <td>3.58</td>\n",
       "      <td>6.81</td>\n",
       "      <td>0.77</td>\n",
       "      <td>78.0</td>\n",
       "      <td>NaN</td>\n",
       "      <td>NaN</td>\n",
       "      <td>40.24</td>\n",
       "      <td>Высокий</td>\n",
       "    </tr>\n",
       "    <tr>\n",
       "      <th>4</th>\n",
       "      <td>Pokemon Red/Pokemon Blue</td>\n",
       "      <td>GB</td>\n",
       "      <td>1996</td>\n",
       "      <td>Role-Playing</td>\n",
       "      <td>11.27</td>\n",
       "      <td>8.89</td>\n",
       "      <td>10.22</td>\n",
       "      <td>1.00</td>\n",
       "      <td>78.0</td>\n",
       "      <td>NaN</td>\n",
       "      <td>NaN</td>\n",
       "      <td>31.38</td>\n",
       "      <td>Высокий</td>\n",
       "    </tr>\n",
       "    <tr>\n",
       "      <th>5</th>\n",
       "      <td>Tetris</td>\n",
       "      <td>GB</td>\n",
       "      <td>1989</td>\n",
       "      <td>Puzzle</td>\n",
       "      <td>23.20</td>\n",
       "      <td>2.26</td>\n",
       "      <td>4.22</td>\n",
       "      <td>0.58</td>\n",
       "      <td>78.0</td>\n",
       "      <td>NaN</td>\n",
       "      <td>NaN</td>\n",
       "      <td>30.26</td>\n",
       "      <td>Высокий</td>\n",
       "    </tr>\n",
       "    <tr>\n",
       "      <th>9</th>\n",
       "      <td>Duck Hunt</td>\n",
       "      <td>NES</td>\n",
       "      <td>1984</td>\n",
       "      <td>Shooter</td>\n",
       "      <td>26.93</td>\n",
       "      <td>0.63</td>\n",
       "      <td>0.28</td>\n",
       "      <td>0.47</td>\n",
       "      <td>78.0</td>\n",
       "      <td>NaN</td>\n",
       "      <td>NaN</td>\n",
       "      <td>28.31</td>\n",
       "      <td>Высокий</td>\n",
       "    </tr>\n",
       "    <tr>\n",
       "      <th>10</th>\n",
       "      <td>Nintendogs</td>\n",
       "      <td>DS</td>\n",
       "      <td>2005</td>\n",
       "      <td>Simulation</td>\n",
       "      <td>9.05</td>\n",
       "      <td>10.95</td>\n",
       "      <td>1.93</td>\n",
       "      <td>2.74</td>\n",
       "      <td>78.0</td>\n",
       "      <td>NaN</td>\n",
       "      <td>NaN</td>\n",
       "      <td>24.67</td>\n",
       "      <td>Высокий</td>\n",
       "    </tr>\n",
       "    <tr>\n",
       "      <th>...</th>\n",
       "      <td>...</td>\n",
       "      <td>...</td>\n",
       "      <td>...</td>\n",
       "      <td>...</td>\n",
       "      <td>...</td>\n",
       "      <td>...</td>\n",
       "      <td>...</td>\n",
       "      <td>...</td>\n",
       "      <td>...</td>\n",
       "      <td>...</td>\n",
       "      <td>...</td>\n",
       "      <td>...</td>\n",
       "      <td>...</td>\n",
       "    </tr>\n",
       "    <tr>\n",
       "      <th>16710</th>\n",
       "      <td>Samurai Warriors: Sanada Maru</td>\n",
       "      <td>PS3</td>\n",
       "      <td>2016</td>\n",
       "      <td>Action</td>\n",
       "      <td>0.00</td>\n",
       "      <td>0.00</td>\n",
       "      <td>0.01</td>\n",
       "      <td>0.00</td>\n",
       "      <td>66.0</td>\n",
       "      <td>NaN</td>\n",
       "      <td>NaN</td>\n",
       "      <td>0.01</td>\n",
       "      <td>Низкий</td>\n",
       "    </tr>\n",
       "    <tr>\n",
       "      <th>16711</th>\n",
       "      <td>LMA Manager 2007</td>\n",
       "      <td>X360</td>\n",
       "      <td>2006</td>\n",
       "      <td>Sports</td>\n",
       "      <td>0.00</td>\n",
       "      <td>0.01</td>\n",
       "      <td>0.00</td>\n",
       "      <td>0.00</td>\n",
       "      <td>66.0</td>\n",
       "      <td>NaN</td>\n",
       "      <td>NaN</td>\n",
       "      <td>0.01</td>\n",
       "      <td>Низкий</td>\n",
       "    </tr>\n",
       "    <tr>\n",
       "      <th>16712</th>\n",
       "      <td>Haitaka no Psychedelica</td>\n",
       "      <td>PSV</td>\n",
       "      <td>2016</td>\n",
       "      <td>Adventure</td>\n",
       "      <td>0.00</td>\n",
       "      <td>0.00</td>\n",
       "      <td>0.01</td>\n",
       "      <td>0.00</td>\n",
       "      <td>66.0</td>\n",
       "      <td>NaN</td>\n",
       "      <td>NaN</td>\n",
       "      <td>0.01</td>\n",
       "      <td>Низкий</td>\n",
       "    </tr>\n",
       "    <tr>\n",
       "      <th>16713</th>\n",
       "      <td>Spirits &amp; Spells</td>\n",
       "      <td>GBA</td>\n",
       "      <td>2003</td>\n",
       "      <td>Platform</td>\n",
       "      <td>0.01</td>\n",
       "      <td>0.00</td>\n",
       "      <td>0.00</td>\n",
       "      <td>0.00</td>\n",
       "      <td>66.0</td>\n",
       "      <td>NaN</td>\n",
       "      <td>NaN</td>\n",
       "      <td>0.01</td>\n",
       "      <td>Низкий</td>\n",
       "    </tr>\n",
       "    <tr>\n",
       "      <th>16714</th>\n",
       "      <td>Winning Post 8 2016</td>\n",
       "      <td>PSV</td>\n",
       "      <td>2016</td>\n",
       "      <td>Simulation</td>\n",
       "      <td>0.00</td>\n",
       "      <td>0.00</td>\n",
       "      <td>0.01</td>\n",
       "      <td>0.00</td>\n",
       "      <td>66.0</td>\n",
       "      <td>NaN</td>\n",
       "      <td>NaN</td>\n",
       "      <td>0.01</td>\n",
       "      <td>Низкий</td>\n",
       "    </tr>\n",
       "  </tbody>\n",
       "</table>\n",
       "<p>6699 rows × 13 columns</p>\n",
       "</div>"
      ],
      "text/plain": [
       "                                name platform  year_of_release         genre  \\\n",
       "1                  Super Mario Bros.      NES             1985      Platform   \n",
       "4           Pokemon Red/Pokemon Blue       GB             1996  Role-Playing   \n",
       "5                             Tetris       GB             1989        Puzzle   \n",
       "9                          Duck Hunt      NES             1984       Shooter   \n",
       "10                        Nintendogs       DS             2005    Simulation   \n",
       "...                              ...      ...              ...           ...   \n",
       "16710  Samurai Warriors: Sanada Maru      PS3             2016        Action   \n",
       "16711               LMA Manager 2007     X360             2006        Sports   \n",
       "16712        Haitaka no Psychedelica      PSV             2016     Adventure   \n",
       "16713               Spirits & Spells      GBA             2003      Platform   \n",
       "16714            Winning Post 8 2016      PSV             2016    Simulation   \n",
       "\n",
       "       na_sales  eu_sales  jp_sales  other_sales  critic_score user_score  \\\n",
       "1         29.08      3.58      6.81         0.77          78.0        NaN   \n",
       "4         11.27      8.89     10.22         1.00          78.0        NaN   \n",
       "5         23.20      2.26      4.22         0.58          78.0        NaN   \n",
       "9         26.93      0.63      0.28         0.47          78.0        NaN   \n",
       "10         9.05     10.95      1.93         2.74          78.0        NaN   \n",
       "...         ...       ...       ...          ...           ...        ...   \n",
       "16710      0.00      0.00      0.01         0.00          66.0        NaN   \n",
       "16711      0.00      0.01      0.00         0.00          66.0        NaN   \n",
       "16712      0.00      0.00      0.01         0.00          66.0        NaN   \n",
       "16713      0.01      0.00      0.00         0.00          66.0        NaN   \n",
       "16714      0.00      0.00      0.01         0.00          66.0        NaN   \n",
       "\n",
       "      rating  sum_sales type_by_sum_sales  \n",
       "1        NaN      40.24           Высокий  \n",
       "4        NaN      31.38           Высокий  \n",
       "5        NaN      30.26           Высокий  \n",
       "9        NaN      28.31           Высокий  \n",
       "10       NaN      24.67           Высокий  \n",
       "...      ...        ...               ...  \n",
       "16710    NaN       0.01            Низкий  \n",
       "16711    NaN       0.01            Низкий  \n",
       "16712    NaN       0.01            Низкий  \n",
       "16713    NaN       0.01            Низкий  \n",
       "16714    NaN       0.01            Низкий  \n",
       "\n",
       "[6699 rows x 13 columns]"
      ]
     },
     "execution_count": 22,
     "metadata": {},
     "output_type": "execute_result"
    }
   ],
   "source": [
    "df[df['user_score'].isna()]"
   ]
  },
  {
   "cell_type": "code",
   "execution_count": 23,
   "id": "e21d7cbe",
   "metadata": {},
   "outputs": [
    {
     "data": {
      "text/plain": [
       "Низкий     4042\n",
       "Средний    1419\n",
       "Высокий    1238\n",
       "Name: type_by_sum_sales, dtype: int64"
      ]
     },
     "execution_count": 23,
     "metadata": {},
     "output_type": "execute_result"
    }
   ],
   "source": [
    "df[df['user_score'].isna()]['type_by_sum_sales'].value_counts()"
   ]
  },
  {
   "cell_type": "code",
   "execution_count": 24,
   "id": "6b3f0668",
   "metadata": {},
   "outputs": [
    {
     "data": {
      "text/plain": [
       "6628"
      ]
     },
     "execution_count": 24,
     "metadata": {},
     "output_type": "execute_result"
    }
   ],
   "source": [
    "df[df['user_score'].isna()]['rating'].isna().sum()"
   ]
  },
  {
   "cell_type": "code",
   "execution_count": 25,
   "id": "8d516672",
   "metadata": {},
   "outputs": [
    {
     "data": {
      "text/html": [
       "<div>\n",
       "<style scoped>\n",
       "    .dataframe tbody tr th:only-of-type {\n",
       "        vertical-align: middle;\n",
       "    }\n",
       "\n",
       "    .dataframe tbody tr th {\n",
       "        vertical-align: top;\n",
       "    }\n",
       "\n",
       "    .dataframe thead th {\n",
       "        text-align: right;\n",
       "    }\n",
       "</style>\n",
       "<table border=\"1\" class=\"dataframe\">\n",
       "  <thead>\n",
       "    <tr style=\"text-align: right;\">\n",
       "      <th></th>\n",
       "      <th>name</th>\n",
       "      <th>platform</th>\n",
       "      <th>year_of_release</th>\n",
       "      <th>genre</th>\n",
       "      <th>na_sales</th>\n",
       "      <th>eu_sales</th>\n",
       "      <th>jp_sales</th>\n",
       "      <th>other_sales</th>\n",
       "      <th>critic_score</th>\n",
       "      <th>user_score</th>\n",
       "      <th>rating</th>\n",
       "      <th>sum_sales</th>\n",
       "      <th>type_by_sum_sales</th>\n",
       "    </tr>\n",
       "  </thead>\n",
       "  <tbody>\n",
       "    <tr>\n",
       "      <th>119</th>\n",
       "      <td>Zumba Fitness</td>\n",
       "      <td>Wii</td>\n",
       "      <td>2010</td>\n",
       "      <td>Sports</td>\n",
       "      <td>3.45</td>\n",
       "      <td>2.59</td>\n",
       "      <td>0.0</td>\n",
       "      <td>0.66</td>\n",
       "      <td>78.0</td>\n",
       "      <td>tbd</td>\n",
       "      <td>E</td>\n",
       "      <td>6.70</td>\n",
       "      <td>Высокий</td>\n",
       "    </tr>\n",
       "    <tr>\n",
       "      <th>301</th>\n",
       "      <td>Namco Museum: 50th Anniversary</td>\n",
       "      <td>PS2</td>\n",
       "      <td>2005</td>\n",
       "      <td>Misc</td>\n",
       "      <td>2.08</td>\n",
       "      <td>1.35</td>\n",
       "      <td>0.0</td>\n",
       "      <td>0.54</td>\n",
       "      <td>61.0</td>\n",
       "      <td>tbd</td>\n",
       "      <td>E10+</td>\n",
       "      <td>3.97</td>\n",
       "      <td>Высокий</td>\n",
       "    </tr>\n",
       "    <tr>\n",
       "      <th>520</th>\n",
       "      <td>Zumba Fitness 2</td>\n",
       "      <td>Wii</td>\n",
       "      <td>2011</td>\n",
       "      <td>Sports</td>\n",
       "      <td>1.51</td>\n",
       "      <td>1.03</td>\n",
       "      <td>0.0</td>\n",
       "      <td>0.27</td>\n",
       "      <td>78.0</td>\n",
       "      <td>tbd</td>\n",
       "      <td>T</td>\n",
       "      <td>2.81</td>\n",
       "      <td>Высокий</td>\n",
       "    </tr>\n",
       "    <tr>\n",
       "      <th>645</th>\n",
       "      <td>uDraw Studio</td>\n",
       "      <td>Wii</td>\n",
       "      <td>2010</td>\n",
       "      <td>Misc</td>\n",
       "      <td>1.65</td>\n",
       "      <td>0.57</td>\n",
       "      <td>0.0</td>\n",
       "      <td>0.20</td>\n",
       "      <td>71.0</td>\n",
       "      <td>tbd</td>\n",
       "      <td>E</td>\n",
       "      <td>2.42</td>\n",
       "      <td>Высокий</td>\n",
       "    </tr>\n",
       "    <tr>\n",
       "      <th>657</th>\n",
       "      <td>Frogger's Adventures: Temple of the Frog</td>\n",
       "      <td>GBA</td>\n",
       "      <td>2003</td>\n",
       "      <td>Adventure</td>\n",
       "      <td>2.15</td>\n",
       "      <td>0.18</td>\n",
       "      <td>0.0</td>\n",
       "      <td>0.07</td>\n",
       "      <td>73.0</td>\n",
       "      <td>tbd</td>\n",
       "      <td>E</td>\n",
       "      <td>2.40</td>\n",
       "      <td>Высокий</td>\n",
       "    </tr>\n",
       "    <tr>\n",
       "      <th>...</th>\n",
       "      <td>...</td>\n",
       "      <td>...</td>\n",
       "      <td>...</td>\n",
       "      <td>...</td>\n",
       "      <td>...</td>\n",
       "      <td>...</td>\n",
       "      <td>...</td>\n",
       "      <td>...</td>\n",
       "      <td>...</td>\n",
       "      <td>...</td>\n",
       "      <td>...</td>\n",
       "      <td>...</td>\n",
       "      <td>...</td>\n",
       "    </tr>\n",
       "    <tr>\n",
       "      <th>16695</th>\n",
       "      <td>Planet Monsters</td>\n",
       "      <td>GBA</td>\n",
       "      <td>2001</td>\n",
       "      <td>Action</td>\n",
       "      <td>0.01</td>\n",
       "      <td>0.00</td>\n",
       "      <td>0.0</td>\n",
       "      <td>0.00</td>\n",
       "      <td>67.0</td>\n",
       "      <td>tbd</td>\n",
       "      <td>E</td>\n",
       "      <td>0.01</td>\n",
       "      <td>Низкий</td>\n",
       "    </tr>\n",
       "    <tr>\n",
       "      <th>16697</th>\n",
       "      <td>Bust-A-Move 3000</td>\n",
       "      <td>GC</td>\n",
       "      <td>2003</td>\n",
       "      <td>Puzzle</td>\n",
       "      <td>0.01</td>\n",
       "      <td>0.00</td>\n",
       "      <td>0.0</td>\n",
       "      <td>0.00</td>\n",
       "      <td>53.0</td>\n",
       "      <td>tbd</td>\n",
       "      <td>E</td>\n",
       "      <td>0.01</td>\n",
       "      <td>Низкий</td>\n",
       "    </tr>\n",
       "    <tr>\n",
       "      <th>16698</th>\n",
       "      <td>Mega Brain Boost</td>\n",
       "      <td>DS</td>\n",
       "      <td>2008</td>\n",
       "      <td>Puzzle</td>\n",
       "      <td>0.01</td>\n",
       "      <td>0.00</td>\n",
       "      <td>0.0</td>\n",
       "      <td>0.00</td>\n",
       "      <td>48.0</td>\n",
       "      <td>tbd</td>\n",
       "      <td>E</td>\n",
       "      <td>0.01</td>\n",
       "      <td>Низкий</td>\n",
       "    </tr>\n",
       "    <tr>\n",
       "      <th>16704</th>\n",
       "      <td>Plushees</td>\n",
       "      <td>DS</td>\n",
       "      <td>2008</td>\n",
       "      <td>Simulation</td>\n",
       "      <td>0.01</td>\n",
       "      <td>0.00</td>\n",
       "      <td>0.0</td>\n",
       "      <td>0.00</td>\n",
       "      <td>66.0</td>\n",
       "      <td>tbd</td>\n",
       "      <td>E</td>\n",
       "      <td>0.01</td>\n",
       "      <td>Низкий</td>\n",
       "    </tr>\n",
       "    <tr>\n",
       "      <th>16706</th>\n",
       "      <td>Men in Black II: Alien Escape</td>\n",
       "      <td>GC</td>\n",
       "      <td>2003</td>\n",
       "      <td>Shooter</td>\n",
       "      <td>0.01</td>\n",
       "      <td>0.00</td>\n",
       "      <td>0.0</td>\n",
       "      <td>0.00</td>\n",
       "      <td>66.0</td>\n",
       "      <td>tbd</td>\n",
       "      <td>T</td>\n",
       "      <td>0.01</td>\n",
       "      <td>Низкий</td>\n",
       "    </tr>\n",
       "  </tbody>\n",
       "</table>\n",
       "<p>2424 rows × 13 columns</p>\n",
       "</div>"
      ],
      "text/plain": [
       "                                           name platform  year_of_release  \\\n",
       "119                               Zumba Fitness      Wii             2010   \n",
       "301              Namco Museum: 50th Anniversary      PS2             2005   \n",
       "520                             Zumba Fitness 2      Wii             2011   \n",
       "645                                uDraw Studio      Wii             2010   \n",
       "657    Frogger's Adventures: Temple of the Frog      GBA             2003   \n",
       "...                                         ...      ...              ...   \n",
       "16695                           Planet Monsters      GBA             2001   \n",
       "16697                          Bust-A-Move 3000       GC             2003   \n",
       "16698                          Mega Brain Boost       DS             2008   \n",
       "16704                                  Plushees       DS             2008   \n",
       "16706             Men in Black II: Alien Escape       GC             2003   \n",
       "\n",
       "            genre  na_sales  eu_sales  jp_sales  other_sales  critic_score  \\\n",
       "119        Sports      3.45      2.59       0.0         0.66          78.0   \n",
       "301          Misc      2.08      1.35       0.0         0.54          61.0   \n",
       "520        Sports      1.51      1.03       0.0         0.27          78.0   \n",
       "645          Misc      1.65      0.57       0.0         0.20          71.0   \n",
       "657     Adventure      2.15      0.18       0.0         0.07          73.0   \n",
       "...           ...       ...       ...       ...          ...           ...   \n",
       "16695      Action      0.01      0.00       0.0         0.00          67.0   \n",
       "16697      Puzzle      0.01      0.00       0.0         0.00          53.0   \n",
       "16698      Puzzle      0.01      0.00       0.0         0.00          48.0   \n",
       "16704  Simulation      0.01      0.00       0.0         0.00          66.0   \n",
       "16706     Shooter      0.01      0.00       0.0         0.00          66.0   \n",
       "\n",
       "      user_score rating  sum_sales type_by_sum_sales  \n",
       "119          tbd      E       6.70           Высокий  \n",
       "301          tbd   E10+       3.97           Высокий  \n",
       "520          tbd      T       2.81           Высокий  \n",
       "645          tbd      E       2.42           Высокий  \n",
       "657          tbd      E       2.40           Высокий  \n",
       "...          ...    ...        ...               ...  \n",
       "16695        tbd      E       0.01            Низкий  \n",
       "16697        tbd      E       0.01            Низкий  \n",
       "16698        tbd      E       0.01            Низкий  \n",
       "16704        tbd      E       0.01            Низкий  \n",
       "16706        tbd      T       0.01            Низкий  \n",
       "\n",
       "[2424 rows x 13 columns]"
      ]
     },
     "execution_count": 25,
     "metadata": {},
     "output_type": "execute_result"
    }
   ],
   "source": [
    "df[df['user_score'] == 'tbd']"
   ]
  },
  {
   "cell_type": "code",
   "execution_count": 26,
   "id": "cbef4dbf",
   "metadata": {},
   "outputs": [
    {
     "data": {
      "text/plain": [
       "Низкий     1664\n",
       "Средний     558\n",
       "Высокий     202\n",
       "Name: type_by_sum_sales, dtype: int64"
      ]
     },
     "execution_count": 26,
     "metadata": {},
     "output_type": "execute_result"
    }
   ],
   "source": [
    "df[df['user_score'] == 'tbd'][\"type_by_sum_sales\"].value_counts()"
   ]
  },
  {
   "cell_type": "code",
   "execution_count": 27,
   "id": "225eba93",
   "metadata": {},
   "outputs": [
    {
     "data": {
      "text/plain": [
       "50"
      ]
     },
     "execution_count": 27,
     "metadata": {},
     "output_type": "execute_result"
    }
   ],
   "source": [
    "df[df['user_score'] == 'tbd']['rating'].isna().sum()"
   ]
  },
  {
   "cell_type": "markdown",
   "id": "912b7284",
   "metadata": {},
   "source": [
    "Итак видно, что в колонке `user_score` есть значения tbd которые обозначаю to be determined, что означает что позже скоры сформируются. Если обрезать таблицу по этому значению(tbd) то у нас есть рейтинги а в колонке с NaN, у нас эти рейтинги отсутсвуют. Какая то должна быть между этими вещами связь. Возможно так как данные из открытых источников, то пишут их люди, а списки эти не автоматически как то генерируются. Достаточно логично, что в каких то участках значения не будут заполняться и будет появляться NAN в колонке `user_score` и `rating`, а если за описание этих данных взялись то заполняют сразу обе колонки `user_score` и `rating`. Поэтому мне кажется что можно заполнить и tbd и NaN средними значениями по колонке.\n",
    "\n",
    "\n",
    "\n",
    "Мне стало интересно возможно получилось так что очень много фильмов категории E и их уже просто устали вбивать) Я поискал данные и нашел [данные](https://www.esrb.org/blog/e-for-everyone-continues-to-be-most-frequently-assigned-video-game-rating/) о том что среди всех видеоигр, E занимает лидирующую позицию, но как написано по ссылке, занимает это значение 49 % следовательно возможно стоит посмотреть может при замене NAN на E в колонке `user_score`"
   ]
  },
  {
   "cell_type": "code",
   "execution_count": 28,
   "id": "a50794ad",
   "metadata": {},
   "outputs": [
    {
     "data": {
      "text/plain": [
       "tbd    2424\n",
       "7.8     324\n",
       "8       290\n",
       "8.2     282\n",
       "8.3     254\n",
       "       ... \n",
       "1.1       2\n",
       "1.9       2\n",
       "9.6       2\n",
       "0         1\n",
       "9.7       1\n",
       "Name: user_score, Length: 96, dtype: int64"
      ]
     },
     "execution_count": 28,
     "metadata": {},
     "output_type": "execute_result"
    }
   ],
   "source": [
    "df['user_score'].value_counts()"
   ]
  },
  {
   "cell_type": "code",
   "execution_count": 29,
   "id": "15158855",
   "metadata": {},
   "outputs": [],
   "source": [
    "df['user_score'] = df['user_score'].replace('tbd', 0)"
   ]
  },
  {
   "cell_type": "code",
   "execution_count": 30,
   "id": "a289f9d2",
   "metadata": {},
   "outputs": [],
   "source": [
    "df['user_score'] = df['user_score'].fillna(0)"
   ]
  },
  {
   "cell_type": "code",
   "execution_count": 31,
   "id": "a1d94858",
   "metadata": {},
   "outputs": [],
   "source": [
    "df['user_score'] = df['user_score'].astype('float64')"
   ]
  },
  {
   "cell_type": "code",
   "execution_count": 32,
   "id": "773f83bf",
   "metadata": {},
   "outputs": [
    {
     "data": {
      "text/html": [
       "<div>\n",
       "<style scoped>\n",
       "    .dataframe tbody tr th:only-of-type {\n",
       "        vertical-align: middle;\n",
       "    }\n",
       "\n",
       "    .dataframe tbody tr th {\n",
       "        vertical-align: top;\n",
       "    }\n",
       "\n",
       "    .dataframe thead th {\n",
       "        text-align: right;\n",
       "    }\n",
       "</style>\n",
       "<table border=\"1\" class=\"dataframe\">\n",
       "  <thead>\n",
       "    <tr style=\"text-align: right;\">\n",
       "      <th></th>\n",
       "      <th>name</th>\n",
       "      <th>platform</th>\n",
       "      <th>year_of_release</th>\n",
       "      <th>genre</th>\n",
       "      <th>na_sales</th>\n",
       "      <th>eu_sales</th>\n",
       "      <th>jp_sales</th>\n",
       "      <th>other_sales</th>\n",
       "      <th>critic_score</th>\n",
       "      <th>user_score</th>\n",
       "      <th>rating</th>\n",
       "      <th>sum_sales</th>\n",
       "      <th>type_by_sum_sales</th>\n",
       "    </tr>\n",
       "  </thead>\n",
       "  <tbody>\n",
       "    <tr>\n",
       "      <th>1</th>\n",
       "      <td>Super Mario Bros.</td>\n",
       "      <td>NES</td>\n",
       "      <td>1985</td>\n",
       "      <td>Platform</td>\n",
       "      <td>29.08</td>\n",
       "      <td>3.58</td>\n",
       "      <td>6.81</td>\n",
       "      <td>0.77</td>\n",
       "      <td>78.0</td>\n",
       "      <td>0.0</td>\n",
       "      <td>NaN</td>\n",
       "      <td>40.24</td>\n",
       "      <td>Высокий</td>\n",
       "    </tr>\n",
       "    <tr>\n",
       "      <th>4</th>\n",
       "      <td>Pokemon Red/Pokemon Blue</td>\n",
       "      <td>GB</td>\n",
       "      <td>1996</td>\n",
       "      <td>Role-Playing</td>\n",
       "      <td>11.27</td>\n",
       "      <td>8.89</td>\n",
       "      <td>10.22</td>\n",
       "      <td>1.00</td>\n",
       "      <td>78.0</td>\n",
       "      <td>0.0</td>\n",
       "      <td>NaN</td>\n",
       "      <td>31.38</td>\n",
       "      <td>Высокий</td>\n",
       "    </tr>\n",
       "    <tr>\n",
       "      <th>5</th>\n",
       "      <td>Tetris</td>\n",
       "      <td>GB</td>\n",
       "      <td>1989</td>\n",
       "      <td>Puzzle</td>\n",
       "      <td>23.20</td>\n",
       "      <td>2.26</td>\n",
       "      <td>4.22</td>\n",
       "      <td>0.58</td>\n",
       "      <td>78.0</td>\n",
       "      <td>0.0</td>\n",
       "      <td>NaN</td>\n",
       "      <td>30.26</td>\n",
       "      <td>Высокий</td>\n",
       "    </tr>\n",
       "    <tr>\n",
       "      <th>9</th>\n",
       "      <td>Duck Hunt</td>\n",
       "      <td>NES</td>\n",
       "      <td>1984</td>\n",
       "      <td>Shooter</td>\n",
       "      <td>26.93</td>\n",
       "      <td>0.63</td>\n",
       "      <td>0.28</td>\n",
       "      <td>0.47</td>\n",
       "      <td>78.0</td>\n",
       "      <td>0.0</td>\n",
       "      <td>NaN</td>\n",
       "      <td>28.31</td>\n",
       "      <td>Высокий</td>\n",
       "    </tr>\n",
       "    <tr>\n",
       "      <th>10</th>\n",
       "      <td>Nintendogs</td>\n",
       "      <td>DS</td>\n",
       "      <td>2005</td>\n",
       "      <td>Simulation</td>\n",
       "      <td>9.05</td>\n",
       "      <td>10.95</td>\n",
       "      <td>1.93</td>\n",
       "      <td>2.74</td>\n",
       "      <td>78.0</td>\n",
       "      <td>0.0</td>\n",
       "      <td>NaN</td>\n",
       "      <td>24.67</td>\n",
       "      <td>Высокий</td>\n",
       "    </tr>\n",
       "    <tr>\n",
       "      <th>...</th>\n",
       "      <td>...</td>\n",
       "      <td>...</td>\n",
       "      <td>...</td>\n",
       "      <td>...</td>\n",
       "      <td>...</td>\n",
       "      <td>...</td>\n",
       "      <td>...</td>\n",
       "      <td>...</td>\n",
       "      <td>...</td>\n",
       "      <td>...</td>\n",
       "      <td>...</td>\n",
       "      <td>...</td>\n",
       "      <td>...</td>\n",
       "    </tr>\n",
       "    <tr>\n",
       "      <th>16710</th>\n",
       "      <td>Samurai Warriors: Sanada Maru</td>\n",
       "      <td>PS3</td>\n",
       "      <td>2016</td>\n",
       "      <td>Action</td>\n",
       "      <td>0.00</td>\n",
       "      <td>0.00</td>\n",
       "      <td>0.01</td>\n",
       "      <td>0.00</td>\n",
       "      <td>66.0</td>\n",
       "      <td>0.0</td>\n",
       "      <td>NaN</td>\n",
       "      <td>0.01</td>\n",
       "      <td>Низкий</td>\n",
       "    </tr>\n",
       "    <tr>\n",
       "      <th>16711</th>\n",
       "      <td>LMA Manager 2007</td>\n",
       "      <td>X360</td>\n",
       "      <td>2006</td>\n",
       "      <td>Sports</td>\n",
       "      <td>0.00</td>\n",
       "      <td>0.01</td>\n",
       "      <td>0.00</td>\n",
       "      <td>0.00</td>\n",
       "      <td>66.0</td>\n",
       "      <td>0.0</td>\n",
       "      <td>NaN</td>\n",
       "      <td>0.01</td>\n",
       "      <td>Низкий</td>\n",
       "    </tr>\n",
       "    <tr>\n",
       "      <th>16712</th>\n",
       "      <td>Haitaka no Psychedelica</td>\n",
       "      <td>PSV</td>\n",
       "      <td>2016</td>\n",
       "      <td>Adventure</td>\n",
       "      <td>0.00</td>\n",
       "      <td>0.00</td>\n",
       "      <td>0.01</td>\n",
       "      <td>0.00</td>\n",
       "      <td>66.0</td>\n",
       "      <td>0.0</td>\n",
       "      <td>NaN</td>\n",
       "      <td>0.01</td>\n",
       "      <td>Низкий</td>\n",
       "    </tr>\n",
       "    <tr>\n",
       "      <th>16713</th>\n",
       "      <td>Spirits &amp; Spells</td>\n",
       "      <td>GBA</td>\n",
       "      <td>2003</td>\n",
       "      <td>Platform</td>\n",
       "      <td>0.01</td>\n",
       "      <td>0.00</td>\n",
       "      <td>0.00</td>\n",
       "      <td>0.00</td>\n",
       "      <td>66.0</td>\n",
       "      <td>0.0</td>\n",
       "      <td>NaN</td>\n",
       "      <td>0.01</td>\n",
       "      <td>Низкий</td>\n",
       "    </tr>\n",
       "    <tr>\n",
       "      <th>16714</th>\n",
       "      <td>Winning Post 8 2016</td>\n",
       "      <td>PSV</td>\n",
       "      <td>2016</td>\n",
       "      <td>Simulation</td>\n",
       "      <td>0.00</td>\n",
       "      <td>0.00</td>\n",
       "      <td>0.01</td>\n",
       "      <td>0.00</td>\n",
       "      <td>66.0</td>\n",
       "      <td>0.0</td>\n",
       "      <td>NaN</td>\n",
       "      <td>0.01</td>\n",
       "      <td>Низкий</td>\n",
       "    </tr>\n",
       "  </tbody>\n",
       "</table>\n",
       "<p>9124 rows × 13 columns</p>\n",
       "</div>"
      ],
      "text/plain": [
       "                                name platform  year_of_release         genre  \\\n",
       "1                  Super Mario Bros.      NES             1985      Platform   \n",
       "4           Pokemon Red/Pokemon Blue       GB             1996  Role-Playing   \n",
       "5                             Tetris       GB             1989        Puzzle   \n",
       "9                          Duck Hunt      NES             1984       Shooter   \n",
       "10                        Nintendogs       DS             2005    Simulation   \n",
       "...                              ...      ...              ...           ...   \n",
       "16710  Samurai Warriors: Sanada Maru      PS3             2016        Action   \n",
       "16711               LMA Manager 2007     X360             2006        Sports   \n",
       "16712        Haitaka no Psychedelica      PSV             2016     Adventure   \n",
       "16713               Spirits & Spells      GBA             2003      Platform   \n",
       "16714            Winning Post 8 2016      PSV             2016    Simulation   \n",
       "\n",
       "       na_sales  eu_sales  jp_sales  other_sales  critic_score  user_score  \\\n",
       "1         29.08      3.58      6.81         0.77          78.0         0.0   \n",
       "4         11.27      8.89     10.22         1.00          78.0         0.0   \n",
       "5         23.20      2.26      4.22         0.58          78.0         0.0   \n",
       "9         26.93      0.63      0.28         0.47          78.0         0.0   \n",
       "10         9.05     10.95      1.93         2.74          78.0         0.0   \n",
       "...         ...       ...       ...          ...           ...         ...   \n",
       "16710      0.00      0.00      0.01         0.00          66.0         0.0   \n",
       "16711      0.00      0.01      0.00         0.00          66.0         0.0   \n",
       "16712      0.00      0.00      0.01         0.00          66.0         0.0   \n",
       "16713      0.01      0.00      0.00         0.00          66.0         0.0   \n",
       "16714      0.00      0.00      0.01         0.00          66.0         0.0   \n",
       "\n",
       "      rating  sum_sales type_by_sum_sales  \n",
       "1        NaN      40.24           Высокий  \n",
       "4        NaN      31.38           Высокий  \n",
       "5        NaN      30.26           Высокий  \n",
       "9        NaN      28.31           Высокий  \n",
       "10       NaN      24.67           Высокий  \n",
       "...      ...        ...               ...  \n",
       "16710    NaN       0.01            Низкий  \n",
       "16711    NaN       0.01            Низкий  \n",
       "16712    NaN       0.01            Низкий  \n",
       "16713    NaN       0.01            Низкий  \n",
       "16714    NaN       0.01            Низкий  \n",
       "\n",
       "[9124 rows x 13 columns]"
      ]
     },
     "execution_count": 32,
     "metadata": {},
     "output_type": "execute_result"
    }
   ],
   "source": [
    "df[df['user_score'] == 0]"
   ]
  },
  {
   "cell_type": "code",
   "execution_count": 33,
   "id": "60cc6edd",
   "metadata": {},
   "outputs": [
    {
     "data": {
      "text/plain": [
       "type_by_sum_sales\n",
       "Высокий    7.7\n",
       "Низкий     7.3\n",
       "Средний    7.4\n",
       "Name: user_score, dtype: float64"
      ]
     },
     "execution_count": 33,
     "metadata": {},
     "output_type": "execute_result"
    }
   ],
   "source": [
    "df[df['user_score'] != 0 ].groupby('type_by_sum_sales')['user_score'].median()"
   ]
  },
  {
   "cell_type": "markdown",
   "id": "8b5f59d7",
   "metadata": {},
   "source": [
    "Видна зависимости типа суммы продаж от от выставленных юзерами оценок, заполним NaN осознавая этот факт"
   ]
  },
  {
   "cell_type": "code",
   "execution_count": 34,
   "id": "1154f66a",
   "metadata": {},
   "outputs": [],
   "source": [
    "df['user_score'].replace(0, np.nan, inplace=True)"
   ]
  },
  {
   "cell_type": "code",
   "execution_count": 35,
   "id": "43e4cc4d",
   "metadata": {},
   "outputs": [],
   "source": [
    "df['user_score'] = df['user_score'].fillna(df.groupby('type_by_sum_sales')['user_score'].transform('median'))"
   ]
  },
  {
   "cell_type": "code",
   "execution_count": 36,
   "id": "490e24b0",
   "metadata": {},
   "outputs": [
    {
     "data": {
      "text/plain": [
       "0        8.0\n",
       "1        7.7\n",
       "2        8.3\n",
       "3        8.0\n",
       "4        7.7\n",
       "        ... \n",
       "16710    7.3\n",
       "16711    7.3\n",
       "16712    7.3\n",
       "16713    7.3\n",
       "16714    7.3\n",
       "Name: user_score, Length: 16713, dtype: float64"
      ]
     },
     "execution_count": 36,
     "metadata": {},
     "output_type": "execute_result"
    }
   ],
   "source": [
    "df['user_score']"
   ]
  },
  {
   "cell_type": "markdown",
   "id": "ee78b203",
   "metadata": {},
   "source": [
    "### Обработка колонки `rating`"
   ]
  },
  {
   "cell_type": "code",
   "execution_count": 37,
   "id": "ffaf03ac",
   "metadata": {},
   "outputs": [
    {
     "name": "stdout",
     "output_type": "stream",
     "text": [
      "<class 'pandas.core.frame.DataFrame'>\n",
      "Int64Index: 16713 entries, 0 to 16714\n",
      "Data columns (total 13 columns):\n",
      " #   Column             Non-Null Count  Dtype  \n",
      "---  ------             --------------  -----  \n",
      " 0   name               16713 non-null  object \n",
      " 1   platform           16713 non-null  object \n",
      " 2   year_of_release    16713 non-null  int64  \n",
      " 3   genre              16713 non-null  object \n",
      " 4   na_sales           16713 non-null  float64\n",
      " 5   eu_sales           16713 non-null  float64\n",
      " 6   jp_sales           16713 non-null  float64\n",
      " 7   other_sales        16713 non-null  float64\n",
      " 8   critic_score       16713 non-null  float64\n",
      " 9   user_score         16713 non-null  float64\n",
      " 10  rating             9949 non-null   object \n",
      " 11  sum_sales          16713 non-null  float64\n",
      " 12  type_by_sum_sales  16713 non-null  object \n",
      "dtypes: float64(7), int64(1), object(5)\n",
      "memory usage: 1.8+ MB\n"
     ]
    }
   ],
   "source": [
    "df.info()"
   ]
  },
  {
   "cell_type": "code",
   "execution_count": 38,
   "id": "6555f3bd",
   "metadata": {},
   "outputs": [
    {
     "data": {
      "text/plain": [
       "E       3990\n",
       "T       2961\n",
       "M       1563\n",
       "E10+    1420\n",
       "EC         8\n",
       "K-A        3\n",
       "RP         3\n",
       "AO         1\n",
       "Name: rating, dtype: int64"
      ]
     },
     "execution_count": 38,
     "metadata": {},
     "output_type": "execute_result"
    }
   ],
   "source": [
    "df['rating'].value_counts()"
   ]
  },
  {
   "cell_type": "markdown",
   "id": "15b5ac44",
   "metadata": {},
   "source": [
    "Из [википедии](https://ru.wikipedia.org/wiki/Entertainment_Software_Rating_Board) следует что K-A эквивалентна E => будем заменять K-A на E из колонки `rating`, т.к К-А это старое обозначение E"
   ]
  },
  {
   "cell_type": "markdown",
   "id": "b025d518",
   "metadata": {},
   "source": [
    "**Заменяем K-A из колонки `rating` на E**"
   ]
  },
  {
   "cell_type": "code",
   "execution_count": 39,
   "id": "4f346d11",
   "metadata": {},
   "outputs": [],
   "source": [
    "df.loc[:, 'rating'] = df.loc[:, 'rating'].replace('K-A', 'E')"
   ]
  },
  {
   "cell_type": "code",
   "execution_count": 40,
   "id": "233d13ec",
   "metadata": {},
   "outputs": [
    {
     "data": {
      "text/plain": [
       "E       3993\n",
       "T       2961\n",
       "M       1563\n",
       "E10+    1420\n",
       "EC         8\n",
       "RP         3\n",
       "AO         1\n",
       "Name: rating, dtype: int64"
      ]
     },
     "execution_count": 40,
     "metadata": {},
     "output_type": "execute_result"
    }
   ],
   "source": [
    "df['rating'].value_counts()"
   ]
  },
  {
   "cell_type": "markdown",
   "id": "e9c4a1f1",
   "metadata": {},
   "source": [
    "**Обьяснение об отсутствие замены NAN**"
   ]
  },
  {
   "cell_type": "code",
   "execution_count": 41,
   "id": "85a2a8f3",
   "metadata": {},
   "outputs": [
    {
     "data": {
      "text/html": [
       "<div>\n",
       "<style scoped>\n",
       "    .dataframe tbody tr th:only-of-type {\n",
       "        vertical-align: middle;\n",
       "    }\n",
       "\n",
       "    .dataframe tbody tr th {\n",
       "        vertical-align: top;\n",
       "    }\n",
       "\n",
       "    .dataframe thead th {\n",
       "        text-align: right;\n",
       "    }\n",
       "</style>\n",
       "<table border=\"1\" class=\"dataframe\">\n",
       "  <thead>\n",
       "    <tr style=\"text-align: right;\">\n",
       "      <th></th>\n",
       "      <th>name</th>\n",
       "      <th>platform</th>\n",
       "      <th>year_of_release</th>\n",
       "      <th>genre</th>\n",
       "      <th>na_sales</th>\n",
       "      <th>eu_sales</th>\n",
       "      <th>jp_sales</th>\n",
       "      <th>other_sales</th>\n",
       "      <th>critic_score</th>\n",
       "      <th>user_score</th>\n",
       "      <th>rating</th>\n",
       "      <th>sum_sales</th>\n",
       "      <th>type_by_sum_sales</th>\n",
       "    </tr>\n",
       "  </thead>\n",
       "  <tbody>\n",
       "    <tr>\n",
       "      <th>0</th>\n",
       "      <td>Wii Sports</td>\n",
       "      <td>Wii</td>\n",
       "      <td>2006</td>\n",
       "      <td>Sports</td>\n",
       "      <td>41.36</td>\n",
       "      <td>28.96</td>\n",
       "      <td>3.77</td>\n",
       "      <td>8.45</td>\n",
       "      <td>76.0</td>\n",
       "      <td>8.0</td>\n",
       "      <td>E</td>\n",
       "      <td>82.54</td>\n",
       "      <td>Высокий</td>\n",
       "    </tr>\n",
       "    <tr>\n",
       "      <th>1</th>\n",
       "      <td>Super Mario Bros.</td>\n",
       "      <td>NES</td>\n",
       "      <td>1985</td>\n",
       "      <td>Platform</td>\n",
       "      <td>29.08</td>\n",
       "      <td>3.58</td>\n",
       "      <td>6.81</td>\n",
       "      <td>0.77</td>\n",
       "      <td>78.0</td>\n",
       "      <td>7.7</td>\n",
       "      <td>NaN</td>\n",
       "      <td>40.24</td>\n",
       "      <td>Высокий</td>\n",
       "    </tr>\n",
       "    <tr>\n",
       "      <th>2</th>\n",
       "      <td>Mario Kart Wii</td>\n",
       "      <td>Wii</td>\n",
       "      <td>2008</td>\n",
       "      <td>Racing</td>\n",
       "      <td>15.68</td>\n",
       "      <td>12.76</td>\n",
       "      <td>3.79</td>\n",
       "      <td>3.29</td>\n",
       "      <td>82.0</td>\n",
       "      <td>8.3</td>\n",
       "      <td>E</td>\n",
       "      <td>35.52</td>\n",
       "      <td>Высокий</td>\n",
       "    </tr>\n",
       "    <tr>\n",
       "      <th>3</th>\n",
       "      <td>Wii Sports Resort</td>\n",
       "      <td>Wii</td>\n",
       "      <td>2009</td>\n",
       "      <td>Sports</td>\n",
       "      <td>15.61</td>\n",
       "      <td>10.93</td>\n",
       "      <td>3.28</td>\n",
       "      <td>2.95</td>\n",
       "      <td>80.0</td>\n",
       "      <td>8.0</td>\n",
       "      <td>E</td>\n",
       "      <td>32.77</td>\n",
       "      <td>Высокий</td>\n",
       "    </tr>\n",
       "    <tr>\n",
       "      <th>4</th>\n",
       "      <td>Pokemon Red/Pokemon Blue</td>\n",
       "      <td>GB</td>\n",
       "      <td>1996</td>\n",
       "      <td>Role-Playing</td>\n",
       "      <td>11.27</td>\n",
       "      <td>8.89</td>\n",
       "      <td>10.22</td>\n",
       "      <td>1.00</td>\n",
       "      <td>78.0</td>\n",
       "      <td>7.7</td>\n",
       "      <td>NaN</td>\n",
       "      <td>31.38</td>\n",
       "      <td>Высокий</td>\n",
       "    </tr>\n",
       "    <tr>\n",
       "      <th>...</th>\n",
       "      <td>...</td>\n",
       "      <td>...</td>\n",
       "      <td>...</td>\n",
       "      <td>...</td>\n",
       "      <td>...</td>\n",
       "      <td>...</td>\n",
       "      <td>...</td>\n",
       "      <td>...</td>\n",
       "      <td>...</td>\n",
       "      <td>...</td>\n",
       "      <td>...</td>\n",
       "      <td>...</td>\n",
       "      <td>...</td>\n",
       "    </tr>\n",
       "    <tr>\n",
       "      <th>16710</th>\n",
       "      <td>Samurai Warriors: Sanada Maru</td>\n",
       "      <td>PS3</td>\n",
       "      <td>2016</td>\n",
       "      <td>Action</td>\n",
       "      <td>0.00</td>\n",
       "      <td>0.00</td>\n",
       "      <td>0.01</td>\n",
       "      <td>0.00</td>\n",
       "      <td>66.0</td>\n",
       "      <td>7.3</td>\n",
       "      <td>NaN</td>\n",
       "      <td>0.01</td>\n",
       "      <td>Низкий</td>\n",
       "    </tr>\n",
       "    <tr>\n",
       "      <th>16711</th>\n",
       "      <td>LMA Manager 2007</td>\n",
       "      <td>X360</td>\n",
       "      <td>2006</td>\n",
       "      <td>Sports</td>\n",
       "      <td>0.00</td>\n",
       "      <td>0.01</td>\n",
       "      <td>0.00</td>\n",
       "      <td>0.00</td>\n",
       "      <td>66.0</td>\n",
       "      <td>7.3</td>\n",
       "      <td>NaN</td>\n",
       "      <td>0.01</td>\n",
       "      <td>Низкий</td>\n",
       "    </tr>\n",
       "    <tr>\n",
       "      <th>16712</th>\n",
       "      <td>Haitaka no Psychedelica</td>\n",
       "      <td>PSV</td>\n",
       "      <td>2016</td>\n",
       "      <td>Adventure</td>\n",
       "      <td>0.00</td>\n",
       "      <td>0.00</td>\n",
       "      <td>0.01</td>\n",
       "      <td>0.00</td>\n",
       "      <td>66.0</td>\n",
       "      <td>7.3</td>\n",
       "      <td>NaN</td>\n",
       "      <td>0.01</td>\n",
       "      <td>Низкий</td>\n",
       "    </tr>\n",
       "    <tr>\n",
       "      <th>16713</th>\n",
       "      <td>Spirits &amp; Spells</td>\n",
       "      <td>GBA</td>\n",
       "      <td>2003</td>\n",
       "      <td>Platform</td>\n",
       "      <td>0.01</td>\n",
       "      <td>0.00</td>\n",
       "      <td>0.00</td>\n",
       "      <td>0.00</td>\n",
       "      <td>66.0</td>\n",
       "      <td>7.3</td>\n",
       "      <td>NaN</td>\n",
       "      <td>0.01</td>\n",
       "      <td>Низкий</td>\n",
       "    </tr>\n",
       "    <tr>\n",
       "      <th>16714</th>\n",
       "      <td>Winning Post 8 2016</td>\n",
       "      <td>PSV</td>\n",
       "      <td>2016</td>\n",
       "      <td>Simulation</td>\n",
       "      <td>0.00</td>\n",
       "      <td>0.00</td>\n",
       "      <td>0.01</td>\n",
       "      <td>0.00</td>\n",
       "      <td>66.0</td>\n",
       "      <td>7.3</td>\n",
       "      <td>NaN</td>\n",
       "      <td>0.01</td>\n",
       "      <td>Низкий</td>\n",
       "    </tr>\n",
       "  </tbody>\n",
       "</table>\n",
       "<p>16713 rows × 13 columns</p>\n",
       "</div>"
      ],
      "text/plain": [
       "                                name platform  year_of_release         genre  \\\n",
       "0                         Wii Sports      Wii             2006        Sports   \n",
       "1                  Super Mario Bros.      NES             1985      Platform   \n",
       "2                     Mario Kart Wii      Wii             2008        Racing   \n",
       "3                  Wii Sports Resort      Wii             2009        Sports   \n",
       "4           Pokemon Red/Pokemon Blue       GB             1996  Role-Playing   \n",
       "...                              ...      ...              ...           ...   \n",
       "16710  Samurai Warriors: Sanada Maru      PS3             2016        Action   \n",
       "16711               LMA Manager 2007     X360             2006        Sports   \n",
       "16712        Haitaka no Psychedelica      PSV             2016     Adventure   \n",
       "16713               Spirits & Spells      GBA             2003      Platform   \n",
       "16714            Winning Post 8 2016      PSV             2016    Simulation   \n",
       "\n",
       "       na_sales  eu_sales  jp_sales  other_sales  critic_score  user_score  \\\n",
       "0         41.36     28.96      3.77         8.45          76.0         8.0   \n",
       "1         29.08      3.58      6.81         0.77          78.0         7.7   \n",
       "2         15.68     12.76      3.79         3.29          82.0         8.3   \n",
       "3         15.61     10.93      3.28         2.95          80.0         8.0   \n",
       "4         11.27      8.89     10.22         1.00          78.0         7.7   \n",
       "...         ...       ...       ...          ...           ...         ...   \n",
       "16710      0.00      0.00      0.01         0.00          66.0         7.3   \n",
       "16711      0.00      0.01      0.00         0.00          66.0         7.3   \n",
       "16712      0.00      0.00      0.01         0.00          66.0         7.3   \n",
       "16713      0.01      0.00      0.00         0.00          66.0         7.3   \n",
       "16714      0.00      0.00      0.01         0.00          66.0         7.3   \n",
       "\n",
       "      rating  sum_sales type_by_sum_sales  \n",
       "0          E      82.54           Высокий  \n",
       "1        NaN      40.24           Высокий  \n",
       "2          E      35.52           Высокий  \n",
       "3          E      32.77           Высокий  \n",
       "4        NaN      31.38           Высокий  \n",
       "...      ...        ...               ...  \n",
       "16710    NaN       0.01            Низкий  \n",
       "16711    NaN       0.01            Низкий  \n",
       "16712    NaN       0.01            Низкий  \n",
       "16713    NaN       0.01            Низкий  \n",
       "16714    NaN       0.01            Низкий  \n",
       "\n",
       "[16713 rows x 13 columns]"
      ]
     },
     "execution_count": 41,
     "metadata": {},
     "output_type": "execute_result"
    }
   ],
   "source": [
    "df"
   ]
  },
  {
   "cell_type": "code",
   "execution_count": 42,
   "id": "c741b226",
   "metadata": {},
   "outputs": [
    {
     "data": {
      "text/plain": [
       "6764"
      ]
     },
     "execution_count": 42,
     "metadata": {},
     "output_type": "execute_result"
    }
   ],
   "source": [
    "df['rating'].isna().sum()"
   ]
  },
  {
   "cell_type": "markdown",
   "id": "7ddec788",
   "metadata": {},
   "source": [
    "Очень много нулей в колонке `rating`, но при этом такая колонка вряд ли с чем то коррелирует, т.е мы самостоятельно не можем присвоить ей значение в зависимости от каких то параметров. Посмотрим на распределение величин данной колонки."
   ]
  },
  {
   "cell_type": "code",
   "execution_count": 43,
   "id": "dca1741b",
   "metadata": {},
   "outputs": [
    {
     "data": {
      "image/png": "[encoded data removed]",
      "text/plain": [
       "<Figure size 720x720 with 1 Axes>"
      ]
     },
     "metadata": {},
     "output_type": "display_data"
    }
   ],
   "source": [
    "df['rating'].value_counts().plot.pie(\n",
    "    title='Распределение категорий ESRB среди наших данных (col:\"rating\")', figsize=(10,10), autopct='%1.0f%%'\n",
    ")\n",
    "plt.show()"
   ]
  },
  {
   "cell_type": "markdown",
   "id": "140b43c9",
   "metadata": {},
   "source": [
    "Сделаем замену NaN на unknown, для дальнейшего анализа"
   ]
  },
  {
   "cell_type": "code",
   "execution_count": 44,
   "id": "0cd44f77",
   "metadata": {},
   "outputs": [],
   "source": [
    "df['rating'] = df['rating'].fillna('Unknown')"
   ]
  },
  {
   "cell_type": "markdown",
   "id": "0f2f7e2f",
   "metadata": {},
   "source": [
    "Я решил погуглить а нет ли общего распеределения для всех видеоигр вне зависимости от платформы. Я нашёл [статью](https://www.esrb.org/blog/e-for-everyone-continues-to-be-most-frequently-assigned-video-game-rating/) в которой видно такое распределение. Из неё следует что категория E является самым частым видов выпускаемых игр а именно составляем 49% . На нашем распределение видно похожий паттерн распределения, собственно видимо нам достаточно такого числа для описания всей генеральной совокупности игр. Но это все выводы какие как мне кажется можно привести. В угадайку играть и распределять значений ESRB мне кажется не очень хорошим явлением, поэтому в данной колонке будем довольствоваться тем что есть, а значения NAN оставим в покое."
   ]
  },
  {
   "cell_type": "markdown",
   "id": "163b2893",
   "metadata": {},
   "source": [
    "<a id = \"research_data\"></a>\n",
    "# Шаг3. Проведение исследовательского анализа данных"
   ]
  },
  {
   "cell_type": "markdown",
   "id": "afd7ca52",
   "metadata": {},
   "source": [
    "Посмотрим сколько игр выпускалось в разные годы"
   ]
  },
  {
   "cell_type": "code",
   "execution_count": 45,
   "id": "b3a1323a",
   "metadata": {},
   "outputs": [
    {
     "data": {
      "image/png": "[encoded data removed]",
      "text/plain": [
       "<Figure size 720x720 with 1 Axes>"
      ]
     },
     "metadata": {
      "needs_background": "light"
     },
     "output_type": "display_data"
    }
   ],
   "source": [
    "df.groupby('year_of_release')['name'].count().plot(\n",
    "    kind='bar', figsize=(10,10), title='Распределение кол-ва выпущенных игр от года'\n",
    ")\n",
    "\n",
    "plt.show()"
   ]
  },
  {
   "cell_type": "markdown",
   "id": "a260eee1",
   "metadata": {},
   "source": [
    "Отвечая на вопрос важны ли нам данные за все периоды, скорее всего нет по сути нам лишь нужно выделить некий срез данных по которым можно строить хороший прогнозы"
   ]
  },
  {
   "cell_type": "markdown",
   "id": "d92c68f5",
   "metadata": {},
   "source": [
    "Посмотрим как менялись продажи среди всех платформ по годам. Для этого возьмем 10 лидеров списка суммарных продаж и построим по ним распределение по годам, чтобы посмотреть продают ли на данный момент эти 10 лидеров всё также являются прибыльными и приносят денег и можно выявить лидеров по продажам за последние года, а также можно увидеть падает/убывает число проданных копий игры для каждой выбранной нами платформы "
   ]
  },
  {
   "cell_type": "code",
   "execution_count": 46,
   "id": "b6f44965",
   "metadata": {},
   "outputs": [],
   "source": [
    "ind = df.groupby('platform')['sum_sales'].sum().sort_values(ascending=False).head(10).index"
   ]
  },
  {
   "cell_type": "code",
   "execution_count": 47,
   "id": "08e9c958",
   "metadata": {},
   "outputs": [],
   "source": [
    "new_df = df.pivot_table(index='year_of_release', columns='platform',values = 'sum_sales', aggfunc='sum')"
   ]
  },
  {
   "cell_type": "code",
   "execution_count": 48,
   "id": "d3e9a6bb",
   "metadata": {},
   "outputs": [
    {
     "data": {
      "image/png": "[encoded data removed]",
      "text/plain": [
       "<Figure size 1080x2016 with 10 Axes>"
      ]
     },
     "metadata": {
      "needs_background": "light"
     },
     "output_type": "display_data"
    }
   ],
   "source": [
    "new_df[[i for i in ind]].dropna(axis=1, how='all').plot(\n",
    "    figsize=(15,28), subplots=True, kind='bar', title='Распределение годов от суммарной прибыли')\n",
    "plt.show()"
   ]
  },
  {
   "cell_type": "markdown",
   "id": "0020f92f",
   "metadata": {},
   "source": [
    "Почти все 10 лидеров по продажам за весь период являются устаревшими платформами пора который уже прошла а продажи катятся стремительно вниз. Поэтому посмотрим какие платформы были лидерами не за весь период а за 2016 предыдущий год например, ведь скорее всего лидеры 2016 года скорее всего останутся лиерами до прихода более новых платформ, таким образом мы сможем ограничить круг потенциально перспективных платформ, с которыми собственно стоит работать дальше нежели со старыми данными."
   ]
  },
  {
   "cell_type": "code",
   "execution_count": 49,
   "id": "7e9000a4",
   "metadata": {},
   "outputs": [
    {
     "data": {
      "text/plain": [
       "platform\n",
       "PS4     69.25\n",
       "XOne    26.15\n",
       "3DS     15.14\n",
       "PC       5.25\n",
       "WiiU     4.60\n",
       "PSV      4.25\n",
       "PS3      3.60\n",
       "X360     1.52\n",
       "Wii      0.18\n",
       "Name: 2016, dtype: float64"
      ]
     },
     "execution_count": 49,
     "metadata": {},
     "output_type": "execute_result"
    }
   ],
   "source": [
    "new_df.loc[2016].dropna().sort_values(ascending=False)"
   ]
  },
  {
   "cell_type": "markdown",
   "id": "a8c6cabb",
   "metadata": {},
   "source": [
    "Постмотрели на продажи за 2016 год и видны фавориты: PS4, XOne, 3DS. Эти платформы являются фаворитами и превосходят ближайших конкурентов минимум на 3 порядка. Дальше посмотрим как распрелялось кол-во копий от платформ (актуальных на 2016 год) и от года."
   ]
  },
  {
   "cell_type": "code",
   "execution_count": 50,
   "id": "4b9748f2",
   "metadata": {},
   "outputs": [
    {
     "data": {
      "image/png": "[encoded data removed]",
      "text/plain": [
       "<Figure size 1080x2016 with 9 Axes>"
      ]
     },
     "metadata": {
      "needs_background": "light"
     },
     "output_type": "display_data"
    }
   ],
   "source": [
    "new_df[[i for i in new_df.loc[2016].dropna().sort_values(ascending=False).index]].dropna(axis=1, how='all').plot(\n",
    "    figsize=(15,28), subplots=True, kind='bar', title='Распределение кол-ва копий на платформы (актуальные на 2016 год) от года'\n",
    ")\n",
    "plt.show()"
   ]
  },
  {
   "cell_type": "markdown",
   "id": "d250f19e",
   "metadata": {},
   "source": [
    "Посмотрим также на дату выпуска консолей"
   ]
  },
  {
   "cell_type": "code",
   "execution_count": 51,
   "id": "fb1d818c",
   "metadata": {},
   "outputs": [],
   "source": [
    "year_of_platform_release = df.sort_values(by='year_of_release').pivot_table(\n",
    "    index='platform', values='year_of_release', aggfunc='first').loc[\n",
    "    [i for i in new_df.loc[2016].dropna().sort_values(ascending=False).index]]"
   ]
  },
  {
   "cell_type": "code",
   "execution_count": 52,
   "id": "b6cca613",
   "metadata": {},
   "outputs": [
    {
     "data": {
      "text/html": [
       "<div>\n",
       "<style scoped>\n",
       "    .dataframe tbody tr th:only-of-type {\n",
       "        vertical-align: middle;\n",
       "    }\n",
       "\n",
       "    .dataframe tbody tr th {\n",
       "        vertical-align: top;\n",
       "    }\n",
       "\n",
       "    .dataframe thead th {\n",
       "        text-align: right;\n",
       "    }\n",
       "</style>\n",
       "<table border=\"1\" class=\"dataframe\">\n",
       "  <thead>\n",
       "    <tr style=\"text-align: right;\">\n",
       "      <th></th>\n",
       "      <th>year_of_release</th>\n",
       "    </tr>\n",
       "    <tr>\n",
       "      <th>platform</th>\n",
       "      <th></th>\n",
       "    </tr>\n",
       "  </thead>\n",
       "  <tbody>\n",
       "    <tr>\n",
       "      <th>PS4</th>\n",
       "      <td>2013</td>\n",
       "    </tr>\n",
       "    <tr>\n",
       "      <th>XOne</th>\n",
       "      <td>2013</td>\n",
       "    </tr>\n",
       "    <tr>\n",
       "      <th>3DS</th>\n",
       "      <td>2011</td>\n",
       "    </tr>\n",
       "    <tr>\n",
       "      <th>PC</th>\n",
       "      <td>1985</td>\n",
       "    </tr>\n",
       "    <tr>\n",
       "      <th>WiiU</th>\n",
       "      <td>2012</td>\n",
       "    </tr>\n",
       "    <tr>\n",
       "      <th>PSV</th>\n",
       "      <td>2011</td>\n",
       "    </tr>\n",
       "    <tr>\n",
       "      <th>PS3</th>\n",
       "      <td>2006</td>\n",
       "    </tr>\n",
       "    <tr>\n",
       "      <th>X360</th>\n",
       "      <td>2005</td>\n",
       "    </tr>\n",
       "    <tr>\n",
       "      <th>Wii</th>\n",
       "      <td>2006</td>\n",
       "    </tr>\n",
       "  </tbody>\n",
       "</table>\n",
       "</div>"
      ],
      "text/plain": [
       "          year_of_release\n",
       "platform                 \n",
       "PS4                  2013\n",
       "XOne                 2013\n",
       "3DS                  2011\n",
       "PC                   1985\n",
       "WiiU                 2012\n",
       "PSV                  2011\n",
       "PS3                  2006\n",
       "X360                 2005\n",
       "Wii                  2006"
      ]
     },
     "execution_count": 52,
     "metadata": {},
     "output_type": "execute_result"
    }
   ],
   "source": [
    "year_of_platform_release"
   ]
  },
  {
   "cell_type": "markdown",
   "id": "f08955ab",
   "metadata": {},
   "source": [
    "Итак что мы здесь можем увидеть. Видно что некогда самые продаваемые платформы уже устарели и на смену им пришли их новые версии(так например PS3 -> PS4 , X360 -> XOne) за исключение PC, но не смотря на это игры всё также продаются и приносят прибыль на устаревших платформах. Также можно заметить что период за который платформа успевает появиться и исчезнуть составляет порядка ~ 6-8 лет судя по продажам. На момент 2016 года приносили прибыль следующие платформы: PS4, XOne, 3DS, PC, WiiU, PSV, PS3, X360, Wii. При этом самыми большими значениями продаж обладали наиболее новые платформы такие как PS4 и XOne, при этом роста по числу продаж не наблюдается ни у одной платформы. Также можно заметить на графике \"Распределение кол-ва выпущенных игр от года\", видно что в период до 2012 года цены достаточно сильно колеблятся, что не может не сказать на предсказательной способности данных, т.о исходя из этих выводов я предполагаю что нужно сделать актуальным периодом время от ближайшего (относительно 2016 года) момента стабилизаци рынка (т.е 2012 год) и до 2016 года включительно, что даст нам хорошие данные для дальнейших предсказаний. Таким образом наш рассматриваемый актуальный период составляет от 2012 года до 2016. \n",
    "\n",
    "Построим «ящик с усами» по глобальным продажам игр в разбивке по платформам. Для этого сначала возьмём срез от данных по актуальному периоду (2012-2016) и по платформам которые приносят прибыль в 2016."
   ]
  },
  {
   "cell_type": "code",
   "execution_count": 53,
   "id": "da934532",
   "metadata": {},
   "outputs": [
    {
     "data": {
      "text/html": [
       "<div>\n",
       "<style scoped>\n",
       "    .dataframe tbody tr th:only-of-type {\n",
       "        vertical-align: middle;\n",
       "    }\n",
       "\n",
       "    .dataframe tbody tr th {\n",
       "        vertical-align: top;\n",
       "    }\n",
       "\n",
       "    .dataframe thead th {\n",
       "        text-align: right;\n",
       "    }\n",
       "</style>\n",
       "<table border=\"1\" class=\"dataframe\">\n",
       "  <thead>\n",
       "    <tr style=\"text-align: right;\">\n",
       "      <th>platform</th>\n",
       "      <th>PS4</th>\n",
       "      <th>XOne</th>\n",
       "      <th>3DS</th>\n",
       "      <th>PC</th>\n",
       "      <th>WiiU</th>\n",
       "      <th>PSV</th>\n",
       "      <th>PS3</th>\n",
       "      <th>X360</th>\n",
       "      <th>Wii</th>\n",
       "    </tr>\n",
       "    <tr>\n",
       "      <th>year_of_release</th>\n",
       "      <th></th>\n",
       "      <th></th>\n",
       "      <th></th>\n",
       "      <th></th>\n",
       "      <th></th>\n",
       "      <th></th>\n",
       "      <th></th>\n",
       "      <th></th>\n",
       "      <th></th>\n",
       "    </tr>\n",
       "  </thead>\n",
       "  <tbody>\n",
       "    <tr>\n",
       "      <th>2012</th>\n",
       "      <td>NaN</td>\n",
       "      <td>NaN</td>\n",
       "      <td>51.36</td>\n",
       "      <td>23.22</td>\n",
       "      <td>17.56</td>\n",
       "      <td>16.19</td>\n",
       "      <td>107.36</td>\n",
       "      <td>99.74</td>\n",
       "      <td>21.71</td>\n",
       "    </tr>\n",
       "    <tr>\n",
       "      <th>2013</th>\n",
       "      <td>25.99</td>\n",
       "      <td>18.96</td>\n",
       "      <td>57.76</td>\n",
       "      <td>12.38</td>\n",
       "      <td>21.65</td>\n",
       "      <td>10.59</td>\n",
       "      <td>113.25</td>\n",
       "      <td>88.58</td>\n",
       "      <td>8.59</td>\n",
       "    </tr>\n",
       "    <tr>\n",
       "      <th>2014</th>\n",
       "      <td>100.00</td>\n",
       "      <td>54.07</td>\n",
       "      <td>43.76</td>\n",
       "      <td>13.28</td>\n",
       "      <td>22.03</td>\n",
       "      <td>12.16</td>\n",
       "      <td>47.76</td>\n",
       "      <td>34.74</td>\n",
       "      <td>3.75</td>\n",
       "    </tr>\n",
       "    <tr>\n",
       "      <th>2015</th>\n",
       "      <td>118.90</td>\n",
       "      <td>60.14</td>\n",
       "      <td>27.78</td>\n",
       "      <td>8.52</td>\n",
       "      <td>16.35</td>\n",
       "      <td>6.25</td>\n",
       "      <td>16.82</td>\n",
       "      <td>11.96</td>\n",
       "      <td>1.14</td>\n",
       "    </tr>\n",
       "    <tr>\n",
       "      <th>2016</th>\n",
       "      <td>69.25</td>\n",
       "      <td>26.15</td>\n",
       "      <td>15.14</td>\n",
       "      <td>5.25</td>\n",
       "      <td>4.60</td>\n",
       "      <td>4.25</td>\n",
       "      <td>3.60</td>\n",
       "      <td>1.52</td>\n",
       "      <td>0.18</td>\n",
       "    </tr>\n",
       "  </tbody>\n",
       "</table>\n",
       "</div>"
      ],
      "text/plain": [
       "platform            PS4   XOne    3DS     PC   WiiU    PSV     PS3   X360  \\\n",
       "year_of_release                                                             \n",
       "2012                NaN    NaN  51.36  23.22  17.56  16.19  107.36  99.74   \n",
       "2013              25.99  18.96  57.76  12.38  21.65  10.59  113.25  88.58   \n",
       "2014             100.00  54.07  43.76  13.28  22.03  12.16   47.76  34.74   \n",
       "2015             118.90  60.14  27.78   8.52  16.35   6.25   16.82  11.96   \n",
       "2016              69.25  26.15  15.14   5.25   4.60   4.25    3.60   1.52   \n",
       "\n",
       "platform           Wii  \n",
       "year_of_release         \n",
       "2012             21.71  \n",
       "2013              8.59  \n",
       "2014              3.75  \n",
       "2015              1.14  \n",
       "2016              0.18  "
      ]
     },
     "execution_count": 53,
     "metadata": {},
     "output_type": "execute_result"
    }
   ],
   "source": [
    "new_df.loc[range(2012,2017), [i for i in year_of_platform_release.index]].dropna(\n",
    "    axis=1, how='all')"
   ]
  },
  {
   "cell_type": "code",
   "execution_count": 54,
   "id": "c2fb2971",
   "metadata": {},
   "outputs": [
    {
     "data": {
      "image/png": "[encoded data removed]",
      "text/plain": [
       "<Figure size 720x720 with 1 Axes>"
      ]
     },
     "metadata": {
      "needs_background": "light"
     },
     "output_type": "display_data"
    }
   ],
   "source": [
    "new_df.loc[\n",
    "    range(2005,2017), [i for i in year_of_platform_release.index]].dropna(\n",
    "    axis=1, how='all').boxplot(\n",
    "    fontsize=15, rot=360, figsize=(10,10)\n",
    ")\n",
    "plt.title('ящик с усами» по глобальным продажам игр в период с 2005 - 2016 года в разбивке по платформам')\n",
    "plt.show()"
   ]
  },
  {
   "cell_type": "code",
   "execution_count": 55,
   "id": "f7297236",
   "metadata": {},
   "outputs": [
    {
     "data": {
      "image/png": "[encoded data removed]",
      "text/plain": [
       "<Figure size 720x720 with 1 Axes>"
      ]
     },
     "metadata": {
      "needs_background": "light"
     },
     "output_type": "display_data"
    }
   ],
   "source": [
    "new_df.loc[\n",
    "    range(2012,2017), [i for i in year_of_platform_release.index]].dropna(\n",
    "    axis=1, how='all').boxplot(\n",
    "    fontsize=15, rot=360, figsize=(10,10)\n",
    ")\n",
    "plt.title('ящик с усами» из актуальных данных по глобальным продажам игр в разбивке по платформам')\n",
    "plt.show()"
   ]
  },
  {
   "cell_type": "markdown",
   "id": "eb57861e",
   "metadata": {},
   "source": [
    "Видно что когда то такиt платформы как Wii, X360, PS3 продавали огромное кол-во копий игр. Так например Wii и вовсе больше всех копий продала за один год из промежутка с 2012 по 2017 год. Также можно заметить что число копий на новый консолях бывает больше кол-ва копий для старых платформ в болшинстве случае (как в случае с PS3,PS4,Wii,WiiU), но бывает и обратная ситуация(например X360, XOne). Скорее всего это обусловлено тем ,что Microsoft нужно подумать над своей стратегией развития так как продажи копий PS4 c XOne должны быть на ровне(судя по данным за 2012-2016 года). Давайте взглянем на диаграмму рассеяния для оценки критиков и оценки юзеров от суммарных продаж также для актуального периода. "
   ]
  },
  {
   "cell_type": "code",
   "execution_count": 56,
   "id": "849913d7",
   "metadata": {},
   "outputs": [],
   "source": [
    "actual_df = df[(df['year_of_release'].isin(\n",
    "    range(2012,2017))) & (df['platform'].isin(year_of_platform_release.index))]"
   ]
  },
  {
   "cell_type": "code",
   "execution_count": 57,
   "id": "26bc79fa",
   "metadata": {},
   "outputs": [
    {
     "data": {
      "image/png": "[encoded data removed]",
      "text/plain": [
       "<Figure size 432x288 with 1 Axes>"
      ]
     },
     "metadata": {
      "needs_background": "light"
     },
     "output_type": "display_data"
    },
    {
     "data": {
      "image/png": "[encoded data removed]",
      "text/plain": [
       "<Figure size 432x288 with 1 Axes>"
      ]
     },
     "metadata": {
      "needs_background": "light"
     },
     "output_type": "display_data"
    }
   ],
   "source": [
    "actual_df[actual_df['platform'] == 'PS4'].plot(\n",
    "    x='critic_score',\n",
    "    y='sum_sales',\n",
    "    kind='scatter', \n",
    "    title='Диаграмма рассеяния оценки критиков от суммарных продаж для PS4'\n",
    ")\n",
    "\n",
    "actual_df[actual_df['platform'] == 'PS4'].plot(\n",
    "    x='user_score', \n",
    "    y='sum_sales',\n",
    "    kind='scatter',\n",
    "    title='Диаграмма рассеяния оценки юзеров от суммарных продаж для PS4'\n",
    ")\n",
    "\n",
    "plt.show()"
   ]
  },
  {
   "cell_type": "markdown",
   "id": "4b45edef",
   "metadata": {},
   "source": [
    "Посчитаем корреляцию для PS4 для параметров оценки критиков и оценки юзеров от суммарных продаж. "
   ]
  },
  {
   "cell_type": "code",
   "execution_count": 58,
   "id": "46ff9852",
   "metadata": {},
   "outputs": [
    {
     "data": {
      "text/plain": [
       "-0.03711560131477587"
      ]
     },
     "execution_count": 58,
     "metadata": {},
     "output_type": "execute_result"
    }
   ],
   "source": [
    "actual_df[actual_df['platform'] == 'PS4']['sum_sales'].corr(df[df['platform'] == 'PS4']['user_score'])"
   ]
  },
  {
   "cell_type": "code",
   "execution_count": 59,
   "id": "352a3bfd",
   "metadata": {},
   "outputs": [
    {
     "data": {
      "text/plain": [
       "0.4112301476748417"
      ]
     },
     "execution_count": 59,
     "metadata": {},
     "output_type": "execute_result"
    }
   ],
   "source": [
    "actual_df[actual_df['platform'] == 'PS4']['sum_sales'].corr(df[df['platform'] == 'PS4']['critic_score'])"
   ]
  },
  {
   "cell_type": "markdown",
   "id": "0f9afecf",
   "metadata": {},
   "source": [
    "Посчитаем корреляцию для PS3 для параметров оценки критиков и оценки юзеров от суммарных продаж. "
   ]
  },
  {
   "cell_type": "code",
   "execution_count": 60,
   "id": "c65fd82a",
   "metadata": {},
   "outputs": [
    {
     "data": {
      "text/plain": [
       "-0.06620242807267562"
      ]
     },
     "execution_count": 60,
     "metadata": {},
     "output_type": "execute_result"
    }
   ],
   "source": [
    "actual_df[actual_df['platform'] == 'PS3']['sum_sales'].corr(df[df['platform'] == 'PS3']['user_score'])"
   ]
  },
  {
   "cell_type": "code",
   "execution_count": 61,
   "id": "ba2cf83a",
   "metadata": {},
   "outputs": [
    {
     "data": {
      "text/plain": [
       "0.39526947769406834"
      ]
     },
     "execution_count": 61,
     "metadata": {},
     "output_type": "execute_result"
    }
   ],
   "source": [
    "actual_df[actual_df['platform'] == 'PS3']['sum_sales'].corr(df[df['platform'] == 'PS3']['critic_score'])"
   ]
  },
  {
   "cell_type": "markdown",
   "id": "7d5dcd58",
   "metadata": {},
   "source": [
    "Посчитаем корреляцию для XOne для параметров оценки критиков и оценки юзеров от суммарных продаж. "
   ]
  },
  {
   "cell_type": "code",
   "execution_count": 62,
   "id": "1af56949",
   "metadata": {},
   "outputs": [
    {
     "data": {
      "text/plain": [
       "-0.08326280569524888"
      ]
     },
     "execution_count": 62,
     "metadata": {},
     "output_type": "execute_result"
    }
   ],
   "source": [
    "actual_df[actual_df['platform'] == 'XOne']['sum_sales'].corr(df[df['platform'] == 'XOne']['user_score'])"
   ]
  },
  {
   "cell_type": "code",
   "execution_count": 63,
   "id": "3b23cf43",
   "metadata": {},
   "outputs": [
    {
     "data": {
      "text/plain": [
       "0.4361809268179308"
      ]
     },
     "execution_count": 63,
     "metadata": {},
     "output_type": "execute_result"
    }
   ],
   "source": [
    "actual_df[actual_df['platform'] == 'XOne']['sum_sales'].corr(df[df['platform'] == 'XOne']['critic_score'])"
   ]
  },
  {
   "cell_type": "markdown",
   "id": "1d7a521e",
   "metadata": {},
   "source": [
    "Посчитаем корреляцию для 3DS для параметров оценки критиков и оценки юзеров от суммарных продаж. "
   ]
  },
  {
   "cell_type": "code",
   "execution_count": 64,
   "id": "3833b44b",
   "metadata": {},
   "outputs": [
    {
     "data": {
      "text/plain": [
       "0.15007258627423073"
      ]
     },
     "execution_count": 64,
     "metadata": {},
     "output_type": "execute_result"
    }
   ],
   "source": [
    "actual_df[actual_df['platform'] == '3DS']['sum_sales'].corr(df[df['platform'] == '3DS']['user_score'])"
   ]
  },
  {
   "cell_type": "code",
   "execution_count": 65,
   "id": "0e0f000b",
   "metadata": {},
   "outputs": [
    {
     "data": {
      "text/plain": [
       "0.3885045861566399"
      ]
     },
     "execution_count": 65,
     "metadata": {},
     "output_type": "execute_result"
    }
   ],
   "source": [
    "actual_df[actual_df['platform'] == '3DS']['sum_sales'].corr(df[df['platform'] == '3DS']['critic_score'])"
   ]
  },
  {
   "cell_type": "markdown",
   "id": "a5eb5c9f",
   "metadata": {},
   "source": [
    "**Вывод**\n",
    "\n",
    "Какой вывод можно сделать смотря на эти данные, например то что оценки критиков и оценки юзеров не зависят линейно от суммарных продаж, но можно сказать таким образом если у нас есть игра и её продажи высокие то скорее всего и ретинг критиков этой игры был высоким, таким образом можно выразиться так: если разработчики хотят иметь хорошие продажи то им скорее всего для этого понадобятся хорошие рейтинги от критиков. Посмотрим на общие распределения жанров среди выбранных нами игр на 2005-2017 года и по выбранным платформам"
   ]
  },
  {
   "cell_type": "code",
   "execution_count": 66,
   "id": "039fe351",
   "metadata": {},
   "outputs": [
    {
     "data": {
      "text/plain": [
       "Action          954\n",
       "Role-Playing    341\n",
       "Sports          257\n",
       "Adventure       248\n",
       "Shooter         236\n",
       "Misc            180\n",
       "Racing          116\n",
       "Fighting        105\n",
       "Platform         83\n",
       "Simulation       80\n",
       "Strategy         67\n",
       "Puzzle           24\n",
       "Name: genre, dtype: int64"
      ]
     },
     "execution_count": 66,
     "metadata": {},
     "output_type": "execute_result"
    }
   ],
   "source": [
    "actual_df['genre'].value_counts().sort_values(ascending=False)"
   ]
  },
  {
   "cell_type": "code",
   "execution_count": 67,
   "id": "25aa8c3d",
   "metadata": {},
   "outputs": [
    {
     "data": {
      "image/png": "[encoded data removed]",
      "text/plain": [
       "<Figure size 720x720 with 1 Axes>"
      ]
     },
     "metadata": {},
     "output_type": "display_data"
    }
   ],
   "source": [
    "actual_df['genre'].value_counts().plot.pie(\n",
    "    autopct='%1.0f%%',figsize=(10,10), startangle=40, title='Распределение жанров на данных из актуального периода')\n",
    "plt.show()"
   ]
  },
  {
   "cell_type": "markdown",
   "id": "57201dc1",
   "metadata": {},
   "source": [
    "Жанр `Action, Role-Playing, Sports, Adventure, Shooter` занимают 5 лидирующие позиции по кол-ву выпущеных игр этого жанра за период с 2012 по 2016 год. Посмотрим зависимость жанра от суммарных продаж за указанный период."
   ]
  },
  {
   "cell_type": "code",
   "execution_count": 68,
   "id": "20a5071a",
   "metadata": {},
   "outputs": [
    {
     "data": {
      "text/html": [
       "<div>\n",
       "<style scoped>\n",
       "    .dataframe tbody tr th:only-of-type {\n",
       "        vertical-align: middle;\n",
       "    }\n",
       "\n",
       "    .dataframe tbody tr th {\n",
       "        vertical-align: top;\n",
       "    }\n",
       "\n",
       "    .dataframe thead tr th {\n",
       "        text-align: left;\n",
       "    }\n",
       "\n",
       "    .dataframe thead tr:last-of-type th {\n",
       "        text-align: right;\n",
       "    }\n",
       "</style>\n",
       "<table border=\"1\" class=\"dataframe\">\n",
       "  <thead>\n",
       "    <tr>\n",
       "      <th></th>\n",
       "      <th>sum</th>\n",
       "      <th>mean</th>\n",
       "      <th>median</th>\n",
       "    </tr>\n",
       "    <tr>\n",
       "      <th></th>\n",
       "      <th>sum_sales</th>\n",
       "      <th>sum_sales</th>\n",
       "      <th>sum_sales</th>\n",
       "    </tr>\n",
       "    <tr>\n",
       "      <th>genre</th>\n",
       "      <th></th>\n",
       "      <th></th>\n",
       "      <th></th>\n",
       "    </tr>\n",
       "  </thead>\n",
       "  <tbody>\n",
       "    <tr>\n",
       "      <th>Action</th>\n",
       "      <td>435.94</td>\n",
       "      <td>0.456960</td>\n",
       "      <td>0.130</td>\n",
       "    </tr>\n",
       "    <tr>\n",
       "      <th>Adventure</th>\n",
       "      <td>27.79</td>\n",
       "      <td>0.112056</td>\n",
       "      <td>0.040</td>\n",
       "    </tr>\n",
       "    <tr>\n",
       "      <th>Fighting</th>\n",
       "      <td>44.13</td>\n",
       "      <td>0.420286</td>\n",
       "      <td>0.150</td>\n",
       "    </tr>\n",
       "    <tr>\n",
       "      <th>Misc</th>\n",
       "      <td>84.15</td>\n",
       "      <td>0.467500</td>\n",
       "      <td>0.140</td>\n",
       "    </tr>\n",
       "    <tr>\n",
       "      <th>Platform</th>\n",
       "      <td>60.31</td>\n",
       "      <td>0.726627</td>\n",
       "      <td>0.210</td>\n",
       "    </tr>\n",
       "    <tr>\n",
       "      <th>Puzzle</th>\n",
       "      <td>4.79</td>\n",
       "      <td>0.199583</td>\n",
       "      <td>0.055</td>\n",
       "    </tr>\n",
       "    <tr>\n",
       "      <th>Racing</th>\n",
       "      <td>53.59</td>\n",
       "      <td>0.461983</td>\n",
       "      <td>0.135</td>\n",
       "    </tr>\n",
       "    <tr>\n",
       "      <th>Role-Playing</th>\n",
       "      <td>181.20</td>\n",
       "      <td>0.531378</td>\n",
       "      <td>0.160</td>\n",
       "    </tr>\n",
       "    <tr>\n",
       "      <th>Shooter</th>\n",
       "      <td>304.80</td>\n",
       "      <td>1.291525</td>\n",
       "      <td>0.435</td>\n",
       "    </tr>\n",
       "    <tr>\n",
       "      <th>Simulation</th>\n",
       "      <td>35.34</td>\n",
       "      <td>0.441750</td>\n",
       "      <td>0.120</td>\n",
       "    </tr>\n",
       "    <tr>\n",
       "      <th>Sports</th>\n",
       "      <td>179.57</td>\n",
       "      <td>0.698716</td>\n",
       "      <td>0.260</td>\n",
       "    </tr>\n",
       "    <tr>\n",
       "      <th>Strategy</th>\n",
       "      <td>12.63</td>\n",
       "      <td>0.188507</td>\n",
       "      <td>0.080</td>\n",
       "    </tr>\n",
       "  </tbody>\n",
       "</table>\n",
       "</div>"
      ],
      "text/plain": [
       "                   sum      mean    median\n",
       "             sum_sales sum_sales sum_sales\n",
       "genre                                     \n",
       "Action          435.94  0.456960     0.130\n",
       "Adventure        27.79  0.112056     0.040\n",
       "Fighting         44.13  0.420286     0.150\n",
       "Misc             84.15  0.467500     0.140\n",
       "Platform         60.31  0.726627     0.210\n",
       "Puzzle            4.79  0.199583     0.055\n",
       "Racing           53.59  0.461983     0.135\n",
       "Role-Playing    181.20  0.531378     0.160\n",
       "Shooter         304.80  1.291525     0.435\n",
       "Simulation       35.34  0.441750     0.120\n",
       "Sports          179.57  0.698716     0.260\n",
       "Strategy         12.63  0.188507     0.080"
      ]
     },
     "execution_count": 68,
     "metadata": {},
     "output_type": "execute_result"
    }
   ],
   "source": [
    "actual_df.pivot_table(\n",
    "    index='genre', values='sum_sales', aggfunc=['sum','mean','median'])"
   ]
  },
  {
   "cell_type": "markdown",
   "id": "1d9824d8",
   "metadata": {},
   "source": [
    "Запишем вернюю строчку в переменную для удобства"
   ]
  },
  {
   "cell_type": "code",
   "execution_count": 69,
   "id": "dfbe6093",
   "metadata": {},
   "outputs": [],
   "source": [
    "types_sum_sales = actual_df.pivot_table(\n",
    "    index='genre', values='sum_sales', aggfunc=['sum','mean','median'])"
   ]
  },
  {
   "cell_type": "code",
   "execution_count": 70,
   "id": "54b06532",
   "metadata": {},
   "outputs": [
    {
     "data": {
      "text/html": [
       "<div>\n",
       "<style scoped>\n",
       "    .dataframe tbody tr th:only-of-type {\n",
       "        vertical-align: middle;\n",
       "    }\n",
       "\n",
       "    .dataframe tbody tr th {\n",
       "        vertical-align: top;\n",
       "    }\n",
       "\n",
       "    .dataframe thead th {\n",
       "        text-align: right;\n",
       "    }\n",
       "</style>\n",
       "<table border=\"1\" class=\"dataframe\">\n",
       "  <thead>\n",
       "    <tr style=\"text-align: right;\">\n",
       "      <th></th>\n",
       "      <th>sum_sales</th>\n",
       "    </tr>\n",
       "    <tr>\n",
       "      <th>genre</th>\n",
       "      <th></th>\n",
       "    </tr>\n",
       "  </thead>\n",
       "  <tbody>\n",
       "    <tr>\n",
       "      <th>Shooter</th>\n",
       "      <td>0.435</td>\n",
       "    </tr>\n",
       "    <tr>\n",
       "      <th>Sports</th>\n",
       "      <td>0.260</td>\n",
       "    </tr>\n",
       "    <tr>\n",
       "      <th>Platform</th>\n",
       "      <td>0.210</td>\n",
       "    </tr>\n",
       "    <tr>\n",
       "      <th>Role-Playing</th>\n",
       "      <td>0.160</td>\n",
       "    </tr>\n",
       "    <tr>\n",
       "      <th>Fighting</th>\n",
       "      <td>0.150</td>\n",
       "    </tr>\n",
       "    <tr>\n",
       "      <th>Misc</th>\n",
       "      <td>0.140</td>\n",
       "    </tr>\n",
       "    <tr>\n",
       "      <th>Racing</th>\n",
       "      <td>0.135</td>\n",
       "    </tr>\n",
       "    <tr>\n",
       "      <th>Action</th>\n",
       "      <td>0.130</td>\n",
       "    </tr>\n",
       "    <tr>\n",
       "      <th>Simulation</th>\n",
       "      <td>0.120</td>\n",
       "    </tr>\n",
       "    <tr>\n",
       "      <th>Strategy</th>\n",
       "      <td>0.080</td>\n",
       "    </tr>\n",
       "    <tr>\n",
       "      <th>Puzzle</th>\n",
       "      <td>0.055</td>\n",
       "    </tr>\n",
       "    <tr>\n",
       "      <th>Adventure</th>\n",
       "      <td>0.040</td>\n",
       "    </tr>\n",
       "  </tbody>\n",
       "</table>\n",
       "</div>"
      ],
      "text/plain": [
       "              sum_sales\n",
       "genre                  \n",
       "Shooter           0.435\n",
       "Sports            0.260\n",
       "Platform          0.210\n",
       "Role-Playing      0.160\n",
       "Fighting          0.150\n",
       "Misc              0.140\n",
       "Racing            0.135\n",
       "Action            0.130\n",
       "Simulation        0.120\n",
       "Strategy          0.080\n",
       "Puzzle            0.055\n",
       "Adventure         0.040"
      ]
     },
     "execution_count": 70,
     "metadata": {},
     "output_type": "execute_result"
    }
   ],
   "source": [
    "types_sum_sales['median'].sort_values(by='sum_sales', ascending=False)"
   ]
  },
  {
   "cell_type": "markdown",
   "id": "8258ed2b",
   "metadata": {},
   "source": [
    "**Вывод**\n",
    "\n",
    "Видно что самыми прибыльными в среднем жанрами являются :`Shooter` , `Sports`, `Platform`, `Role-Playing`, `Fighting`.\n",
    "\n",
    "При этом самые выпускаемые жанры не всегда являются самыми прибыльными. "
   ]
  },
  {
   "cell_type": "markdown",
   "id": "6e8bb91d",
   "metadata": {},
   "source": [
    "<a id='portrait'></a>\n",
    "# Шаг 4 Составляем портрет пользователя каждого региона (NA, EU, JP)"
   ]
  },
  {
   "cell_type": "markdown",
   "id": "77697f58",
   "metadata": {},
   "source": [
    "Посмотрим как различаются самые популярные платформы среди регионов за 2012-2016 годы"
   ]
  },
  {
   "cell_type": "code",
   "execution_count": 71,
   "id": "83be1bd1",
   "metadata": {},
   "outputs": [
    {
     "data": {
      "text/plain": [
       "platform\n",
       "3DS     87.84\n",
       "PS3     35.29\n",
       "PSV     21.11\n",
       "PS4     15.96\n",
       "WiiU    13.01\n",
       "Name: jp_sales, dtype: float64"
      ]
     },
     "execution_count": 71,
     "metadata": {},
     "output_type": "execute_result"
    }
   ],
   "source": [
    "actual_df.groupby('platform')['jp_sales'].sum().sort_values(\n",
    "    ascending=False).head()"
   ]
  },
  {
   "cell_type": "code",
   "execution_count": 72,
   "id": "690dfc12",
   "metadata": {},
   "outputs": [
    {
     "data": {
      "text/plain": [
       "platform\n",
       "PS4     141.09\n",
       "PS3     106.86\n",
       "X360     74.52\n",
       "XOne     51.59\n",
       "3DS      42.85\n",
       "Name: eu_sales, dtype: float64"
      ]
     },
     "execution_count": 72,
     "metadata": {},
     "output_type": "execute_result"
    }
   ],
   "source": [
    "actual_df.groupby('platform')['eu_sales'].sum().sort_values(\n",
    "    ascending=False).head()"
   ]
  },
  {
   "cell_type": "code",
   "execution_count": 73,
   "id": "2c819ff3",
   "metadata": {},
   "outputs": [
    {
     "data": {
      "text/plain": [
       "platform\n",
       "X360    140.05\n",
       "PS4     108.74\n",
       "PS3     103.38\n",
       "XOne     93.12\n",
       "3DS      56.15\n",
       "Name: na_sales, dtype: float64"
      ]
     },
     "execution_count": 73,
     "metadata": {},
     "output_type": "execute_result"
    }
   ],
   "source": [
    "actual_df.groupby('platform')['na_sales'].sum().sort_values(\n",
    "    ascending=False).head()"
   ]
  },
  {
   "cell_type": "markdown",
   "id": "12e8ec04",
   "metadata": {},
   "source": [
    "Посмотрим также на суммарные продажи только за 2016 год "
   ]
  },
  {
   "cell_type": "code",
   "execution_count": 74,
   "id": "6ed1c231",
   "metadata": {},
   "outputs": [
    {
     "data": {
      "text/plain": [
       "platform\n",
       "3DS     8.03\n",
       "PS4     5.74\n",
       "PSV     3.56\n",
       "PS3     1.30\n",
       "WiiU    0.67\n",
       "Name: jp_sales, dtype: float64"
      ]
     },
     "execution_count": 74,
     "metadata": {},
     "output_type": "execute_result"
    }
   ],
   "source": [
    "df[df['year_of_release'] == 2016].groupby('platform')['jp_sales'].sum().sort_values(\n",
    "    ascending=False).head()"
   ]
  },
  {
   "cell_type": "code",
   "execution_count": 75,
   "id": "945aadd6",
   "metadata": {},
   "outputs": [
    {
     "data": {
      "text/plain": [
       "platform\n",
       "PS4     31.78\n",
       "XOne     9.63\n",
       "PC       3.53\n",
       "3DS      2.33\n",
       "WiiU     1.48\n",
       "Name: eu_sales, dtype: float64"
      ]
     },
     "execution_count": 75,
     "metadata": {},
     "output_type": "execute_result"
    }
   ],
   "source": [
    "df[df['year_of_release'] == 2016].groupby('platform')['eu_sales'].sum().sort_values(\n",
    "    ascending=False).head()"
   ]
  },
  {
   "cell_type": "code",
   "execution_count": 76,
   "id": "8278a176",
   "metadata": {},
   "outputs": [
    {
     "data": {
      "text/plain": [
       "platform\n",
       "PS4     21.49\n",
       "XOne    14.27\n",
       "3DS      4.14\n",
       "WiiU     2.10\n",
       "PC       1.36\n",
       "Name: na_sales, dtype: float64"
      ]
     },
     "execution_count": 76,
     "metadata": {},
     "output_type": "execute_result"
    }
   ],
   "source": [
    "df[df['year_of_release'] == 2016].groupby('platform')['na_sales'].sum().sort_values(\n",
    "    ascending=False).head()"
   ]
  },
  {
   "cell_type": "markdown",
   "id": "f7d7a696",
   "metadata": {},
   "source": [
    "**Вывод**\n",
    "\n",
    "Можно увидеть что в целом японский рынок, менее склонен к попупкам ,но скорее всего это обусловлено малочисленностью японии по сравнению с такими гигантами как европа и северная америка. Также видно что японцы поддерживают свой продукт(Так компании Nintendo и Sony являются японскими компаниями). В остальном видно что на остальных рынках за 2005-2016 годы лидирующие позиции делят между собой PS4 и XOne, что вполне понятно так как это  наверно самые популярные игровые платформы в мире и как раз за период с 2012-2016.Давайте теперь взгянем на популярные жарны для этих рынков."
   ]
  },
  {
   "cell_type": "code",
   "execution_count": 77,
   "id": "73609dbd",
   "metadata": {},
   "outputs": [
    {
     "data": {
      "text/plain": [
       "genre\n",
       "Role-Playing    59.22\n",
       "Action          49.18\n",
       "Misc            12.45\n",
       "Simulation      10.35\n",
       "Shooter          9.23\n",
       "Name: jp_sales, dtype: float64"
      ]
     },
     "execution_count": 77,
     "metadata": {},
     "output_type": "execute_result"
    }
   ],
   "source": [
    "actual_df.groupby('genre')['jp_sales'].sum().sort_values(\n",
    "    ascending=False).head()"
   ]
  },
  {
   "cell_type": "code",
   "execution_count": 78,
   "id": "414e7f30",
   "metadata": {},
   "outputs": [
    {
     "data": {
      "text/plain": [
       "genre\n",
       "Action          158.62\n",
       "Shooter         113.49\n",
       "Sports           68.84\n",
       "Role-Playing     46.81\n",
       "Racing           27.29\n",
       "Name: eu_sales, dtype: float64"
      ]
     },
     "execution_count": 78,
     "metadata": {},
     "output_type": "execute_result"
    }
   ],
   "source": [
    "actual_df.groupby('genre')['eu_sales'].sum().sort_values(\n",
    "    ascending=False).head()"
   ]
  },
  {
   "cell_type": "code",
   "execution_count": 79,
   "id": "22b37158",
   "metadata": {},
   "outputs": [
    {
     "data": {
      "text/plain": [
       "genre\n",
       "Action          177.18\n",
       "Shooter         144.81\n",
       "Sports           81.38\n",
       "Role-Playing     60.76\n",
       "Misc             38.13\n",
       "Name: na_sales, dtype: float64"
      ]
     },
     "execution_count": 79,
     "metadata": {},
     "output_type": "execute_result"
    }
   ],
   "source": [
    "actual_df.groupby('genre')['na_sales'].sum().sort_values(\n",
    "    ascending=False).head()"
   ]
  },
  {
   "cell_type": "markdown",
   "id": "ff325077",
   "metadata": {},
   "source": [
    "Посмотрим также на суммарные продажи только за 2016 год "
   ]
  },
  {
   "cell_type": "code",
   "execution_count": 80,
   "id": "8dcfc0ed",
   "metadata": {},
   "outputs": [
    {
     "data": {
      "text/plain": [
       "genre\n",
       "Action          7.07\n",
       "Role-Playing    6.61\n",
       "Adventure       1.18\n",
       "Shooter         1.06\n",
       "Misc            1.04\n",
       "Name: jp_sales, dtype: float64"
      ]
     },
     "execution_count": 80,
     "metadata": {},
     "output_type": "execute_result"
    }
   ],
   "source": [
    "df[df['year_of_release'] == 2016].groupby('genre')['jp_sales'].sum().sort_values(\n",
    "    ascending=False).head()"
   ]
  },
  {
   "cell_type": "code",
   "execution_count": 81,
   "id": "c2f967f2",
   "metadata": {},
   "outputs": [
    {
     "data": {
      "text/plain": [
       "genre\n",
       "Shooter         15.90\n",
       "Sports          12.01\n",
       "Action          10.68\n",
       "Role-Playing     4.28\n",
       "Racing           1.77\n",
       "Name: eu_sales, dtype: float64"
      ]
     },
     "execution_count": 81,
     "metadata": {},
     "output_type": "execute_result"
    }
   ],
   "source": [
    "df[df['year_of_release'] == 2016].groupby('genre')['eu_sales'].sum().sort_values(\n",
    "    ascending=False).head()"
   ]
  },
  {
   "cell_type": "code",
   "execution_count": 82,
   "id": "5f15c4dc",
   "metadata": {},
   "outputs": [
    {
     "data": {
      "text/plain": [
       "genre\n",
       "Shooter         16.24\n",
       "Action           9.29\n",
       "Sports           7.54\n",
       "Role-Playing     5.89\n",
       "Fighting         1.84\n",
       "Name: na_sales, dtype: float64"
      ]
     },
     "execution_count": 82,
     "metadata": {},
     "output_type": "execute_result"
    }
   ],
   "source": [
    "df[df['year_of_release'] == 2016].groupby('genre')['na_sales'].sum().sort_values(\n",
    "    ascending=False).head()"
   ]
  },
  {
   "cell_type": "markdown",
   "id": "61487eeb",
   "metadata": {},
   "source": [
    "**Вывод**\n",
    "\n",
    "И снова японский рынок в период с 2012-2016 годы отличается от остальных по предпочтениям(так например в данных за 2012-2016 года видно что у японии на первом месте стоит жанр `Role-Plaing`, хотя у остальных он на последнем месте или вовсе отсутсвует), в свою очередь видно что остальные рынки достаточно схожи между собой. Такая же ситуация видна и при просмотре рынка за 2016 год. **Теперь давайте посмотрим влияет ли рейтинг ESRB на продажи.**"
   ]
  },
  {
   "cell_type": "markdown",
   "id": "af24839f",
   "metadata": {},
   "source": [
    "Япония"
   ]
  },
  {
   "cell_type": "code",
   "execution_count": 83,
   "id": "d0563768",
   "metadata": {},
   "outputs": [
    {
     "data": {
      "text/plain": [
       "rating\n",
       "Unknown    95.67\n",
       "E          27.62\n",
       "T          25.83\n",
       "M          21.20\n",
       "E10+        8.19\n",
       "Name: jp_sales, dtype: float64"
      ]
     },
     "execution_count": 83,
     "metadata": {},
     "output_type": "execute_result"
    }
   ],
   "source": [
    "actual_df.groupby('rating')['jp_sales'].sum().sort_values(\n",
    "    ascending=False).head()"
   ]
  },
  {
   "cell_type": "markdown",
   "id": "5c979442",
   "metadata": {},
   "source": [
    "Европа"
   ]
  },
  {
   "cell_type": "code",
   "execution_count": 84,
   "id": "dce66b85",
   "metadata": {},
   "outputs": [
    {
     "data": {
      "text/plain": [
       "rating\n",
       "M          193.96\n",
       "E          111.81\n",
       "Unknown     89.32\n",
       "E10+        55.03\n",
       "T           53.01\n",
       "Name: eu_sales, dtype: float64"
      ]
     },
     "execution_count": 84,
     "metadata": {},
     "output_type": "execute_result"
    }
   ],
   "source": [
    "actual_df.groupby('rating')['eu_sales'].sum().sort_values(\n",
    "    ascending=False).head()"
   ]
  },
  {
   "cell_type": "markdown",
   "id": "e7fee6f3",
   "metadata": {},
   "source": [
    "Америка"
   ]
  },
  {
   "cell_type": "code",
   "execution_count": 85,
   "id": "79a546be",
   "metadata": {},
   "outputs": [
    {
     "data": {
      "text/plain": [
       "rating\n",
       "M          231.57\n",
       "E          113.56\n",
       "Unknown    100.41\n",
       "E10+        75.35\n",
       "T           66.31\n",
       "Name: na_sales, dtype: float64"
      ]
     },
     "execution_count": 85,
     "metadata": {},
     "output_type": "execute_result"
    }
   ],
   "source": [
    "actual_df.groupby('rating')['na_sales'].sum().sort_values(\n",
    "    ascending=False).head()"
   ]
  },
  {
   "cell_type": "markdown",
   "id": "0f39cc67",
   "metadata": {},
   "source": [
    "За данные с 2012-2016 года видно никую разницы между влиянием рейтинга ESRB и суммарными продажами в отдельном регионе. Так сразу бросается в глаза что Япония склонна к попупке игр с рейтингом 'unknown', скорее всего это обусловлено просто самим рынком. Что я имею ввиду, Японцы достаточно необычные сами по себе и любят достаточно странные игры, которые в других частях мира могут остаться просто незамеченными. Из этого ещё можно также сделать вывод что не заполняются малоизвестные игры, вследствие этого возникают пропуски в рейтинге и юзер скоре. Но вообще тенденция на остальных рынках то что продукты категории E и M покупаются чаще нежели остальные категории. Посмотрим также данные за 2016 год."
   ]
  },
  {
   "cell_type": "code",
   "execution_count": 86,
   "id": "1090d9c4",
   "metadata": {},
   "outputs": [
    {
     "data": {
      "text/plain": [
       "rating\n",
       "Unknown    14.32\n",
       "T           2.27\n",
       "M           1.20\n",
       "E           1.07\n",
       "E10+        0.45\n",
       "Name: jp_sales, dtype: float64"
      ]
     },
     "execution_count": 86,
     "metadata": {},
     "output_type": "execute_result"
    }
   ],
   "source": [
    "df[df['year_of_release'] == 2016].groupby('rating')['jp_sales'].sum().sort_values(\n",
    "    ascending=False).head()"
   ]
  },
  {
   "cell_type": "code",
   "execution_count": 87,
   "id": "bb4259b6",
   "metadata": {},
   "outputs": [
    {
     "data": {
      "text/plain": [
       "rating\n",
       "M          16.54\n",
       "E          13.61\n",
       "T           9.79\n",
       "Unknown     7.47\n",
       "E10+        3.81\n",
       "Name: eu_sales, dtype: float64"
      ]
     },
     "execution_count": 87,
     "metadata": {},
     "output_type": "execute_result"
    }
   ],
   "source": [
    "df[df['year_of_release'] == 2016].groupby('rating')['eu_sales'].sum().sort_values(\n",
    "    ascending=False).head()"
   ]
  },
  {
   "cell_type": "code",
   "execution_count": 88,
   "id": "932a58cc",
   "metadata": {},
   "outputs": [
    {
     "data": {
      "text/plain": [
       "rating\n",
       "M          15.67\n",
       "T           8.95\n",
       "Unknown     8.53\n",
       "E           7.97\n",
       "E10+        3.81\n",
       "Name: na_sales, dtype: float64"
      ]
     },
     "execution_count": 88,
     "metadata": {},
     "output_type": "execute_result"
    }
   ],
   "source": [
    "df[df['year_of_release'] == 2016].groupby('rating')['na_sales'].sum().sort_values(\n",
    "    ascending=False).head()"
   ]
  },
  {
   "cell_type": "markdown",
   "id": "fadff4ae",
   "metadata": {},
   "source": [
    "В данных за 2016 год также таковой нет разницы между суммарной продажей в отдельном регионе и рейтингом ESRB. Все лидирующие позиции по продажам делят одни и те же кпозицииатегории, но лидирующие позиции разделяют разные значения рейтингов.  "
   ]
  },
  {
   "cell_type": "markdown",
   "id": "3b173165",
   "metadata": {},
   "source": [
    "**Вывод шаг 4**\n",
    "\n",
    "Исходя из полученные данных какие можно сделать выводы.\n",
    "\n",
    "1) Японский рынок склонен к покупкам своих товаров(т.е какой нибудь Xbox там совсем имеет низкие продажи). \n",
    "\n",
    "2) Наиболее прибыльными являются американский и европейский рынки\n",
    "\n",
    "3) Японцам предпочтительней жанр `Role-playing` в отличие от предпочтений на других рынках где предпочтения игроков почти схожи между собой \n",
    "\n",
    "4) Самым продаваемый рейтинг во всех странах (кроме японии) `E`.\n",
    "\n",
    "5) На момент 2016 года самыми популярными платформами в японии являются `3DS` `PS4` в отличие от других рынков где лидирубщие позиции делят между собой `PS4` и `XOne`\n",
    "\n",
    "6) Причина которой может быть обусловлены пропуски в `user_score` и `rating` может быть обусловлена тем что эти игры нацелены на опреленные рынки, за пределы которых они не выходят=> Вследствие этого такие игры остаются известными локально, и поэтому я бы такие не стал заполнять, ибо на эти данные вряд ли будут смотреть\n",
    "\n",
    "7) Япония склонна к покупкам 'странных' игр в какой то степени исходя из вывода 6). Вряд ли даже настоящие рейтинги будут сильно отличаться, но так как они покупают что то необычное, то из за этого возникает перевес рейтинга 'unknown' именно в Японии.\n",
    "\n",
    "8) Ну и вообще японский игровой рынок отличается немного от остальных(наверно вследствие того что является сама технологическим лидером в этой области и в какой то степени диктует моду)"
   ]
  },
  {
   "cell_type": "markdown",
   "id": "353a4af5",
   "metadata": {},
   "source": [
    "<a id='check_hypo'></a>\n",
    "# Шаг 5. Проверка гипотез"
   ]
  },
  {
   "cell_type": "markdown",
   "id": "dadc4123",
   "metadata": {},
   "source": [
    "Проверяем гипотезу 1: **Cредние пользовательские рейтинги платформ Xbox One и PC одинаковые**\n",
    "\n",
    "\n",
    "Тест двухсторонний так как нам не важно кто больше важно лишь признать факт разницы. Далее пытаемся провести о равенстве средних двух генеральных совокупностей. В данном случае считаем дисперсии равными. Формулировка гипотезы выглядит как представленно ниже. \n",
    "\n",
    "H0 : med1 - med2 = 0\n",
    "\n",
    "H1 : |med1 - med2| > 0\n",
    "\n",
    "Формулировка гипотезы H0: средний пользовательский рейтинг платформ Xbox One и PC равен друг другу (Сверху как раз я это и пишу ведь если среднее это med1 и med2 для двух ген.совокупностей тогда med1=med2=A => med1 - med2 = 0; и это как раз формулировка H0)\n",
    "\n",
    "Формулировка альтернативной гипотезы H1: средний пользовательский рейтинг платформ Xbox One и PC отличается(т.е не важно в какую строну, главное что медианы различные и как раз |med1 - med2| > 0 , здесь модуль поэтому неважно куда отклонится отклонится главное что > 0)"
   ]
  },
  {
   "cell_type": "markdown",
   "id": "59e9ea8d",
   "metadata": {},
   "source": [
    "Посчитаем среднее и стандартное отклонение для данных платформ"
   ]
  },
  {
   "cell_type": "markdown",
   "id": "04f3a4aa",
   "metadata": {},
   "source": [
    "**XOne**"
   ]
  },
  {
   "cell_type": "code",
   "execution_count": 89,
   "id": "5dafec18",
   "metadata": {},
   "outputs": [
    {
     "data": {
      "text/plain": [
       "1.243830123736723"
      ]
     },
     "execution_count": 89,
     "metadata": {},
     "output_type": "execute_result"
    }
   ],
   "source": [
    "np.std(actual_df[actual_df['platform'] == 'XOne']['user_score'])"
   ]
  },
  {
   "cell_type": "code",
   "execution_count": 90,
   "id": "51269e13",
   "metadata": {},
   "outputs": [
    {
     "data": {
      "text/plain": [
       "6.748582995951404"
      ]
     },
     "execution_count": 90,
     "metadata": {},
     "output_type": "execute_result"
    }
   ],
   "source": [
    "np.mean(actual_df[actual_df['platform'] == 'XOne']['user_score'])"
   ]
  },
  {
   "cell_type": "markdown",
   "id": "d6f75c21",
   "metadata": {},
   "source": [
    "**PC**"
   ]
  },
  {
   "cell_type": "code",
   "execution_count": 91,
   "id": "c6d5def0",
   "metadata": {},
   "outputs": [
    {
     "data": {
      "text/plain": [
       "1.5486518524187411"
      ]
     },
     "execution_count": 91,
     "metadata": {},
     "output_type": "execute_result"
    }
   ],
   "source": [
    "np.std(actual_df[actual_df['platform'] == 'PC']['user_score'])"
   ]
  },
  {
   "cell_type": "code",
   "execution_count": 92,
   "id": "1622c9fb",
   "metadata": {},
   "outputs": [
    {
     "data": {
      "text/plain": [
       "6.591199999999991"
      ]
     },
     "execution_count": 92,
     "metadata": {},
     "output_type": "execute_result"
    }
   ],
   "source": [
    "np.mean(actual_df[actual_df['platform'] == 'PC']['user_score'])"
   ]
  },
  {
   "cell_type": "code",
   "execution_count": 93,
   "id": "0b1938d9",
   "metadata": {},
   "outputs": [],
   "source": [
    "results = st.ttest_ind(\n",
    "    actual_df[actual_df['platform'] == 'XOne']['user_score'], \n",
    "    actual_df[actual_df['platform'] == 'PC']['user_score']\n",
    ")"
   ]
  },
  {
   "cell_type": "markdown",
   "id": "02739ac7",
   "metadata": {},
   "source": [
    "Здесь считает значение значение t-test'a с помощью метода `ttest_ind`. Передаю на вход юзер скоры от срезов по платформам. Уровень значимости берем как 0.05 т.к гипотеза друхсторонняя."
   ]
  },
  {
   "cell_type": "code",
   "execution_count": 94,
   "id": "a1815909",
   "metadata": {},
   "outputs": [
    {
     "name": "stdout",
     "output_type": "stream",
     "text": [
      "Принимаем H0 \n"
     ]
    }
   ],
   "source": [
    "if 0.05 > results.pvalue:\n",
    "    print( 'p-value =',results.pvalue , \",Отвергаем H0 гипотезу\")\n",
    "else:\n",
    "    print('Принимаем H0 ')"
   ]
  },
  {
   "cell_type": "markdown",
   "id": "e1160a17",
   "metadata": {},
   "source": [
    "**Вывод по \"Гипотеза 1\"**\n",
    "\n",
    "Статистически доказано что средний пользовательский рейтинг платформ Xbox One и PC за актуальный период не отличается. И это даже видно на полученных средних и стандартных отклонениях они достаточно похожи друг на друга."
   ]
  },
  {
   "cell_type": "markdown",
   "id": "dea65570",
   "metadata": {},
   "source": [
    "Проверяем гипотезу 2: **Средние пользовательские рейтинги жанров Action (англ. «действие», экшен-игры) и Sports (англ. «спортивные соревнования») разные**\n",
    "\n",
    "\n",
    "Тест двухсторонний так как нам не важно кто больше важно лишь признать факт разницы. Далее пытаемся провести о равенстве средних двух генеральных совокупностей. В данном случае считаем дисперсии равными. Формулировка гипотезы выглядит как представленно ниже. \n",
    "\n",
    "H0 : med1 - med2 = 0\n",
    "\n",
    "H1 : |med1 - med2| > 0\n",
    "\n",
    "Формулировка гипотезы H0: средний пользовательский рейтинг жанров Action и Sports равен друг другу (Сверху как раз я это и пишу ведь если среднее это med1 и med2 для двух ген.совокупностей тогда med1=med2=A => med1 - med2 = 0; и это как раз формулировка H0)\n",
    "\n",
    "Формулировка альтернативной гипотезы H1: средний пользовательский рейтинг платформ Xbox One и PC отличается(т.е не важно в какую строну, главное что медианы различные и как раз |med1 - med2| > 0 , здесь модуль поэтому неважно куда отклонится отклонится главное что > 0)"
   ]
  },
  {
   "cell_type": "markdown",
   "id": "6a2c41c7",
   "metadata": {},
   "source": [
    "Посчитаем среднее и стандартное отклонение для данных платформ"
   ]
  },
  {
   "cell_type": "markdown",
   "id": "04b03b98",
   "metadata": {},
   "source": [
    "**Action**"
   ]
  },
  {
   "cell_type": "code",
   "execution_count": 95,
   "id": "859ff54c",
   "metadata": {},
   "outputs": [
    {
     "data": {
      "text/plain": [
       "1.0421027118941422"
      ]
     },
     "execution_count": 95,
     "metadata": {},
     "output_type": "execute_result"
    }
   ],
   "source": [
    "np.std(actual_df[actual_df['genre'] == 'Action']['user_score'])"
   ]
  },
  {
   "cell_type": "code",
   "execution_count": 96,
   "id": "61c9d3c4",
   "metadata": {},
   "outputs": [
    {
     "data": {
      "text/plain": [
       "7.067190775681421"
      ]
     },
     "execution_count": 96,
     "metadata": {},
     "output_type": "execute_result"
    }
   ],
   "source": [
    "np.mean(actual_df[actual_df['genre'] == 'Action']['user_score'])"
   ]
  },
  {
   "cell_type": "markdown",
   "id": "5e0a7ddd",
   "metadata": {},
   "source": [
    "**Sports**"
   ]
  },
  {
   "cell_type": "code",
   "execution_count": 97,
   "id": "58c7bc5a",
   "metadata": {},
   "outputs": [
    {
     "data": {
      "text/plain": [
       "1.7087325243496954"
      ]
     },
     "execution_count": 97,
     "metadata": {},
     "output_type": "execute_result"
    }
   ],
   "source": [
    "np.std(actual_df[actual_df['genre'] == 'Sports']['user_score'])"
   ]
  },
  {
   "cell_type": "code",
   "execution_count": 98,
   "id": "6a8f9aa6",
   "metadata": {},
   "outputs": [
    {
     "data": {
      "text/plain": [
       "5.926459143968861"
      ]
     },
     "execution_count": 98,
     "metadata": {},
     "output_type": "execute_result"
    }
   ],
   "source": [
    "np.mean(actual_df[actual_df['genre'] == 'Sports']['user_score'])"
   ]
  },
  {
   "cell_type": "code",
   "execution_count": 99,
   "id": "ba89b02b",
   "metadata": {},
   "outputs": [],
   "source": [
    "results  = st.ttest_ind(\n",
    "    actual_df[actual_df['genre'] == 'Action'][['user_score']], \n",
    "    actual_df[actual_df['genre'] == 'Sports'][['user_score']]\n",
    ")"
   ]
  },
  {
   "cell_type": "code",
   "execution_count": 100,
   "id": "a2a86a2c",
   "metadata": {},
   "outputs": [
    {
     "data": {
      "text/plain": [
       "array([4.88049098e-38])"
      ]
     },
     "execution_count": 100,
     "metadata": {},
     "output_type": "execute_result"
    }
   ],
   "source": [
    "results.pvalue"
   ]
  },
  {
   "cell_type": "code",
   "execution_count": 101,
   "id": "867b6603",
   "metadata": {},
   "outputs": [
    {
     "name": "stdout",
     "output_type": "stream",
     "text": [
      "p-value = [4.88049098e-38] ,Отвергаем H0 гипотезу\n"
     ]
    }
   ],
   "source": [
    "if 0.05 > results.pvalue:\n",
    "    print( 'p-value =',results.pvalue , \",Отвергаем H0 гипотезу\")\n",
    "else:\n",
    "    print('Принимаем H0 ')"
   ]
  },
  {
   "cell_type": "markdown",
   "id": "e3c9c291",
   "metadata": {},
   "source": [
    "**Вывод по \"Гипотеза 2\"**\n",
    "\n",
    "Средний пользовательский рейтинг жанров Action и Sports отличается друг от друга, на основание статистического теста с уровнем значимости 5%. Причём по всей видимости больше значения у жанра `Action`, на основание среднего и стандартного отклонения для представленных выше двух жанров"
   ]
  },
  {
   "cell_type": "markdown",
   "id": "5c375140",
   "metadata": {},
   "source": [
    "<a id = 'common_out'></a>\n",
    "# Шаг 6: Общий вывод"
   ]
  },
  {
   "cell_type": "markdown",
   "id": "1b5f75c9",
   "metadata": {},
   "source": [
    "**Вывод**\n",
    "\n",
    "Собственно сначала данные были достаточно засоренные NAN-ами, пришлось сначала их чистить путём подставления соответсвующих значений по колонкам. Все колонки были заменены за исключением колонки `rating` так как не нашлось каких то зависимостей значения этой колонки от других колонок, но и правда ради того кол-ва что у нас есть вполне хватит для проведения стат.тестов. По результатам анализа данных делается вывод что оценки критиков и оценки юзеров не зависят линейно от суммарных продаж, но можно сказать таким образом :если у нас есть игра и её продажи высокие то скорее всего и ретинг критиков этой игры был высоким.Или например так: если разработчики хотят иметь хорошие продажи то им скорее всего для этого понадобятся хорошие рейтинги от критиков.Жанр Action, Role-Playing, Sports, Adventure, Shooter занимают 5 лидирующих позиций по кол-ву выпущеных игр этого жанра за актуальный период. Видно что самыми прибыльными в среднем жанрами являются :Shooter , Sports, Platform, Role-Playing, Fighting. Также в актуальный период таковой нет разницы между суммарной продажей в отдельном регионе и рейтингом ESRB. Все лидирующие позиции по продажам делят одни и те же категории, но лидирующие позиции по числу выпущенный игр данной категории разделяют разные значения рейтингов. \n",
    "\n",
    "Самыми прибыльными платформами являются PS4, XOne, 3DS, с огромным отставанием от всех PS4 которая продаёт больше всех. \n",
    "\n",
    "\n",
    "\n",
    "Также видно что Японский рынок отличается немного от других рынков, потому что как мне кажется они склонны покупать более 'странные' или менее известные игры. Наиболее перспективными платформами являются PS4,XOne,PS3 для Северной Америки и Европы, если таргетироваться на Японию то PS4 3DS и PSV. Таким образом видно что Playstation доминирует на всех рынках. \n",
    "\n",
    "\n",
    "И снова японский рынок в период с 2012-2016 годы отличается от остальных по предпочтениям в жанрах(так например в данных за 2012-2016 года видно что у японии на первом месте стоит жанр `Role-Plaing`, хотя у остальных он на последнем месте или вовсе отсутсвует), в свою очередь видно что остальные рынки достаточно схожи между собой. Такая же ситуация видна и при просмотре рынка за 2016 год.\n",
    "\n",
    "\n",
    "Можно увидеть что в целом японский рынок, менее склонен к попупкам ,но скорее всего это обусловлено малочисленностью японии по сравнению с такими гигантами как европа и северная америка. Также видно что японцы поддерживают свой продукт(Так компании Nintendo и Sony являются японскими компаниями). В остальном видно что на остальных рынках за 2005-2016 годы лидирующие позиции делят между собой PS4 и XOne, что вполне понятно так как это  наверно самые популярные игровые платформы в мире и как раз за период с 2012-2016\n",
    "\n",
    "\n",
    "Вообщем желательно чтобы игра была с хорошим рейтигом, была из перечня жанров: Shooter , Sports, Platform, Role-Playing, Fighting. Также нужно смотреть на потенциальный рынок игры ведь можно выпустить для Японии и иметь хорошие продажи а во всё остальном мире проажи будут не очень. Ну и хорошо бы чтобы сама игры была хорошая обьективно) Это все параметры которые мне удалось вроде выявить для успеха. "
   ]
  }
 ],
 "metadata": {
  "kernelspec": {
   "display_name": "Python 3 (ipykernel)",
   "language": "python",
   "name": "python3"
  },
  "language_info": {
   "codemirror_mode": {
    "name": "ipython",
    "version": 3
   },
   "file_extension": ".py",
   "mimetype": "text/x-python",
   "name": "python",
   "nbconvert_exporter": "python",
   "pygments_lexer": "ipython3",
   "version": "3.9.12"
  },
  "toc": {
   "base_numbering": 1,
   "nav_menu": {},
   "number_sections": true,
   "sideBar": true,
   "skip_h1_title": true,
   "title_cell": "Table of Contents",
   "title_sidebar": "Contents",
   "toc_cell": false,
   "toc_position": {},
   "toc_section_display": true,
   "toc_window_display": true
  }
 },
 "nbformat": 4,
 "nbformat_minor": 5
}
