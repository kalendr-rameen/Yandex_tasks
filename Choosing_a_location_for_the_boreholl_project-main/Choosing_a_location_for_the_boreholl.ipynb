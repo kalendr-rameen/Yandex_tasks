{
 "cells": [
  {
   "cell_type": "markdown",
   "metadata": {},
   "source": [
    "# Выбор локации для скважины"
   ]
  },
  {
   "cell_type": "markdown",
   "metadata": {},
   "source": [
    "Допустим, вы работаете в добывающей компании «ГлавРосГосНефть». Нужно решить, где бурить новую скважину.\n",
    "\n",
    "Нам предоставлены пробы нефти в трёх регионах: в каждом 10 000 месторождений, где измерили качество нефти и объём её запасов. Постройте модель машинного обучения, которая поможет определить регион, где добыча принесёт наибольшую прибыль. Проанализируйте возможную прибыль и риски техникой *Bootstrap.*\n",
    "\n",
    "Шаги для выбора локации:\n",
    "\n",
    "- В избранном регионе ищут месторождения, для каждого определяют значения признаков;\n",
    "- Строят модель и оценивают объём запасов;\n",
    "- Выбирают месторождения с самым высокими оценками значений. Количество месторождений зависит от бюджета компании и стоимости разработки одной скважины;\n",
    "- Прибыль равна суммарной прибыли отобранных месторождений."
   ]
  },
  {
   "cell_type": "markdown",
   "metadata": {},
   "source": [
    "# 1. Загрузка и подготовка данных"
   ]
  },
  {
   "cell_type": "code",
   "execution_count": 1,
   "metadata": {},
   "outputs": [],
   "source": [
    "import pandas as pd\n",
    "from sklearn.model_selection import train_test_split\n",
    "from sklearn.linear_model import LinearRegression\n",
    "from sklearn.metrics import mean_squared_error\n",
    "import joblib\n",
    "from tempfile import mkdtemp\n",
    "import os\n",
    "import numpy as np"
   ]
  },
  {
   "cell_type": "code",
   "execution_count": 2,
   "metadata": {},
   "outputs": [
    {
     "name": "stdout",
     "output_type": "stream",
     "text": [
      "<class 'pandas.core.frame.DataFrame'>\n",
      "RangeIndex: 100000 entries, 0 to 99999\n",
      "Data columns (total 5 columns):\n",
      " #   Column   Non-Null Count   Dtype  \n",
      "---  ------   --------------   -----  \n",
      " 0   id       100000 non-null  object \n",
      " 1   f0       100000 non-null  float64\n",
      " 2   f1       100000 non-null  float64\n",
      " 3   f2       100000 non-null  float64\n",
      " 4   product  100000 non-null  float64\n",
      "dtypes: float64(4), object(1)\n",
      "memory usage: 3.8+ MB\n",
      "None\n",
      "\n",
      "<class 'pandas.core.frame.DataFrame'>\n",
      "RangeIndex: 100000 entries, 0 to 99999\n",
      "Data columns (total 5 columns):\n",
      " #   Column   Non-Null Count   Dtype  \n",
      "---  ------   --------------   -----  \n",
      " 0   id       100000 non-null  object \n",
      " 1   f0       100000 non-null  float64\n",
      " 2   f1       100000 non-null  float64\n",
      " 3   f2       100000 non-null  float64\n",
      " 4   product  100000 non-null  float64\n",
      "dtypes: float64(4), object(1)\n",
      "memory usage: 3.8+ MB\n",
      "None\n",
      "\n",
      "<class 'pandas.core.frame.DataFrame'>\n",
      "RangeIndex: 100000 entries, 0 to 99999\n",
      "Data columns (total 5 columns):\n",
      " #   Column   Non-Null Count   Dtype  \n",
      "---  ------   --------------   -----  \n",
      " 0   id       100000 non-null  object \n",
      " 1   f0       100000 non-null  float64\n",
      " 2   f1       100000 non-null  float64\n",
      " 3   f2       100000 non-null  float64\n",
      " 4   product  100000 non-null  float64\n",
      "dtypes: float64(4), object(1)\n",
      "memory usage: 3.8+ MB\n",
      "None\n"
     ]
    }
   ],
   "source": [
    "data0 = pd.read_csv('/datasets/geo_data_0.csv')\n",
    "data1 = pd.read_csv('/datasets/geo_data_1.csv')\n",
    "data2 = pd.read_csv('/datasets/geo_data_2.csv')\n",
    "print(data0.info())\n",
    "print()\n",
    "print(data1.info())\n",
    "print()\n",
    "print(data2.info())"
   ]
  },
  {
   "cell_type": "markdown",
   "metadata": {},
   "source": [
    "# 2. Обучение и проверка модели"
   ]
  },
  {
   "cell_type": "markdown",
   "metadata": {},
   "source": [
    "### Разобьём данные на обучающую и валидационную выборки в соотношении 75:25"
   ]
  },
  {
   "cell_type": "code",
   "execution_count": 3,
   "metadata": {},
   "outputs": [],
   "source": [
    "data0_train, data0_valid = train_test_split(data0, test_size=0.25, random_state=12345)\n",
    "data1_train, data1_valid = train_test_split(data1, test_size=0.25, random_state=12345)\n",
    "data2_train, data2_valid = train_test_split(data2, test_size=0.25, random_state=12345)"
   ]
  },
  {
   "cell_type": "markdown",
   "metadata": {},
   "source": [
    "Т.к в задание просят не дублировать код, поэтому снизу и практически во всем задание использую globals() для обращения к словарю глобальных переменных и создания новых. Собственно снизу применяю метод reset_index, чтобы можно было делать срезы данных по индексам"
   ]
  },
  {
   "cell_type": "code",
   "execution_count": 4,
   "metadata": {},
   "outputs": [],
   "source": [
    "for i in range(3):\n",
    "    globals()[f'data{i}_train'].reset_index(drop=True, inplace=True)\n",
    "    globals()[f'data{i}_valid'].reset_index(drop=True, inplace=True)"
   ]
  },
  {
   "cell_type": "markdown",
   "metadata": {},
   "source": [
    "### Обучите модель и сделайте предсказания на валидационной выборке."
   ]
  },
  {
   "cell_type": "markdown",
   "metadata": {},
   "source": [
    "Сохраняю все модели в отдельных путях, чтобы можно было легко к ним обратиться"
   ]
  },
  {
   "cell_type": "code",
   "execution_count": 5,
   "metadata": {},
   "outputs": [],
   "source": [
    "save_dir = mkdtemp()"
   ]
  },
  {
   "cell_type": "markdown",
   "metadata": {},
   "source": [
    "Делю данные (train, valid) для трёх регионов на target, features"
   ]
  },
  {
   "cell_type": "code",
   "execution_count": 6,
   "metadata": {},
   "outputs": [],
   "source": [
    "for i in range(3):\n",
    "    globals()[f'features_train_{i}'] = globals()[f'data{i}_train'].drop(['product', 'id'], axis=1)\n",
    "    globals()[f'target_train_{i}'] = globals()[f'data{i}_train']['product']\n",
    "    globals()[f'features_valid_{i}'] = globals()[f'data{i}_valid'].drop(['product', 'id'], axis=1)\n",
    "    globals()[f'target_valid_{i}'] = globals()[f'data{i}_valid']['product']\n"
   ]
  },
  {
   "cell_type": "markdown",
   "metadata": {},
   "source": [
    "Обучение моделей и их сохранение по указанному пути"
   ]
  },
  {
   "cell_type": "code",
   "execution_count": 7,
   "metadata": {},
   "outputs": [],
   "source": [
    "for i in range(3):\n",
    "    model = LinearRegression()\n",
    "    model.fit(globals()[f'features_train_{i}'], globals()[f'target_train_{i}'])\n",
    "    \n",
    "    globals()[f'predict_data{i}'] = model.predict(globals()[f'features_valid_{i}'])\n",
    "    \n",
    "    globals()[f'filename_model_data{i}'] = os.path.join(save_dir, f'model.data{i}')\n",
    "    joblib.dump(model, globals()[f'filename_model_data{i}'])"
   ]
  },
  {
   "cell_type": "markdown",
   "metadata": {},
   "source": [
    "### Напечатайте на экране средний запас предсказанного сырья и RMSE модели "
   ]
  },
  {
   "cell_type": "code",
   "execution_count": 8,
   "metadata": {},
   "outputs": [
    {
     "name": "stdout",
     "output_type": "stream",
     "text": [
      "Средний запас предсказанного сырья для 'geo_data_0' = 92.59256778438035\n",
      "RMSE модели для предсказаний полученных из данных 'geo_data_0' = 37.5794217150813\n",
      "\n",
      "Средний запас предсказанного сырья для 'geo_data_1' = 68.728546895446\n",
      "RMSE модели для предсказаний полученных из данных 'geo_data_1' = 0.893099286775617\n",
      "\n",
      "Средний запас предсказанного сырья для 'geo_data_2' = 94.96504596800489\n",
      "RMSE модели для предсказаний полученных из данных 'geo_data_2' = 40.02970873393434\n"
     ]
    }
   ],
   "source": [
    "print(\"Средний запас предсказанного сырья для 'geo_data_0' =\", predict_data0.mean())\n",
    "print(\"RMSE модели для предсказаний полученных из данных 'geo_data_0' =\",\n",
    "      mean_squared_error(target_valid_0, predict_data0) ** 0.5)\n",
    "print()\n",
    "print(\"Средний запас предсказанного сырья для 'geo_data_1' =\", predict_data1.mean())\n",
    "print(\"RMSE модели для предсказаний полученных из данных 'geo_data_1' =\",\n",
    "      mean_squared_error(target_valid_1, predict_data1) ** 0.5)\n",
    "print()\n",
    "print(\"Средний запас предсказанного сырья для 'geo_data_2' =\", predict_data2.mean())\n",
    "print(\"RMSE модели для предсказаний полученных из данных 'geo_data_2' =\",\n",
    "      mean_squared_error(target_valid_2, predict_data2) ** 0.5)\n"
   ]
  },
  {
   "cell_type": "markdown",
   "metadata": {},
   "source": [
    "### Анализ результатов"
   ]
  },
  {
   "cell_type": "markdown",
   "metadata": {},
   "source": [
    "В целом можно заметить, что модель для `geo_data_1` содержит значительно меньшее значения RMSE модели в отличие от остальных моделей, где RMSE достигает значения порядка 40.0. При этом значения предсказанного сырья для `geo_data1` значительно ниже в отличие от остальных регионов что в целом согласуется с полученными результатами"
   ]
  },
  {
   "cell_type": "markdown",
   "metadata": {},
   "source": [
    "# 3. Подготовка к расчёту прибыли"
   ]
  },
  {
   "cell_type": "markdown",
   "metadata": {},
   "source": [
    "### Все ключевые значения для расчётов сохраните в отдельных переменных."
   ]
  },
  {
   "cell_type": "markdown",
   "metadata": {},
   "source": [
    "Кол-во всего выделенных денег и доход с каждой единицы продукта сохраняем в отдельных переменных"
   ]
  },
  {
   "cell_type": "code",
   "execution_count": 10,
   "metadata": {},
   "outputs": [],
   "source": [
    "ALL_MONEY = 10 ** 10"
   ]
  },
  {
   "cell_type": "code",
   "execution_count": 11,
   "metadata": {},
   "outputs": [],
   "source": [
    "UNIT_INCOME = 450 * (10**3)"
   ]
  },
  {
   "cell_type": "markdown",
   "metadata": {},
   "source": [
    "### Рассчитайте достаточный объём сырья для безубыточной разработки новой скважины. Сравните полученный объём сырья со средним запасом в каждом регионе."
   ]
  },
  {
   "cell_type": "markdown",
   "metadata": {},
   "source": [
    "Мы знаем что у нас выделяют 10 млрд на 200 скважин, также знаем доход от единицы продукта = > нужно выделенные деньги поделить на доход от единицы (т.о получим кол-во единиц необходимых для безубыточной разработки на всех скважинах ) а затем делим на число скважин"
   ]
  },
  {
   "cell_type": "code",
   "execution_count": 12,
   "metadata": {},
   "outputs": [
    {
     "data": {
      "text/plain": [
       "11.11111111111111"
      ]
     },
     "execution_count": 12,
     "metadata": {},
     "output_type": "execute_result"
    }
   ],
   "source": [
    "(10 ** 9/450000)/200"
   ]
  },
  {
   "cell_type": "markdown",
   "metadata": {},
   "source": [
    "### Анализ результатов"
   ]
  },
  {
   "cell_type": "markdown",
   "metadata": {},
   "source": [
    "Объём сырья для безубыточной разработки новой скважины намного меньше средних значений для каждого региона => по логике получается что скорее всего какие бы вы не выбрали скважины доход будет, ну либо вы очень 'удачливый' и выбираете самые худшие скважины и тогда можете уйти в убыток, но для этого собственно и мы занимается обработкой данных, чтобы такой ситуации не произошло"
   ]
  },
  {
   "cell_type": "markdown",
   "metadata": {},
   "source": [
    "# 4. Расчёт прибыли и рисков "
   ]
  },
  {
   "cell_type": "markdown",
   "metadata": {},
   "source": [
    "### Функция для расчёта прибыли по выбранным скважинам и предсказаниям модели"
   ]
  },
  {
   "cell_type": "code",
   "execution_count": 13,
   "metadata": {},
   "outputs": [],
   "source": [
    "def profit(target, probabilities, count):\n",
    "    probs_sorted = probabilities.sort_values(ascending=False)\n",
    "    selected = target[probs_sorted.index][:count]\n",
    "    return UNIT_INCOME * selected.sum() - ALL_MONEY"
   ]
  },
  {
   "cell_type": "markdown",
   "metadata": {},
   "source": [
    "### Выбираем скважины с максимальными значениями предсказаний и считаем значения целевое значение сырья для 200 наилучших предсказаний и прибыль по этим 200-м точкам"
   ]
  },
  {
   "cell_type": "code",
   "execution_count": 14,
   "metadata": {},
   "outputs": [
    {
     "name": "stdout",
     "output_type": "stream",
     "text": [
      "Целевое значение сырья для 200 наилучших предсказний из geo_data0 = 29601.83565142189\n",
      "Прибыль от 200 с максимальными значениями предсказаний из geo_data0 = 3320826043.1398506\n",
      "\n",
      "Целевое значение сырья для 200 наилучших предсказний из geo_data1 = 27589.081548181137\n",
      "Прибыль от 200 с максимальными значениями предсказаний из geo_data1 = 2415086696.681511\n",
      "\n",
      "Целевое значение сырья для 200 наилучших предсказний из geo_data2 = 28245.22214133296\n",
      "Прибыль от 200 с максимальными значениями предсказаний из geo_data2 = 2710349963.5998325\n",
      "\n"
     ]
    }
   ],
   "source": [
    "for i in range(3):\n",
    "    globals()[f'max_predict_{i}'] = pd.Series(\n",
    "        globals()[f'predict_data{i}']).sort_values(ascending=False)\n",
    "    \n",
    "    globals()[f'max_target_{i}'] = globals()[f'target_valid_{i}'][globals()[f'max_predict_{i}'].index[:200]]\n",
    "    \n",
    "    print(f'Целевое значение сырья для 200 наилучших предсказний из geo_data{i} =',\n",
    "          globals()[f'max_target_{i}'].sum())\n",
    "    \n",
    "    print(f'Прибыль от 200 с максимальными значениями предсказаний из geo_data{i} =',\n",
    "          profit(globals()[f'max_target_{i}'], globals()[f'max_predict_{i}'][:200], 200)) \n",
    "    print()"
   ]
  },
  {
   "cell_type": "markdown",
   "metadata": {},
   "source": [
    "### Считаем риски и прибыль для каждого региона техникой Bootstrap с 1000 выборок, чтобы найти распределение прибыли. "
   ]
  },
  {
   "cell_type": "markdown",
   "metadata": {},
   "source": [
    "Находим среднюю прибыль, 95%-й доверительный интервал и риск убытков"
   ]
  },
  {
   "cell_type": "code",
   "execution_count": 15,
   "metadata": {},
   "outputs": [
    {
     "name": "stdout",
     "output_type": "stream",
     "text": [
      "Риск убытков для geo_data0 = 7.9 процента\n",
      "Средняя прибыль для geo_data0: 376092506.6152228\n",
      "\n",
      "Риск убытков для geo_data1 = 1.2 процента\n",
      "Средняя прибыль для geo_data1: 464652816.29658246\n",
      "\n",
      "Риск убытков для geo_data2 = 7.000000000000001 процента\n",
      "Средняя прибыль для geo_data2: 398594271.2214121\n",
      "\n"
     ]
    }
   ],
   "source": [
    "for j in range(3):\n",
    "    globals()[f'values{j}'] = []\n",
    "    state = np.random.RandomState(42)\n",
    "    for i in range(1000):\n",
    "        target_subsample = pd.Series(globals()[f'target_valid_{j}']).sample(500, replace=False, random_state=state)\n",
    "        probs_subsample = pd.Series(globals()[f'predict_data{j}'])[target_subsample.index]\n",
    "        globals()[f'values{j}'].append(profit(target_subsample, probs_subsample, 200))\n",
    " \n",
    "    globals()[f'values{j}'] = pd.Series(globals()[f'values{j}'])\n",
    "    mean = globals()[f'values{j}'].mean()\n",
    "    print(f'Риск убытков для geo_data{j} =',\n",
    "          (globals()[f'values{j}'] < 0).mean() * 100, \n",
    "         'процента')\n",
    "    #print(globals()[f'values{j}'][globals()[f'values{j}'] < 0 ]/globals()[f'values{j}'].shape[0])\n",
    "    print(f\"Средняя прибыль для geo_data{j}:\", mean)\n",
    "    print()"
   ]
  },
  {
   "cell_type": "code",
   "execution_count": 16,
   "metadata": {},
   "outputs": [
    {
     "name": "stdout",
     "output_type": "stream",
     "text": [
      "95% доверительный интервал для региона1, составляет:( -144819351.61345324 : 900330688.4709833 )\n",
      "95% доверительный интервал для региона2, составляет:( 88805161.90332475 : 858731801.5845159 )\n",
      "95% доверительный интервал для региона3, составляет:( -99562998.48588504 : 952685862.995777 )\n",
      "\n"
     ]
    }
   ],
   "source": [
    "for i in range(3):\n",
    "    print(f'95% доверительный интервал для региона{i+1}, составляет:(', \n",
    "          globals()[f'values{i}'].quantile(0.025), \":\",globals()[f'values{i}'].quantile(0.975), ')' )\n",
    "print()"
   ]
  },
  {
   "cell_type": "markdown",
   "metadata": {},
   "source": [
    "**Вывод**\n",
    "\n",
    "Самым лучшим регионом для добычи оказался 2-ой регион, т.к вероятность убытка на нем получается самой минимальной(вследствие видимо высокого RMSE самой модели для этого региона), и доверительный интервал получается также самым наилучшим, что опять таки склоняет нас к выбору этого региона. Регион 2 самый перспективный для нефтедобычи!"
   ]
  }
 ],
 "metadata": {
  "ExecuteTimeLog": [
   {
    "duration": 1343,
    "start_time": "2021-07-10T07:11:49.401Z"
   },
   {
    "duration": 637,
    "start_time": "2021-07-10T07:11:50.746Z"
   },
   {
    "duration": 65,
    "start_time": "2021-07-10T07:11:51.387Z"
   },
   {
    "duration": 13,
    "start_time": "2021-07-10T07:11:51.455Z"
   },
   {
    "duration": 8,
    "start_time": "2021-07-10T07:11:51.470Z"
   },
   {
    "duration": 17,
    "start_time": "2021-07-10T07:11:51.480Z"
   },
   {
    "duration": 273,
    "start_time": "2021-07-10T07:11:51.500Z"
   },
   {
    "duration": 190,
    "start_time": "2021-07-10T07:11:51.778Z"
   },
   {
    "duration": 3,
    "start_time": "2021-07-10T07:11:51.971Z"
   },
   {
    "duration": 6,
    "start_time": "2021-07-10T07:11:51.976Z"
   },
   {
    "duration": 14,
    "start_time": "2021-07-10T07:11:51.984Z"
   },
   {
    "duration": 32,
    "start_time": "2021-07-10T07:11:52.000Z"
   },
   {
    "duration": 13,
    "start_time": "2021-07-10T07:11:52.035Z"
   },
   {
    "duration": 46,
    "start_time": "2021-07-10T07:11:52.050Z"
   },
   {
    "duration": 16616,
    "start_time": "2021-07-10T07:11:52.098Z"
   },
   {
    "duration": 12,
    "start_time": "2021-07-10T07:12:08.717Z"
   },
   {
    "duration": 98,
    "start_time": "2021-07-10T07:26:23.480Z"
   },
   {
    "duration": 112,
    "start_time": "2021-07-10T07:26:27.825Z"
   },
   {
    "duration": 811,
    "start_time": "2021-07-10T07:26:29.738Z"
   },
   {
    "duration": 810,
    "start_time": "2021-07-10T07:26:38.844Z"
   },
   {
    "duration": 810,
    "start_time": "2021-07-10T07:27:15.799Z"
   },
   {
    "duration": 863,
    "start_time": "2021-07-10T07:27:21.492Z"
   },
   {
    "duration": 3,
    "start_time": "2021-07-10T07:27:47.371Z"
   },
   {
    "duration": 880,
    "start_time": "2021-07-10T07:27:58.830Z"
   },
   {
    "duration": 813,
    "start_time": "2021-07-10T07:28:08.701Z"
   },
   {
    "duration": 433,
    "start_time": "2021-07-10T07:28:19.658Z"
   },
   {
    "duration": 316,
    "start_time": "2021-07-10T07:29:54.502Z"
   },
   {
    "duration": 411,
    "start_time": "2021-07-10T07:31:43.816Z"
   },
   {
    "duration": 327,
    "start_time": "2021-07-10T07:31:50.728Z"
   },
   {
    "duration": 1293,
    "start_time": "2021-07-10T07:31:56.543Z"
   },
   {
    "duration": 625,
    "start_time": "2021-07-10T07:31:57.839Z"
   },
   {
    "duration": 59,
    "start_time": "2021-07-10T07:31:58.468Z"
   },
   {
    "duration": 5,
    "start_time": "2021-07-10T07:31:58.529Z"
   },
   {
    "duration": 11,
    "start_time": "2021-07-10T07:31:58.536Z"
   },
   {
    "duration": 17,
    "start_time": "2021-07-10T07:31:58.567Z"
   },
   {
    "duration": 288,
    "start_time": "2021-07-10T07:31:58.587Z"
   },
   {
    "duration": 192,
    "start_time": "2021-07-10T07:31:58.880Z"
   },
   {
    "duration": 3,
    "start_time": "2021-07-10T07:31:59.075Z"
   },
   {
    "duration": 16,
    "start_time": "2021-07-10T07:31:59.080Z"
   },
   {
    "duration": 9,
    "start_time": "2021-07-10T07:31:59.098Z"
   },
   {
    "duration": 21,
    "start_time": "2021-07-10T07:31:59.109Z"
   },
   {
    "duration": 9,
    "start_time": "2021-07-10T07:31:59.133Z"
   },
   {
    "duration": 61,
    "start_time": "2021-07-10T07:31:59.144Z"
   },
   {
    "duration": 17502,
    "start_time": "2021-07-10T07:31:59.208Z"
   },
   {
    "duration": 3195,
    "start_time": "2021-07-10T07:32:16.713Z"
   },
   {
    "duration": 14,
    "start_time": "2021-07-10T07:32:19.911Z"
   },
   {
    "duration": 4463,
    "start_time": "2021-07-10T07:34:06.967Z"
   },
   {
    "duration": 4519,
    "start_time": "2021-07-10T07:34:16.262Z"
   },
   {
    "duration": 3329,
    "start_time": "2021-07-10T07:42:54.287Z"
   },
   {
    "duration": 3264,
    "start_time": "2021-07-10T07:43:52.855Z"
   },
   {
    "duration": 3586,
    "start_time": "2021-07-10T07:44:31.461Z"
   },
   {
    "duration": 3422,
    "start_time": "2021-07-10T07:55:44.790Z"
   },
   {
    "duration": 3425,
    "start_time": "2021-07-10T07:56:04.348Z"
   },
   {
    "duration": 518,
    "start_time": "2021-07-10T08:05:42.274Z"
   },
   {
    "duration": 5,
    "start_time": "2021-07-10T08:05:46.412Z"
   },
   {
    "duration": 37,
    "start_time": "2021-07-10T08:05:47.790Z"
   },
   {
    "duration": 4,
    "start_time": "2021-07-10T08:05:48.997Z"
   },
   {
    "duration": 16961,
    "start_time": "2021-07-10T08:05:49.376Z"
   },
   {
    "duration": 3327,
    "start_time": "2021-07-10T08:06:06.340Z"
   },
   {
    "duration": 3,
    "start_time": "2021-07-10T08:07:53.284Z"
   },
   {
    "duration": 3,
    "start_time": "2021-07-10T08:07:59.652Z"
   },
   {
    "duration": 3,
    "start_time": "2021-07-10T08:08:05.295Z"
   },
   {
    "duration": 4,
    "start_time": "2021-07-10T08:08:05.389Z"
   },
   {
    "duration": 5,
    "start_time": "2021-07-10T08:08:06.618Z"
   },
   {
    "duration": 5,
    "start_time": "2021-07-10T08:08:25.174Z"
   },
   {
    "duration": 34,
    "start_time": "2021-07-10T08:08:33.347Z"
   },
   {
    "duration": 4,
    "start_time": "2021-07-10T08:08:34.067Z"
   },
   {
    "duration": 16815,
    "start_time": "2021-07-10T08:08:34.218Z"
   },
   {
    "duration": 3390,
    "start_time": "2021-07-10T08:08:51.036Z"
   },
   {
    "duration": 501,
    "start_time": "2021-07-10T08:08:54.428Z"
   },
   {
    "duration": 4,
    "start_time": "2021-07-10T08:09:32.886Z"
   },
   {
    "duration": 4,
    "start_time": "2021-07-10T08:09:59.422Z"
   },
   {
    "duration": 1377,
    "start_time": "2021-07-10T08:10:47.414Z"
   },
   {
    "duration": 499,
    "start_time": "2021-07-10T08:10:48.795Z"
   },
   {
    "duration": 74,
    "start_time": "2021-07-10T08:10:49.299Z"
   },
   {
    "duration": 5,
    "start_time": "2021-07-10T08:10:49.376Z"
   },
   {
    "duration": 6,
    "start_time": "2021-07-10T08:10:49.384Z"
   },
   {
    "duration": 17,
    "start_time": "2021-07-10T08:10:49.393Z"
   },
   {
    "duration": 258,
    "start_time": "2021-07-10T08:10:49.413Z"
   },
   {
    "duration": 192,
    "start_time": "2021-07-10T08:10:49.675Z"
   },
   {
    "duration": 4,
    "start_time": "2021-07-10T08:10:49.871Z"
   },
   {
    "duration": 7,
    "start_time": "2021-07-10T08:10:49.877Z"
   },
   {
    "duration": 16,
    "start_time": "2021-07-10T08:10:49.887Z"
   },
   {
    "duration": 6,
    "start_time": "2021-07-10T08:10:49.906Z"
   },
   {
    "duration": 79,
    "start_time": "2021-07-10T08:10:49.914Z"
   },
   {
    "duration": 16909,
    "start_time": "2021-07-10T08:10:49.995Z"
   },
   {
    "duration": 3284,
    "start_time": "2021-07-10T08:11:06.907Z"
   },
   {
    "duration": 1145,
    "start_time": "2021-07-10T08:11:15.291Z"
   },
   {
    "duration": 18382,
    "start_time": "2021-07-10T08:12:05.840Z"
   },
   {
    "duration": 125,
    "start_time": "2021-07-10T08:12:26.459Z"
   },
   {
    "duration": 17337,
    "start_time": "2021-07-10T08:13:09.345Z"
   },
   {
    "duration": 3303,
    "start_time": "2021-07-10T08:13:33.779Z"
   },
   {
    "duration": 3304,
    "start_time": "2021-07-10T08:13:42.627Z"
   },
   {
    "duration": 3276,
    "start_time": "2021-07-10T08:14:07.432Z"
   },
   {
    "duration": 4,
    "start_time": "2021-07-10T08:15:25.097Z"
   },
   {
    "duration": 507,
    "start_time": "2021-07-10T08:15:26.292Z"
   },
   {
    "duration": 66,
    "start_time": "2021-07-10T08:15:27.895Z"
   },
   {
    "duration": 5,
    "start_time": "2021-07-10T08:15:28.322Z"
   },
   {
    "duration": 5,
    "start_time": "2021-07-10T08:15:30.684Z"
   },
   {
    "duration": 5,
    "start_time": "2021-07-10T08:17:07.533Z"
   },
   {
    "duration": 499,
    "start_time": "2021-07-10T08:17:07.948Z"
   },
   {
    "duration": 77,
    "start_time": "2021-07-10T08:17:10.168Z"
   },
   {
    "duration": 5,
    "start_time": "2021-07-10T08:17:10.453Z"
   },
   {
    "duration": 4,
    "start_time": "2021-07-10T08:17:11.724Z"
   },
   {
    "duration": 17,
    "start_time": "2021-07-10T08:17:12.026Z"
   },
   {
    "duration": 165,
    "start_time": "2021-07-10T08:17:12.305Z"
   },
   {
    "duration": 15,
    "start_time": "2021-07-10T08:17:12.569Z"
   },
   {
    "duration": 4,
    "start_time": "2021-07-10T08:20:42.084Z"
   },
   {
    "duration": 3,
    "start_time": "2021-07-10T08:20:42.322Z"
   },
   {
    "duration": 5,
    "start_time": "2021-07-10T08:22:36.799Z"
   },
   {
    "duration": 4,
    "start_time": "2021-07-10T08:22:38.966Z"
   },
   {
    "duration": 118,
    "start_time": "2021-07-10T08:22:52.342Z"
   },
   {
    "duration": 34,
    "start_time": "2021-07-10T08:22:57.848Z"
   },
   {
    "duration": 16839,
    "start_time": "2021-07-10T08:22:59.221Z"
   },
   {
    "duration": 3261,
    "start_time": "2021-07-10T08:24:24.188Z"
   },
   {
    "duration": 107,
    "start_time": "2021-07-10T08:26:29.210Z"
   },
   {
    "duration": 1574,
    "start_time": "2021-07-10T08:26:47.032Z"
   },
   {
    "duration": 160,
    "start_time": "2021-07-10T08:26:49.547Z"
   },
   {
    "duration": 335,
    "start_time": "2021-07-10T08:26:55.582Z"
   },
   {
    "duration": 1358,
    "start_time": "2021-07-10T08:29:46.928Z"
   },
   {
    "duration": 526,
    "start_time": "2021-07-10T08:29:48.288Z"
   },
   {
    "duration": 75,
    "start_time": "2021-07-10T08:29:48.817Z"
   },
   {
    "duration": 4,
    "start_time": "2021-07-10T08:29:48.895Z"
   },
   {
    "duration": 8,
    "start_time": "2021-07-10T08:29:48.902Z"
   },
   {
    "duration": 19,
    "start_time": "2021-07-10T08:29:48.912Z"
   },
   {
    "duration": 336,
    "start_time": "2021-07-10T08:29:48.934Z"
   },
   {
    "duration": 100,
    "start_time": "2021-07-10T08:29:49.275Z"
   },
   {
    "duration": 9,
    "start_time": "2021-07-10T08:29:49.377Z"
   },
   {
    "duration": 5,
    "start_time": "2021-07-10T08:29:49.468Z"
   },
   {
    "duration": 17,
    "start_time": "2021-07-10T08:29:49.476Z"
   },
   {
    "duration": 5,
    "start_time": "2021-07-10T08:29:49.495Z"
   },
   {
    "duration": 78,
    "start_time": "2021-07-10T08:29:49.503Z"
   },
   {
    "duration": 16748,
    "start_time": "2021-07-10T08:29:49.583Z"
   },
   {
    "duration": 3304,
    "start_time": "2021-07-10T08:30:06.333Z"
   },
   {
    "duration": 3309,
    "start_time": "2021-07-10T08:31:03.632Z"
   },
   {
    "duration": 1310,
    "start_time": "2021-07-11T05:01:08.329Z"
   },
   {
    "duration": 509,
    "start_time": "2021-07-11T05:01:09.642Z"
   },
   {
    "duration": 71,
    "start_time": "2021-07-11T05:01:10.154Z"
   },
   {
    "duration": 4,
    "start_time": "2021-07-11T05:01:10.228Z"
   },
   {
    "duration": 7,
    "start_time": "2021-07-11T05:01:10.234Z"
   },
   {
    "duration": 19,
    "start_time": "2021-07-11T05:01:10.243Z"
   },
   {
    "duration": 347,
    "start_time": "2021-07-11T05:01:10.265Z"
   },
   {
    "duration": 193,
    "start_time": "2021-07-11T05:01:10.617Z"
   },
   {
    "duration": 4,
    "start_time": "2021-07-11T05:01:10.814Z"
   },
   {
    "duration": 6,
    "start_time": "2021-07-11T05:01:10.821Z"
   },
   {
    "duration": 6,
    "start_time": "2021-07-11T05:01:10.830Z"
   },
   {
    "duration": 16,
    "start_time": "2021-07-11T05:01:10.839Z"
   },
   {
    "duration": 6,
    "start_time": "2021-07-11T05:01:10.858Z"
   },
   {
    "duration": 80,
    "start_time": "2021-07-11T05:01:10.866Z"
   },
   {
    "duration": 16672,
    "start_time": "2021-07-11T05:01:10.950Z"
   },
   {
    "duration": 3190,
    "start_time": "2021-07-11T05:01:27.624Z"
   },
   {
    "duration": 7,
    "start_time": "2021-07-11T05:03:02.009Z"
   },
   {
    "duration": 7,
    "start_time": "2021-07-11T05:03:18.743Z"
   },
   {
    "duration": 10,
    "start_time": "2021-07-11T05:03:33.997Z"
   },
   {
    "duration": 7,
    "start_time": "2021-07-11T05:03:44.931Z"
   },
   {
    "duration": 14,
    "start_time": "2021-07-11T05:04:19.844Z"
   },
   {
    "duration": 15,
    "start_time": "2021-07-11T06:43:06.684Z"
   },
   {
    "duration": 634,
    "start_time": "2021-07-11T06:43:28.271Z"
   },
   {
    "duration": 14,
    "start_time": "2021-07-11T06:43:50.174Z"
   },
   {
    "duration": 13,
    "start_time": "2021-07-11T06:44:08.599Z"
   },
   {
    "duration": 396,
    "start_time": "2021-07-11T06:50:12.892Z"
   },
   {
    "duration": 346,
    "start_time": "2021-07-11T06:50:52.484Z"
   },
   {
    "duration": 15,
    "start_time": "2021-07-11T06:51:14.497Z"
   },
   {
    "duration": 16,
    "start_time": "2021-07-11T06:51:24.106Z"
   },
   {
    "duration": 17,
    "start_time": "2021-07-11T06:51:46.165Z"
   },
   {
    "duration": 17,
    "start_time": "2021-07-11T06:52:04.384Z"
   },
   {
    "duration": 16,
    "start_time": "2021-07-11T07:42:21.996Z"
   },
   {
    "duration": 17,
    "start_time": "2021-07-11T07:42:32.720Z"
   },
   {
    "duration": 7,
    "start_time": "2021-07-11T07:43:33.320Z"
   }
  ],
  "kernelspec": {
   "display_name": "Python 3 (ipykernel)",
   "language": "python",
   "name": "python3"
  },
  "language_info": {
   "codemirror_mode": {
    "name": "ipython",
    "version": 3
   },
   "file_extension": ".py",
   "mimetype": "text/x-python",
   "name": "python",
   "nbconvert_exporter": "python",
   "pygments_lexer": "ipython3",
   "version": "3.9.12"
  },
  "toc": {
   "base_numbering": 1,
   "nav_menu": {},
   "number_sections": true,
   "sideBar": true,
   "skip_h1_title": true,
   "title_cell": "Table of Contents",
   "title_sidebar": "Contents",
   "toc_cell": false,
   "toc_position": {},
   "toc_section_display": true,
   "toc_window_display": false
  }
 },
 "nbformat": 4,
 "nbformat_minor": 2
}
