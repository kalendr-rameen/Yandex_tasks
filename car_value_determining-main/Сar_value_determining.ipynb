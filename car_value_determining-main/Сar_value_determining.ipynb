{
 "cells": [
  {
   "cell_type": "markdown",
   "metadata": {},
   "source": [
    "# Определение стоимости автомобилей"
   ]
  },
  {
   "cell_type": "markdown",
   "metadata": {},
   "source": [
    "Сервис по продаже автомобилей с пробегом «Не бит, не крашен» разрабатывает приложение для привлечения новых клиентов. В нём можно быстро узнать рыночную стоимость своего автомобиля. В вашем распоряжении исторические данные: технические характеристики, комплектации и цены автомобилей. Вам нужно построить модель для определения стоимости. \n",
    "\n",
    "Заказчику важны:\n",
    "\n",
    "- качество предсказания;\n",
    "- скорость предсказания;\n",
    "- время обучения."
   ]
  },
  {
   "cell_type": "markdown",
   "metadata": {},
   "source": [
    "## Подготовка данных"
   ]
  },
  {
   "cell_type": "code",
   "execution_count": 1,
   "metadata": {},
   "outputs": [],
   "source": [
    "import pandas as pd\n",
    "from collections import Counter\n",
    "import numpy as np\n",
    "from sklearn.model_selection import train_test_split\n",
    "from sklearn.metrics import mean_squared_error\n",
    "import time\n",
    "from lightgbm import LGBMRegressor\n",
    "import lightgbm as lgb\n",
    "from sklearn.preprocessing import OrdinalEncoder\n",
    "from sklearn.linear_model import LinearRegression\n",
    "from sklearn.preprocessing import StandardScaler\n",
    "from catboost import CatBoostRegressor"
   ]
  },
  {
   "cell_type": "code",
   "execution_count": 2,
   "metadata": {},
   "outputs": [],
   "source": [
    "df = pd.read_csv('./autos.csv')"
   ]
  },
  {
   "cell_type": "code",
   "execution_count": 3,
   "metadata": {},
   "outputs": [],
   "source": [
    "df = df.rename(columns=str.lower)"
   ]
  },
  {
   "cell_type": "code",
   "execution_count": 4,
   "metadata": {},
   "outputs": [
    {
     "data": {
      "text/html": [
       "<div>\n",
       "<style scoped>\n",
       "    .dataframe tbody tr th:only-of-type {\n",
       "        vertical-align: middle;\n",
       "    }\n",
       "\n",
       "    .dataframe tbody tr th {\n",
       "        vertical-align: top;\n",
       "    }\n",
       "\n",
       "    .dataframe thead th {\n",
       "        text-align: right;\n",
       "    }\n",
       "</style>\n",
       "<table border=\"1\" class=\"dataframe\">\n",
       "  <thead>\n",
       "    <tr style=\"text-align: right;\">\n",
       "      <th></th>\n",
       "      <th>datecrawled</th>\n",
       "      <th>price</th>\n",
       "      <th>vehicletype</th>\n",
       "      <th>registrationyear</th>\n",
       "      <th>gearbox</th>\n",
       "      <th>power</th>\n",
       "      <th>model</th>\n",
       "      <th>kilometer</th>\n",
       "      <th>registrationmonth</th>\n",
       "      <th>fueltype</th>\n",
       "      <th>brand</th>\n",
       "      <th>notrepaired</th>\n",
       "      <th>datecreated</th>\n",
       "      <th>numberofpictures</th>\n",
       "      <th>postalcode</th>\n",
       "      <th>lastseen</th>\n",
       "    </tr>\n",
       "  </thead>\n",
       "  <tbody>\n",
       "    <tr>\n",
       "      <th>0</th>\n",
       "      <td>2016-03-24 11:52:17</td>\n",
       "      <td>480</td>\n",
       "      <td>NaN</td>\n",
       "      <td>1993</td>\n",
       "      <td>manual</td>\n",
       "      <td>0</td>\n",
       "      <td>golf</td>\n",
       "      <td>150000</td>\n",
       "      <td>0</td>\n",
       "      <td>petrol</td>\n",
       "      <td>volkswagen</td>\n",
       "      <td>NaN</td>\n",
       "      <td>2016-03-24 00:00:00</td>\n",
       "      <td>0</td>\n",
       "      <td>70435</td>\n",
       "      <td>2016-04-07 03:16:57</td>\n",
       "    </tr>\n",
       "    <tr>\n",
       "      <th>1</th>\n",
       "      <td>2016-03-24 10:58:45</td>\n",
       "      <td>18300</td>\n",
       "      <td>coupe</td>\n",
       "      <td>2011</td>\n",
       "      <td>manual</td>\n",
       "      <td>190</td>\n",
       "      <td>NaN</td>\n",
       "      <td>125000</td>\n",
       "      <td>5</td>\n",
       "      <td>gasoline</td>\n",
       "      <td>audi</td>\n",
       "      <td>yes</td>\n",
       "      <td>2016-03-24 00:00:00</td>\n",
       "      <td>0</td>\n",
       "      <td>66954</td>\n",
       "      <td>2016-04-07 01:46:50</td>\n",
       "    </tr>\n",
       "    <tr>\n",
       "      <th>2</th>\n",
       "      <td>2016-03-14 12:52:21</td>\n",
       "      <td>9800</td>\n",
       "      <td>suv</td>\n",
       "      <td>2004</td>\n",
       "      <td>auto</td>\n",
       "      <td>163</td>\n",
       "      <td>grand</td>\n",
       "      <td>125000</td>\n",
       "      <td>8</td>\n",
       "      <td>gasoline</td>\n",
       "      <td>jeep</td>\n",
       "      <td>NaN</td>\n",
       "      <td>2016-03-14 00:00:00</td>\n",
       "      <td>0</td>\n",
       "      <td>90480</td>\n",
       "      <td>2016-04-05 12:47:46</td>\n",
       "    </tr>\n",
       "    <tr>\n",
       "      <th>3</th>\n",
       "      <td>2016-03-17 16:54:04</td>\n",
       "      <td>1500</td>\n",
       "      <td>small</td>\n",
       "      <td>2001</td>\n",
       "      <td>manual</td>\n",
       "      <td>75</td>\n",
       "      <td>golf</td>\n",
       "      <td>150000</td>\n",
       "      <td>6</td>\n",
       "      <td>petrol</td>\n",
       "      <td>volkswagen</td>\n",
       "      <td>no</td>\n",
       "      <td>2016-03-17 00:00:00</td>\n",
       "      <td>0</td>\n",
       "      <td>91074</td>\n",
       "      <td>2016-03-17 17:40:17</td>\n",
       "    </tr>\n",
       "    <tr>\n",
       "      <th>4</th>\n",
       "      <td>2016-03-31 17:25:20</td>\n",
       "      <td>3600</td>\n",
       "      <td>small</td>\n",
       "      <td>2008</td>\n",
       "      <td>manual</td>\n",
       "      <td>69</td>\n",
       "      <td>fabia</td>\n",
       "      <td>90000</td>\n",
       "      <td>7</td>\n",
       "      <td>gasoline</td>\n",
       "      <td>skoda</td>\n",
       "      <td>no</td>\n",
       "      <td>2016-03-31 00:00:00</td>\n",
       "      <td>0</td>\n",
       "      <td>60437</td>\n",
       "      <td>2016-04-06 10:17:21</td>\n",
       "    </tr>\n",
       "    <tr>\n",
       "      <th>...</th>\n",
       "      <td>...</td>\n",
       "      <td>...</td>\n",
       "      <td>...</td>\n",
       "      <td>...</td>\n",
       "      <td>...</td>\n",
       "      <td>...</td>\n",
       "      <td>...</td>\n",
       "      <td>...</td>\n",
       "      <td>...</td>\n",
       "      <td>...</td>\n",
       "      <td>...</td>\n",
       "      <td>...</td>\n",
       "      <td>...</td>\n",
       "      <td>...</td>\n",
       "      <td>...</td>\n",
       "      <td>...</td>\n",
       "    </tr>\n",
       "    <tr>\n",
       "      <th>354364</th>\n",
       "      <td>2016-03-21 09:50:58</td>\n",
       "      <td>0</td>\n",
       "      <td>NaN</td>\n",
       "      <td>2005</td>\n",
       "      <td>manual</td>\n",
       "      <td>0</td>\n",
       "      <td>colt</td>\n",
       "      <td>150000</td>\n",
       "      <td>7</td>\n",
       "      <td>petrol</td>\n",
       "      <td>mitsubishi</td>\n",
       "      <td>yes</td>\n",
       "      <td>2016-03-21 00:00:00</td>\n",
       "      <td>0</td>\n",
       "      <td>2694</td>\n",
       "      <td>2016-03-21 10:42:49</td>\n",
       "    </tr>\n",
       "    <tr>\n",
       "      <th>354365</th>\n",
       "      <td>2016-03-14 17:48:27</td>\n",
       "      <td>2200</td>\n",
       "      <td>NaN</td>\n",
       "      <td>2005</td>\n",
       "      <td>NaN</td>\n",
       "      <td>0</td>\n",
       "      <td>NaN</td>\n",
       "      <td>20000</td>\n",
       "      <td>1</td>\n",
       "      <td>NaN</td>\n",
       "      <td>sonstige_autos</td>\n",
       "      <td>NaN</td>\n",
       "      <td>2016-03-14 00:00:00</td>\n",
       "      <td>0</td>\n",
       "      <td>39576</td>\n",
       "      <td>2016-04-06 00:46:52</td>\n",
       "    </tr>\n",
       "    <tr>\n",
       "      <th>354366</th>\n",
       "      <td>2016-03-05 19:56:21</td>\n",
       "      <td>1199</td>\n",
       "      <td>convertible</td>\n",
       "      <td>2000</td>\n",
       "      <td>auto</td>\n",
       "      <td>101</td>\n",
       "      <td>fortwo</td>\n",
       "      <td>125000</td>\n",
       "      <td>3</td>\n",
       "      <td>petrol</td>\n",
       "      <td>smart</td>\n",
       "      <td>no</td>\n",
       "      <td>2016-03-05 00:00:00</td>\n",
       "      <td>0</td>\n",
       "      <td>26135</td>\n",
       "      <td>2016-03-11 18:17:12</td>\n",
       "    </tr>\n",
       "    <tr>\n",
       "      <th>354367</th>\n",
       "      <td>2016-03-19 18:57:12</td>\n",
       "      <td>9200</td>\n",
       "      <td>bus</td>\n",
       "      <td>1996</td>\n",
       "      <td>manual</td>\n",
       "      <td>102</td>\n",
       "      <td>transporter</td>\n",
       "      <td>150000</td>\n",
       "      <td>3</td>\n",
       "      <td>gasoline</td>\n",
       "      <td>volkswagen</td>\n",
       "      <td>no</td>\n",
       "      <td>2016-03-19 00:00:00</td>\n",
       "      <td>0</td>\n",
       "      <td>87439</td>\n",
       "      <td>2016-04-07 07:15:26</td>\n",
       "    </tr>\n",
       "    <tr>\n",
       "      <th>354368</th>\n",
       "      <td>2016-03-20 19:41:08</td>\n",
       "      <td>3400</td>\n",
       "      <td>wagon</td>\n",
       "      <td>2002</td>\n",
       "      <td>manual</td>\n",
       "      <td>100</td>\n",
       "      <td>golf</td>\n",
       "      <td>150000</td>\n",
       "      <td>6</td>\n",
       "      <td>gasoline</td>\n",
       "      <td>volkswagen</td>\n",
       "      <td>NaN</td>\n",
       "      <td>2016-03-20 00:00:00</td>\n",
       "      <td>0</td>\n",
       "      <td>40764</td>\n",
       "      <td>2016-03-24 12:45:21</td>\n",
       "    </tr>\n",
       "  </tbody>\n",
       "</table>\n",
       "<p>354369 rows × 16 columns</p>\n",
       "</div>"
      ],
      "text/plain": [
       "                datecrawled  price  vehicletype  registrationyear gearbox  \\\n",
       "0       2016-03-24 11:52:17    480          NaN              1993  manual   \n",
       "1       2016-03-24 10:58:45  18300        coupe              2011  manual   \n",
       "2       2016-03-14 12:52:21   9800          suv              2004    auto   \n",
       "3       2016-03-17 16:54:04   1500        small              2001  manual   \n",
       "4       2016-03-31 17:25:20   3600        small              2008  manual   \n",
       "...                     ...    ...          ...               ...     ...   \n",
       "354364  2016-03-21 09:50:58      0          NaN              2005  manual   \n",
       "354365  2016-03-14 17:48:27   2200          NaN              2005     NaN   \n",
       "354366  2016-03-05 19:56:21   1199  convertible              2000    auto   \n",
       "354367  2016-03-19 18:57:12   9200          bus              1996  manual   \n",
       "354368  2016-03-20 19:41:08   3400        wagon              2002  manual   \n",
       "\n",
       "        power        model  kilometer  registrationmonth  fueltype  \\\n",
       "0           0         golf     150000                  0    petrol   \n",
       "1         190          NaN     125000                  5  gasoline   \n",
       "2         163        grand     125000                  8  gasoline   \n",
       "3          75         golf     150000                  6    petrol   \n",
       "4          69        fabia      90000                  7  gasoline   \n",
       "...       ...          ...        ...                ...       ...   \n",
       "354364      0         colt     150000                  7    petrol   \n",
       "354365      0          NaN      20000                  1       NaN   \n",
       "354366    101       fortwo     125000                  3    petrol   \n",
       "354367    102  transporter     150000                  3  gasoline   \n",
       "354368    100         golf     150000                  6  gasoline   \n",
       "\n",
       "                 brand notrepaired          datecreated  numberofpictures  \\\n",
       "0           volkswagen         NaN  2016-03-24 00:00:00                 0   \n",
       "1                 audi         yes  2016-03-24 00:00:00                 0   \n",
       "2                 jeep         NaN  2016-03-14 00:00:00                 0   \n",
       "3           volkswagen          no  2016-03-17 00:00:00                 0   \n",
       "4                skoda          no  2016-03-31 00:00:00                 0   \n",
       "...                ...         ...                  ...               ...   \n",
       "354364      mitsubishi         yes  2016-03-21 00:00:00                 0   \n",
       "354365  sonstige_autos         NaN  2016-03-14 00:00:00                 0   \n",
       "354366           smart          no  2016-03-05 00:00:00                 0   \n",
       "354367      volkswagen          no  2016-03-19 00:00:00                 0   \n",
       "354368      volkswagen         NaN  2016-03-20 00:00:00                 0   \n",
       "\n",
       "        postalcode             lastseen  \n",
       "0            70435  2016-04-07 03:16:57  \n",
       "1            66954  2016-04-07 01:46:50  \n",
       "2            90480  2016-04-05 12:47:46  \n",
       "3            91074  2016-03-17 17:40:17  \n",
       "4            60437  2016-04-06 10:17:21  \n",
       "...            ...                  ...  \n",
       "354364        2694  2016-03-21 10:42:49  \n",
       "354365       39576  2016-04-06 00:46:52  \n",
       "354366       26135  2016-03-11 18:17:12  \n",
       "354367       87439  2016-04-07 07:15:26  \n",
       "354368       40764  2016-03-24 12:45:21  \n",
       "\n",
       "[354369 rows x 16 columns]"
      ]
     },
     "execution_count": 4,
     "metadata": {},
     "output_type": "execute_result"
    }
   ],
   "source": [
    "df"
   ]
  },
  {
   "cell_type": "code",
   "execution_count": 5,
   "metadata": {},
   "outputs": [
    {
     "name": "stdout",
     "output_type": "stream",
     "text": [
      "<class 'pandas.core.frame.DataFrame'>\n",
      "RangeIndex: 354369 entries, 0 to 354368\n",
      "Data columns (total 16 columns):\n",
      " #   Column             Non-Null Count   Dtype \n",
      "---  ------             --------------   ----- \n",
      " 0   datecrawled        354369 non-null  object\n",
      " 1   price              354369 non-null  int64 \n",
      " 2   vehicletype        316879 non-null  object\n",
      " 3   registrationyear   354369 non-null  int64 \n",
      " 4   gearbox            334536 non-null  object\n",
      " 5   power              354369 non-null  int64 \n",
      " 6   model              334664 non-null  object\n",
      " 7   kilometer          354369 non-null  int64 \n",
      " 8   registrationmonth  354369 non-null  int64 \n",
      " 9   fueltype           321474 non-null  object\n",
      " 10  brand              354369 non-null  object\n",
      " 11  notrepaired        283215 non-null  object\n",
      " 12  datecreated        354369 non-null  object\n",
      " 13  numberofpictures   354369 non-null  int64 \n",
      " 14  postalcode         354369 non-null  int64 \n",
      " 15  lastseen           354369 non-null  object\n",
      "dtypes: int64(7), object(9)\n",
      "memory usage: 43.3+ MB\n"
     ]
    }
   ],
   "source": [
    "df.info()"
   ]
  },
  {
   "cell_type": "code",
   "execution_count": 6,
   "metadata": {},
   "outputs": [
    {
     "data": {
      "text/plain": [
       "datecrawled          False\n",
       "price                False\n",
       "vehicletype           True\n",
       "registrationyear     False\n",
       "gearbox               True\n",
       "power                False\n",
       "model                 True\n",
       "kilometer            False\n",
       "registrationmonth    False\n",
       "fueltype              True\n",
       "brand                False\n",
       "notrepaired           True\n",
       "datecreated          False\n",
       "numberofpictures     False\n",
       "postalcode           False\n",
       "lastseen             False\n",
       "dtype: bool"
      ]
     },
     "execution_count": 6,
     "metadata": {},
     "output_type": "execute_result"
    }
   ],
   "source": [
    "df.isna().any()"
   ]
  },
  {
   "cell_type": "code",
   "execution_count": 7,
   "metadata": {},
   "outputs": [
    {
     "data": {
      "text/plain": [
       "0"
      ]
     },
     "execution_count": 7,
     "metadata": {},
     "output_type": "execute_result"
    }
   ],
   "source": [
    "df['price'].min()"
   ]
  },
  {
   "cell_type": "markdown",
   "metadata": {},
   "source": [
    "Итак как мы можем заметить цена может быть нулевой, что вряд ли является правдой, поэтому давайте сделаем некую отсечку например в 100 евро которую примем за минимальную стоимость. Хотя как я посмотрел средняя масса машина варьируется от 1-1.5 тонны, а стоимость в европе 1кг стали(по большей части из которого состтоит машина) составляет 7евро. Что означает что даже 100 евро очень мало, но так как мы иначе потеряем слишком много данных при отсечке в 700 евро например, что является приблизительной стоимость если сдать машину на металлолом, поэтому я не уверен что отсечка в 100 евро является верной но как видно на боксплоте такие данные не выбиваются от нормальных значений"
   ]
  },
  {
   "cell_type": "code",
   "execution_count": 8,
   "metadata": {},
   "outputs": [
    {
     "data": {
      "text/plain": [
       "<AxesSubplot:>"
      ]
     },
     "execution_count": 8,
     "metadata": {},
     "output_type": "execute_result"
    },
    {
     "data": {
      "image/png": "[encoded data removed]",
      "text/plain": [
       "<Figure size 432x288 with 1 Axes>"
      ]
     },
     "metadata": {
      "needs_background": "light"
     },
     "output_type": "display_data"
    }
   ],
   "source": [
    "df['price'].plot.box()"
   ]
  },
  {
   "cell_type": "code",
   "execution_count": 9,
   "metadata": {},
   "outputs": [
    {
     "data": {
      "text/plain": [
       "count    354369.000000\n",
       "mean       4416.656776\n",
       "std        4514.158514\n",
       "min           0.000000\n",
       "25%        1050.000000\n",
       "50%        2700.000000\n",
       "75%        6400.000000\n",
       "max       20000.000000\n",
       "Name: price, dtype: float64"
      ]
     },
     "execution_count": 9,
     "metadata": {},
     "output_type": "execute_result"
    }
   ],
   "source": [
    "df['price'].describe()"
   ]
  },
  {
   "cell_type": "code",
   "execution_count": 10,
   "metadata": {},
   "outputs": [],
   "source": [
    "df.drop(df[df['price'] < 100].index, inplace=True)"
   ]
  },
  {
   "cell_type": "markdown",
   "metadata": {},
   "source": [
    "Видно что данные о регистрации машины неправильные попытаемся проанализировать данные чтобы решитть эту проблему"
   ]
  },
  {
   "cell_type": "code",
   "execution_count": 11,
   "metadata": {},
   "outputs": [
    {
     "data": {
      "text/plain": [
       "(1000, 9999)"
      ]
     },
     "execution_count": 11,
     "metadata": {},
     "output_type": "execute_result"
    }
   ],
   "source": [
    "df['registrationyear'].min(), df['registrationyear'].max()"
   ]
  },
  {
   "cell_type": "code",
   "execution_count": 12,
   "metadata": {},
   "outputs": [
    {
     "data": {
      "text/html": [
       "<div>\n",
       "<style scoped>\n",
       "    .dataframe tbody tr th:only-of-type {\n",
       "        vertical-align: middle;\n",
       "    }\n",
       "\n",
       "    .dataframe tbody tr th {\n",
       "        vertical-align: top;\n",
       "    }\n",
       "\n",
       "    .dataframe thead th {\n",
       "        text-align: right;\n",
       "    }\n",
       "</style>\n",
       "<table border=\"1\" class=\"dataframe\">\n",
       "  <thead>\n",
       "    <tr style=\"text-align: right;\">\n",
       "      <th></th>\n",
       "      <th>datecrawled</th>\n",
       "      <th>price</th>\n",
       "      <th>vehicletype</th>\n",
       "      <th>registrationyear</th>\n",
       "      <th>gearbox</th>\n",
       "      <th>power</th>\n",
       "      <th>model</th>\n",
       "      <th>kilometer</th>\n",
       "      <th>registrationmonth</th>\n",
       "      <th>fueltype</th>\n",
       "      <th>brand</th>\n",
       "      <th>notrepaired</th>\n",
       "      <th>datecreated</th>\n",
       "      <th>numberofpictures</th>\n",
       "      <th>postalcode</th>\n",
       "      <th>lastseen</th>\n",
       "    </tr>\n",
       "  </thead>\n",
       "  <tbody>\n",
       "    <tr>\n",
       "      <th>0</th>\n",
       "      <td>2016-03-24 11:52:17</td>\n",
       "      <td>480</td>\n",
       "      <td>NaN</td>\n",
       "      <td>1993</td>\n",
       "      <td>manual</td>\n",
       "      <td>0</td>\n",
       "      <td>golf</td>\n",
       "      <td>150000</td>\n",
       "      <td>0</td>\n",
       "      <td>petrol</td>\n",
       "      <td>volkswagen</td>\n",
       "      <td>NaN</td>\n",
       "      <td>2016-03-24 00:00:00</td>\n",
       "      <td>0</td>\n",
       "      <td>70435</td>\n",
       "      <td>2016-04-07 03:16:57</td>\n",
       "    </tr>\n",
       "    <tr>\n",
       "      <th>1</th>\n",
       "      <td>2016-03-24 10:58:45</td>\n",
       "      <td>18300</td>\n",
       "      <td>coupe</td>\n",
       "      <td>2011</td>\n",
       "      <td>manual</td>\n",
       "      <td>190</td>\n",
       "      <td>NaN</td>\n",
       "      <td>125000</td>\n",
       "      <td>5</td>\n",
       "      <td>gasoline</td>\n",
       "      <td>audi</td>\n",
       "      <td>yes</td>\n",
       "      <td>2016-03-24 00:00:00</td>\n",
       "      <td>0</td>\n",
       "      <td>66954</td>\n",
       "      <td>2016-04-07 01:46:50</td>\n",
       "    </tr>\n",
       "    <tr>\n",
       "      <th>2</th>\n",
       "      <td>2016-03-14 12:52:21</td>\n",
       "      <td>9800</td>\n",
       "      <td>suv</td>\n",
       "      <td>2004</td>\n",
       "      <td>auto</td>\n",
       "      <td>163</td>\n",
       "      <td>grand</td>\n",
       "      <td>125000</td>\n",
       "      <td>8</td>\n",
       "      <td>gasoline</td>\n",
       "      <td>jeep</td>\n",
       "      <td>NaN</td>\n",
       "      <td>2016-03-14 00:00:00</td>\n",
       "      <td>0</td>\n",
       "      <td>90480</td>\n",
       "      <td>2016-04-05 12:47:46</td>\n",
       "    </tr>\n",
       "    <tr>\n",
       "      <th>3</th>\n",
       "      <td>2016-03-17 16:54:04</td>\n",
       "      <td>1500</td>\n",
       "      <td>small</td>\n",
       "      <td>2001</td>\n",
       "      <td>manual</td>\n",
       "      <td>75</td>\n",
       "      <td>golf</td>\n",
       "      <td>150000</td>\n",
       "      <td>6</td>\n",
       "      <td>petrol</td>\n",
       "      <td>volkswagen</td>\n",
       "      <td>no</td>\n",
       "      <td>2016-03-17 00:00:00</td>\n",
       "      <td>0</td>\n",
       "      <td>91074</td>\n",
       "      <td>2016-03-17 17:40:17</td>\n",
       "    </tr>\n",
       "    <tr>\n",
       "      <th>4</th>\n",
       "      <td>2016-03-31 17:25:20</td>\n",
       "      <td>3600</td>\n",
       "      <td>small</td>\n",
       "      <td>2008</td>\n",
       "      <td>manual</td>\n",
       "      <td>69</td>\n",
       "      <td>fabia</td>\n",
       "      <td>90000</td>\n",
       "      <td>7</td>\n",
       "      <td>gasoline</td>\n",
       "      <td>skoda</td>\n",
       "      <td>no</td>\n",
       "      <td>2016-03-31 00:00:00</td>\n",
       "      <td>0</td>\n",
       "      <td>60437</td>\n",
       "      <td>2016-04-06 10:17:21</td>\n",
       "    </tr>\n",
       "    <tr>\n",
       "      <th>...</th>\n",
       "      <td>...</td>\n",
       "      <td>...</td>\n",
       "      <td>...</td>\n",
       "      <td>...</td>\n",
       "      <td>...</td>\n",
       "      <td>...</td>\n",
       "      <td>...</td>\n",
       "      <td>...</td>\n",
       "      <td>...</td>\n",
       "      <td>...</td>\n",
       "      <td>...</td>\n",
       "      <td>...</td>\n",
       "      <td>...</td>\n",
       "      <td>...</td>\n",
       "      <td>...</td>\n",
       "      <td>...</td>\n",
       "    </tr>\n",
       "    <tr>\n",
       "      <th>354363</th>\n",
       "      <td>2016-03-27 20:36:20</td>\n",
       "      <td>1150</td>\n",
       "      <td>bus</td>\n",
       "      <td>2000</td>\n",
       "      <td>manual</td>\n",
       "      <td>0</td>\n",
       "      <td>zafira</td>\n",
       "      <td>150000</td>\n",
       "      <td>3</td>\n",
       "      <td>petrol</td>\n",
       "      <td>opel</td>\n",
       "      <td>no</td>\n",
       "      <td>2016-03-27 00:00:00</td>\n",
       "      <td>0</td>\n",
       "      <td>26624</td>\n",
       "      <td>2016-03-29 10:17:23</td>\n",
       "    </tr>\n",
       "    <tr>\n",
       "      <th>354365</th>\n",
       "      <td>2016-03-14 17:48:27</td>\n",
       "      <td>2200</td>\n",
       "      <td>NaN</td>\n",
       "      <td>2005</td>\n",
       "      <td>NaN</td>\n",
       "      <td>0</td>\n",
       "      <td>NaN</td>\n",
       "      <td>20000</td>\n",
       "      <td>1</td>\n",
       "      <td>NaN</td>\n",
       "      <td>sonstige_autos</td>\n",
       "      <td>NaN</td>\n",
       "      <td>2016-03-14 00:00:00</td>\n",
       "      <td>0</td>\n",
       "      <td>39576</td>\n",
       "      <td>2016-04-06 00:46:52</td>\n",
       "    </tr>\n",
       "    <tr>\n",
       "      <th>354366</th>\n",
       "      <td>2016-03-05 19:56:21</td>\n",
       "      <td>1199</td>\n",
       "      <td>convertible</td>\n",
       "      <td>2000</td>\n",
       "      <td>auto</td>\n",
       "      <td>101</td>\n",
       "      <td>fortwo</td>\n",
       "      <td>125000</td>\n",
       "      <td>3</td>\n",
       "      <td>petrol</td>\n",
       "      <td>smart</td>\n",
       "      <td>no</td>\n",
       "      <td>2016-03-05 00:00:00</td>\n",
       "      <td>0</td>\n",
       "      <td>26135</td>\n",
       "      <td>2016-03-11 18:17:12</td>\n",
       "    </tr>\n",
       "    <tr>\n",
       "      <th>354367</th>\n",
       "      <td>2016-03-19 18:57:12</td>\n",
       "      <td>9200</td>\n",
       "      <td>bus</td>\n",
       "      <td>1996</td>\n",
       "      <td>manual</td>\n",
       "      <td>102</td>\n",
       "      <td>transporter</td>\n",
       "      <td>150000</td>\n",
       "      <td>3</td>\n",
       "      <td>gasoline</td>\n",
       "      <td>volkswagen</td>\n",
       "      <td>no</td>\n",
       "      <td>2016-03-19 00:00:00</td>\n",
       "      <td>0</td>\n",
       "      <td>87439</td>\n",
       "      <td>2016-04-07 07:15:26</td>\n",
       "    </tr>\n",
       "    <tr>\n",
       "      <th>354368</th>\n",
       "      <td>2016-03-20 19:41:08</td>\n",
       "      <td>3400</td>\n",
       "      <td>wagon</td>\n",
       "      <td>2002</td>\n",
       "      <td>manual</td>\n",
       "      <td>100</td>\n",
       "      <td>golf</td>\n",
       "      <td>150000</td>\n",
       "      <td>6</td>\n",
       "      <td>gasoline</td>\n",
       "      <td>volkswagen</td>\n",
       "      <td>NaN</td>\n",
       "      <td>2016-03-20 00:00:00</td>\n",
       "      <td>0</td>\n",
       "      <td>40764</td>\n",
       "      <td>2016-03-24 12:45:21</td>\n",
       "    </tr>\n",
       "  </tbody>\n",
       "</table>\n",
       "<p>341055 rows × 16 columns</p>\n",
       "</div>"
      ],
      "text/plain": [
       "                datecrawled  price  vehicletype  registrationyear gearbox  \\\n",
       "0       2016-03-24 11:52:17    480          NaN              1993  manual   \n",
       "1       2016-03-24 10:58:45  18300        coupe              2011  manual   \n",
       "2       2016-03-14 12:52:21   9800          suv              2004    auto   \n",
       "3       2016-03-17 16:54:04   1500        small              2001  manual   \n",
       "4       2016-03-31 17:25:20   3600        small              2008  manual   \n",
       "...                     ...    ...          ...               ...     ...   \n",
       "354363  2016-03-27 20:36:20   1150          bus              2000  manual   \n",
       "354365  2016-03-14 17:48:27   2200          NaN              2005     NaN   \n",
       "354366  2016-03-05 19:56:21   1199  convertible              2000    auto   \n",
       "354367  2016-03-19 18:57:12   9200          bus              1996  manual   \n",
       "354368  2016-03-20 19:41:08   3400        wagon              2002  manual   \n",
       "\n",
       "        power        model  kilometer  registrationmonth  fueltype  \\\n",
       "0           0         golf     150000                  0    petrol   \n",
       "1         190          NaN     125000                  5  gasoline   \n",
       "2         163        grand     125000                  8  gasoline   \n",
       "3          75         golf     150000                  6    petrol   \n",
       "4          69        fabia      90000                  7  gasoline   \n",
       "...       ...          ...        ...                ...       ...   \n",
       "354363      0       zafira     150000                  3    petrol   \n",
       "354365      0          NaN      20000                  1       NaN   \n",
       "354366    101       fortwo     125000                  3    petrol   \n",
       "354367    102  transporter     150000                  3  gasoline   \n",
       "354368    100         golf     150000                  6  gasoline   \n",
       "\n",
       "                 brand notrepaired          datecreated  numberofpictures  \\\n",
       "0           volkswagen         NaN  2016-03-24 00:00:00                 0   \n",
       "1                 audi         yes  2016-03-24 00:00:00                 0   \n",
       "2                 jeep         NaN  2016-03-14 00:00:00                 0   \n",
       "3           volkswagen          no  2016-03-17 00:00:00                 0   \n",
       "4                skoda          no  2016-03-31 00:00:00                 0   \n",
       "...                ...         ...                  ...               ...   \n",
       "354363            opel          no  2016-03-27 00:00:00                 0   \n",
       "354365  sonstige_autos         NaN  2016-03-14 00:00:00                 0   \n",
       "354366           smart          no  2016-03-05 00:00:00                 0   \n",
       "354367      volkswagen          no  2016-03-19 00:00:00                 0   \n",
       "354368      volkswagen         NaN  2016-03-20 00:00:00                 0   \n",
       "\n",
       "        postalcode             lastseen  \n",
       "0            70435  2016-04-07 03:16:57  \n",
       "1            66954  2016-04-07 01:46:50  \n",
       "2            90480  2016-04-05 12:47:46  \n",
       "3            91074  2016-03-17 17:40:17  \n",
       "4            60437  2016-04-06 10:17:21  \n",
       "...            ...                  ...  \n",
       "354363       26624  2016-03-29 10:17:23  \n",
       "354365       39576  2016-04-06 00:46:52  \n",
       "354366       26135  2016-03-11 18:17:12  \n",
       "354367       87439  2016-04-07 07:15:26  \n",
       "354368       40764  2016-03-24 12:45:21  \n",
       "\n",
       "[341055 rows x 16 columns]"
      ]
     },
     "execution_count": 12,
     "metadata": {},
     "output_type": "execute_result"
    }
   ],
   "source": [
    "df"
   ]
  },
  {
   "cell_type": "code",
   "execution_count": 13,
   "metadata": {},
   "outputs": [],
   "source": [
    "df['lastseen']= pd.to_datetime(df['lastseen'], format='%Y-%m-%d %H:%M:%S')"
   ]
  },
  {
   "cell_type": "code",
   "execution_count": 14,
   "metadata": {},
   "outputs": [
    {
     "data": {
      "text/plain": [
       "2016"
      ]
     },
     "execution_count": 14,
     "metadata": {},
     "output_type": "execute_result"
    }
   ],
   "source": [
    "pd.DatetimeIndex(df['lastseen']).year.max()"
   ]
  },
  {
   "cell_type": "markdown",
   "metadata": {},
   "source": [
    "Видно что дата последнего посещения это 2016 год поэтому сделаем отсечку по максимуму по этому значению,  минимума по очень старым значений годов например 1930 год когда были уже машины и теоретически такие могли быть выложены как что то очень раритетное"
   ]
  },
  {
   "cell_type": "code",
   "execution_count": 15,
   "metadata": {},
   "outputs": [],
   "source": [
    "df['datecrawled']= pd.to_datetime(df['datecrawled'], format='%Y-%m-%d %H:%M:%S')"
   ]
  },
  {
   "cell_type": "code",
   "execution_count": 16,
   "metadata": {},
   "outputs": [
    {
     "data": {
      "text/plain": [
       "2016"
      ]
     },
     "execution_count": 16,
     "metadata": {},
     "output_type": "execute_result"
    }
   ],
   "source": [
    "pd.DatetimeIndex(df['datecrawled']).year.max()"
   ]
  },
  {
   "cell_type": "code",
   "execution_count": 17,
   "metadata": {},
   "outputs": [
    {
     "name": "stdout",
     "output_type": "stream",
     "text": [
      "<class 'pandas.core.frame.DataFrame'>\n",
      "Int64Index: 13687 entries, 22 to 354289\n",
      "Data columns (total 16 columns):\n",
      " #   Column             Non-Null Count  Dtype         \n",
      "---  ------             --------------  -----         \n",
      " 0   datecrawled        13687 non-null  datetime64[ns]\n",
      " 1   price              13687 non-null  int64         \n",
      " 2   vehicletype        19 non-null     object        \n",
      " 3   registrationyear   13687 non-null  int64         \n",
      " 4   gearbox            12009 non-null  object        \n",
      " 5   power              13687 non-null  int64         \n",
      " 6   model              11844 non-null  object        \n",
      " 7   kilometer          13687 non-null  int64         \n",
      " 8   registrationmonth  13687 non-null  int64         \n",
      " 9   fueltype           8484 non-null   object        \n",
      " 10  brand              13687 non-null  object        \n",
      " 11  notrepaired        7795 non-null   object        \n",
      " 12  datecreated        13687 non-null  object        \n",
      " 13  numberofpictures   13687 non-null  int64         \n",
      " 14  postalcode         13687 non-null  int64         \n",
      " 15  lastseen           13687 non-null  datetime64[ns]\n",
      "dtypes: datetime64[ns](2), int64(7), object(7)\n",
      "memory usage: 1.8+ MB\n"
     ]
    }
   ],
   "source": [
    "df[df['registrationyear'] > 2016].info()"
   ]
  },
  {
   "cell_type": "markdown",
   "metadata": {},
   "source": [
    "Можно заметить что если делать отсечку после 2016 года то кол-во пропущенных значений в таких колонках как `vehicletype` `fueltype`, `notrepaired` достаточно велико, что может нас склонять к тому что данные заполненые после 2016 года являются скорее неким выбросом нежели реальными данными, поэтому я все таки решил оставить этот год как значение по которому мы производим отсечку"
   ]
  },
  {
   "cell_type": "code",
   "execution_count": 18,
   "metadata": {},
   "outputs": [
    {
     "data": {
      "text/plain": [
       "array([1910, 1925, 1910, 1910, 1000, 1500, 1929, 1910, 1800, 1910, 1234,\n",
       "       1910, 1000, 1000, 1400, 1910, 1910, 1910, 1000, 1255, 1000, 1910,\n",
       "       1910, 1000, 1910, 1910, 1000, 1000, 1234, 1000, 1000, 1910, 1923,\n",
       "       1500, 1001, 1234, 1000, 1929, 1910, 1000, 1929, 1800, 1000, 1234,\n",
       "       1910, 1000, 1928, 1000, 1000, 1910, 1910, 1910, 1910, 1000, 1600,\n",
       "       1111, 1800, 1039, 1910, 1910, 1929, 1928, 1929, 1910, 1910, 1000,\n",
       "       1000, 1300, 1000, 1910, 1910, 1910, 1000, 1910, 1910, 1500, 1910,\n",
       "       1602, 1927, 1910, 1300, 1910, 1923, 1000, 1910, 1929, 1600, 1800,\n",
       "       1910])"
      ]
     },
     "execution_count": 18,
     "metadata": {},
     "output_type": "execute_result"
    }
   ],
   "source": [
    "df[df['registrationyear'] < 1930]['registrationyear'].values"
   ]
  },
  {
   "cell_type": "code",
   "execution_count": 19,
   "metadata": {},
   "outputs": [
    {
     "name": "stdout",
     "output_type": "stream",
     "text": [
      "<class 'pandas.core.frame.DataFrame'>\n",
      "Int64Index: 89 entries, 15 to 353961\n",
      "Data columns (total 16 columns):\n",
      " #   Column             Non-Null Count  Dtype         \n",
      "---  ------             --------------  -----         \n",
      " 0   datecrawled        89 non-null     datetime64[ns]\n",
      " 1   price              89 non-null     int64         \n",
      " 2   vehicletype        21 non-null     object        \n",
      " 3   registrationyear   89 non-null     int64         \n",
      " 4   gearbox            28 non-null     object        \n",
      " 5   power              89 non-null     int64         \n",
      " 6   model              47 non-null     object        \n",
      " 7   kilometer          89 non-null     int64         \n",
      " 8   registrationmonth  89 non-null     int64         \n",
      " 9   fueltype           31 non-null     object        \n",
      " 10  brand              89 non-null     object        \n",
      " 11  notrepaired        22 non-null     object        \n",
      " 12  datecreated        89 non-null     object        \n",
      " 13  numberofpictures   89 non-null     int64         \n",
      " 14  postalcode         89 non-null     int64         \n",
      " 15  lastseen           89 non-null     datetime64[ns]\n",
      "dtypes: datetime64[ns](2), int64(7), object(7)\n",
      "memory usage: 11.8+ KB\n"
     ]
    }
   ],
   "source": [
    "df[df['registrationyear'] < 1930].info()"
   ]
  },
  {
   "cell_type": "code",
   "execution_count": 20,
   "metadata": {},
   "outputs": [],
   "source": [
    "df.drop(index=df[(df['registrationyear'] > 2016) | (df['registrationyear'] < 1930)].index, inplace=True)"
   ]
  },
  {
   "cell_type": "code",
   "execution_count": 21,
   "metadata": {},
   "outputs": [],
   "source": [
    "df.reset_index(inplace=True, drop=True)"
   ]
  },
  {
   "cell_type": "code",
   "execution_count": 22,
   "metadata": {},
   "outputs": [
    {
     "data": {
      "text/html": [
       "<div>\n",
       "<style scoped>\n",
       "    .dataframe tbody tr th:only-of-type {\n",
       "        vertical-align: middle;\n",
       "    }\n",
       "\n",
       "    .dataframe tbody tr th {\n",
       "        vertical-align: top;\n",
       "    }\n",
       "\n",
       "    .dataframe thead th {\n",
       "        text-align: right;\n",
       "    }\n",
       "</style>\n",
       "<table border=\"1\" class=\"dataframe\">\n",
       "  <thead>\n",
       "    <tr style=\"text-align: right;\">\n",
       "      <th></th>\n",
       "      <th>datecrawled</th>\n",
       "      <th>price</th>\n",
       "      <th>vehicletype</th>\n",
       "      <th>registrationyear</th>\n",
       "      <th>gearbox</th>\n",
       "      <th>power</th>\n",
       "      <th>model</th>\n",
       "      <th>kilometer</th>\n",
       "      <th>registrationmonth</th>\n",
       "      <th>fueltype</th>\n",
       "      <th>brand</th>\n",
       "      <th>notrepaired</th>\n",
       "      <th>datecreated</th>\n",
       "      <th>numberofpictures</th>\n",
       "      <th>postalcode</th>\n",
       "      <th>lastseen</th>\n",
       "    </tr>\n",
       "  </thead>\n",
       "  <tbody>\n",
       "    <tr>\n",
       "      <th>0</th>\n",
       "      <td>2016-03-24 11:52:17</td>\n",
       "      <td>480</td>\n",
       "      <td>NaN</td>\n",
       "      <td>1993</td>\n",
       "      <td>manual</td>\n",
       "      <td>0</td>\n",
       "      <td>golf</td>\n",
       "      <td>150000</td>\n",
       "      <td>0</td>\n",
       "      <td>petrol</td>\n",
       "      <td>volkswagen</td>\n",
       "      <td>NaN</td>\n",
       "      <td>2016-03-24 00:00:00</td>\n",
       "      <td>0</td>\n",
       "      <td>70435</td>\n",
       "      <td>2016-04-07 03:16:57</td>\n",
       "    </tr>\n",
       "    <tr>\n",
       "      <th>1</th>\n",
       "      <td>2016-03-24 10:58:45</td>\n",
       "      <td>18300</td>\n",
       "      <td>coupe</td>\n",
       "      <td>2011</td>\n",
       "      <td>manual</td>\n",
       "      <td>190</td>\n",
       "      <td>NaN</td>\n",
       "      <td>125000</td>\n",
       "      <td>5</td>\n",
       "      <td>gasoline</td>\n",
       "      <td>audi</td>\n",
       "      <td>yes</td>\n",
       "      <td>2016-03-24 00:00:00</td>\n",
       "      <td>0</td>\n",
       "      <td>66954</td>\n",
       "      <td>2016-04-07 01:46:50</td>\n",
       "    </tr>\n",
       "    <tr>\n",
       "      <th>2</th>\n",
       "      <td>2016-03-14 12:52:21</td>\n",
       "      <td>9800</td>\n",
       "      <td>suv</td>\n",
       "      <td>2004</td>\n",
       "      <td>auto</td>\n",
       "      <td>163</td>\n",
       "      <td>grand</td>\n",
       "      <td>125000</td>\n",
       "      <td>8</td>\n",
       "      <td>gasoline</td>\n",
       "      <td>jeep</td>\n",
       "      <td>NaN</td>\n",
       "      <td>2016-03-14 00:00:00</td>\n",
       "      <td>0</td>\n",
       "      <td>90480</td>\n",
       "      <td>2016-04-05 12:47:46</td>\n",
       "    </tr>\n",
       "    <tr>\n",
       "      <th>3</th>\n",
       "      <td>2016-03-17 16:54:04</td>\n",
       "      <td>1500</td>\n",
       "      <td>small</td>\n",
       "      <td>2001</td>\n",
       "      <td>manual</td>\n",
       "      <td>75</td>\n",
       "      <td>golf</td>\n",
       "      <td>150000</td>\n",
       "      <td>6</td>\n",
       "      <td>petrol</td>\n",
       "      <td>volkswagen</td>\n",
       "      <td>no</td>\n",
       "      <td>2016-03-17 00:00:00</td>\n",
       "      <td>0</td>\n",
       "      <td>91074</td>\n",
       "      <td>2016-03-17 17:40:17</td>\n",
       "    </tr>\n",
       "    <tr>\n",
       "      <th>4</th>\n",
       "      <td>2016-03-31 17:25:20</td>\n",
       "      <td>3600</td>\n",
       "      <td>small</td>\n",
       "      <td>2008</td>\n",
       "      <td>manual</td>\n",
       "      <td>69</td>\n",
       "      <td>fabia</td>\n",
       "      <td>90000</td>\n",
       "      <td>7</td>\n",
       "      <td>gasoline</td>\n",
       "      <td>skoda</td>\n",
       "      <td>no</td>\n",
       "      <td>2016-03-31 00:00:00</td>\n",
       "      <td>0</td>\n",
       "      <td>60437</td>\n",
       "      <td>2016-04-06 10:17:21</td>\n",
       "    </tr>\n",
       "    <tr>\n",
       "      <th>...</th>\n",
       "      <td>...</td>\n",
       "      <td>...</td>\n",
       "      <td>...</td>\n",
       "      <td>...</td>\n",
       "      <td>...</td>\n",
       "      <td>...</td>\n",
       "      <td>...</td>\n",
       "      <td>...</td>\n",
       "      <td>...</td>\n",
       "      <td>...</td>\n",
       "      <td>...</td>\n",
       "      <td>...</td>\n",
       "      <td>...</td>\n",
       "      <td>...</td>\n",
       "      <td>...</td>\n",
       "      <td>...</td>\n",
       "    </tr>\n",
       "    <tr>\n",
       "      <th>327274</th>\n",
       "      <td>2016-03-27 20:36:20</td>\n",
       "      <td>1150</td>\n",
       "      <td>bus</td>\n",
       "      <td>2000</td>\n",
       "      <td>manual</td>\n",
       "      <td>0</td>\n",
       "      <td>zafira</td>\n",
       "      <td>150000</td>\n",
       "      <td>3</td>\n",
       "      <td>petrol</td>\n",
       "      <td>opel</td>\n",
       "      <td>no</td>\n",
       "      <td>2016-03-27 00:00:00</td>\n",
       "      <td>0</td>\n",
       "      <td>26624</td>\n",
       "      <td>2016-03-29 10:17:23</td>\n",
       "    </tr>\n",
       "    <tr>\n",
       "      <th>327275</th>\n",
       "      <td>2016-03-14 17:48:27</td>\n",
       "      <td>2200</td>\n",
       "      <td>NaN</td>\n",
       "      <td>2005</td>\n",
       "      <td>NaN</td>\n",
       "      <td>0</td>\n",
       "      <td>NaN</td>\n",
       "      <td>20000</td>\n",
       "      <td>1</td>\n",
       "      <td>NaN</td>\n",
       "      <td>sonstige_autos</td>\n",
       "      <td>NaN</td>\n",
       "      <td>2016-03-14 00:00:00</td>\n",
       "      <td>0</td>\n",
       "      <td>39576</td>\n",
       "      <td>2016-04-06 00:46:52</td>\n",
       "    </tr>\n",
       "    <tr>\n",
       "      <th>327276</th>\n",
       "      <td>2016-03-05 19:56:21</td>\n",
       "      <td>1199</td>\n",
       "      <td>convertible</td>\n",
       "      <td>2000</td>\n",
       "      <td>auto</td>\n",
       "      <td>101</td>\n",
       "      <td>fortwo</td>\n",
       "      <td>125000</td>\n",
       "      <td>3</td>\n",
       "      <td>petrol</td>\n",
       "      <td>smart</td>\n",
       "      <td>no</td>\n",
       "      <td>2016-03-05 00:00:00</td>\n",
       "      <td>0</td>\n",
       "      <td>26135</td>\n",
       "      <td>2016-03-11 18:17:12</td>\n",
       "    </tr>\n",
       "    <tr>\n",
       "      <th>327277</th>\n",
       "      <td>2016-03-19 18:57:12</td>\n",
       "      <td>9200</td>\n",
       "      <td>bus</td>\n",
       "      <td>1996</td>\n",
       "      <td>manual</td>\n",
       "      <td>102</td>\n",
       "      <td>transporter</td>\n",
       "      <td>150000</td>\n",
       "      <td>3</td>\n",
       "      <td>gasoline</td>\n",
       "      <td>volkswagen</td>\n",
       "      <td>no</td>\n",
       "      <td>2016-03-19 00:00:00</td>\n",
       "      <td>0</td>\n",
       "      <td>87439</td>\n",
       "      <td>2016-04-07 07:15:26</td>\n",
       "    </tr>\n",
       "    <tr>\n",
       "      <th>327278</th>\n",
       "      <td>2016-03-20 19:41:08</td>\n",
       "      <td>3400</td>\n",
       "      <td>wagon</td>\n",
       "      <td>2002</td>\n",
       "      <td>manual</td>\n",
       "      <td>100</td>\n",
       "      <td>golf</td>\n",
       "      <td>150000</td>\n",
       "      <td>6</td>\n",
       "      <td>gasoline</td>\n",
       "      <td>volkswagen</td>\n",
       "      <td>NaN</td>\n",
       "      <td>2016-03-20 00:00:00</td>\n",
       "      <td>0</td>\n",
       "      <td>40764</td>\n",
       "      <td>2016-03-24 12:45:21</td>\n",
       "    </tr>\n",
       "  </tbody>\n",
       "</table>\n",
       "<p>327279 rows × 16 columns</p>\n",
       "</div>"
      ],
      "text/plain": [
       "               datecrawled  price  vehicletype  registrationyear gearbox  \\\n",
       "0      2016-03-24 11:52:17    480          NaN              1993  manual   \n",
       "1      2016-03-24 10:58:45  18300        coupe              2011  manual   \n",
       "2      2016-03-14 12:52:21   9800          suv              2004    auto   \n",
       "3      2016-03-17 16:54:04   1500        small              2001  manual   \n",
       "4      2016-03-31 17:25:20   3600        small              2008  manual   \n",
       "...                    ...    ...          ...               ...     ...   \n",
       "327274 2016-03-27 20:36:20   1150          bus              2000  manual   \n",
       "327275 2016-03-14 17:48:27   2200          NaN              2005     NaN   \n",
       "327276 2016-03-05 19:56:21   1199  convertible              2000    auto   \n",
       "327277 2016-03-19 18:57:12   9200          bus              1996  manual   \n",
       "327278 2016-03-20 19:41:08   3400        wagon              2002  manual   \n",
       "\n",
       "        power        model  kilometer  registrationmonth  fueltype  \\\n",
       "0           0         golf     150000                  0    petrol   \n",
       "1         190          NaN     125000                  5  gasoline   \n",
       "2         163        grand     125000                  8  gasoline   \n",
       "3          75         golf     150000                  6    petrol   \n",
       "4          69        fabia      90000                  7  gasoline   \n",
       "...       ...          ...        ...                ...       ...   \n",
       "327274      0       zafira     150000                  3    petrol   \n",
       "327275      0          NaN      20000                  1       NaN   \n",
       "327276    101       fortwo     125000                  3    petrol   \n",
       "327277    102  transporter     150000                  3  gasoline   \n",
       "327278    100         golf     150000                  6  gasoline   \n",
       "\n",
       "                 brand notrepaired          datecreated  numberofpictures  \\\n",
       "0           volkswagen         NaN  2016-03-24 00:00:00                 0   \n",
       "1                 audi         yes  2016-03-24 00:00:00                 0   \n",
       "2                 jeep         NaN  2016-03-14 00:00:00                 0   \n",
       "3           volkswagen          no  2016-03-17 00:00:00                 0   \n",
       "4                skoda          no  2016-03-31 00:00:00                 0   \n",
       "...                ...         ...                  ...               ...   \n",
       "327274            opel          no  2016-03-27 00:00:00                 0   \n",
       "327275  sonstige_autos         NaN  2016-03-14 00:00:00                 0   \n",
       "327276           smart          no  2016-03-05 00:00:00                 0   \n",
       "327277      volkswagen          no  2016-03-19 00:00:00                 0   \n",
       "327278      volkswagen         NaN  2016-03-20 00:00:00                 0   \n",
       "\n",
       "        postalcode            lastseen  \n",
       "0            70435 2016-04-07 03:16:57  \n",
       "1            66954 2016-04-07 01:46:50  \n",
       "2            90480 2016-04-05 12:47:46  \n",
       "3            91074 2016-03-17 17:40:17  \n",
       "4            60437 2016-04-06 10:17:21  \n",
       "...            ...                 ...  \n",
       "327274       26624 2016-03-29 10:17:23  \n",
       "327275       39576 2016-04-06 00:46:52  \n",
       "327276       26135 2016-03-11 18:17:12  \n",
       "327277       87439 2016-04-07 07:15:26  \n",
       "327278       40764 2016-03-24 12:45:21  \n",
       "\n",
       "[327279 rows x 16 columns]"
      ]
     },
     "execution_count": 22,
     "metadata": {},
     "output_type": "execute_result"
    }
   ],
   "source": [
    "df"
   ]
  },
  {
   "cell_type": "markdown",
   "metadata": {},
   "source": [
    "Итак со странностями в данных 'справились' теперь посморим как заполнить пропущенные значения в колонках. Будем заполнять пропущенные значения самыми повторяющимися значения из сводных таблиц или таблиц полученых методом `.groupby()`. Начнём с колонки `model`"
   ]
  },
  {
   "cell_type": "markdown",
   "metadata": {},
   "source": [
    "### `model`-col"
   ]
  },
  {
   "cell_type": "markdown",
   "metadata": {},
   "source": [
    "Итак чтобы заполнить колонку `model` я попытался разбить все данные с помощью столбцов `brand, registrationyear, power, price` при помощи построения свободной таблицы, где значения внутри этой таблицы заполняются самым часто встречающимся значением</div>"
   ]
  },
  {
   "cell_type": "code",
   "execution_count": 23,
   "metadata": {},
   "outputs": [],
   "source": [
    "p_1 = pd.pivot_table(df, values='model', index=['brand','registrationyear', 'power'],columns='price', aggfunc=pd.Series.mode)"
   ]
  },
  {
   "cell_type": "markdown",
   "metadata": {},
   "source": [
    "Затем я создал функцию суть которой состоит в том чтобы разрешать конфликтные моменты если например у меня в выдаче получилось, вместо одного значения модели (напр. c-class), два и более значений (напр. [c-class, e-class,b-class]) или вовсе значение отсутсвует. Данная функция будет выбирать значение с индексом 0 и создавать в конечном итоге список из таких моделей. По сути эта функция аналогична функции `transform()` где данные заполняются в зависимости от выбранной функции для 'трансформирования данных', вообщем надеюсь так понятно)</div>"
   ]
  },
  {
   "cell_type": "code",
   "execution_count": 24,
   "metadata": {},
   "outputs": [],
   "source": [
    "def model_determine(list):\n",
    "    model_list = []\n",
    "    num = 0\n",
    "    for i in list:\n",
    "        if type(p_1.loc[i[0], i[2], i[3]][i[1]]) == np.ndarray:\n",
    "            num += 1\n",
    "            try:\n",
    "                model_list.append(p_1.loc[i[0], i[2], i[3]][i[1]][0])\n",
    "            except:\n",
    "                model_list.append('')\n",
    "        else:\n",
    "            model_list.append(p_1.loc[i[0], i[2], i[3]][i[1]])\n",
    "    print(num)\n",
    "    return model_list    "
   ]
  },
  {
   "cell_type": "markdown",
   "metadata": {},
   "source": [
    "При вызове строки снизу показывается число как раз таких конфликтных моментов и создается обьект типа list которым мы будем запонять пропуски в колонке `model`. "
   ]
  },
  {
   "cell_type": "code",
   "execution_count": 25,
   "metadata": {},
   "outputs": [
    {
     "name": "stdout",
     "output_type": "stream",
     "text": [
      "34465\n"
     ]
    }
   ],
   "source": [
    "a = model_determine(df[['brand','price','registrationyear', 'power']].values)"
   ]
  },
  {
   "cell_type": "code",
   "execution_count": 26,
   "metadata": {},
   "outputs": [],
   "source": [
    "df['model'] = df['model'].fillna(pd.Series(a))"
   ]
  },
  {
   "cell_type": "code",
   "execution_count": 27,
   "metadata": {},
   "outputs": [],
   "source": [
    "df.drop(index = df[df['model'] == ''].index, inplace=True)"
   ]
  },
  {
   "cell_type": "code",
   "execution_count": 28,
   "metadata": {},
   "outputs": [],
   "source": [
    "df.reset_index(drop=True, inplace=True)"
   ]
  },
  {
   "cell_type": "code",
   "execution_count": 29,
   "metadata": {},
   "outputs": [
    {
     "data": {
      "text/plain": [
       "datecrawled          False\n",
       "price                False\n",
       "vehicletype           True\n",
       "registrationyear     False\n",
       "gearbox               True\n",
       "power                False\n",
       "model                False\n",
       "kilometer            False\n",
       "registrationmonth    False\n",
       "fueltype              True\n",
       "brand                False\n",
       "notrepaired           True\n",
       "datecreated          False\n",
       "numberofpictures     False\n",
       "postalcode           False\n",
       "lastseen             False\n",
       "dtype: bool"
      ]
     },
     "execution_count": 29,
     "metadata": {},
     "output_type": "execute_result"
    }
   ],
   "source": [
    "df.isna().any()"
   ]
  },
  {
   "cell_type": "markdown",
   "metadata": {},
   "source": [
    "Здесь чтобы заполнить колонку `vehicletype` я решил что можно сгрупоировать значения по модели машины ведь скорее всего модели в основном определяют тип кузова(как мне по крайней мере всегда казалось) и выбирать также самое частое значение. Сама же функцию выполняет полностью аналогичную роль с функцией `model_determine`"
   ]
  },
  {
   "cell_type": "markdown",
   "metadata": {},
   "source": [
    "### `vehicletype`-col"
   ]
  },
  {
   "cell_type": "code",
   "execution_count": 30,
   "metadata": {},
   "outputs": [],
   "source": [
    "g_1 = df.groupby('model')['vehicletype'].agg(pd.Series.mode)"
   ]
  },
  {
   "cell_type": "code",
   "execution_count": 31,
   "metadata": {},
   "outputs": [],
   "source": [
    "def vehicletype_determine(list):\n",
    "    vehicle_type = []\n",
    "    num = 0 \n",
    "    for i in list:\n",
    "        if type(g_1[i]) == np.ndarray:\n",
    "            num += 1 \n",
    "            try:\n",
    "                vehicle_type.append(g_1.loc[i][0])\n",
    "            except:\n",
    "                vehicle_type.append('')\n",
    "        else:\n",
    "            vehicle_type.append(g_1.loc[i])\n",
    "    print(num)        \n",
    "    return vehicle_type"
   ]
  },
  {
   "cell_type": "code",
   "execution_count": 32,
   "metadata": {},
   "outputs": [
    {
     "name": "stdout",
     "output_type": "stream",
     "text": [
      "10\n"
     ]
    }
   ],
   "source": [
    "a  = pd.Series(vehicletype_determine(df['model'].values))"
   ]
  },
  {
   "cell_type": "code",
   "execution_count": 33,
   "metadata": {},
   "outputs": [],
   "source": [
    "df['vehicletype'].fillna(a,inplace=True)"
   ]
  },
  {
   "cell_type": "code",
   "execution_count": 34,
   "metadata": {},
   "outputs": [],
   "source": [
    "df.drop(index = df[df['vehicletype'] == ''].index, inplace=True)"
   ]
  },
  {
   "cell_type": "code",
   "execution_count": 35,
   "metadata": {},
   "outputs": [],
   "source": [
    "df.reset_index(drop=True, inplace=True)"
   ]
  },
  {
   "cell_type": "code",
   "execution_count": 36,
   "metadata": {},
   "outputs": [
    {
     "data": {
      "text/plain": [
       "datecrawled          False\n",
       "price                False\n",
       "vehicletype          False\n",
       "registrationyear     False\n",
       "gearbox               True\n",
       "power                False\n",
       "model                False\n",
       "kilometer            False\n",
       "registrationmonth    False\n",
       "fueltype              True\n",
       "brand                False\n",
       "notrepaired           True\n",
       "datecreated          False\n",
       "numberofpictures     False\n",
       "postalcode           False\n",
       "lastseen             False\n",
       "dtype: bool"
      ]
     },
     "execution_count": 36,
     "metadata": {},
     "output_type": "execute_result"
    }
   ],
   "source": [
    "df.isna().any()"
   ]
  },
  {
   "cell_type": "markdown",
   "metadata": {},
   "source": [
    "### `gearbox`- col"
   ]
  },
  {
   "cell_type": "code",
   "execution_count": 37,
   "metadata": {},
   "outputs": [],
   "source": [
    "p_2 = df.pivot_table(values='gearbox', index='model', columns='registrationyear', aggfunc=pd.Series.mode)"
   ]
  },
  {
   "cell_type": "code",
   "execution_count": 38,
   "metadata": {},
   "outputs": [],
   "source": [
    "def gearbox_determine(list):\n",
    "    model_list = []\n",
    "    num = 0\n",
    "    for i in list:\n",
    "        if type(p_2.loc[i[0]][i[1]]) == np.ndarray:\n",
    "            num +=1\n",
    "            try:\n",
    "                model_list.append(p_2.loc[i[0]][i[1]][0])\n",
    "            except:\n",
    "                model_list.append('')\n",
    "        else:\n",
    "            model_list.append(p_2.loc[i[0]][i[1]])\n",
    "    print(num)            \n",
    "    return model_list    "
   ]
  },
  {
   "cell_type": "code",
   "execution_count": 39,
   "metadata": {},
   "outputs": [
    {
     "name": "stdout",
     "output_type": "stream",
     "text": [
      "591\n"
     ]
    }
   ],
   "source": [
    "a = gearbox_determine(df[['model','registrationyear']].values)"
   ]
  },
  {
   "cell_type": "code",
   "execution_count": 40,
   "metadata": {},
   "outputs": [],
   "source": [
    "df['gearbox'] = df['gearbox'].fillna(pd.Series(a))"
   ]
  },
  {
   "cell_type": "code",
   "execution_count": 41,
   "metadata": {},
   "outputs": [],
   "source": [
    "df.drop(index = df[df['gearbox'] == ''].index, inplace=True)"
   ]
  },
  {
   "cell_type": "code",
   "execution_count": 42,
   "metadata": {},
   "outputs": [],
   "source": [
    "df.reset_index(drop=True, inplace=True)"
   ]
  },
  {
   "cell_type": "code",
   "execution_count": 43,
   "metadata": {},
   "outputs": [
    {
     "data": {
      "text/plain": [
       "datecrawled          False\n",
       "price                False\n",
       "vehicletype          False\n",
       "registrationyear     False\n",
       "gearbox              False\n",
       "power                False\n",
       "model                False\n",
       "kilometer            False\n",
       "registrationmonth    False\n",
       "fueltype              True\n",
       "brand                False\n",
       "notrepaired           True\n",
       "datecreated          False\n",
       "numberofpictures     False\n",
       "postalcode           False\n",
       "lastseen             False\n",
       "dtype: bool"
      ]
     },
     "execution_count": 43,
     "metadata": {},
     "output_type": "execute_result"
    }
   ],
   "source": [
    "df.isna().any()"
   ]
  },
  {
   "cell_type": "markdown",
   "metadata": {},
   "source": [
    "### `notrepaired`-col"
   ]
  },
  {
   "cell_type": "code",
   "execution_count": 44,
   "metadata": {},
   "outputs": [],
   "source": [
    "p_3 = df.pivot_table(values='notrepaired', index='kilometer', columns='registrationyear', aggfunc=pd.Series.mode)"
   ]
  },
  {
   "cell_type": "code",
   "execution_count": 45,
   "metadata": {},
   "outputs": [],
   "source": [
    "def notrepaired_determine(list):\n",
    "    new_list = []\n",
    "    num = 0 \n",
    "    for i in list:\n",
    "        if type(p_3.loc[i[0]][i[1]]) == np.ndarray:\n",
    "            num += 1 \n",
    "            try:\n",
    "                new_list.append(p_3.loc[i[0]][i[1]][0])\n",
    "            except:\n",
    "                new_list.append('')\n",
    "        else:\n",
    "            new_list.append(p_3.loc[i[0]][i[1]])\n",
    "    print(num)            \n",
    "    return new_list    "
   ]
  },
  {
   "cell_type": "code",
   "execution_count": 46,
   "metadata": {},
   "outputs": [
    {
     "name": "stdout",
     "output_type": "stream",
     "text": [
      "114\n"
     ]
    }
   ],
   "source": [
    "a = notrepaired_determine(df[['kilometer','registrationyear']].values)"
   ]
  },
  {
   "cell_type": "code",
   "execution_count": 47,
   "metadata": {},
   "outputs": [],
   "source": [
    "df['notrepaired'] = df['notrepaired'].fillna(pd.Series(a))"
   ]
  },
  {
   "cell_type": "code",
   "execution_count": 48,
   "metadata": {},
   "outputs": [],
   "source": [
    "df.drop(index = df[df['notrepaired'] == ''].index, inplace=True)"
   ]
  },
  {
   "cell_type": "code",
   "execution_count": 49,
   "metadata": {},
   "outputs": [],
   "source": [
    "df.reset_index(drop=True, inplace=True)"
   ]
  },
  {
   "cell_type": "code",
   "execution_count": 50,
   "metadata": {},
   "outputs": [
    {
     "data": {
      "text/plain": [
       "datecrawled          False\n",
       "price                False\n",
       "vehicletype          False\n",
       "registrationyear     False\n",
       "gearbox              False\n",
       "power                False\n",
       "model                False\n",
       "kilometer            False\n",
       "registrationmonth    False\n",
       "fueltype              True\n",
       "brand                False\n",
       "notrepaired          False\n",
       "datecreated          False\n",
       "numberofpictures     False\n",
       "postalcode           False\n",
       "lastseen             False\n",
       "dtype: bool"
      ]
     },
     "execution_count": 50,
     "metadata": {},
     "output_type": "execute_result"
    }
   ],
   "source": [
    "df.isna().any()"
   ]
  },
  {
   "cell_type": "markdown",
   "metadata": {},
   "source": [
    "### `fueltype`-col"
   ]
  },
  {
   "cell_type": "code",
   "execution_count": 51,
   "metadata": {},
   "outputs": [],
   "source": [
    "p_4 = pd.pivot_table(df, values='fueltype', index=['model', 'power'], columns='registrationyear', aggfunc=pd.Series.mode)"
   ]
  },
  {
   "cell_type": "code",
   "execution_count": 52,
   "metadata": {},
   "outputs": [],
   "source": [
    "def fueltype_determine(list):\n",
    "    new_list = []\n",
    "    num = 0\n",
    "    for i in list:\n",
    "        if type(p_4.loc[i[0], i[2]][i[1]]) == np.ndarray:\n",
    "            num +=1\n",
    "            try:\n",
    "                new_list.append(p_4.loc[i[0], i[2]][i[1]][0])\n",
    "            except:\n",
    "                new_list.append('')\n",
    "        else:\n",
    "            new_list.append(p_4.loc[i[0], i[2]][i[1]])\n",
    "    print(num)            \n",
    "    return new_list    "
   ]
  },
  {
   "cell_type": "code",
   "execution_count": 53,
   "metadata": {},
   "outputs": [
    {
     "name": "stdout",
     "output_type": "stream",
     "text": [
      "4389\n"
     ]
    }
   ],
   "source": [
    "a = fueltype_determine(df[['model','registrationyear', 'power']].values)"
   ]
  },
  {
   "cell_type": "code",
   "execution_count": 54,
   "metadata": {},
   "outputs": [],
   "source": [
    "df['fueltype'] = df['fueltype'].fillna(pd.Series(a))"
   ]
  },
  {
   "cell_type": "code",
   "execution_count": 55,
   "metadata": {},
   "outputs": [],
   "source": [
    "df.drop(index = df[df['fueltype'] == ''].index, inplace=True)"
   ]
  },
  {
   "cell_type": "code",
   "execution_count": 56,
   "metadata": {},
   "outputs": [],
   "source": [
    "df.reset_index(drop=True, inplace=True)"
   ]
  },
  {
   "cell_type": "code",
   "execution_count": 57,
   "metadata": {},
   "outputs": [
    {
     "data": {
      "text/plain": [
       "datecrawled          False\n",
       "price                False\n",
       "vehicletype          False\n",
       "registrationyear     False\n",
       "gearbox              False\n",
       "power                False\n",
       "model                False\n",
       "kilometer            False\n",
       "registrationmonth    False\n",
       "fueltype             False\n",
       "brand                False\n",
       "notrepaired          False\n",
       "datecreated          False\n",
       "numberofpictures     False\n",
       "postalcode           False\n",
       "lastseen             False\n",
       "dtype: bool"
      ]
     },
     "execution_count": 57,
     "metadata": {},
     "output_type": "execute_result"
    }
   ],
   "source": [
    "df.isna().any()"
   ]
  },
  {
   "cell_type": "markdown",
   "metadata": {},
   "source": [
    "## Обучение моделей"
   ]
  },
  {
   "cell_type": "markdown",
   "metadata": {},
   "source": [
    "Итак сначала уберем из наших таблиц данные который точно не должны повлиять на значение цены(которая является нашим таргетом)"
   ]
  },
  {
   "cell_type": "code",
   "execution_count": 58,
   "metadata": {},
   "outputs": [],
   "source": [
    "needless_col = [x.lower() for x in ['DateCrawled', 'DateCreated', 'NumberOfPictures', 'LastSeen']]\n",
    "df.drop(columns=needless_col, inplace=True)"
   ]
  },
  {
   "cell_type": "markdown",
   "metadata": {},
   "source": [
    "Теперь применим технику порядкового кодирования, чтобы перевести категориальные данные в числовые(По правде сказать изначально я сделал этот перевод потому что не мог обучить с категориальными данными модель LightGBM, но после того как перевел заметил что значения на Catboost значительно улучшились, так например RMSE был 1500 на catboost, с категориальными данными, а после стал 300, поэтому решил полностью ко всем моделям это применить, но не совсем понимаю почему результат получается лучше, ведь обе модели рассчитаны на работу с категориальными данными)"
   ]
  },
  {
   "cell_type": "code",
   "execution_count": 59,
   "metadata": {},
   "outputs": [
    {
     "name": "stdout",
     "output_type": "stream",
     "text": [
      "<class 'pandas.core.frame.DataFrame'>\n",
      "RangeIndex: 316303 entries, 0 to 316302\n",
      "Data columns (total 12 columns):\n",
      " #   Column             Non-Null Count   Dtype \n",
      "---  ------             --------------   ----- \n",
      " 0   price              316303 non-null  int64 \n",
      " 1   vehicletype        316303 non-null  object\n",
      " 2   registrationyear   316303 non-null  int64 \n",
      " 3   gearbox            316303 non-null  object\n",
      " 4   power              316303 non-null  int64 \n",
      " 5   model              316303 non-null  object\n",
      " 6   kilometer          316303 non-null  int64 \n",
      " 7   registrationmonth  316303 non-null  int64 \n",
      " 8   fueltype           316303 non-null  object\n",
      " 9   brand              316303 non-null  object\n",
      " 10  notrepaired        316303 non-null  object\n",
      " 11  postalcode         316303 non-null  int64 \n",
      "dtypes: int64(6), object(6)\n",
      "memory usage: 29.0+ MB\n"
     ]
    }
   ],
   "source": [
    "df.info()"
   ]
  },
  {
   "cell_type": "code",
   "execution_count": 60,
   "metadata": {},
   "outputs": [],
   "source": [
    "col = list(df.loc[:, df.dtypes == 'object'].columns)"
   ]
  },
  {
   "cell_type": "code",
   "execution_count": 61,
   "metadata": {},
   "outputs": [],
   "source": [
    "enc = OrdinalEncoder()\n",
    "enc.fit(df[col])\n",
    "df[col] = enc.transform(df[col])"
   ]
  },
  {
   "cell_type": "code",
   "execution_count": 62,
   "metadata": {},
   "outputs": [],
   "source": [
    "df_train, df_other = train_test_split(df, test_size=0.4, random_state=12345)"
   ]
  },
  {
   "cell_type": "code",
   "execution_count": 63,
   "metadata": {},
   "outputs": [],
   "source": [
    "df_valid, df_test = train_test_split(df_other, test_size=0.5, random_state=12345)"
   ]
  },
  {
   "cell_type": "code",
   "execution_count": 64,
   "metadata": {},
   "outputs": [],
   "source": [
    "features_train = df_train.drop(columns='price')\n",
    "target_train = df_train.price"
   ]
  },
  {
   "cell_type": "code",
   "execution_count": 65,
   "metadata": {},
   "outputs": [],
   "source": [
    "features_valid = df_valid.drop(columns='price')\n",
    "target_valid = df_valid.price"
   ]
  },
  {
   "cell_type": "code",
   "execution_count": 66,
   "metadata": {},
   "outputs": [],
   "source": [
    "features_test = df_test.drop(columns='price')\n",
    "target_test = df_test.price"
   ]
  },
  {
   "cell_type": "markdown",
   "metadata": {},
   "source": [
    "Теперь обучим модели на полученныз данных. Возьмем 3 модели: Catboost, LightGBM, LinearRegression. Начнём с первой"
   ]
  },
  {
   "cell_type": "markdown",
   "metadata": {},
   "source": [
    "### Catboost"
   ]
  },
  {
   "cell_type": "code",
   "execution_count": 67,
   "metadata": {},
   "outputs": [],
   "source": [
    "model = CatBoostRegressor(iterations=2000, learning_rate=0.05, depth=10, loss_function = 'MAE', eval_metric = 'RMSE')"
   ]
  },
  {
   "cell_type": "code",
   "execution_count": 68,
   "metadata": {},
   "outputs": [],
   "source": [
    "start_time = time.time()\n",
    "model.fit(features_train, target_train, use_best_model=True, silent=True, eval_set=(features_valid, target_valid))\n",
    "catboost_exec_time = time.time() - start_time"
   ]
  },
  {
   "cell_type": "code",
   "execution_count": 69,
   "metadata": {},
   "outputs": [
    {
     "data": {
      "text/plain": [
       "{'learn': {'MAE': 805.151549138584, 'RMSE': 1365.38860508379},\n",
       " 'validation': {'MAE': 933.0495554442903, 'RMSE': 1558.2092670847323}}"
      ]
     },
     "execution_count": 69,
     "metadata": {},
     "output_type": "execute_result"
    }
   ],
   "source": [
    "model.best_score_"
   ]
  },
  {
   "cell_type": "code",
   "execution_count": 70,
   "metadata": {},
   "outputs": [],
   "source": [
    "mse_catboost = mean_squared_error(target_test, model.predict(features_test))\n",
    "rmse_catboost = mse_catboost ** 0.5"
   ]
  },
  {
   "cell_type": "code",
   "execution_count": 71,
   "metadata": {},
   "outputs": [
    {
     "data": {
      "text/plain": [
       "1539.4826193230224"
      ]
     },
     "execution_count": 71,
     "metadata": {},
     "output_type": "execute_result"
    }
   ],
   "source": [
    "rmse_catboost"
   ]
  },
  {
   "cell_type": "markdown",
   "metadata": {},
   "source": [
    "### LGBMmse_catboost"
   ]
  },
  {
   "cell_type": "code",
   "execution_count": 72,
   "metadata": {},
   "outputs": [],
   "source": [
    "params = {\n",
    "    'boosting_type': 'gbdt',\n",
    "    'objective': 'regression',\n",
    "    'metric': {'l2', 'l1'},\n",
    "    'num_leaves': 31,\n",
    "    'learning_rate': 0.05,\n",
    "    'feature_fraction': 0.9,\n",
    "    'bagging_fraction': 0.8,\n",
    "    'bagging_freq': 5,\n",
    "    'verbose': 0,\n",
    "    \"num_iterations\": 1000,\n",
    "    \"n_estimators\": 10000\n",
    "}\n"
   ]
  },
  {
   "cell_type": "code",
   "execution_count": 73,
   "metadata": {},
   "outputs": [],
   "source": [
    "lgb_train = lgb.Dataset(features_train, target_train)\n",
    "lgb_eval = lgb.Dataset(features_test, target_test, reference=lgb_train)"
   ]
  },
  {
   "cell_type": "code",
   "execution_count": 74,
   "metadata": {
    "scrolled": true
   },
   "outputs": [
    {
     "name": "stderr",
     "output_type": "stream",
     "text": [
      "/Users/ramen/anaconda3/lib/python3.9/site-packages/lightgbm/engine.py:177: UserWarning: Found `num_iterations` in params. Will use it instead of argument\n",
      "  _log_warning(f\"Found `{alias}` in params. Will use it instead of argument\")\n",
      "/Users/ramen/anaconda3/lib/python3.9/site-packages/lightgbm/engine.py:177: UserWarning: Found `n_estimators` in params. Will use it instead of argument\n",
      "  _log_warning(f\"Found `{alias}` in params. Will use it instead of argument\")\n",
      "/Users/ramen/anaconda3/lib/python3.9/site-packages/lightgbm/engine.py:181: UserWarning: 'early_stopping_rounds' argument is deprecated and will be removed in a future release of LightGBM. Pass 'early_stopping()' callback via 'callbacks' argument instead.\n",
      "  _log_warning(\"'early_stopping_rounds' argument is deprecated and will be removed in a future release of LightGBM. \"\n"
     ]
    },
    {
     "name": "stdout",
     "output_type": "stream",
     "text": [
      "[LightGBM] [Warning] Auto-choosing row-wise multi-threading, the overhead of testing was 0.005335 seconds.\n",
      "You can set `force_row_wise=true` to remove the overhead.\n",
      "And if memory is not enough, you can set `force_col_wise=true`.\n",
      "[1]\tvalid_0's l2: 1.91401e+07\tvalid_0's l1: 3428.88\n",
      "Training until validation scores don't improve for 5 rounds\n",
      "[2]\tvalid_0's l2: 1.77994e+07\tvalid_0's l1: 3299.06\n",
      "[3]\tvalid_0's l2: 1.6587e+07\tvalid_0's l1: 3177.25\n",
      "[4]\tvalid_0's l2: 1.54847e+07\tvalid_0's l1: 3061.52\n",
      "[5]\tvalid_0's l2: 1.44927e+07\tvalid_0's l1: 2953.5\n",
      "[6]\tvalid_0's l2: 1.35871e+07\tvalid_0's l1: 2852.67\n",
      "[7]\tvalid_0's l2: 1.27622e+07\tvalid_0's l1: 2757.41\n",
      "[8]\tvalid_0's l2: 1.20104e+07\tvalid_0's l1: 2667.6\n",
      "[9]\tvalid_0's l2: 1.13311e+07\tvalid_0's l1: 2583.24\n",
      "[10]\tvalid_0's l2: 1.07102e+07\tvalid_0's l1: 2504.41\n",
      "[11]\tvalid_0's l2: 1.01779e+07\tvalid_0's l1: 2432.51\n",
      "[12]\tvalid_0's l2: 9.65759e+06\tvalid_0's l1: 2362.77\n",
      "[13]\tvalid_0's l2: 9.18579e+06\tvalid_0's l1: 2296.68\n",
      "[14]\tvalid_0's l2: 8.74618e+06\tvalid_0's l1: 2233.57\n",
      "[15]\tvalid_0's l2: 8.34226e+06\tvalid_0's l1: 2173.87\n",
      "[16]\tvalid_0's l2: 8.00288e+06\tvalid_0's l1: 2121.82\n",
      "[17]\tvalid_0's l2: 7.66217e+06\tvalid_0's l1: 2068.91\n",
      "[18]\tvalid_0's l2: 7.35393e+06\tvalid_0's l1: 2019.78\n",
      "[19]\tvalid_0's l2: 7.06979e+06\tvalid_0's l1: 1973.96\n",
      "[20]\tvalid_0's l2: 6.80861e+06\tvalid_0's l1: 1930.34\n",
      "[21]\tvalid_0's l2: 6.57003e+06\tvalid_0's l1: 1889.15\n",
      "[22]\tvalid_0's l2: 6.35018e+06\tvalid_0's l1: 1851.49\n",
      "[23]\tvalid_0's l2: 6.15129e+06\tvalid_0's l1: 1815.39\n",
      "[24]\tvalid_0's l2: 5.96946e+06\tvalid_0's l1: 1782.07\n",
      "[25]\tvalid_0's l2: 5.79973e+06\tvalid_0's l1: 1750.32\n",
      "[26]\tvalid_0's l2: 5.64529e+06\tvalid_0's l1: 1721.12\n",
      "[27]\tvalid_0's l2: 5.50001e+06\tvalid_0's l1: 1693.23\n",
      "[28]\tvalid_0's l2: 5.36742e+06\tvalid_0's l1: 1666.98\n",
      "[29]\tvalid_0's l2: 5.23923e+06\tvalid_0's l1: 1641.71\n",
      "[30]\tvalid_0's l2: 5.12197e+06\tvalid_0's l1: 1618.44\n",
      "[31]\tvalid_0's l2: 5.00733e+06\tvalid_0's l1: 1595.11\n",
      "[32]\tvalid_0's l2: 4.90278e+06\tvalid_0's l1: 1573.01\n",
      "[33]\tvalid_0's l2: 4.80854e+06\tvalid_0's l1: 1552.8\n",
      "[34]\tvalid_0's l2: 4.71499e+06\tvalid_0's l1: 1531.96\n",
      "[35]\tvalid_0's l2: 4.63148e+06\tvalid_0's l1: 1514.33\n",
      "[36]\tvalid_0's l2: 4.55522e+06\tvalid_0's l1: 1496.93\n",
      "[37]\tvalid_0's l2: 4.47913e+06\tvalid_0's l1: 1480.42\n",
      "[38]\tvalid_0's l2: 4.40974e+06\tvalid_0's l1: 1465.59\n",
      "[39]\tvalid_0's l2: 4.34148e+06\tvalid_0's l1: 1450.29\n",
      "[40]\tvalid_0's l2: 4.27871e+06\tvalid_0's l1: 1435.64\n",
      "[41]\tvalid_0's l2: 4.21586e+06\tvalid_0's l1: 1420.2\n",
      "[42]\tvalid_0's l2: 4.16507e+06\tvalid_0's l1: 1407.62\n",
      "[43]\tvalid_0's l2: 4.11113e+06\tvalid_0's l1: 1393.71\n",
      "[44]\tvalid_0's l2: 4.06074e+06\tvalid_0's l1: 1380.82\n",
      "[45]\tvalid_0's l2: 4.0164e+06\tvalid_0's l1: 1369.03\n",
      "[46]\tvalid_0's l2: 3.97071e+06\tvalid_0's l1: 1357.52\n",
      "[47]\tvalid_0's l2: 3.92224e+06\tvalid_0's l1: 1345.45\n",
      "[48]\tvalid_0's l2: 3.88363e+06\tvalid_0's l1: 1335.42\n",
      "[49]\tvalid_0's l2: 3.83995e+06\tvalid_0's l1: 1324.8\n",
      "[50]\tvalid_0's l2: 3.79966e+06\tvalid_0's l1: 1314.56\n",
      "[51]\tvalid_0's l2: 3.76098e+06\tvalid_0's l1: 1305.59\n",
      "[52]\tvalid_0's l2: 3.72763e+06\tvalid_0's l1: 1297.2\n",
      "[53]\tvalid_0's l2: 3.69384e+06\tvalid_0's l1: 1288.57\n",
      "[54]\tvalid_0's l2: 3.66218e+06\tvalid_0's l1: 1281.19\n",
      "[55]\tvalid_0's l2: 3.63145e+06\tvalid_0's l1: 1274.02\n",
      "[56]\tvalid_0's l2: 3.60666e+06\tvalid_0's l1: 1267.66\n",
      "[57]\tvalid_0's l2: 3.57918e+06\tvalid_0's l1: 1259.83\n",
      "[58]\tvalid_0's l2: 3.55389e+06\tvalid_0's l1: 1253.3\n",
      "[59]\tvalid_0's l2: 3.52974e+06\tvalid_0's l1: 1246.75\n",
      "[60]\tvalid_0's l2: 3.50317e+06\tvalid_0's l1: 1240.43\n",
      "[61]\tvalid_0's l2: 3.47786e+06\tvalid_0's l1: 1234.06\n",
      "[62]\tvalid_0's l2: 3.45764e+06\tvalid_0's l1: 1228.85\n",
      "[63]\tvalid_0's l2: 3.43586e+06\tvalid_0's l1: 1223.24\n",
      "[64]\tvalid_0's l2: 3.41769e+06\tvalid_0's l1: 1218.7\n",
      "[65]\tvalid_0's l2: 3.39887e+06\tvalid_0's l1: 1213.63\n",
      "[66]\tvalid_0's l2: 3.38077e+06\tvalid_0's l1: 1209.27\n",
      "[67]\tvalid_0's l2: 3.36393e+06\tvalid_0's l1: 1205.16\n",
      "[68]\tvalid_0's l2: 3.34765e+06\tvalid_0's l1: 1201.23\n",
      "[69]\tvalid_0's l2: 3.33096e+06\tvalid_0's l1: 1196.68\n",
      "[70]\tvalid_0's l2: 3.31665e+06\tvalid_0's l1: 1192.69\n",
      "[71]\tvalid_0's l2: 3.30548e+06\tvalid_0's l1: 1189.68\n",
      "[72]\tvalid_0's l2: 3.28666e+06\tvalid_0's l1: 1184.73\n",
      "[73]\tvalid_0's l2: 3.27077e+06\tvalid_0's l1: 1180.64\n",
      "[74]\tvalid_0's l2: 3.25766e+06\tvalid_0's l1: 1176.88\n",
      "[75]\tvalid_0's l2: 3.24121e+06\tvalid_0's l1: 1172.76\n",
      "[76]\tvalid_0's l2: 3.22821e+06\tvalid_0's l1: 1169.27\n",
      "[77]\tvalid_0's l2: 3.21422e+06\tvalid_0's l1: 1165.92\n",
      "[78]\tvalid_0's l2: 3.20461e+06\tvalid_0's l1: 1163.54\n",
      "[79]\tvalid_0's l2: 3.1952e+06\tvalid_0's l1: 1161.17\n",
      "[80]\tvalid_0's l2: 3.18328e+06\tvalid_0's l1: 1158\n",
      "[81]\tvalid_0's l2: 3.17156e+06\tvalid_0's l1: 1155.18\n",
      "[82]\tvalid_0's l2: 3.15862e+06\tvalid_0's l1: 1152.19\n",
      "[83]\tvalid_0's l2: 3.14659e+06\tvalid_0's l1: 1149.34\n",
      "[84]\tvalid_0's l2: 3.13527e+06\tvalid_0's l1: 1146.55\n",
      "[85]\tvalid_0's l2: 3.12751e+06\tvalid_0's l1: 1144.81\n",
      "[86]\tvalid_0's l2: 3.1157e+06\tvalid_0's l1: 1142.04\n",
      "[87]\tvalid_0's l2: 3.10609e+06\tvalid_0's l1: 1139.74\n",
      "[88]\tvalid_0's l2: 3.09847e+06\tvalid_0's l1: 1137.84\n",
      "[89]\tvalid_0's l2: 3.09182e+06\tvalid_0's l1: 1136.58\n",
      "[90]\tvalid_0's l2: 3.0836e+06\tvalid_0's l1: 1134.72\n",
      "[91]\tvalid_0's l2: 3.0762e+06\tvalid_0's l1: 1132.87\n",
      "[92]\tvalid_0's l2: 3.07145e+06\tvalid_0's l1: 1131.65\n",
      "[93]\tvalid_0's l2: 3.06473e+06\tvalid_0's l1: 1130.05\n",
      "[94]\tvalid_0's l2: 3.0598e+06\tvalid_0's l1: 1128.89\n",
      "[95]\tvalid_0's l2: 3.05538e+06\tvalid_0's l1: 1127.83\n",
      "[96]\tvalid_0's l2: 3.04936e+06\tvalid_0's l1: 1126.21\n",
      "[97]\tvalid_0's l2: 3.0443e+06\tvalid_0's l1: 1124.72\n",
      "[98]\tvalid_0's l2: 3.03822e+06\tvalid_0's l1: 1123.47\n",
      "[99]\tvalid_0's l2: 3.03404e+06\tvalid_0's l1: 1122.51\n",
      "[100]\tvalid_0's l2: 3.02747e+06\tvalid_0's l1: 1121.09\n",
      "[101]\tvalid_0's l2: 3.02123e+06\tvalid_0's l1: 1119.88\n",
      "[102]\tvalid_0's l2: 3.01346e+06\tvalid_0's l1: 1117.97\n",
      "[103]\tvalid_0's l2: 3.00586e+06\tvalid_0's l1: 1116.08\n",
      "[104]\tvalid_0's l2: 3.00113e+06\tvalid_0's l1: 1114.93\n",
      "[105]\tvalid_0's l2: 2.99617e+06\tvalid_0's l1: 1113.94\n",
      "[106]\tvalid_0's l2: 2.99108e+06\tvalid_0's l1: 1112.62\n",
      "[107]\tvalid_0's l2: 2.98692e+06\tvalid_0's l1: 1111.55\n",
      "[108]\tvalid_0's l2: 2.98324e+06\tvalid_0's l1: 1110.64\n",
      "[109]\tvalid_0's l2: 2.9781e+06\tvalid_0's l1: 1109.23\n",
      "[110]\tvalid_0's l2: 2.97245e+06\tvalid_0's l1: 1107.96\n",
      "[111]\tvalid_0's l2: 2.96769e+06\tvalid_0's l1: 1106.68\n",
      "[112]\tvalid_0's l2: 2.9633e+06\tvalid_0's l1: 1105.77\n",
      "[113]\tvalid_0's l2: 2.95858e+06\tvalid_0's l1: 1104.69\n",
      "[114]\tvalid_0's l2: 2.9522e+06\tvalid_0's l1: 1103.29\n",
      "[115]\tvalid_0's l2: 2.94828e+06\tvalid_0's l1: 1102.5\n",
      "[116]\tvalid_0's l2: 2.9439e+06\tvalid_0's l1: 1101.73\n",
      "[117]\tvalid_0's l2: 2.94036e+06\tvalid_0's l1: 1101.04\n",
      "[118]\tvalid_0's l2: 2.9356e+06\tvalid_0's l1: 1099.85\n",
      "[119]\tvalid_0's l2: 2.93187e+06\tvalid_0's l1: 1099.08\n",
      "[120]\tvalid_0's l2: 2.92922e+06\tvalid_0's l1: 1098.52\n",
      "[121]\tvalid_0's l2: 2.9257e+06\tvalid_0's l1: 1097.9\n",
      "[122]\tvalid_0's l2: 2.92281e+06\tvalid_0's l1: 1097.41\n",
      "[123]\tvalid_0's l2: 2.91722e+06\tvalid_0's l1: 1095.97\n",
      "[124]\tvalid_0's l2: 2.91527e+06\tvalid_0's l1: 1095.48\n",
      "[125]\tvalid_0's l2: 2.91265e+06\tvalid_0's l1: 1094.93\n",
      "[126]\tvalid_0's l2: 2.90917e+06\tvalid_0's l1: 1094.02\n",
      "[127]\tvalid_0's l2: 2.90455e+06\tvalid_0's l1: 1092.98\n",
      "[128]\tvalid_0's l2: 2.90059e+06\tvalid_0's l1: 1092.06\n",
      "[129]\tvalid_0's l2: 2.89806e+06\tvalid_0's l1: 1091.4\n",
      "[130]\tvalid_0's l2: 2.89443e+06\tvalid_0's l1: 1090.65\n",
      "[131]\tvalid_0's l2: 2.88955e+06\tvalid_0's l1: 1089.6\n",
      "[132]\tvalid_0's l2: 2.88467e+06\tvalid_0's l1: 1088.61\n",
      "[133]\tvalid_0's l2: 2.88164e+06\tvalid_0's l1: 1088\n",
      "[134]\tvalid_0's l2: 2.87684e+06\tvalid_0's l1: 1086.87\n",
      "[135]\tvalid_0's l2: 2.87272e+06\tvalid_0's l1: 1086.05\n",
      "[136]\tvalid_0's l2: 2.87043e+06\tvalid_0's l1: 1085.71\n",
      "[137]\tvalid_0's l2: 2.86867e+06\tvalid_0's l1: 1085.3\n",
      "[138]\tvalid_0's l2: 2.86717e+06\tvalid_0's l1: 1085.06\n",
      "[139]\tvalid_0's l2: 2.86309e+06\tvalid_0's l1: 1084.05\n",
      "[140]\tvalid_0's l2: 2.86098e+06\tvalid_0's l1: 1083.57\n",
      "[141]\tvalid_0's l2: 2.8574e+06\tvalid_0's l1: 1082.89\n",
      "[142]\tvalid_0's l2: 2.85413e+06\tvalid_0's l1: 1082.1\n",
      "[143]\tvalid_0's l2: 2.85067e+06\tvalid_0's l1: 1081.38\n",
      "[144]\tvalid_0's l2: 2.84779e+06\tvalid_0's l1: 1080.74\n",
      "[145]\tvalid_0's l2: 2.84285e+06\tvalid_0's l1: 1079.76\n",
      "[146]\tvalid_0's l2: 2.8385e+06\tvalid_0's l1: 1079.03\n",
      "[147]\tvalid_0's l2: 2.83498e+06\tvalid_0's l1: 1078.32\n",
      "[148]\tvalid_0's l2: 2.83339e+06\tvalid_0's l1: 1077.96\n",
      "[149]\tvalid_0's l2: 2.83132e+06\tvalid_0's l1: 1077.5\n",
      "[150]\tvalid_0's l2: 2.82855e+06\tvalid_0's l1: 1077.01\n",
      "[151]\tvalid_0's l2: 2.82563e+06\tvalid_0's l1: 1076.31\n",
      "[152]\tvalid_0's l2: 2.8226e+06\tvalid_0's l1: 1075.51\n",
      "[153]\tvalid_0's l2: 2.81948e+06\tvalid_0's l1: 1074.92\n",
      "[154]\tvalid_0's l2: 2.8165e+06\tvalid_0's l1: 1074.09\n",
      "[155]\tvalid_0's l2: 2.81391e+06\tvalid_0's l1: 1073.62\n",
      "[156]\tvalid_0's l2: 2.81058e+06\tvalid_0's l1: 1073.06\n",
      "[157]\tvalid_0's l2: 2.80872e+06\tvalid_0's l1: 1072.71\n",
      "[158]\tvalid_0's l2: 2.80603e+06\tvalid_0's l1: 1072.35\n",
      "[159]\tvalid_0's l2: 2.8036e+06\tvalid_0's l1: 1071.69\n",
      "[160]\tvalid_0's l2: 2.80102e+06\tvalid_0's l1: 1071.22\n",
      "[161]\tvalid_0's l2: 2.79843e+06\tvalid_0's l1: 1070.74\n",
      "[162]\tvalid_0's l2: 2.79596e+06\tvalid_0's l1: 1070.31\n",
      "[163]\tvalid_0's l2: 2.79402e+06\tvalid_0's l1: 1069.95\n",
      "[164]\tvalid_0's l2: 2.79212e+06\tvalid_0's l1: 1069.63\n",
      "[165]\tvalid_0's l2: 2.79052e+06\tvalid_0's l1: 1069.31\n",
      "[166]\tvalid_0's l2: 2.78755e+06\tvalid_0's l1: 1068.8\n",
      "[167]\tvalid_0's l2: 2.78458e+06\tvalid_0's l1: 1068.13\n",
      "[168]\tvalid_0's l2: 2.78207e+06\tvalid_0's l1: 1067.7\n",
      "[169]\tvalid_0's l2: 2.7794e+06\tvalid_0's l1: 1067.07\n",
      "[170]\tvalid_0's l2: 2.77726e+06\tvalid_0's l1: 1066.54\n",
      "[171]\tvalid_0's l2: 2.77493e+06\tvalid_0's l1: 1065.83\n",
      "[172]\tvalid_0's l2: 2.7732e+06\tvalid_0's l1: 1065.5\n",
      "[173]\tvalid_0's l2: 2.77231e+06\tvalid_0's l1: 1065.3\n",
      "[174]\tvalid_0's l2: 2.77078e+06\tvalid_0's l1: 1064.96\n",
      "[175]\tvalid_0's l2: 2.76945e+06\tvalid_0's l1: 1064.72\n",
      "[176]\tvalid_0's l2: 2.76686e+06\tvalid_0's l1: 1064.03\n",
      "[177]\tvalid_0's l2: 2.76433e+06\tvalid_0's l1: 1063.36\n",
      "[178]\tvalid_0's l2: 2.76234e+06\tvalid_0's l1: 1062.73\n",
      "[179]\tvalid_0's l2: 2.75939e+06\tvalid_0's l1: 1061.99\n",
      "[180]\tvalid_0's l2: 2.75782e+06\tvalid_0's l1: 1061.61\n",
      "[181]\tvalid_0's l2: 2.75695e+06\tvalid_0's l1: 1061.48\n",
      "[182]\tvalid_0's l2: 2.75501e+06\tvalid_0's l1: 1061.11\n",
      "[183]\tvalid_0's l2: 2.75345e+06\tvalid_0's l1: 1060.84\n",
      "[184]\tvalid_0's l2: 2.75189e+06\tvalid_0's l1: 1060.47\n",
      "[185]\tvalid_0's l2: 2.74991e+06\tvalid_0's l1: 1059.98\n",
      "[186]\tvalid_0's l2: 2.74717e+06\tvalid_0's l1: 1059.38\n"
     ]
    },
    {
     "name": "stdout",
     "output_type": "stream",
     "text": [
      "[187]\tvalid_0's l2: 2.74452e+06\tvalid_0's l1: 1058.84\n",
      "[188]\tvalid_0's l2: 2.74203e+06\tvalid_0's l1: 1058.37\n",
      "[189]\tvalid_0's l2: 2.74056e+06\tvalid_0's l1: 1058.08\n",
      "[190]\tvalid_0's l2: 2.73814e+06\tvalid_0's l1: 1057.57\n",
      "[191]\tvalid_0's l2: 2.73709e+06\tvalid_0's l1: 1057.36\n",
      "[192]\tvalid_0's l2: 2.73535e+06\tvalid_0's l1: 1057.03\n",
      "[193]\tvalid_0's l2: 2.73429e+06\tvalid_0's l1: 1056.78\n",
      "[194]\tvalid_0's l2: 2.73262e+06\tvalid_0's l1: 1056.53\n",
      "[195]\tvalid_0's l2: 2.73202e+06\tvalid_0's l1: 1056.38\n",
      "[196]\tvalid_0's l2: 2.73112e+06\tvalid_0's l1: 1056.15\n",
      "[197]\tvalid_0's l2: 2.72945e+06\tvalid_0's l1: 1055.72\n",
      "[198]\tvalid_0's l2: 2.72702e+06\tvalid_0's l1: 1055.3\n",
      "[199]\tvalid_0's l2: 2.72622e+06\tvalid_0's l1: 1055.09\n",
      "[200]\tvalid_0's l2: 2.72482e+06\tvalid_0's l1: 1054.69\n",
      "[201]\tvalid_0's l2: 2.72285e+06\tvalid_0's l1: 1054.31\n",
      "[202]\tvalid_0's l2: 2.72135e+06\tvalid_0's l1: 1054.01\n",
      "[203]\tvalid_0's l2: 2.71993e+06\tvalid_0's l1: 1053.72\n",
      "[204]\tvalid_0's l2: 2.71815e+06\tvalid_0's l1: 1053.37\n",
      "[205]\tvalid_0's l2: 2.71636e+06\tvalid_0's l1: 1053\n",
      "[206]\tvalid_0's l2: 2.71498e+06\tvalid_0's l1: 1052.72\n",
      "[207]\tvalid_0's l2: 2.71397e+06\tvalid_0's l1: 1052.46\n",
      "[208]\tvalid_0's l2: 2.7122e+06\tvalid_0's l1: 1051.95\n",
      "[209]\tvalid_0's l2: 2.71156e+06\tvalid_0's l1: 1051.78\n",
      "[210]\tvalid_0's l2: 2.7102e+06\tvalid_0's l1: 1051.49\n",
      "[211]\tvalid_0's l2: 2.70796e+06\tvalid_0's l1: 1051.01\n",
      "[212]\tvalid_0's l2: 2.70579e+06\tvalid_0's l1: 1050.58\n",
      "[213]\tvalid_0's l2: 2.70406e+06\tvalid_0's l1: 1050.22\n",
      "[214]\tvalid_0's l2: 2.70218e+06\tvalid_0's l1: 1049.52\n",
      "[215]\tvalid_0's l2: 2.7005e+06\tvalid_0's l1: 1049.16\n",
      "[216]\tvalid_0's l2: 2.69924e+06\tvalid_0's l1: 1048.95\n",
      "[217]\tvalid_0's l2: 2.69849e+06\tvalid_0's l1: 1048.77\n",
      "[218]\tvalid_0's l2: 2.69688e+06\tvalid_0's l1: 1048.4\n",
      "[219]\tvalid_0's l2: 2.69528e+06\tvalid_0's l1: 1048.07\n",
      "[220]\tvalid_0's l2: 2.69439e+06\tvalid_0's l1: 1047.85\n",
      "[221]\tvalid_0's l2: 2.69294e+06\tvalid_0's l1: 1047.68\n",
      "[222]\tvalid_0's l2: 2.69127e+06\tvalid_0's l1: 1047.39\n",
      "[223]\tvalid_0's l2: 2.69016e+06\tvalid_0's l1: 1047.24\n",
      "[224]\tvalid_0's l2: 2.68935e+06\tvalid_0's l1: 1047.1\n",
      "[225]\tvalid_0's l2: 2.68753e+06\tvalid_0's l1: 1046.77\n",
      "[226]\tvalid_0's l2: 2.68595e+06\tvalid_0's l1: 1046.55\n",
      "[227]\tvalid_0's l2: 2.68456e+06\tvalid_0's l1: 1046.36\n",
      "[228]\tvalid_0's l2: 2.68394e+06\tvalid_0's l1: 1046.22\n",
      "[229]\tvalid_0's l2: 2.6827e+06\tvalid_0's l1: 1046.03\n",
      "[230]\tvalid_0's l2: 2.68049e+06\tvalid_0's l1: 1045.59\n",
      "[231]\tvalid_0's l2: 2.6797e+06\tvalid_0's l1: 1045.4\n",
      "[232]\tvalid_0's l2: 2.67838e+06\tvalid_0's l1: 1045.19\n",
      "[233]\tvalid_0's l2: 2.67771e+06\tvalid_0's l1: 1045.06\n",
      "[234]\tvalid_0's l2: 2.67645e+06\tvalid_0's l1: 1044.85\n",
      "[235]\tvalid_0's l2: 2.67577e+06\tvalid_0's l1: 1044.67\n",
      "[236]\tvalid_0's l2: 2.67516e+06\tvalid_0's l1: 1044.42\n",
      "[237]\tvalid_0's l2: 2.67332e+06\tvalid_0's l1: 1043.97\n",
      "[238]\tvalid_0's l2: 2.67252e+06\tvalid_0's l1: 1043.87\n",
      "[239]\tvalid_0's l2: 2.6717e+06\tvalid_0's l1: 1043.73\n",
      "[240]\tvalid_0's l2: 2.6692e+06\tvalid_0's l1: 1043.13\n",
      "[241]\tvalid_0's l2: 2.66759e+06\tvalid_0's l1: 1042.8\n",
      "[242]\tvalid_0's l2: 2.66693e+06\tvalid_0's l1: 1042.64\n",
      "[243]\tvalid_0's l2: 2.66651e+06\tvalid_0's l1: 1042.6\n",
      "[244]\tvalid_0's l2: 2.6659e+06\tvalid_0's l1: 1042.5\n",
      "[245]\tvalid_0's l2: 2.66549e+06\tvalid_0's l1: 1042.39\n",
      "[246]\tvalid_0's l2: 2.6645e+06\tvalid_0's l1: 1042.12\n",
      "[247]\tvalid_0's l2: 2.66333e+06\tvalid_0's l1: 1041.87\n",
      "[248]\tvalid_0's l2: 2.66165e+06\tvalid_0's l1: 1041.42\n",
      "[249]\tvalid_0's l2: 2.66052e+06\tvalid_0's l1: 1041.2\n",
      "[250]\tvalid_0's l2: 2.65984e+06\tvalid_0's l1: 1041.08\n",
      "[251]\tvalid_0's l2: 2.65919e+06\tvalid_0's l1: 1040.98\n",
      "[252]\tvalid_0's l2: 2.65897e+06\tvalid_0's l1: 1040.9\n",
      "[253]\tvalid_0's l2: 2.65834e+06\tvalid_0's l1: 1040.79\n",
      "[254]\tvalid_0's l2: 2.65817e+06\tvalid_0's l1: 1040.73\n",
      "[255]\tvalid_0's l2: 2.65765e+06\tvalid_0's l1: 1040.62\n",
      "[256]\tvalid_0's l2: 2.65599e+06\tvalid_0's l1: 1040.28\n",
      "[257]\tvalid_0's l2: 2.65446e+06\tvalid_0's l1: 1039.98\n",
      "[258]\tvalid_0's l2: 2.6531e+06\tvalid_0's l1: 1039.7\n",
      "[259]\tvalid_0's l2: 2.6516e+06\tvalid_0's l1: 1039.43\n",
      "[260]\tvalid_0's l2: 2.64998e+06\tvalid_0's l1: 1039.04\n",
      "[261]\tvalid_0's l2: 2.64899e+06\tvalid_0's l1: 1038.81\n",
      "[262]\tvalid_0's l2: 2.6477e+06\tvalid_0's l1: 1038.47\n",
      "[263]\tvalid_0's l2: 2.64657e+06\tvalid_0's l1: 1038.26\n",
      "[264]\tvalid_0's l2: 2.64539e+06\tvalid_0's l1: 1037.95\n",
      "[265]\tvalid_0's l2: 2.64448e+06\tvalid_0's l1: 1037.79\n",
      "[266]\tvalid_0's l2: 2.64312e+06\tvalid_0's l1: 1037.47\n",
      "[267]\tvalid_0's l2: 2.64294e+06\tvalid_0's l1: 1037.39\n",
      "[268]\tvalid_0's l2: 2.64186e+06\tvalid_0's l1: 1037.12\n",
      "[269]\tvalid_0's l2: 2.64088e+06\tvalid_0's l1: 1036.94\n",
      "[270]\tvalid_0's l2: 2.64035e+06\tvalid_0's l1: 1036.78\n",
      "[271]\tvalid_0's l2: 2.63867e+06\tvalid_0's l1: 1036.43\n",
      "[272]\tvalid_0's l2: 2.63765e+06\tvalid_0's l1: 1036.13\n",
      "[273]\tvalid_0's l2: 2.63617e+06\tvalid_0's l1: 1035.85\n",
      "[274]\tvalid_0's l2: 2.63481e+06\tvalid_0's l1: 1035.45\n",
      "[275]\tvalid_0's l2: 2.63374e+06\tvalid_0's l1: 1035.28\n",
      "[276]\tvalid_0's l2: 2.63364e+06\tvalid_0's l1: 1035.26\n",
      "[277]\tvalid_0's l2: 2.6331e+06\tvalid_0's l1: 1035.14\n",
      "[278]\tvalid_0's l2: 2.63299e+06\tvalid_0's l1: 1035.11\n",
      "[279]\tvalid_0's l2: 2.63262e+06\tvalid_0's l1: 1035.06\n",
      "[280]\tvalid_0's l2: 2.63163e+06\tvalid_0's l1: 1034.86\n",
      "[281]\tvalid_0's l2: 2.63066e+06\tvalid_0's l1: 1034.68\n",
      "[282]\tvalid_0's l2: 2.62931e+06\tvalid_0's l1: 1034.37\n",
      "[283]\tvalid_0's l2: 2.62794e+06\tvalid_0's l1: 1034.05\n",
      "[284]\tvalid_0's l2: 2.62683e+06\tvalid_0's l1: 1033.83\n",
      "[285]\tvalid_0's l2: 2.62571e+06\tvalid_0's l1: 1033.66\n",
      "[286]\tvalid_0's l2: 2.62533e+06\tvalid_0's l1: 1033.59\n",
      "[287]\tvalid_0's l2: 2.62515e+06\tvalid_0's l1: 1033.54\n",
      "[288]\tvalid_0's l2: 2.62491e+06\tvalid_0's l1: 1033.51\n",
      "[289]\tvalid_0's l2: 2.62476e+06\tvalid_0's l1: 1033.44\n",
      "[290]\tvalid_0's l2: 2.62457e+06\tvalid_0's l1: 1033.36\n",
      "[291]\tvalid_0's l2: 2.62361e+06\tvalid_0's l1: 1033.13\n",
      "[292]\tvalid_0's l2: 2.62216e+06\tvalid_0's l1: 1032.79\n",
      "[293]\tvalid_0's l2: 2.62048e+06\tvalid_0's l1: 1032.45\n",
      "[294]\tvalid_0's l2: 2.61966e+06\tvalid_0's l1: 1032.32\n",
      "[295]\tvalid_0's l2: 2.61845e+06\tvalid_0's l1: 1032.02\n",
      "[296]\tvalid_0's l2: 2.61674e+06\tvalid_0's l1: 1031.6\n",
      "[297]\tvalid_0's l2: 2.61536e+06\tvalid_0's l1: 1031.22\n",
      "[298]\tvalid_0's l2: 2.61427e+06\tvalid_0's l1: 1030.96\n",
      "[299]\tvalid_0's l2: 2.61364e+06\tvalid_0's l1: 1030.84\n",
      "[300]\tvalid_0's l2: 2.61313e+06\tvalid_0's l1: 1030.72\n",
      "[301]\tvalid_0's l2: 2.61293e+06\tvalid_0's l1: 1030.64\n",
      "[302]\tvalid_0's l2: 2.61264e+06\tvalid_0's l1: 1030.57\n",
      "[303]\tvalid_0's l2: 2.61166e+06\tvalid_0's l1: 1030.37\n",
      "[304]\tvalid_0's l2: 2.6116e+06\tvalid_0's l1: 1030.32\n",
      "[305]\tvalid_0's l2: 2.61018e+06\tvalid_0's l1: 1029.99\n",
      "[306]\tvalid_0's l2: 2.6096e+06\tvalid_0's l1: 1029.88\n",
      "[307]\tvalid_0's l2: 2.60892e+06\tvalid_0's l1: 1029.76\n",
      "[308]\tvalid_0's l2: 2.6076e+06\tvalid_0's l1: 1029.52\n",
      "[309]\tvalid_0's l2: 2.6064e+06\tvalid_0's l1: 1029.22\n",
      "[310]\tvalid_0's l2: 2.60471e+06\tvalid_0's l1: 1028.9\n",
      "[311]\tvalid_0's l2: 2.60306e+06\tvalid_0's l1: 1028.69\n",
      "[312]\tvalid_0's l2: 2.60172e+06\tvalid_0's l1: 1028.4\n",
      "[313]\tvalid_0's l2: 2.60048e+06\tvalid_0's l1: 1028.09\n",
      "[314]\tvalid_0's l2: 2.59905e+06\tvalid_0's l1: 1027.82\n",
      "[315]\tvalid_0's l2: 2.59789e+06\tvalid_0's l1: 1027.57\n",
      "[316]\tvalid_0's l2: 2.59566e+06\tvalid_0's l1: 1027.1\n",
      "[317]\tvalid_0's l2: 2.59357e+06\tvalid_0's l1: 1026.6\n",
      "[318]\tvalid_0's l2: 2.59212e+06\tvalid_0's l1: 1026.23\n",
      "[319]\tvalid_0's l2: 2.59151e+06\tvalid_0's l1: 1026.08\n",
      "[320]\tvalid_0's l2: 2.59001e+06\tvalid_0's l1: 1025.76\n",
      "[321]\tvalid_0's l2: 2.58985e+06\tvalid_0's l1: 1025.72\n",
      "[322]\tvalid_0's l2: 2.58949e+06\tvalid_0's l1: 1025.65\n",
      "[323]\tvalid_0's l2: 2.58934e+06\tvalid_0's l1: 1025.61\n",
      "[324]\tvalid_0's l2: 2.58909e+06\tvalid_0's l1: 1025.58\n",
      "[325]\tvalid_0's l2: 2.58871e+06\tvalid_0's l1: 1025.54\n",
      "[326]\tvalid_0's l2: 2.58775e+06\tvalid_0's l1: 1025.31\n",
      "[327]\tvalid_0's l2: 2.58658e+06\tvalid_0's l1: 1024.97\n",
      "[328]\tvalid_0's l2: 2.58614e+06\tvalid_0's l1: 1024.86\n",
      "[329]\tvalid_0's l2: 2.58519e+06\tvalid_0's l1: 1024.57\n",
      "[330]\tvalid_0's l2: 2.58372e+06\tvalid_0's l1: 1024.23\n",
      "[331]\tvalid_0's l2: 2.58237e+06\tvalid_0's l1: 1023.88\n",
      "[332]\tvalid_0's l2: 2.58123e+06\tvalid_0's l1: 1023.59\n",
      "[333]\tvalid_0's l2: 2.58008e+06\tvalid_0's l1: 1023.31\n",
      "[334]\tvalid_0's l2: 2.57956e+06\tvalid_0's l1: 1023.22\n",
      "[335]\tvalid_0's l2: 2.57852e+06\tvalid_0's l1: 1022.95\n",
      "[336]\tvalid_0's l2: 2.57726e+06\tvalid_0's l1: 1022.67\n",
      "[337]\tvalid_0's l2: 2.57638e+06\tvalid_0's l1: 1022.54\n",
      "[338]\tvalid_0's l2: 2.57613e+06\tvalid_0's l1: 1022.44\n",
      "[339]\tvalid_0's l2: 2.57548e+06\tvalid_0's l1: 1022.34\n",
      "[340]\tvalid_0's l2: 2.57403e+06\tvalid_0's l1: 1022.03\n",
      "[341]\tvalid_0's l2: 2.57318e+06\tvalid_0's l1: 1021.88\n"
     ]
    },
    {
     "name": "stdout",
     "output_type": "stream",
     "text": [
      "[342]\tvalid_0's l2: 2.57202e+06\tvalid_0's l1: 1021.64\n",
      "[343]\tvalid_0's l2: 2.57083e+06\tvalid_0's l1: 1021.38\n",
      "[344]\tvalid_0's l2: 2.56974e+06\tvalid_0's l1: 1021.09\n",
      "[345]\tvalid_0's l2: 2.56886e+06\tvalid_0's l1: 1020.77\n",
      "[346]\tvalid_0's l2: 2.56728e+06\tvalid_0's l1: 1020.39\n",
      "[347]\tvalid_0's l2: 2.56551e+06\tvalid_0's l1: 1020.07\n",
      "[348]\tvalid_0's l2: 2.56419e+06\tvalid_0's l1: 1019.79\n",
      "[349]\tvalid_0's l2: 2.56387e+06\tvalid_0's l1: 1019.67\n",
      "[350]\tvalid_0's l2: 2.56312e+06\tvalid_0's l1: 1019.57\n",
      "[351]\tvalid_0's l2: 2.56142e+06\tvalid_0's l1: 1019.21\n",
      "[352]\tvalid_0's l2: 2.56062e+06\tvalid_0's l1: 1019.04\n",
      "[353]\tvalid_0's l2: 2.5594e+06\tvalid_0's l1: 1018.72\n",
      "[354]\tvalid_0's l2: 2.55872e+06\tvalid_0's l1: 1018.51\n",
      "[355]\tvalid_0's l2: 2.55817e+06\tvalid_0's l1: 1018.42\n",
      "[356]\tvalid_0's l2: 2.55786e+06\tvalid_0's l1: 1018.38\n",
      "[357]\tvalid_0's l2: 2.55658e+06\tvalid_0's l1: 1018.03\n",
      "[358]\tvalid_0's l2: 2.55622e+06\tvalid_0's l1: 1017.96\n",
      "[359]\tvalid_0's l2: 2.55458e+06\tvalid_0's l1: 1017.62\n",
      "[360]\tvalid_0's l2: 2.55415e+06\tvalid_0's l1: 1017.47\n",
      "[361]\tvalid_0's l2: 2.55339e+06\tvalid_0's l1: 1017.33\n",
      "[362]\tvalid_0's l2: 2.55279e+06\tvalid_0's l1: 1017.18\n",
      "[363]\tvalid_0's l2: 2.55237e+06\tvalid_0's l1: 1017.11\n",
      "[364]\tvalid_0's l2: 2.55183e+06\tvalid_0's l1: 1016.98\n",
      "[365]\tvalid_0's l2: 2.55103e+06\tvalid_0's l1: 1016.79\n",
      "[366]\tvalid_0's l2: 2.55067e+06\tvalid_0's l1: 1016.74\n",
      "[367]\tvalid_0's l2: 2.55051e+06\tvalid_0's l1: 1016.68\n",
      "[368]\tvalid_0's l2: 2.54973e+06\tvalid_0's l1: 1016.5\n",
      "[369]\tvalid_0's l2: 2.54949e+06\tvalid_0's l1: 1016.46\n",
      "[370]\tvalid_0's l2: 2.54919e+06\tvalid_0's l1: 1016.38\n",
      "[371]\tvalid_0's l2: 2.54832e+06\tvalid_0's l1: 1016.23\n",
      "[372]\tvalid_0's l2: 2.54761e+06\tvalid_0's l1: 1016.11\n",
      "[373]\tvalid_0's l2: 2.54691e+06\tvalid_0's l1: 1016\n",
      "[374]\tvalid_0's l2: 2.54631e+06\tvalid_0's l1: 1015.85\n",
      "[375]\tvalid_0's l2: 2.54598e+06\tvalid_0's l1: 1015.79\n",
      "[376]\tvalid_0's l2: 2.54478e+06\tvalid_0's l1: 1015.52\n",
      "[377]\tvalid_0's l2: 2.54423e+06\tvalid_0's l1: 1015.3\n",
      "[378]\tvalid_0's l2: 2.54304e+06\tvalid_0's l1: 1014.99\n",
      "[379]\tvalid_0's l2: 2.54202e+06\tvalid_0's l1: 1014.73\n",
      "[380]\tvalid_0's l2: 2.54111e+06\tvalid_0's l1: 1014.54\n",
      "[381]\tvalid_0's l2: 2.53973e+06\tvalid_0's l1: 1014.23\n",
      "[382]\tvalid_0's l2: 2.53953e+06\tvalid_0's l1: 1014.16\n",
      "[383]\tvalid_0's l2: 2.53856e+06\tvalid_0's l1: 1013.9\n",
      "[384]\tvalid_0's l2: 2.53778e+06\tvalid_0's l1: 1013.79\n",
      "[385]\tvalid_0's l2: 2.5369e+06\tvalid_0's l1: 1013.63\n",
      "[386]\tvalid_0's l2: 2.53582e+06\tvalid_0's l1: 1013.4\n",
      "[387]\tvalid_0's l2: 2.53485e+06\tvalid_0's l1: 1013.08\n",
      "[388]\tvalid_0's l2: 2.53398e+06\tvalid_0's l1: 1012.77\n",
      "[389]\tvalid_0's l2: 2.53307e+06\tvalid_0's l1: 1012.55\n",
      "[390]\tvalid_0's l2: 2.53265e+06\tvalid_0's l1: 1012.41\n",
      "[391]\tvalid_0's l2: 2.53158e+06\tvalid_0's l1: 1012.14\n",
      "[392]\tvalid_0's l2: 2.53113e+06\tvalid_0's l1: 1012.03\n",
      "[393]\tvalid_0's l2: 2.53016e+06\tvalid_0's l1: 1011.8\n",
      "[394]\tvalid_0's l2: 2.52903e+06\tvalid_0's l1: 1011.59\n",
      "[395]\tvalid_0's l2: 2.52901e+06\tvalid_0's l1: 1011.57\n",
      "[396]\tvalid_0's l2: 2.52821e+06\tvalid_0's l1: 1011.42\n",
      "[397]\tvalid_0's l2: 2.52762e+06\tvalid_0's l1: 1011.31\n",
      "[398]\tvalid_0's l2: 2.52706e+06\tvalid_0's l1: 1011.16\n",
      "[399]\tvalid_0's l2: 2.52647e+06\tvalid_0's l1: 1011.07\n",
      "[400]\tvalid_0's l2: 2.52613e+06\tvalid_0's l1: 1010.97\n",
      "[401]\tvalid_0's l2: 2.52512e+06\tvalid_0's l1: 1010.72\n",
      "[402]\tvalid_0's l2: 2.52445e+06\tvalid_0's l1: 1010.53\n",
      "[403]\tvalid_0's l2: 2.5236e+06\tvalid_0's l1: 1010.35\n",
      "[404]\tvalid_0's l2: 2.52322e+06\tvalid_0's l1: 1010.27\n",
      "[405]\tvalid_0's l2: 2.52229e+06\tvalid_0's l1: 1010.03\n",
      "[406]\tvalid_0's l2: 2.52201e+06\tvalid_0's l1: 1009.91\n",
      "[407]\tvalid_0's l2: 2.52166e+06\tvalid_0's l1: 1009.79\n",
      "[408]\tvalid_0's l2: 2.52096e+06\tvalid_0's l1: 1009.6\n",
      "[409]\tvalid_0's l2: 2.52038e+06\tvalid_0's l1: 1009.45\n",
      "[410]\tvalid_0's l2: 2.51978e+06\tvalid_0's l1: 1009.28\n",
      "[411]\tvalid_0's l2: 2.51985e+06\tvalid_0's l1: 1009.24\n",
      "[412]\tvalid_0's l2: 2.51992e+06\tvalid_0's l1: 1009.2\n",
      "[413]\tvalid_0's l2: 2.51938e+06\tvalid_0's l1: 1009.1\n",
      "[414]\tvalid_0's l2: 2.51914e+06\tvalid_0's l1: 1009.05\n",
      "[415]\tvalid_0's l2: 2.51845e+06\tvalid_0's l1: 1008.93\n",
      "[416]\tvalid_0's l2: 2.51837e+06\tvalid_0's l1: 1008.88\n",
      "[417]\tvalid_0's l2: 2.51836e+06\tvalid_0's l1: 1008.85\n",
      "[418]\tvalid_0's l2: 2.51775e+06\tvalid_0's l1: 1008.7\n",
      "[419]\tvalid_0's l2: 2.51703e+06\tvalid_0's l1: 1008.5\n",
      "[420]\tvalid_0's l2: 2.51678e+06\tvalid_0's l1: 1008.42\n",
      "[421]\tvalid_0's l2: 2.51632e+06\tvalid_0's l1: 1008.35\n",
      "[422]\tvalid_0's l2: 2.5156e+06\tvalid_0's l1: 1008.24\n",
      "[423]\tvalid_0's l2: 2.51509e+06\tvalid_0's l1: 1008.17\n",
      "[424]\tvalid_0's l2: 2.51481e+06\tvalid_0's l1: 1008.12\n",
      "[425]\tvalid_0's l2: 2.51416e+06\tvalid_0's l1: 1007.97\n",
      "[426]\tvalid_0's l2: 2.51329e+06\tvalid_0's l1: 1007.9\n",
      "[427]\tvalid_0's l2: 2.51287e+06\tvalid_0's l1: 1007.81\n",
      "[428]\tvalid_0's l2: 2.51251e+06\tvalid_0's l1: 1007.74\n",
      "[429]\tvalid_0's l2: 2.51228e+06\tvalid_0's l1: 1007.69\n",
      "[430]\tvalid_0's l2: 2.51189e+06\tvalid_0's l1: 1007.61\n",
      "[431]\tvalid_0's l2: 2.51129e+06\tvalid_0's l1: 1007.47\n",
      "[432]\tvalid_0's l2: 2.51063e+06\tvalid_0's l1: 1007.37\n",
      "[433]\tvalid_0's l2: 2.51018e+06\tvalid_0's l1: 1007.28\n",
      "[434]\tvalid_0's l2: 2.50963e+06\tvalid_0's l1: 1007.18\n",
      "[435]\tvalid_0's l2: 2.50943e+06\tvalid_0's l1: 1007.06\n",
      "[436]\tvalid_0's l2: 2.50929e+06\tvalid_0's l1: 1007.05\n",
      "[437]\tvalid_0's l2: 2.50916e+06\tvalid_0's l1: 1007.01\n",
      "[438]\tvalid_0's l2: 2.50896e+06\tvalid_0's l1: 1006.98\n",
      "[439]\tvalid_0's l2: 2.50816e+06\tvalid_0's l1: 1006.86\n",
      "[440]\tvalid_0's l2: 2.5069e+06\tvalid_0's l1: 1006.59\n",
      "[441]\tvalid_0's l2: 2.50671e+06\tvalid_0's l1: 1006.51\n",
      "[442]\tvalid_0's l2: 2.50611e+06\tvalid_0's l1: 1006.32\n",
      "[443]\tvalid_0's l2: 2.50595e+06\tvalid_0's l1: 1006.24\n",
      "[444]\tvalid_0's l2: 2.50586e+06\tvalid_0's l1: 1006.2\n",
      "[445]\tvalid_0's l2: 2.50556e+06\tvalid_0's l1: 1006.14\n",
      "[446]\tvalid_0's l2: 2.50528e+06\tvalid_0's l1: 1006.08\n",
      "[447]\tvalid_0's l2: 2.50529e+06\tvalid_0's l1: 1006.06\n",
      "[448]\tvalid_0's l2: 2.50489e+06\tvalid_0's l1: 1006\n",
      "[449]\tvalid_0's l2: 2.50383e+06\tvalid_0's l1: 1005.79\n",
      "[450]\tvalid_0's l2: 2.50369e+06\tvalid_0's l1: 1005.74\n",
      "[451]\tvalid_0's l2: 2.5032e+06\tvalid_0's l1: 1005.62\n",
      "[452]\tvalid_0's l2: 2.50267e+06\tvalid_0's l1: 1005.46\n",
      "[453]\tvalid_0's l2: 2.50251e+06\tvalid_0's l1: 1005.41\n",
      "[454]\tvalid_0's l2: 2.502e+06\tvalid_0's l1: 1005.32\n",
      "[455]\tvalid_0's l2: 2.50171e+06\tvalid_0's l1: 1005.27\n",
      "[456]\tvalid_0's l2: 2.50151e+06\tvalid_0's l1: 1005.21\n",
      "[457]\tvalid_0's l2: 2.50081e+06\tvalid_0's l1: 1005.08\n",
      "[458]\tvalid_0's l2: 2.49991e+06\tvalid_0's l1: 1004.8\n",
      "[459]\tvalid_0's l2: 2.49917e+06\tvalid_0's l1: 1004.66\n",
      "[460]\tvalid_0's l2: 2.49819e+06\tvalid_0's l1: 1004.41\n",
      "[461]\tvalid_0's l2: 2.49744e+06\tvalid_0's l1: 1004.18\n",
      "[462]\tvalid_0's l2: 2.49674e+06\tvalid_0's l1: 1004.06\n",
      "[463]\tvalid_0's l2: 2.49613e+06\tvalid_0's l1: 1003.9\n",
      "[464]\tvalid_0's l2: 2.49544e+06\tvalid_0's l1: 1003.72\n",
      "[465]\tvalid_0's l2: 2.4949e+06\tvalid_0's l1: 1003.55\n",
      "[466]\tvalid_0's l2: 2.49477e+06\tvalid_0's l1: 1003.5\n",
      "[467]\tvalid_0's l2: 2.49443e+06\tvalid_0's l1: 1003.46\n",
      "[468]\tvalid_0's l2: 2.49404e+06\tvalid_0's l1: 1003.32\n",
      "[469]\tvalid_0's l2: 2.49382e+06\tvalid_0's l1: 1003.22\n",
      "[470]\tvalid_0's l2: 2.49355e+06\tvalid_0's l1: 1003.16\n",
      "[471]\tvalid_0's l2: 2.49278e+06\tvalid_0's l1: 1003.03\n",
      "[472]\tvalid_0's l2: 2.49185e+06\tvalid_0's l1: 1002.85\n",
      "[473]\tvalid_0's l2: 2.49184e+06\tvalid_0's l1: 1002.78\n",
      "[474]\tvalid_0's l2: 2.49147e+06\tvalid_0's l1: 1002.67\n",
      "[475]\tvalid_0's l2: 2.49109e+06\tvalid_0's l1: 1002.57\n",
      "[476]\tvalid_0's l2: 2.49053e+06\tvalid_0's l1: 1002.4\n",
      "[477]\tvalid_0's l2: 2.48982e+06\tvalid_0's l1: 1002.18\n",
      "[478]\tvalid_0's l2: 2.48927e+06\tvalid_0's l1: 1002.04\n",
      "[479]\tvalid_0's l2: 2.48856e+06\tvalid_0's l1: 1001.84\n",
      "[480]\tvalid_0's l2: 2.48803e+06\tvalid_0's l1: 1001.73\n",
      "[481]\tvalid_0's l2: 2.488e+06\tvalid_0's l1: 1001.67\n",
      "[482]\tvalid_0's l2: 2.48771e+06\tvalid_0's l1: 1001.57\n",
      "[483]\tvalid_0's l2: 2.48764e+06\tvalid_0's l1: 1001.55\n",
      "[484]\tvalid_0's l2: 2.48774e+06\tvalid_0's l1: 1001.52\n",
      "[485]\tvalid_0's l2: 2.4877e+06\tvalid_0's l1: 1001.48\n",
      "[486]\tvalid_0's l2: 2.48703e+06\tvalid_0's l1: 1001.34\n",
      "[487]\tvalid_0's l2: 2.48641e+06\tvalid_0's l1: 1001.21\n",
      "[488]\tvalid_0's l2: 2.48602e+06\tvalid_0's l1: 1001.12\n",
      "[489]\tvalid_0's l2: 2.48578e+06\tvalid_0's l1: 1001.04\n",
      "[490]\tvalid_0's l2: 2.48533e+06\tvalid_0's l1: 1000.93\n",
      "[491]\tvalid_0's l2: 2.48442e+06\tvalid_0's l1: 1000.77\n",
      "[492]\tvalid_0's l2: 2.48397e+06\tvalid_0's l1: 1000.65\n",
      "[493]\tvalid_0's l2: 2.48332e+06\tvalid_0's l1: 1000.53\n",
      "[494]\tvalid_0's l2: 2.4827e+06\tvalid_0's l1: 1000.38\n",
      "[495]\tvalid_0's l2: 2.48208e+06\tvalid_0's l1: 1000.24\n",
      "[496]\tvalid_0's l2: 2.48149e+06\tvalid_0's l1: 1000.1\n",
      "[497]\tvalid_0's l2: 2.48069e+06\tvalid_0's l1: 999.926\n",
      "[498]\tvalid_0's l2: 2.4799e+06\tvalid_0's l1: 999.726\n",
      "[499]\tvalid_0's l2: 2.47953e+06\tvalid_0's l1: 999.652\n",
      "[500]\tvalid_0's l2: 2.47913e+06\tvalid_0's l1: 999.589\n",
      "[501]\tvalid_0's l2: 2.47873e+06\tvalid_0's l1: 999.513\n",
      "[502]\tvalid_0's l2: 2.47794e+06\tvalid_0's l1: 999.322\n",
      "[503]\tvalid_0's l2: 2.47755e+06\tvalid_0's l1: 999.245\n",
      "[504]\tvalid_0's l2: 2.47718e+06\tvalid_0's l1: 999.135\n",
      "[505]\tvalid_0's l2: 2.47703e+06\tvalid_0's l1: 999.102\n"
     ]
    },
    {
     "name": "stdout",
     "output_type": "stream",
     "text": [
      "[506]\tvalid_0's l2: 2.47658e+06\tvalid_0's l1: 999.023\n",
      "[507]\tvalid_0's l2: 2.47531e+06\tvalid_0's l1: 998.799\n",
      "[508]\tvalid_0's l2: 2.47519e+06\tvalid_0's l1: 998.768\n",
      "[509]\tvalid_0's l2: 2.47478e+06\tvalid_0's l1: 998.68\n",
      "[510]\tvalid_0's l2: 2.4745e+06\tvalid_0's l1: 998.648\n",
      "[511]\tvalid_0's l2: 2.47417e+06\tvalid_0's l1: 998.582\n",
      "[512]\tvalid_0's l2: 2.47398e+06\tvalid_0's l1: 998.531\n",
      "[513]\tvalid_0's l2: 2.47328e+06\tvalid_0's l1: 998.409\n",
      "[514]\tvalid_0's l2: 2.47318e+06\tvalid_0's l1: 998.355\n",
      "[515]\tvalid_0's l2: 2.47265e+06\tvalid_0's l1: 998.258\n",
      "[516]\tvalid_0's l2: 2.47239e+06\tvalid_0's l1: 998.183\n",
      "[517]\tvalid_0's l2: 2.47156e+06\tvalid_0's l1: 998.018\n",
      "[518]\tvalid_0's l2: 2.47122e+06\tvalid_0's l1: 997.942\n",
      "[519]\tvalid_0's l2: 2.47066e+06\tvalid_0's l1: 997.773\n",
      "[520]\tvalid_0's l2: 2.47042e+06\tvalid_0's l1: 997.697\n",
      "[521]\tvalid_0's l2: 2.4699e+06\tvalid_0's l1: 997.58\n",
      "[522]\tvalid_0's l2: 2.46959e+06\tvalid_0's l1: 997.534\n",
      "[523]\tvalid_0's l2: 2.46934e+06\tvalid_0's l1: 997.482\n",
      "[524]\tvalid_0's l2: 2.46915e+06\tvalid_0's l1: 997.447\n",
      "[525]\tvalid_0's l2: 2.46887e+06\tvalid_0's l1: 997.409\n",
      "[526]\tvalid_0's l2: 2.46874e+06\tvalid_0's l1: 997.375\n",
      "[527]\tvalid_0's l2: 2.46834e+06\tvalid_0's l1: 997.281\n",
      "[528]\tvalid_0's l2: 2.46753e+06\tvalid_0's l1: 997.069\n",
      "[529]\tvalid_0's l2: 2.46678e+06\tvalid_0's l1: 996.818\n",
      "[530]\tvalid_0's l2: 2.46617e+06\tvalid_0's l1: 996.716\n",
      "[531]\tvalid_0's l2: 2.46579e+06\tvalid_0's l1: 996.584\n",
      "[532]\tvalid_0's l2: 2.46533e+06\tvalid_0's l1: 996.454\n",
      "[533]\tvalid_0's l2: 2.46514e+06\tvalid_0's l1: 996.416\n",
      "[534]\tvalid_0's l2: 2.46494e+06\tvalid_0's l1: 996.389\n",
      "[535]\tvalid_0's l2: 2.46471e+06\tvalid_0's l1: 996.306\n",
      "[536]\tvalid_0's l2: 2.46436e+06\tvalid_0's l1: 996.258\n",
      "[537]\tvalid_0's l2: 2.46409e+06\tvalid_0's l1: 996.218\n",
      "[538]\tvalid_0's l2: 2.46365e+06\tvalid_0's l1: 996.104\n",
      "[539]\tvalid_0's l2: 2.46323e+06\tvalid_0's l1: 996.021\n",
      "[540]\tvalid_0's l2: 2.46277e+06\tvalid_0's l1: 995.906\n",
      "[541]\tvalid_0's l2: 2.46246e+06\tvalid_0's l1: 995.858\n",
      "[542]\tvalid_0's l2: 2.46211e+06\tvalid_0's l1: 995.748\n",
      "[543]\tvalid_0's l2: 2.46202e+06\tvalid_0's l1: 995.719\n",
      "[544]\tvalid_0's l2: 2.46185e+06\tvalid_0's l1: 995.668\n",
      "[545]\tvalid_0's l2: 2.4618e+06\tvalid_0's l1: 995.613\n",
      "[546]\tvalid_0's l2: 2.46164e+06\tvalid_0's l1: 995.59\n",
      "[547]\tvalid_0's l2: 2.46171e+06\tvalid_0's l1: 995.599\n",
      "[548]\tvalid_0's l2: 2.46123e+06\tvalid_0's l1: 995.532\n",
      "[549]\tvalid_0's l2: 2.461e+06\tvalid_0's l1: 995.48\n",
      "[550]\tvalid_0's l2: 2.46099e+06\tvalid_0's l1: 995.475\n",
      "[551]\tvalid_0's l2: 2.46064e+06\tvalid_0's l1: 995.424\n",
      "[552]\tvalid_0's l2: 2.46019e+06\tvalid_0's l1: 995.321\n",
      "[553]\tvalid_0's l2: 2.45954e+06\tvalid_0's l1: 995.178\n",
      "[554]\tvalid_0's l2: 2.45926e+06\tvalid_0's l1: 995.13\n",
      "[555]\tvalid_0's l2: 2.45922e+06\tvalid_0's l1: 995.048\n",
      "[556]\tvalid_0's l2: 2.45886e+06\tvalid_0's l1: 995.037\n",
      "[557]\tvalid_0's l2: 2.4585e+06\tvalid_0's l1: 994.976\n",
      "[558]\tvalid_0's l2: 2.45831e+06\tvalid_0's l1: 994.954\n",
      "[559]\tvalid_0's l2: 2.45804e+06\tvalid_0's l1: 994.906\n",
      "[560]\tvalid_0's l2: 2.45804e+06\tvalid_0's l1: 994.905\n",
      "[561]\tvalid_0's l2: 2.45784e+06\tvalid_0's l1: 994.843\n",
      "[562]\tvalid_0's l2: 2.45762e+06\tvalid_0's l1: 994.791\n",
      "[563]\tvalid_0's l2: 2.45687e+06\tvalid_0's l1: 994.622\n",
      "[564]\tvalid_0's l2: 2.45628e+06\tvalid_0's l1: 994.408\n",
      "[565]\tvalid_0's l2: 2.45609e+06\tvalid_0's l1: 994.351\n",
      "[566]\tvalid_0's l2: 2.45569e+06\tvalid_0's l1: 994.281\n",
      "[567]\tvalid_0's l2: 2.45525e+06\tvalid_0's l1: 994.198\n",
      "[568]\tvalid_0's l2: 2.45483e+06\tvalid_0's l1: 994.105\n",
      "[569]\tvalid_0's l2: 2.45446e+06\tvalid_0's l1: 994.039\n",
      "[570]\tvalid_0's l2: 2.45418e+06\tvalid_0's l1: 993.987\n",
      "[571]\tvalid_0's l2: 2.45345e+06\tvalid_0's l1: 993.874\n",
      "[572]\tvalid_0's l2: 2.45308e+06\tvalid_0's l1: 993.821\n",
      "[573]\tvalid_0's l2: 2.45287e+06\tvalid_0's l1: 993.785\n",
      "[574]\tvalid_0's l2: 2.45226e+06\tvalid_0's l1: 993.643\n",
      "[575]\tvalid_0's l2: 2.45202e+06\tvalid_0's l1: 993.629\n",
      "[576]\tvalid_0's l2: 2.45103e+06\tvalid_0's l1: 993.464\n",
      "[577]\tvalid_0's l2: 2.45072e+06\tvalid_0's l1: 993.379\n",
      "[578]\tvalid_0's l2: 2.45008e+06\tvalid_0's l1: 993.23\n",
      "[579]\tvalid_0's l2: 2.44994e+06\tvalid_0's l1: 993.179\n",
      "[580]\tvalid_0's l2: 2.44925e+06\tvalid_0's l1: 993.054\n",
      "[581]\tvalid_0's l2: 2.44911e+06\tvalid_0's l1: 993.06\n",
      "[582]\tvalid_0's l2: 2.44906e+06\tvalid_0's l1: 993.026\n",
      "[583]\tvalid_0's l2: 2.44883e+06\tvalid_0's l1: 992.987\n",
      "[584]\tvalid_0's l2: 2.44863e+06\tvalid_0's l1: 992.962\n",
      "[585]\tvalid_0's l2: 2.44819e+06\tvalid_0's l1: 992.891\n",
      "[586]\tvalid_0's l2: 2.44745e+06\tvalid_0's l1: 992.732\n",
      "[587]\tvalid_0's l2: 2.44706e+06\tvalid_0's l1: 992.644\n",
      "[588]\tvalid_0's l2: 2.44685e+06\tvalid_0's l1: 992.598\n",
      "[589]\tvalid_0's l2: 2.44662e+06\tvalid_0's l1: 992.524\n",
      "[590]\tvalid_0's l2: 2.44631e+06\tvalid_0's l1: 992.453\n",
      "[591]\tvalid_0's l2: 2.44572e+06\tvalid_0's l1: 992.354\n",
      "[592]\tvalid_0's l2: 2.44567e+06\tvalid_0's l1: 992.302\n",
      "[593]\tvalid_0's l2: 2.44518e+06\tvalid_0's l1: 992.181\n",
      "[594]\tvalid_0's l2: 2.44508e+06\tvalid_0's l1: 992.122\n",
      "[595]\tvalid_0's l2: 2.44473e+06\tvalid_0's l1: 992.02\n",
      "[596]\tvalid_0's l2: 2.44411e+06\tvalid_0's l1: 991.905\n",
      "[597]\tvalid_0's l2: 2.44366e+06\tvalid_0's l1: 991.781\n",
      "[598]\tvalid_0's l2: 2.44341e+06\tvalid_0's l1: 991.692\n",
      "[599]\tvalid_0's l2: 2.44296e+06\tvalid_0's l1: 991.621\n",
      "[600]\tvalid_0's l2: 2.44269e+06\tvalid_0's l1: 991.549\n",
      "[601]\tvalid_0's l2: 2.44225e+06\tvalid_0's l1: 991.374\n",
      "[602]\tvalid_0's l2: 2.44162e+06\tvalid_0's l1: 991.242\n",
      "[603]\tvalid_0's l2: 2.44152e+06\tvalid_0's l1: 991.205\n",
      "[604]\tvalid_0's l2: 2.44096e+06\tvalid_0's l1: 991.076\n",
      "[605]\tvalid_0's l2: 2.44061e+06\tvalid_0's l1: 990.971\n",
      "[606]\tvalid_0's l2: 2.43965e+06\tvalid_0's l1: 990.686\n",
      "[607]\tvalid_0's l2: 2.43955e+06\tvalid_0's l1: 990.593\n",
      "[608]\tvalid_0's l2: 2.43947e+06\tvalid_0's l1: 990.525\n",
      "[609]\tvalid_0's l2: 2.43951e+06\tvalid_0's l1: 990.488\n",
      "[610]\tvalid_0's l2: 2.43926e+06\tvalid_0's l1: 990.398\n",
      "[611]\tvalid_0's l2: 2.43824e+06\tvalid_0's l1: 990.181\n",
      "[612]\tvalid_0's l2: 2.4373e+06\tvalid_0's l1: 989.982\n",
      "[613]\tvalid_0's l2: 2.43694e+06\tvalid_0's l1: 989.868\n",
      "[614]\tvalid_0's l2: 2.43642e+06\tvalid_0's l1: 989.768\n",
      "[615]\tvalid_0's l2: 2.43616e+06\tvalid_0's l1: 989.712\n",
      "[616]\tvalid_0's l2: 2.43554e+06\tvalid_0's l1: 989.575\n",
      "[617]\tvalid_0's l2: 2.43496e+06\tvalid_0's l1: 989.446\n",
      "[618]\tvalid_0's l2: 2.43507e+06\tvalid_0's l1: 989.473\n",
      "[619]\tvalid_0's l2: 2.43484e+06\tvalid_0's l1: 989.411\n",
      "[620]\tvalid_0's l2: 2.43473e+06\tvalid_0's l1: 989.411\n",
      "[621]\tvalid_0's l2: 2.43454e+06\tvalid_0's l1: 989.377\n",
      "[622]\tvalid_0's l2: 2.43449e+06\tvalid_0's l1: 989.351\n",
      "[623]\tvalid_0's l2: 2.43416e+06\tvalid_0's l1: 989.296\n",
      "[624]\tvalid_0's l2: 2.43378e+06\tvalid_0's l1: 989.222\n",
      "[625]\tvalid_0's l2: 2.43369e+06\tvalid_0's l1: 989.213\n",
      "[626]\tvalid_0's l2: 2.43343e+06\tvalid_0's l1: 989.227\n",
      "[627]\tvalid_0's l2: 2.43346e+06\tvalid_0's l1: 989.238\n",
      "[628]\tvalid_0's l2: 2.43344e+06\tvalid_0's l1: 989.228\n",
      "[629]\tvalid_0's l2: 2.43329e+06\tvalid_0's l1: 989.211\n",
      "[630]\tvalid_0's l2: 2.43315e+06\tvalid_0's l1: 989.207\n",
      "[631]\tvalid_0's l2: 2.43276e+06\tvalid_0's l1: 989.118\n",
      "[632]\tvalid_0's l2: 2.43211e+06\tvalid_0's l1: 989.011\n",
      "[633]\tvalid_0's l2: 2.43118e+06\tvalid_0's l1: 988.907\n",
      "[634]\tvalid_0's l2: 2.43114e+06\tvalid_0's l1: 988.895\n",
      "[635]\tvalid_0's l2: 2.4309e+06\tvalid_0's l1: 988.873\n",
      "[636]\tvalid_0's l2: 2.43085e+06\tvalid_0's l1: 988.863\n",
      "[637]\tvalid_0's l2: 2.43085e+06\tvalid_0's l1: 988.86\n",
      "[638]\tvalid_0's l2: 2.43081e+06\tvalid_0's l1: 988.862\n",
      "[639]\tvalid_0's l2: 2.43063e+06\tvalid_0's l1: 988.847\n",
      "[640]\tvalid_0's l2: 2.43011e+06\tvalid_0's l1: 988.754\n",
      "[641]\tvalid_0's l2: 2.4298e+06\tvalid_0's l1: 988.652\n",
      "[642]\tvalid_0's l2: 2.42944e+06\tvalid_0's l1: 988.528\n",
      "[643]\tvalid_0's l2: 2.42936e+06\tvalid_0's l1: 988.491\n",
      "[644]\tvalid_0's l2: 2.42896e+06\tvalid_0's l1: 988.401\n",
      "[645]\tvalid_0's l2: 2.42884e+06\tvalid_0's l1: 988.329\n",
      "[646]\tvalid_0's l2: 2.4283e+06\tvalid_0's l1: 988.263\n",
      "[647]\tvalid_0's l2: 2.42795e+06\tvalid_0's l1: 988.179\n",
      "[648]\tvalid_0's l2: 2.4276e+06\tvalid_0's l1: 988.118\n",
      "[649]\tvalid_0's l2: 2.42703e+06\tvalid_0's l1: 988.001\n",
      "[650]\tvalid_0's l2: 2.42679e+06\tvalid_0's l1: 987.95\n",
      "[651]\tvalid_0's l2: 2.42607e+06\tvalid_0's l1: 987.801\n",
      "[652]\tvalid_0's l2: 2.42565e+06\tvalid_0's l1: 987.71\n",
      "[653]\tvalid_0's l2: 2.42499e+06\tvalid_0's l1: 987.624\n",
      "[654]\tvalid_0's l2: 2.42488e+06\tvalid_0's l1: 987.6\n",
      "[655]\tvalid_0's l2: 2.42486e+06\tvalid_0's l1: 987.592\n",
      "[656]\tvalid_0's l2: 2.42468e+06\tvalid_0's l1: 987.602\n",
      "[657]\tvalid_0's l2: 2.42464e+06\tvalid_0's l1: 987.604\n",
      "[658]\tvalid_0's l2: 2.42422e+06\tvalid_0's l1: 987.509\n",
      "[659]\tvalid_0's l2: 2.42414e+06\tvalid_0's l1: 987.514\n",
      "[660]\tvalid_0's l2: 2.42387e+06\tvalid_0's l1: 987.44\n",
      "[661]\tvalid_0's l2: 2.42371e+06\tvalid_0's l1: 987.407\n",
      "[662]\tvalid_0's l2: 2.4238e+06\tvalid_0's l1: 987.4\n",
      "[663]\tvalid_0's l2: 2.42357e+06\tvalid_0's l1: 987.353\n",
      "[664]\tvalid_0's l2: 2.42348e+06\tvalid_0's l1: 987.353\n",
      "[665]\tvalid_0's l2: 2.42328e+06\tvalid_0's l1: 987.337\n",
      "[666]\tvalid_0's l2: 2.42267e+06\tvalid_0's l1: 987.177\n",
      "[667]\tvalid_0's l2: 2.42181e+06\tvalid_0's l1: 987.033\n",
      "[668]\tvalid_0's l2: 2.42134e+06\tvalid_0's l1: 986.981\n",
      "[669]\tvalid_0's l2: 2.42077e+06\tvalid_0's l1: 986.93\n",
      "[670]\tvalid_0's l2: 2.42017e+06\tvalid_0's l1: 986.822\n",
      "[671]\tvalid_0's l2: 2.41987e+06\tvalid_0's l1: 986.732\n",
      "[672]\tvalid_0's l2: 2.4193e+06\tvalid_0's l1: 986.601\n",
      "[673]\tvalid_0's l2: 2.41902e+06\tvalid_0's l1: 986.521\n",
      "[674]\tvalid_0's l2: 2.41885e+06\tvalid_0's l1: 986.466\n",
      "[675]\tvalid_0's l2: 2.41888e+06\tvalid_0's l1: 986.456\n",
      "[676]\tvalid_0's l2: 2.41837e+06\tvalid_0's l1: 986.302\n",
      "[677]\tvalid_0's l2: 2.41743e+06\tvalid_0's l1: 986.068\n"
     ]
    },
    {
     "name": "stdout",
     "output_type": "stream",
     "text": [
      "[678]\tvalid_0's l2: 2.41639e+06\tvalid_0's l1: 985.877\n",
      "[679]\tvalid_0's l2: 2.41594e+06\tvalid_0's l1: 985.776\n",
      "[680]\tvalid_0's l2: 2.41534e+06\tvalid_0's l1: 985.582\n",
      "[681]\tvalid_0's l2: 2.41509e+06\tvalid_0's l1: 985.523\n",
      "[682]\tvalid_0's l2: 2.41483e+06\tvalid_0's l1: 985.447\n",
      "[683]\tvalid_0's l2: 2.41467e+06\tvalid_0's l1: 985.362\n",
      "[684]\tvalid_0's l2: 2.41445e+06\tvalid_0's l1: 985.304\n",
      "[685]\tvalid_0's l2: 2.41403e+06\tvalid_0's l1: 985.196\n",
      "[686]\tvalid_0's l2: 2.41355e+06\tvalid_0's l1: 985.085\n",
      "[687]\tvalid_0's l2: 2.41344e+06\tvalid_0's l1: 985.07\n",
      "[688]\tvalid_0's l2: 2.41327e+06\tvalid_0's l1: 985.027\n",
      "[689]\tvalid_0's l2: 2.41318e+06\tvalid_0's l1: 984.997\n",
      "[690]\tvalid_0's l2: 2.41287e+06\tvalid_0's l1: 984.929\n",
      "[691]\tvalid_0's l2: 2.41261e+06\tvalid_0's l1: 984.882\n",
      "[692]\tvalid_0's l2: 2.41242e+06\tvalid_0's l1: 984.853\n",
      "[693]\tvalid_0's l2: 2.41203e+06\tvalid_0's l1: 984.77\n",
      "[694]\tvalid_0's l2: 2.41177e+06\tvalid_0's l1: 984.728\n",
      "[695]\tvalid_0's l2: 2.41101e+06\tvalid_0's l1: 984.661\n",
      "[696]\tvalid_0's l2: 2.41055e+06\tvalid_0's l1: 984.542\n",
      "[697]\tvalid_0's l2: 2.41044e+06\tvalid_0's l1: 984.512\n",
      "[698]\tvalid_0's l2: 2.41016e+06\tvalid_0's l1: 984.437\n",
      "[699]\tvalid_0's l2: 2.41007e+06\tvalid_0's l1: 984.405\n",
      "[700]\tvalid_0's l2: 2.41021e+06\tvalid_0's l1: 984.38\n",
      "[701]\tvalid_0's l2: 2.4099e+06\tvalid_0's l1: 984.345\n",
      "[702]\tvalid_0's l2: 2.40977e+06\tvalid_0's l1: 984.338\n",
      "[703]\tvalid_0's l2: 2.40951e+06\tvalid_0's l1: 984.253\n",
      "[704]\tvalid_0's l2: 2.40938e+06\tvalid_0's l1: 984.233\n",
      "[705]\tvalid_0's l2: 2.40909e+06\tvalid_0's l1: 984.239\n",
      "[706]\tvalid_0's l2: 2.40905e+06\tvalid_0's l1: 984.21\n",
      "[707]\tvalid_0's l2: 2.40855e+06\tvalid_0's l1: 984.084\n",
      "[708]\tvalid_0's l2: 2.40785e+06\tvalid_0's l1: 983.871\n",
      "[709]\tvalid_0's l2: 2.40755e+06\tvalid_0's l1: 983.818\n",
      "[710]\tvalid_0's l2: 2.40719e+06\tvalid_0's l1: 983.779\n",
      "[711]\tvalid_0's l2: 2.40706e+06\tvalid_0's l1: 983.76\n",
      "[712]\tvalid_0's l2: 2.40673e+06\tvalid_0's l1: 983.706\n",
      "[713]\tvalid_0's l2: 2.40647e+06\tvalid_0's l1: 983.648\n",
      "[714]\tvalid_0's l2: 2.40637e+06\tvalid_0's l1: 983.615\n",
      "[715]\tvalid_0's l2: 2.40614e+06\tvalid_0's l1: 983.568\n",
      "[716]\tvalid_0's l2: 2.40607e+06\tvalid_0's l1: 983.539\n",
      "[717]\tvalid_0's l2: 2.40575e+06\tvalid_0's l1: 983.504\n",
      "[718]\tvalid_0's l2: 2.40548e+06\tvalid_0's l1: 983.455\n",
      "[719]\tvalid_0's l2: 2.4053e+06\tvalid_0's l1: 983.431\n",
      "[720]\tvalid_0's l2: 2.405e+06\tvalid_0's l1: 983.355\n",
      "[721]\tvalid_0's l2: 2.40445e+06\tvalid_0's l1: 983.217\n",
      "[722]\tvalid_0's l2: 2.40388e+06\tvalid_0's l1: 983.109\n",
      "[723]\tvalid_0's l2: 2.40341e+06\tvalid_0's l1: 982.961\n",
      "[724]\tvalid_0's l2: 2.40282e+06\tvalid_0's l1: 982.837\n",
      "[725]\tvalid_0's l2: 2.40244e+06\tvalid_0's l1: 982.722\n",
      "[726]\tvalid_0's l2: 2.40214e+06\tvalid_0's l1: 982.641\n",
      "[727]\tvalid_0's l2: 2.4021e+06\tvalid_0's l1: 982.613\n",
      "[728]\tvalid_0's l2: 2.40187e+06\tvalid_0's l1: 982.528\n",
      "[729]\tvalid_0's l2: 2.40174e+06\tvalid_0's l1: 982.474\n",
      "[730]\tvalid_0's l2: 2.40173e+06\tvalid_0's l1: 982.452\n",
      "[731]\tvalid_0's l2: 2.40137e+06\tvalid_0's l1: 982.35\n",
      "[732]\tvalid_0's l2: 2.40105e+06\tvalid_0's l1: 982.223\n",
      "[733]\tvalid_0's l2: 2.40021e+06\tvalid_0's l1: 982.081\n",
      "[734]\tvalid_0's l2: 2.39963e+06\tvalid_0's l1: 981.969\n",
      "[735]\tvalid_0's l2: 2.39938e+06\tvalid_0's l1: 981.906\n",
      "[736]\tvalid_0's l2: 2.39924e+06\tvalid_0's l1: 981.908\n",
      "[737]\tvalid_0's l2: 2.39906e+06\tvalid_0's l1: 981.852\n",
      "[738]\tvalid_0's l2: 2.39892e+06\tvalid_0's l1: 981.81\n",
      "[739]\tvalid_0's l2: 2.39888e+06\tvalid_0's l1: 981.819\n",
      "[740]\tvalid_0's l2: 2.39878e+06\tvalid_0's l1: 981.752\n",
      "[741]\tvalid_0's l2: 2.39827e+06\tvalid_0's l1: 981.667\n",
      "[742]\tvalid_0's l2: 2.39836e+06\tvalid_0's l1: 981.664\n",
      "[743]\tvalid_0's l2: 2.39835e+06\tvalid_0's l1: 981.665\n",
      "[744]\tvalid_0's l2: 2.3984e+06\tvalid_0's l1: 981.668\n",
      "[745]\tvalid_0's l2: 2.39816e+06\tvalid_0's l1: 981.596\n",
      "[746]\tvalid_0's l2: 2.39819e+06\tvalid_0's l1: 981.597\n",
      "[747]\tvalid_0's l2: 2.39821e+06\tvalid_0's l1: 981.606\n",
      "[748]\tvalid_0's l2: 2.39814e+06\tvalid_0's l1: 981.589\n",
      "[749]\tvalid_0's l2: 2.39784e+06\tvalid_0's l1: 981.488\n",
      "[750]\tvalid_0's l2: 2.3977e+06\tvalid_0's l1: 981.452\n",
      "[751]\tvalid_0's l2: 2.39714e+06\tvalid_0's l1: 981.391\n",
      "[752]\tvalid_0's l2: 2.39715e+06\tvalid_0's l1: 981.385\n",
      "[753]\tvalid_0's l2: 2.3969e+06\tvalid_0's l1: 981.32\n",
      "[754]\tvalid_0's l2: 2.39688e+06\tvalid_0's l1: 981.294\n",
      "[755]\tvalid_0's l2: 2.39669e+06\tvalid_0's l1: 981.236\n",
      "[756]\tvalid_0's l2: 2.39634e+06\tvalid_0's l1: 981.14\n",
      "[757]\tvalid_0's l2: 2.39615e+06\tvalid_0's l1: 981.027\n",
      "[758]\tvalid_0's l2: 2.39594e+06\tvalid_0's l1: 980.95\n",
      "[759]\tvalid_0's l2: 2.39561e+06\tvalid_0's l1: 980.859\n",
      "[760]\tvalid_0's l2: 2.39543e+06\tvalid_0's l1: 980.784\n",
      "[761]\tvalid_0's l2: 2.3952e+06\tvalid_0's l1: 980.744\n",
      "[762]\tvalid_0's l2: 2.39519e+06\tvalid_0's l1: 980.737\n",
      "[763]\tvalid_0's l2: 2.39499e+06\tvalid_0's l1: 980.711\n",
      "[764]\tvalid_0's l2: 2.39459e+06\tvalid_0's l1: 980.643\n",
      "[765]\tvalid_0's l2: 2.39449e+06\tvalid_0's l1: 980.61\n",
      "[766]\tvalid_0's l2: 2.39417e+06\tvalid_0's l1: 980.589\n",
      "[767]\tvalid_0's l2: 2.39399e+06\tvalid_0's l1: 980.503\n",
      "[768]\tvalid_0's l2: 2.39382e+06\tvalid_0's l1: 980.49\n",
      "[769]\tvalid_0's l2: 2.39403e+06\tvalid_0's l1: 980.51\n",
      "[770]\tvalid_0's l2: 2.39404e+06\tvalid_0's l1: 980.517\n",
      "[771]\tvalid_0's l2: 2.39407e+06\tvalid_0's l1: 980.492\n",
      "[772]\tvalid_0's l2: 2.39383e+06\tvalid_0's l1: 980.464\n",
      "[773]\tvalid_0's l2: 2.39349e+06\tvalid_0's l1: 980.367\n",
      "[774]\tvalid_0's l2: 2.39334e+06\tvalid_0's l1: 980.347\n",
      "[775]\tvalid_0's l2: 2.39305e+06\tvalid_0's l1: 980.294\n",
      "[776]\tvalid_0's l2: 2.39288e+06\tvalid_0's l1: 980.233\n",
      "[777]\tvalid_0's l2: 2.3926e+06\tvalid_0's l1: 980.185\n",
      "[778]\tvalid_0's l2: 2.39231e+06\tvalid_0's l1: 980.121\n",
      "[779]\tvalid_0's l2: 2.3921e+06\tvalid_0's l1: 980.077\n",
      "[780]\tvalid_0's l2: 2.39188e+06\tvalid_0's l1: 980.06\n",
      "[781]\tvalid_0's l2: 2.39188e+06\tvalid_0's l1: 980.065\n",
      "[782]\tvalid_0's l2: 2.39187e+06\tvalid_0's l1: 980.073\n",
      "[783]\tvalid_0's l2: 2.39161e+06\tvalid_0's l1: 980.016\n",
      "[784]\tvalid_0's l2: 2.39139e+06\tvalid_0's l1: 979.985\n",
      "[785]\tvalid_0's l2: 2.39135e+06\tvalid_0's l1: 979.967\n",
      "[786]\tvalid_0's l2: 2.39094e+06\tvalid_0's l1: 979.875\n",
      "[787]\tvalid_0's l2: 2.39053e+06\tvalid_0's l1: 979.797\n",
      "[788]\tvalid_0's l2: 2.39041e+06\tvalid_0's l1: 979.773\n",
      "[789]\tvalid_0's l2: 2.39012e+06\tvalid_0's l1: 979.722\n",
      "[790]\tvalid_0's l2: 2.38974e+06\tvalid_0's l1: 979.618\n",
      "[791]\tvalid_0's l2: 2.38942e+06\tvalid_0's l1: 979.579\n",
      "[792]\tvalid_0's l2: 2.38886e+06\tvalid_0's l1: 979.456\n",
      "[793]\tvalid_0's l2: 2.3884e+06\tvalid_0's l1: 979.409\n",
      "[794]\tvalid_0's l2: 2.38796e+06\tvalid_0's l1: 979.308\n",
      "[795]\tvalid_0's l2: 2.38758e+06\tvalid_0's l1: 979.226\n",
      "[796]\tvalid_0's l2: 2.38694e+06\tvalid_0's l1: 979.038\n",
      "[797]\tvalid_0's l2: 2.3867e+06\tvalid_0's l1: 978.935\n",
      "[798]\tvalid_0's l2: 2.38621e+06\tvalid_0's l1: 978.821\n",
      "[799]\tvalid_0's l2: 2.38561e+06\tvalid_0's l1: 978.621\n",
      "[800]\tvalid_0's l2: 2.38516e+06\tvalid_0's l1: 978.474\n",
      "[801]\tvalid_0's l2: 2.385e+06\tvalid_0's l1: 978.433\n",
      "[802]\tvalid_0's l2: 2.38474e+06\tvalid_0's l1: 978.352\n",
      "[803]\tvalid_0's l2: 2.3846e+06\tvalid_0's l1: 978.319\n",
      "[804]\tvalid_0's l2: 2.3843e+06\tvalid_0's l1: 978.259\n",
      "[805]\tvalid_0's l2: 2.38412e+06\tvalid_0's l1: 978.212\n",
      "[806]\tvalid_0's l2: 2.3839e+06\tvalid_0's l1: 978.206\n",
      "[807]\tvalid_0's l2: 2.38355e+06\tvalid_0's l1: 978.188\n",
      "[808]\tvalid_0's l2: 2.38363e+06\tvalid_0's l1: 978.18\n",
      "[809]\tvalid_0's l2: 2.38362e+06\tvalid_0's l1: 978.16\n",
      "[810]\tvalid_0's l2: 2.38345e+06\tvalid_0's l1: 978.137\n",
      "[811]\tvalid_0's l2: 2.3834e+06\tvalid_0's l1: 978.127\n",
      "[812]\tvalid_0's l2: 2.38298e+06\tvalid_0's l1: 978.097\n",
      "[813]\tvalid_0's l2: 2.38277e+06\tvalid_0's l1: 978.077\n",
      "[814]\tvalid_0's l2: 2.38279e+06\tvalid_0's l1: 978.078\n",
      "[815]\tvalid_0's l2: 2.38238e+06\tvalid_0's l1: 977.944\n",
      "[816]\tvalid_0's l2: 2.38191e+06\tvalid_0's l1: 977.797\n",
      "[817]\tvalid_0's l2: 2.38168e+06\tvalid_0's l1: 977.735\n",
      "[818]\tvalid_0's l2: 2.38104e+06\tvalid_0's l1: 977.602\n",
      "[819]\tvalid_0's l2: 2.38041e+06\tvalid_0's l1: 977.495\n",
      "[820]\tvalid_0's l2: 2.38012e+06\tvalid_0's l1: 977.4\n",
      "[821]\tvalid_0's l2: 2.38009e+06\tvalid_0's l1: 977.359\n",
      "[822]\tvalid_0's l2: 2.38017e+06\tvalid_0's l1: 977.352\n",
      "[823]\tvalid_0's l2: 2.38009e+06\tvalid_0's l1: 977.312\n",
      "[824]\tvalid_0's l2: 2.37991e+06\tvalid_0's l1: 977.267\n",
      "[825]\tvalid_0's l2: 2.3799e+06\tvalid_0's l1: 977.257\n",
      "[826]\tvalid_0's l2: 2.37979e+06\tvalid_0's l1: 977.223\n",
      "[827]\tvalid_0's l2: 2.37964e+06\tvalid_0's l1: 977.195\n",
      "[828]\tvalid_0's l2: 2.37954e+06\tvalid_0's l1: 977.134\n",
      "[829]\tvalid_0's l2: 2.37926e+06\tvalid_0's l1: 977.087\n",
      "[830]\tvalid_0's l2: 2.379e+06\tvalid_0's l1: 977.056\n"
     ]
    },
    {
     "name": "stdout",
     "output_type": "stream",
     "text": [
      "[831]\tvalid_0's l2: 2.37866e+06\tvalid_0's l1: 976.984\n",
      "[832]\tvalid_0's l2: 2.37852e+06\tvalid_0's l1: 976.951\n",
      "[833]\tvalid_0's l2: 2.37807e+06\tvalid_0's l1: 976.849\n",
      "[834]\tvalid_0's l2: 2.37768e+06\tvalid_0's l1: 976.779\n",
      "[835]\tvalid_0's l2: 2.37723e+06\tvalid_0's l1: 976.694\n",
      "[836]\tvalid_0's l2: 2.37716e+06\tvalid_0's l1: 976.681\n",
      "[837]\tvalid_0's l2: 2.37715e+06\tvalid_0's l1: 976.694\n",
      "[838]\tvalid_0's l2: 2.37678e+06\tvalid_0's l1: 976.631\n",
      "[839]\tvalid_0's l2: 2.37668e+06\tvalid_0's l1: 976.621\n",
      "[840]\tvalid_0's l2: 2.37654e+06\tvalid_0's l1: 976.607\n",
      "[841]\tvalid_0's l2: 2.3766e+06\tvalid_0's l1: 976.59\n",
      "[842]\tvalid_0's l2: 2.3765e+06\tvalid_0's l1: 976.587\n",
      "[843]\tvalid_0's l2: 2.37646e+06\tvalid_0's l1: 976.584\n",
      "[844]\tvalid_0's l2: 2.37625e+06\tvalid_0's l1: 976.521\n",
      "[845]\tvalid_0's l2: 2.37597e+06\tvalid_0's l1: 976.429\n",
      "[846]\tvalid_0's l2: 2.37586e+06\tvalid_0's l1: 976.375\n",
      "[847]\tvalid_0's l2: 2.37589e+06\tvalid_0's l1: 976.338\n",
      "[848]\tvalid_0's l2: 2.37592e+06\tvalid_0's l1: 976.323\n",
      "[849]\tvalid_0's l2: 2.37602e+06\tvalid_0's l1: 976.312\n",
      "[850]\tvalid_0's l2: 2.37607e+06\tvalid_0's l1: 976.289\n",
      "[851]\tvalid_0's l2: 2.37617e+06\tvalid_0's l1: 976.292\n",
      "Early stopping, best iteration is:\n",
      "[846]\tvalid_0's l2: 2.37586e+06\tvalid_0's l1: 976.375\n"
     ]
    }
   ],
   "source": [
    "start_time = time.time()\n",
    "gbm = lgb.train(params,\n",
    "                lgb_train,\n",
    "                num_boost_round=20,\n",
    "                valid_sets=lgb_eval,\n",
    "                early_stopping_rounds=5)\n",
    "lgbm_exec_time = time.time() - start_time"
   ]
  },
  {
   "cell_type": "code",
   "execution_count": 75,
   "metadata": {},
   "outputs": [],
   "source": [
    "y_pred = gbm.predict(features_test, num_iteration=gbm.best_iteration)"
   ]
  },
  {
   "cell_type": "code",
   "execution_count": 76,
   "metadata": {},
   "outputs": [],
   "source": [
    "mse_lgbm = mean_squared_error(target_test, y_pred)\n",
    "rmse_lgbm = mse_lgbm ** 0.5"
   ]
  },
  {
   "cell_type": "code",
   "execution_count": 77,
   "metadata": {},
   "outputs": [
    {
     "data": {
      "text/plain": [
       "1541.381310404437"
      ]
     },
     "execution_count": 77,
     "metadata": {},
     "output_type": "execute_result"
    }
   ],
   "source": [
    "rmse_lgbm"
   ]
  },
  {
   "cell_type": "markdown",
   "metadata": {},
   "source": [
    "### LinearRegression"
   ]
  },
  {
   "cell_type": "code",
   "execution_count": 78,
   "metadata": {},
   "outputs": [],
   "source": [
    "model = LinearRegression(fit_intercept=True, normalize=True)"
   ]
  },
  {
   "cell_type": "code",
   "execution_count": 79,
   "metadata": {},
   "outputs": [
    {
     "name": "stderr",
     "output_type": "stream",
     "text": [
      "/Users/ramen/anaconda3/lib/python3.9/site-packages/sklearn/linear_model/_base.py:141: FutureWarning: 'normalize' was deprecated in version 1.0 and will be removed in 1.2.\n",
      "If you wish to scale the data, use Pipeline with a StandardScaler in a preprocessing stage. To reproduce the previous behavior:\n",
      "\n",
      "from sklearn.pipeline import make_pipeline\n",
      "\n",
      "model = make_pipeline(StandardScaler(with_mean=False), LinearRegression())\n",
      "\n",
      "If you wish to pass a sample_weight parameter, you need to pass it as a fit parameter to each step of the pipeline as follows:\n",
      "\n",
      "kwargs = {s[0] + '__sample_weight': sample_weight for s in model.steps}\n",
      "model.fit(X, y, **kwargs)\n",
      "\n",
      "\n",
      "  warnings.warn(\n"
     ]
    }
   ],
   "source": [
    "start_time = time.time()\n",
    "model.fit(features_train, target_train)\n",
    "linear_exec_time = time.time() - start_time"
   ]
  },
  {
   "cell_type": "code",
   "execution_count": 80,
   "metadata": {},
   "outputs": [
    {
     "data": {
      "text/plain": [
       "array([ 826.40352882, 4713.45691708, 8169.70238789, ..., 4238.13540077,\n",
       "       6177.57819743, 5697.5470626 ])"
      ]
     },
     "execution_count": 80,
     "metadata": {},
     "output_type": "execute_result"
    }
   ],
   "source": [
    "model.predict(features_test)"
   ]
  },
  {
   "cell_type": "code",
   "execution_count": 81,
   "metadata": {},
   "outputs": [],
   "source": [
    "mse_linear = mean_squared_error(target_test, model.predict(features_test))\n",
    "rmse_linear = mse_linear ** 0.5"
   ]
  },
  {
   "cell_type": "code",
   "execution_count": 82,
   "metadata": {},
   "outputs": [
    {
     "data": {
      "text/plain": [
       "3329.264975708837"
      ]
     },
     "execution_count": 82,
     "metadata": {},
     "output_type": "execute_result"
    }
   ],
   "source": [
    "rmse_linear"
   ]
  },
  {
   "cell_type": "markdown",
   "metadata": {},
   "source": [
    "## Анализ моделей"
   ]
  },
  {
   "cell_type": "code",
   "execution_count": 83,
   "metadata": {},
   "outputs": [],
   "source": [
    "RMSE = [rmse_catboost, rmse_lgbm, rmse_linear]"
   ]
  },
  {
   "cell_type": "code",
   "execution_count": 84,
   "metadata": {},
   "outputs": [],
   "source": [
    "fit_time = [catboost_exec_time, lgbm_exec_time, linear_exec_time]"
   ]
  },
  {
   "cell_type": "code",
   "execution_count": 85,
   "metadata": {},
   "outputs": [
    {
     "data": {
      "text/html": [
       "<div>\n",
       "<style scoped>\n",
       "    .dataframe tbody tr th:only-of-type {\n",
       "        vertical-align: middle;\n",
       "    }\n",
       "\n",
       "    .dataframe tbody tr th {\n",
       "        vertical-align: top;\n",
       "    }\n",
       "\n",
       "    .dataframe thead th {\n",
       "        text-align: right;\n",
       "    }\n",
       "</style>\n",
       "<table border=\"1\" class=\"dataframe\">\n",
       "  <thead>\n",
       "    <tr style=\"text-align: right;\">\n",
       "      <th></th>\n",
       "      <th>Catboost</th>\n",
       "      <th>LightGBM</th>\n",
       "      <th>LinearRegression</th>\n",
       "    </tr>\n",
       "  </thead>\n",
       "  <tbody>\n",
       "    <tr>\n",
       "      <th>RMSE</th>\n",
       "      <td>1539.482619</td>\n",
       "      <td>1541.38131</td>\n",
       "      <td>3329.264976</td>\n",
       "    </tr>\n",
       "    <tr>\n",
       "      <th>Fit time</th>\n",
       "      <td>41.028169</td>\n",
       "      <td>3.99592</td>\n",
       "      <td>0.087102</td>\n",
       "    </tr>\n",
       "  </tbody>\n",
       "</table>\n",
       "</div>"
      ],
      "text/plain": [
       "             Catboost    LightGBM  LinearRegression\n",
       "RMSE      1539.482619  1541.38131       3329.264976\n",
       "Fit time    41.028169     3.99592          0.087102"
      ]
     },
     "execution_count": 85,
     "metadata": {},
     "output_type": "execute_result"
    }
   ],
   "source": [
    "pd.DataFrame([RMSE, fit_time], index = ['RMSE', 'Fit time'], columns=['Catboost', 'LightGBM', 'LinearRegression'])"
   ]
  },
  {
   "cell_type": "markdown",
   "metadata": {},
   "source": [
    "Видно что лучше всех справился Catboost, но при этом он дольше всех работал, хуже всех себя показала линейная регрессия, но она оказалась самой быстрой. При этом самым оптимальным выбором между качество и временем является LightGBM"
   ]
  }
 ],
 "metadata": {
  "ExecuteTimeLog": [
   {
    "duration": 1055,
    "start_time": "2021-08-17T20:08:51.528Z"
   },
   {
    "duration": 2541,
    "start_time": "2021-08-17T20:08:52.585Z"
   },
   {
    "duration": 76,
    "start_time": "2021-08-17T20:08:55.054Z"
   },
   {
    "duration": 76,
    "start_time": "2021-08-17T20:08:55.055Z"
   },
   {
    "duration": 75,
    "start_time": "2021-08-17T20:08:55.057Z"
   },
   {
    "duration": 69,
    "start_time": "2021-08-17T20:08:55.064Z"
   },
   {
    "duration": 69,
    "start_time": "2021-08-17T20:08:55.066Z"
   },
   {
    "duration": 67,
    "start_time": "2021-08-17T20:08:55.069Z"
   },
   {
    "duration": 67,
    "start_time": "2021-08-17T20:08:55.070Z"
   },
   {
    "duration": 47,
    "start_time": "2021-08-17T20:08:55.091Z"
   },
   {
    "duration": 43,
    "start_time": "2021-08-17T20:08:55.096Z"
   },
   {
    "duration": 41,
    "start_time": "2021-08-17T20:08:55.099Z"
   },
   {
    "duration": 40,
    "start_time": "2021-08-17T20:08:55.100Z"
   },
   {
    "duration": 39,
    "start_time": "2021-08-17T20:08:55.103Z"
   },
   {
    "duration": 39,
    "start_time": "2021-08-17T20:08:55.104Z"
   },
   {
    "duration": 38,
    "start_time": "2021-08-17T20:08:55.106Z"
   },
   {
    "duration": 37,
    "start_time": "2021-08-17T20:08:55.108Z"
   },
   {
    "duration": 36,
    "start_time": "2021-08-17T20:08:55.110Z"
   },
   {
    "duration": 36,
    "start_time": "2021-08-17T20:08:55.111Z"
   },
   {
    "duration": 35,
    "start_time": "2021-08-17T20:08:55.113Z"
   },
   {
    "duration": 34,
    "start_time": "2021-08-17T20:08:55.115Z"
   },
   {
    "duration": 20,
    "start_time": "2021-08-17T20:08:55.130Z"
   },
   {
    "duration": 19,
    "start_time": "2021-08-17T20:08:55.132Z"
   },
   {
    "duration": 18,
    "start_time": "2021-08-17T20:08:55.134Z"
   },
   {
    "duration": 17,
    "start_time": "2021-08-17T20:08:55.136Z"
   },
   {
    "duration": 18,
    "start_time": "2021-08-17T20:08:55.137Z"
   },
   {
    "duration": 17,
    "start_time": "2021-08-17T20:08:55.139Z"
   },
   {
    "duration": 17,
    "start_time": "2021-08-17T20:08:55.141Z"
   },
   {
    "duration": 17,
    "start_time": "2021-08-17T20:08:55.142Z"
   },
   {
    "duration": 16,
    "start_time": "2021-08-17T20:08:55.144Z"
   },
   {
    "duration": 16,
    "start_time": "2021-08-17T20:08:55.146Z"
   },
   {
    "duration": 16,
    "start_time": "2021-08-17T20:08:55.147Z"
   },
   {
    "duration": 15,
    "start_time": "2021-08-17T20:08:55.149Z"
   },
   {
    "duration": -46,
    "start_time": "2021-08-17T20:08:55.212Z"
   },
   {
    "duration": -54,
    "start_time": "2021-08-17T20:08:55.221Z"
   },
   {
    "duration": -55,
    "start_time": "2021-08-17T20:08:55.223Z"
   },
   {
    "duration": -55,
    "start_time": "2021-08-17T20:08:55.225Z"
   },
   {
    "duration": -55,
    "start_time": "2021-08-17T20:08:55.226Z"
   },
   {
    "duration": -56,
    "start_time": "2021-08-17T20:08:55.228Z"
   },
   {
    "duration": -56,
    "start_time": "2021-08-17T20:08:55.230Z"
   },
   {
    "duration": -59,
    "start_time": "2021-08-17T20:08:55.234Z"
   },
   {
    "duration": -60,
    "start_time": "2021-08-17T20:08:55.236Z"
   },
   {
    "duration": -61,
    "start_time": "2021-08-17T20:08:55.238Z"
   },
   {
    "duration": -61,
    "start_time": "2021-08-17T20:08:55.240Z"
   },
   {
    "duration": -61,
    "start_time": "2021-08-17T20:08:55.241Z"
   },
   {
    "duration": -62,
    "start_time": "2021-08-17T20:08:55.243Z"
   },
   {
    "duration": -84,
    "start_time": "2021-08-17T20:08:55.267Z"
   },
   {
    "duration": -111,
    "start_time": "2021-08-17T20:08:55.295Z"
   },
   {
    "duration": -66,
    "start_time": "2021-08-17T20:08:55.307Z"
   },
   {
    "duration": -66,
    "start_time": "2021-08-17T20:08:55.308Z"
   },
   {
    "duration": -66,
    "start_time": "2021-08-17T20:08:55.310Z"
   },
   {
    "duration": -67,
    "start_time": "2021-08-17T20:08:55.312Z"
   },
   {
    "duration": -67,
    "start_time": "2021-08-17T20:08:55.313Z"
   },
   {
    "duration": -67,
    "start_time": "2021-08-17T20:08:55.315Z"
   },
   {
    "duration": -68,
    "start_time": "2021-08-17T20:08:55.317Z"
   },
   {
    "duration": -68,
    "start_time": "2021-08-17T20:08:55.318Z"
   },
   {
    "duration": -69,
    "start_time": "2021-08-17T20:08:55.320Z"
   },
   {
    "duration": -68,
    "start_time": "2021-08-17T20:08:55.321Z"
   },
   {
    "duration": -69,
    "start_time": "2021-08-17T20:08:55.323Z"
   },
   {
    "duration": -91,
    "start_time": "2021-08-17T20:08:55.346Z"
   },
   {
    "duration": -115,
    "start_time": "2021-08-17T20:08:55.372Z"
   },
   {
    "duration": -119,
    "start_time": "2021-08-17T20:08:55.377Z"
   },
   {
    "duration": -123,
    "start_time": "2021-08-17T20:08:55.382Z"
   },
   {
    "duration": -123,
    "start_time": "2021-08-17T20:08:55.384Z"
   },
   {
    "duration": -127,
    "start_time": "2021-08-17T20:08:55.389Z"
   },
   {
    "duration": -128,
    "start_time": "2021-08-17T20:08:55.391Z"
   },
   {
    "duration": -131,
    "start_time": "2021-08-17T20:08:55.396Z"
   },
   {
    "duration": -132,
    "start_time": "2021-08-17T20:08:55.398Z"
   },
   {
    "duration": -136,
    "start_time": "2021-08-17T20:08:55.403Z"
   },
   {
    "duration": -137,
    "start_time": "2021-08-17T20:08:55.405Z"
   },
   {
    "duration": -140,
    "start_time": "2021-08-17T20:08:55.410Z"
   },
   {
    "duration": 765,
    "start_time": "2021-08-17T20:10:01.616Z"
   },
   {
    "duration": 124,
    "start_time": "2021-08-17T20:10:02.383Z"
   },
   {
    "duration": 31,
    "start_time": "2021-08-17T20:10:03.008Z"
   },
   {
    "duration": 126,
    "start_time": "2021-08-17T20:10:03.604Z"
   },
   {
    "duration": 164,
    "start_time": "2021-08-17T20:10:03.828Z"
   },
   {
    "duration": 4,
    "start_time": "2021-08-17T20:10:04.060Z"
   },
   {
    "duration": 287,
    "start_time": "2021-08-17T20:10:04.568Z"
   },
   {
    "duration": 18,
    "start_time": "2021-08-17T20:10:04.857Z"
   },
   {
    "duration": 74,
    "start_time": "2021-08-17T20:10:05.012Z"
   },
   {
    "duration": 5,
    "start_time": "2021-08-17T20:10:05.416Z"
   },
   {
    "duration": 24,
    "start_time": "2021-08-17T20:10:05.652Z"
   },
   {
    "duration": 129,
    "start_time": "2021-08-17T20:10:05.824Z"
   },
   {
    "duration": 34,
    "start_time": "2021-08-17T20:10:06.108Z"
   },
   {
    "duration": 78,
    "start_time": "2021-08-17T20:10:06.536Z"
   },
   {
    "duration": 3,
    "start_time": "2021-08-17T20:10:06.824Z"
   },
   {
    "duration": 23,
    "start_time": "2021-08-17T20:10:07.088Z"
   },
   {
    "duration": 16280,
    "start_time": "2021-08-17T20:10:07.724Z"
   },
   {
    "duration": 5,
    "start_time": "2021-08-17T20:10:24.006Z"
   },
   {
    "duration": 95573,
    "start_time": "2021-08-17T20:10:24.012Z"
   },
   {
    "duration": 30,
    "start_time": "2021-08-17T20:11:59.588Z"
   },
   {
    "duration": 75,
    "start_time": "2021-08-17T20:11:59.619Z"
   },
   {
    "duration": 3,
    "start_time": "2021-08-17T20:11:59.696Z"
   },
   {
    "duration": 96,
    "start_time": "2021-08-17T20:11:59.701Z"
   },
   {
    "duration": 88,
    "start_time": "2021-08-17T20:11:59.801Z"
   },
   {
    "duration": 3,
    "start_time": "2021-08-17T20:11:59.891Z"
   },
   {
    "duration": 7001,
    "start_time": "2021-08-17T20:11:59.896Z"
   },
   {
    "duration": 17,
    "start_time": "2021-08-17T20:12:06.898Z"
   },
   {
    "duration": 107,
    "start_time": "2021-08-17T20:12:06.917Z"
   },
   {
    "duration": 887,
    "start_time": "2021-08-17T20:12:07.026Z"
   },
   {
    "duration": 4,
    "start_time": "2021-08-17T20:12:07.915Z"
   },
   {
    "duration": 52600,
    "start_time": "2021-08-17T20:12:07.920Z"
   },
   {
    "duration": 35,
    "start_time": "2021-08-17T20:13:00.522Z"
   },
   {
    "duration": 89,
    "start_time": "2021-08-17T20:13:00.558Z"
   },
   {
    "duration": 189,
    "start_time": "2021-08-17T20:13:00.649Z"
   },
   {
    "duration": 3,
    "start_time": "2021-08-17T20:13:00.841Z"
   },
   {
    "duration": 53761,
    "start_time": "2021-08-17T20:13:00.846Z"
   },
   {
    "duration": 35,
    "start_time": "2021-08-17T20:13:54.609Z"
   },
   {
    "duration": 83,
    "start_time": "2021-08-17T20:13:54.646Z"
   },
   {
    "duration": 6004,
    "start_time": "2021-08-17T20:13:54.742Z"
   },
   {
    "duration": 5,
    "start_time": "2021-08-17T20:14:00.749Z"
   },
   {
    "duration": 90792,
    "start_time": "2021-08-17T20:14:00.756Z"
   },
   {
    "duration": 29,
    "start_time": "2021-08-17T20:15:31.550Z"
   },
   {
    "duration": 84,
    "start_time": "2021-08-17T20:15:31.581Z"
   },
   {
    "duration": 25,
    "start_time": "2021-08-17T20:15:31.667Z"
   },
   {
    "duration": 2,
    "start_time": "2021-08-17T20:15:31.694Z"
   },
   {
    "duration": 122,
    "start_time": "2021-08-17T20:15:31.697Z"
   },
   {
    "duration": 824,
    "start_time": "2021-08-17T20:15:31.821Z"
   },
   {
    "duration": 34,
    "start_time": "2021-08-17T20:15:32.647Z"
   },
   {
    "duration": 15,
    "start_time": "2021-08-17T20:15:32.682Z"
   },
   {
    "duration": 19,
    "start_time": "2021-08-17T20:15:32.699Z"
   },
   {
    "duration": 23,
    "start_time": "2021-08-17T20:15:32.720Z"
   },
   {
    "duration": 15,
    "start_time": "2021-08-17T20:15:32.745Z"
   },
   {
    "duration": 9,
    "start_time": "2021-08-17T20:15:32.762Z"
   },
   {
    "duration": 339012,
    "start_time": "2021-08-17T20:15:32.773Z"
   },
   {
    "duration": 1120,
    "start_time": "2021-08-17T20:21:11.786Z"
   },
   {
    "duration": 105,
    "start_time": "2021-08-17T20:21:12.803Z"
   },
   {
    "duration": 105,
    "start_time": "2021-08-17T20:21:12.804Z"
   },
   {
    "duration": 79,
    "start_time": "2021-08-17T20:21:12.831Z"
   },
   {
    "duration": 76,
    "start_time": "2021-08-17T20:21:12.834Z"
   },
   {
    "duration": 43,
    "start_time": "2021-08-17T20:21:12.868Z"
   },
   {
    "duration": 36,
    "start_time": "2021-08-17T20:21:12.876Z"
   },
   {
    "duration": 35,
    "start_time": "2021-08-17T20:21:12.878Z"
   },
   {
    "duration": 34,
    "start_time": "2021-08-17T20:21:12.880Z"
   },
   {
    "duration": 33,
    "start_time": "2021-08-17T20:21:12.882Z"
   },
   {
    "duration": 28,
    "start_time": "2021-08-17T20:21:12.888Z"
   },
   {
    "duration": 27,
    "start_time": "2021-08-17T20:21:12.890Z"
   },
   {
    "duration": 23,
    "start_time": "2021-08-17T20:21:12.895Z"
   },
   {
    "duration": 22,
    "start_time": "2021-08-17T20:21:12.897Z"
   },
   {
    "duration": 17,
    "start_time": "2021-08-17T20:21:12.903Z"
   },
   {
    "duration": 12,
    "start_time": "2021-08-17T20:21:12.908Z"
   },
   {
    "duration": 5,
    "start_time": "2021-08-17T20:23:03.838Z"
   },
   {
    "duration": 3,
    "start_time": "2021-08-17T20:23:05.254Z"
   },
   {
    "duration": 95654,
    "start_time": "2021-08-17T20:23:05.990Z"
   },
   {
    "duration": 8067,
    "start_time": "2021-08-17T20:24:41.646Z"
   },
   {
    "duration": 302,
    "start_time": "2021-08-17T20:24:49.716Z"
   },
   {
    "duration": 102,
    "start_time": "2021-08-17T20:24:49.918Z"
   },
   {
    "duration": 74,
    "start_time": "2021-08-17T20:24:49.948Z"
   },
   {
    "duration": 73,
    "start_time": "2021-08-17T20:24:49.950Z"
   },
   {
    "duration": 73,
    "start_time": "2021-08-17T20:24:49.951Z"
   },
   {
    "duration": 72,
    "start_time": "2021-08-17T20:24:49.953Z"
   },
   {
    "duration": 71,
    "start_time": "2021-08-17T20:24:49.955Z"
   },
   {
    "duration": 70,
    "start_time": "2021-08-17T20:24:49.957Z"
   },
   {
    "duration": 68,
    "start_time": "2021-08-17T20:24:49.959Z"
   },
   {
    "duration": 67,
    "start_time": "2021-08-17T20:24:49.961Z"
   },
   {
    "duration": 22,
    "start_time": "2021-08-17T20:25:52.737Z"
   },
   {
    "duration": 11,
    "start_time": "2021-08-17T20:26:11.626Z"
   },
   {
    "duration": 10,
    "start_time": "2021-08-17T20:26:15.678Z"
   },
   {
    "duration": 81,
    "start_time": "2021-08-17T20:26:21.794Z"
   },
   {
    "duration": 5,
    "start_time": "2021-08-17T20:26:25.314Z"
   },
   {
    "duration": 33,
    "start_time": "2021-08-17T20:26:29.246Z"
   }
  ],
  "kernelspec": {
   "display_name": "Python 3 (ipykernel)",
   "language": "python",
   "name": "python3"
  },
  "language_info": {
   "codemirror_mode": {
    "name": "ipython",
    "version": 3
   },
   "file_extension": ".py",
   "mimetype": "text/x-python",
   "name": "python",
   "nbconvert_exporter": "python",
   "pygments_lexer": "ipython3",
   "version": "3.9.12"
  },
  "toc": {
   "base_numbering": 1,
   "nav_menu": {},
   "number_sections": true,
   "sideBar": true,
   "skip_h1_title": true,
   "title_cell": "Table of Contents",
   "title_sidebar": "Contents",
   "toc_cell": false,
   "toc_position": {},
   "toc_section_display": true,
   "toc_window_display": false
  }
 },
 "nbformat": 4,
 "nbformat_minor": 4
}
